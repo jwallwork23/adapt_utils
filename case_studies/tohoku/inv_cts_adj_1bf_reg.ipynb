{
 "cells": [
  {
   "cell_type": "markdown",
   "metadata": {},
   "source": [
    "# Tohoku tsunami inversion\n",
    "## Inversion using continuous adjoint with a regularisation term"
   ]
  },
  {
   "cell_type": "code",
   "execution_count": 1,
   "metadata": {},
   "outputs": [],
   "source": [
    "%matplotlib inline"
   ]
  },
  {
   "cell_type": "code",
   "execution_count": 2,
   "metadata": {},
   "outputs": [],
   "source": [
    "import matplotlib\n",
    "import matplotlib.pyplot as plt\n",
    "import scipy\n",
    "from time import clock"
   ]
  },
  {
   "cell_type": "code",
   "execution_count": 3,
   "metadata": {},
   "outputs": [],
   "source": [
    "from thetis import *"
   ]
  },
  {
   "cell_type": "code",
   "execution_count": 4,
   "metadata": {},
   "outputs": [],
   "source": [
    "from adapt_utils.case_studies.tohoku.options import TohokuOptions\n",
    "from adapt_utils.norms import total_variation\n",
    "from adapt_utils.misc import gaussian, ellipse"
   ]
  },
  {
   "cell_type": "markdown",
   "metadata": {},
   "source": [
    "_[Misc plotting functions]_"
   ]
  },
  {
   "cell_type": "code",
   "execution_count": 5,
   "metadata": {
    "code_folding": [
     0
    ]
   },
   "outputs": [],
   "source": [
    "def plot_field(field, figure=None, axes=None, height=5, **kwargs):\n",
    "    CG1 = field.ufl_element().degree() == 1 and field.ufl_element().family() == 'Lagrange'\n",
    "    fs_constructor = FunctionSpace if len(field.function_space().shape) == 0 else VectorFunctionSpace\n",
    "    out = field if CG1 else interpolate(field, fs_constructor(field.function_space().mesh(), \"CG\", 1))\n",
    "    \n",
    "    if figure is None and axes is None:\n",
    "        figure, axes = plt.subplots(figsize=(height*1.2, height))\n",
    "    if axes is None:\n",
    "        axes = plt.gca()\n",
    "    figure.colorbar(tricontourf(out, levels=50, axes=axes, cmap='coolwarm', **kwargs), ax=axes);\n",
    "    axes.axis(False);\n",
    "    axes.set_title(field.dat.name);\n",
    "    return axes"
   ]
  },
  {
   "cell_type": "code",
   "execution_count": 6,
   "metadata": {
    "code_folding": [
     0
    ]
   },
   "outputs": [],
   "source": [
    "def plot_fields(*fields, height=5):\n",
    "    nfields = len(fields)\n",
    "    fig, axes = plt.subplots(ncols=nfields, figsize=(height*nfields*1.2, height))\n",
    "    for i, field in enumerate(fields):\n",
    "        try:\n",
    "            plot_field(field, fig, axes[i])\n",
    "        except AttributeError:\n",
    "            plot_mesh(field, fig, axes[i])\n",
    "    return axes"
   ]
  },
  {
   "cell_type": "markdown",
   "metadata": {},
   "source": [
    "In this hacky implementation we use some global variables"
   ]
  },
  {
   "cell_type": "code",
   "execution_count": 7,
   "metadata": {},
   "outputs": [],
   "source": [
    "global level\n",
    "level = 0\n",
    "\n",
    "global op\n",
    "op = TohokuOptions(level=level)\n",
    "op.gauges.pop('21418')  # This pressure gauge isn't within the domain\n",
    "\n",
    "global mesh\n",
    "mesh = op.default_mesh\n",
    "\n",
    "global diffs\n",
    "diffs = [None for i in range(int(op.end_time/op.dt)+1)]\n",
    "\n",
    "global boundary_conditions\n",
    "boundary_conditions = {\n",
    "    100: ['freeslip', 'dirichlet'],\n",
    "    200: ['freeslip'],\n",
    "    300: ['freeslip'],\n",
    "}\n",
    "\n",
    "global basis_centres\n",
    "basis_centres = [(0.7e+06, 4.2e+06), ]"
   ]
  },
  {
   "cell_type": "markdown",
   "metadata": {},
   "source": [
    "### Forward model\n",
    "\n",
    "As before, consider the shallow water equations linearised about lake at rest:\n",
    "\n",
    "$$\n",
    "    \\frac{\\partial\\mathbf u}{\\partial t}+g\\nabla\\eta+f\\widehat{\\mathbf z}\\times\\mathbf u=\\boldsymbol0,\\qquad\n",
    "    \\frac{\\partial\\eta}{\\partial t}+\\nabla\\cdot(b\\mathbf u)=0,\\qquad\n",
    "    \\text{in}\\quad(0,T]\\times\\Omega,\n",
    "$$\n",
    "\n",
    "equipped with boundary conditions\n",
    "\n",
    "$$\n",
    "    \\mathbf u\\cdot\\widehat{\\mathbf n}|_{\\Gamma_{\\mathrm{freeslip}}}\\equiv0,\\qquad\n",
    "    \\eta|_{\\Gamma_D}\\equiv0.\n",
    "$$\n",
    "\n",
    "Assume zero initial velocity and expand the initial surface over a radial basis:\n",
    "\n",
    "$$\n",
    "    \\mathbf u|_{t=0}\\equiv\\boldsymbol0,\\qquad\n",
    "    \\eta|_{t=0}=\\sum_{k=1}^N m_kg_k,\n",
    "$$\n",
    "\n",
    "where $m_k$ are (constant in space) control parameters and $g_k$ are Gaussians."
   ]
  },
  {
   "cell_type": "markdown",
   "metadata": {},
   "source": [
    "Choose an initial guess for the basis coefficient"
   ]
  },
  {
   "cell_type": "code",
   "execution_count": 8,
   "metadata": {},
   "outputs": [],
   "source": [
    "m0 = 10.0"
   ]
  },
  {
   "cell_type": "code",
   "execution_count": 9,
   "metadata": {},
   "outputs": [],
   "source": [
    "def get_fields(fs):\n",
    "    elev_space = fs.sub(1)\n",
    "    b = Function(elev_space, name=\"Bathymetry (from GEBCO)\").assign(op.set_bathymetry(elev_space))\n",
    "    f = Function(elev_space, name=\"Coriolis parameter\").assign(op.set_coriolis(elev_space))\n",
    "    g = Constant(op.g)\n",
    "    return b, f, g"
   ]
  },
  {
   "cell_type": "markdown",
   "metadata": {},
   "source": [
    "### Quantity of Interest\n",
    "\n",
    "Modify the QoI with a regularisation term\n",
    "\n",
    "$$\n",
    "J(\\mathbf u,\\eta)=\\frac12\\sum_{g\\in\\mathcal G}\\int_0^T\\int_\\Omega\\mathbb1_g\\big(\\:\\eta(x,t)-\\eta_g(t)\\:\\big)^2\\;\\mathrm dx\\;\\mathrm dt\n",
    "+\\mathcal R,\n",
    "$$\n",
    "\n",
    "where $\\mathbb1_g$ is an indicator function related to a sufficiently small neighbourhood of gauge $g$ and $\\sigma>0$ is the regularisation parameter.\n",
    "We have\n",
    "$$\n",
    "    \\int_\\Omega\\frac\\sigma2\\nabla\\eta_0\\cdot\\nabla\\eta_0\\;\\mathrm dx.\n",
    "$$\n",
    "\n",
    "Note that\n",
    "\n",
    "$$\n",
    "    \\mathcal R=\\int_\\Omega\\frac\\sigma2\\left(\\sum_{k=1}^Nm_k\\nabla g_k\\right)\\cdot\\left(\\sum_{k=1}^Nm_k\\nabla g_k\\right)\\;\\mathrm dx\n",
    "    \\quad\\implies\\quad\n",
    "    \\frac{\\partial\\mathcal R}{\\partial m_k}=\n",
    "    \\int_\\Omega\\sigma m_k\\nabla g_k\\cdot\\nabla g_k\\;\\mathrm dx.\n",
    "$$"
   ]
  },
  {
   "cell_type": "code",
   "execution_count": 10,
   "metadata": {},
   "outputs": [],
   "source": [
    "global sigma\n",
    "sigma = Constant(1.0e+11)"
   ]
  },
  {
   "cell_type": "code",
   "execution_count": 11,
   "metadata": {
    "code_folding": []
   },
   "outputs": [],
   "source": [
    "def sampled_timeseries(g, sample=1):\n",
    "    time_prev = 0.0\n",
    "    num_lines = sum(1 for line in open('resources/gauges/{:s}.dat'.format(g), 'r'))\n",
    "    t, d, running = [], [], []\n",
    "    with open('resources/gauges/{:s}.dat'.format(g), 'r') as f:\n",
    "        for i in range(num_lines):\n",
    "            time, dat = f.readline().split()\n",
    "            time, dat = float(time), float(dat)\n",
    "            if np.isnan(dat):\n",
    "                continue\n",
    "            running.append(dat)\n",
    "            if i % sample == 0 and i > 0:\n",
    "                t.append(0.5*(time + time_prev))\n",
    "                d.append(np.mean(running))\n",
    "                running = 0\n",
    "                time_prev = time\n",
    "                running = []\n",
    "    return scipy.interpolate.interp1d(t, d, bounds_error=False, fill_value='extrapolate')"
   ]
  },
  {
   "cell_type": "code",
   "execution_count": 12,
   "metadata": {},
   "outputs": [],
   "source": [
    "def get_basis_functions(fs, xy_skew=(48e+03, 96e+03), angle=pi/12):\n",
    "    basis_functions = []\n",
    "    for loc in basis_centres:\n",
    "        basis_function = Function(fs)\n",
    "        psi, phi = basis_function.split()\n",
    "        phi.interpolate(gaussian([loc + xy_skew, ], fs.mesh(), rotation=angle))\n",
    "        basis_functions.append(basis_function)\n",
    "    return basis_functions"
   ]
  },
  {
   "cell_type": "code",
   "execution_count": 13,
   "metadata": {},
   "outputs": [],
   "source": [
    "def print_debug(msg, debug=False):\n",
    "    if debug:\n",
    "        print(msg)"
   ]
  },
  {
   "cell_type": "code",
   "execution_count": 14,
   "metadata": {},
   "outputs": [],
   "source": [
    "def solve_forward(ctrl_dat, gradient=False, debug=True):\n",
    "    print(\"FORWARD SOLVE FOR GRADIENT CALCULATION\" if gradient else \"FORWARD SOLVE\")\n",
    "    if isinstance(ctrl_dat, float):\n",
    "        ctrl_dat = [ctrl_dat, ]\n",
    "    print_debug(\"Current control value = {:.8e}\".format(*ctrl_dat), debug=debug)\n",
    "    \n",
    "    # --- Setup function spaces\n",
    "    \n",
    "    fs = VectorFunctionSpace(mesh, \"CG\", 2)*FunctionSpace(mesh, \"CG\", 1)\n",
    "    P0 = FunctionSpace(mesh, \"DG\", 0)\n",
    "    \n",
    "    # -- Setup fields\n",
    "    \n",
    "    b, f, g = get_fields(fs)\n",
    "    \n",
    "    # --- Setup PDE\n",
    "    \n",
    "    dtc = Constant(op.dt)\n",
    "    \n",
    "    u, eta = TrialFunctions(fs)\n",
    "    z, zeta = TestFunctions(fs)\n",
    "\n",
    "    q_ = Function(fs)\n",
    "    u_, eta_ = q_.split()\n",
    "\n",
    "    a = inner(z, u)*dx + inner(zeta, eta)*dx\n",
    "    L = inner(z, u_)*dx + inner(zeta, eta_)*dx\n",
    "    \n",
    "    n = FacetNormal(mesh)\n",
    "\n",
    "    def G(uv, elev):\n",
    "        F = g*inner(z, grad(elev))*dx\n",
    "        F += f*inner(z, as_vector((-uv[1], uv[0])))*dx\n",
    "        F += -inner(grad(zeta), b*uv)*dx\n",
    "        for tag in boundary_conditions:\n",
    "            if 'freeslip' not in boundary_conditions[tag]:\n",
    "                F += inner(zeta*n, b*uv)*ds(tag)\n",
    "        return F\n",
    "\n",
    "    a += 0.5*dtc*G(u, eta)\n",
    "    L += -0.5*dtc*G(u_, eta_)\n",
    "\n",
    "    q = Function(fs)\n",
    "    u, eta = q.split()\n",
    "\n",
    "    bcs = []\n",
    "    for tag in boundary_conditions:\n",
    "        if 'dirichlet' in boundary_conditions[tag]:\n",
    "            bcs.append(DirichletBC(fs.sub(1), 0, tag))\n",
    "\n",
    "    params = {\n",
    "        \"snes_type\": \"ksponly\",\n",
    "        \"ksp_type\": \"gmres\",\n",
    "        \"pc_type\": \"fieldsplit\",\n",
    "        \"pc_fieldsplit_type\": \"multiplicative\",\n",
    "    }\n",
    "\n",
    "    problem = LinearVariationalProblem(a, L, q, bcs=bcs)\n",
    "    solver = LinearVariationalSolver(problem, solver_parameters=params)\n",
    "    \n",
    "    # --- Setup initial condition / control\n",
    "    \n",
    "    basis_functions = get_basis_functions(fs)\n",
    "    try:\n",
    "        assert len(basis_functions) == len(ctrl_dat)\n",
    "    except AssertionError:\n",
    "        msg = \"Number of basis functions and number of basis coefficients do not match ({:d} vs {:d})\"\n",
    "        raise ValueError(msg.format(len(basis_functions), len(ctrl_dat)))\n",
    "    eta_.project(sum(Constant(m_i)*phi_i.split()[1] for m_i, phi_i in zip(ctrl_dat, basis_functions)))\n",
    "    \n",
    "    # --- Setup QoI\n",
    "    \n",
    "    radius = 20.0e+03*pow(0.5, level)  # The finer the mesh, the more precise the indicator region\n",
    "    for gauge in op.gauges:\n",
    "        op.gauges[gauge]['indicator'] = interpolate(ellipse([op.gauges[gauge][\"coords\"] + (radius,), ], mesh), P0)\n",
    "        op.gauges[gauge]['interpolator'] = sampled_timeseries(gauge, sample=60 if gauge[0] == 'P' else 1)\n",
    "        \n",
    "    op.end_time = 1440.0\n",
    "        \n",
    "    times = []\n",
    "\n",
    "    # --- Time integrate\n",
    "    \n",
    "    t = 0.0\n",
    "    iteration = 0\n",
    "    J = 0\n",
    "    eta_obs = Constant(0.0)\n",
    "    weight = Constant(1.0)\n",
    "    tic = clock()\n",
    "    msg = \"    simulation time {:4.1f} minutes    wallclock time {:4.1f} seconds\"\n",
    "    while t < op.end_time:\n",
    "        times.append(t)\n",
    "        if iteration % 48 == 0:\n",
    "            toc = clock() - tic\n",
    "            print_debug(msg.format(t/60, toc), debug=debug)\n",
    "            tic = clock()\n",
    "\n",
    "        # Solve forward equation at current timestep\n",
    "        solver.solve()\n",
    "\n",
    "        # Time integrate QoI\n",
    "        weight.assign(0.5 if np.allclose(t, 0.0) else 1.0)\n",
    "        u, eta = q.split()\n",
    "        diff_expr = 0\n",
    "        for gauge in op.gauges:\n",
    "            indicator = op.gauges[gauge]['indicator']\n",
    "\n",
    "            # Interpolate observations\n",
    "            obs = float(op.gauges[gauge]['interpolator'](t))\n",
    "            eta_obs.assign(obs)\n",
    "\n",
    "            # Continuous form of error\n",
    "            J += assemble(weight*dtc*0.5*indicator*(eta - eta_obs)**2*dx)\n",
    "            \n",
    "            # Save RHS of adjoint equation\n",
    "            diff_expr = diff_expr + indicator*(eta - eta_obs)\n",
    "        diffs[iteration] = interpolate(diff_expr, fs.sub(1))  # TODO: Checkpoint to disk\n",
    "\n",
    "        # Increment\n",
    "        q_.assign(q)\n",
    "        t += op.dt\n",
    "        iteration += 1\n",
    "\n",
    "    assert np.allclose(t, op.end_time), print(\"mismatching end time ({:.2f} vs {:.2f})\".format(t, op.end_time))\n",
    "    toc = clock() - tic\n",
    "    print_debug(msg.format(t/60, toc), debug=debug)\n",
    "    print_debug(\"    Quantity of interest = {:.8e}\".format(J), debug=debug)\n",
    "    \n",
    "    diff_expr = 0\n",
    "    weight.assign(0.5)\n",
    "    u, eta = q.split()\n",
    "    for gauge in op.gauges:\n",
    "        indicator = op.gauges[gauge]['indicator']\n",
    "\n",
    "        # Interpolate observations\n",
    "        obs = float(op.gauges[gauge]['interpolator'](t))\n",
    "        eta_obs.assign(obs)\n",
    "\n",
    "        # Continuous form of error\n",
    "        J += assemble(weight*dtc*0.5*indicator*(eta - eta_obs)**2*dx)\n",
    "\n",
    "        # Save RHS of adjoint equation\n",
    "        diff_expr = diff_expr + indicator*(eta - eta_obs)\n",
    "    diffs[iteration] = interpolate(diff_expr, fs.sub(1))  # TODO: Checkpoint to disk\n",
    "    \n",
    "    # Add regularisation term  # TODO: Might need to reconstruct\n",
    "    basis_derivatives = [m_i*grad(phi_i.split()[1]) for m_i, phi_i in zip(ctrl_dat, basis_functions)]\n",
    "    J += assemble(0.5*sigma*sum(d[0]**2 + d[1]**2 for d in basis_derivatives)*dx)\n",
    "    \n",
    "    return J, q"
   ]
  },
  {
   "cell_type": "code",
   "execution_count": 15,
   "metadata": {},
   "outputs": [],
   "source": [
    "def reduced_functional(m, debug=True):\n",
    "    J, q = solve_forward(m, debug=debug)\n",
    "    return J"
   ]
  },
  {
   "cell_type": "markdown",
   "metadata": {},
   "source": [
    "Let's take a look at the forward solution."
   ]
  },
  {
   "cell_type": "code",
   "execution_count": 16,
   "metadata": {},
   "outputs": [
    {
     "name": "stdout",
     "output_type": "stream",
     "text": [
      "FORWARD SOLVE\n",
      "Current control value = 1.00000000e+01\n",
      "    simulation time  0.0 minutes    wallclock time  0.0 seconds\n",
      "    simulation time  4.0 minutes    wallclock time 20.2 seconds\n",
      "    simulation time  8.0 minutes    wallclock time 20.4 seconds\n",
      "    simulation time 12.0 minutes    wallclock time 20.3 seconds\n",
      "    simulation time 16.0 minutes    wallclock time 20.5 seconds\n",
      "    simulation time 20.0 minutes    wallclock time 20.8 seconds\n",
      "    simulation time 24.0 minutes    wallclock time 20.8 seconds\n",
      "    Quantity of interest = 6.63522212e+13\n"
     ]
    },
    {
     "data": {
      "image/png": "[encoded data removed]",
      "text/plain": [
       "<Figure size 864x360 with 4 Axes>"
      ]
     },
     "metadata": {
      "needs_background": "light"
     },
     "output_type": "display_data"
    }
   ],
   "source": [
    "J, q = solve_forward(m0)\n",
    "plot_fields(*q.split());"
   ]
  },
  {
   "cell_type": "markdown",
   "metadata": {},
   "source": [
    "### Adjoint problem\n",
    "\n",
    "The adjoint problem is comprised of the adjoint equations\n",
    "\n",
    "$$\n",
    "    -\\frac{\\partial\\mathbf u^*}{\\partial t}-b\\nabla\\eta^*-f\\widehat{\\mathbf z}\\times\\mathbf u^*=\\boldsymbol0,\\qquad\n",
    "    -\\frac{\\partial\\eta^*}{\\partial t}-g\\nabla\\cdot u^*=\\sum_{g\\in\\mathcal G}\\mathbb 1_g(\\eta-\\eta_g),\\qquad\n",
    "    \\text{in}\\quad(0,T]\\times\\Omega,\n",
    "$$\n",
    "\n",
    "(using the expressions for $\\frac{\\partial J}{\\partial\\mathbf u}$ and $\\frac{\\partial J}{\\partial\\eta}$ stated earlier) and the final time and boundary conditions\n",
    "\n",
    "$$\n",
    "    \\mathbf u^*\\cdot\\widehat{\\mathbf n}|_{\\partial\\Omega\\backslash\\Gamma_D}\\equiv0,\\qquad\n",
    "    \\eta^*|_{\\partial\\Omega\\backslash\\Gamma_{\\mathrm{freeslip}}}\\equiv0,\\qquad\n",
    "    \\mathbf u^*|_{t=T}\\equiv\\boldsymbol0,\\qquad\n",
    "    \\eta^*|_{t=T}\\equiv0.\n",
    "$$\n",
    "\n",
    "Recall that in our case $\\partial\\Omega\\backslash\\Gamma_{\\mathrm{freeslip}}=\\emptyset$ and $\\partial\\Omega\\backslash\\Gamma_D$ corresponds to coastal boundary tags 200 and 300."
   ]
  },
  {
   "cell_type": "code",
   "execution_count": 17,
   "metadata": {},
   "outputs": [],
   "source": [
    "def solve_adjoint(gradient=True, debug=True):\n",
    "    print(\"ADJOINT SOLVE FOR GRADIENT CALCULATION\" if gradient else \"ADJOINT SOLVE\")\n",
    "    \n",
    "    # --- Setup function spaces\n",
    "    \n",
    "    fs = VectorFunctionSpace(mesh, \"CG\", 2)*FunctionSpace(mesh, \"CG\", 1)\n",
    "    P0 = FunctionSpace(mesh, \"DG\", 0)\n",
    "    \n",
    "    # -- Setup fields\n",
    "    \n",
    "    b, f, g = get_fields(fs)\n",
    "    \n",
    "    # --- Setup PDE\n",
    "\n",
    "    dtc = Constant(op.dt)\n",
    "    \n",
    "    u_star, eta_star = TrialFunctions(fs)\n",
    "    z, zeta = TestFunctions(fs)\n",
    "    q_star_ = Function(fs)\n",
    "    u_star_, eta_star_ = q_star_.split()\n",
    "\n",
    "    a = -inner(z, u_star)*dx - inner(zeta, eta_star)*dx\n",
    "    L = -inner(z, u_star_)*dx - inner(zeta, eta_star_)*dx\n",
    "\n",
    "    n = FacetNormal(mesh)\n",
    "\n",
    "    def G(uv_star, elev_star):\n",
    "        F = -b*inner(z, grad(elev_star))*dx\n",
    "        F += -f*inner(z, as_vector((-uv_star[1], uv_star[0])))*dx\n",
    "        F += g*inner(grad(zeta), uv_star)*dx\n",
    "        for tag in boundary_conditions:\n",
    "            if 'dirichlet' in boundary_conditions[tag]:\n",
    "                F += -inner(zeta*n, uv_star)*ds(tag)\n",
    "        return F\n",
    "\n",
    "    a += 0.5*dtc*G(u_star, eta_star)\n",
    "    L += -0.5*dtc*G(u_star_, eta_star_)\n",
    "\n",
    "    rhs = Function(fs.sub(1))\n",
    "\n",
    "    L += zeta*rhs*dx\n",
    "\n",
    "    q_star = Function(fs)\n",
    "    u_star, eta_star = q_star.split()\n",
    "\n",
    "    # bc = DirichletBC(fs.sub(1), 0, [200, 300])\n",
    "    bc = None\n",
    "    bcs = []\n",
    "    for tag in boundary_conditions:\n",
    "        if 'freeslip' not in boundary_conditions[tag]:\n",
    "            bcs.append(DirichletBC(fs.sub(1), 0, tag))\n",
    "\n",
    "    params = {\n",
    "        \"snes_type\": \"ksponly\",\n",
    "        \"ksp_type\": \"gmres\",\n",
    "        \"pc_type\": \"fieldsplit\",\n",
    "        \"pc_fieldsplit_type\": \"multiplicative\",\n",
    "    }\n",
    "\n",
    "    problem = LinearVariationalProblem(a, L, q_star, bcs=bc)\n",
    "    solver = LinearVariationalSolver(problem, solver_parameters=params)\n",
    "    \n",
    "    # --- Setup indicators\n",
    "    \n",
    "    radius = 20.0e+03*pow(0.5, level)  # The finer the mesh, the more precise the indicator region\n",
    "    for gauge in op.gauges:\n",
    "        op.gauges[gauge]['indicator'] = interpolate(ellipse([op.gauges[gauge][\"coords\"] + (radius,), ], mesh), P0)\n",
    "    \n",
    "    # --- Time integrate\n",
    "    \n",
    "    t = op.end_time\n",
    "    iteration = int(op.end_time/op.dt)\n",
    "    tic = clock()\n",
    "    msg = \"    simulation time {:4.1f} minutes    wallclock time {:4.1f} seconds\"\n",
    "    while t > 0.0:\n",
    "        if iteration % 48 == 0:\n",
    "            toc = clock() - tic\n",
    "            print_debug(msg.format(t/60, toc), debug=debug)\n",
    "            tic = clock()\n",
    "\n",
    "        # Evaluate function appearing in RHS\n",
    "        assert diffs[iteration] is not None\n",
    "        rhs.interpolate(diffs[iteration])\n",
    "        diffs[iteration] = None  # Reset saved data\n",
    "\n",
    "        # Solve adjoint equation at current timestep\n",
    "        solver.solve()\n",
    "\n",
    "        # Increment\n",
    "        q_star_.assign(q_star)\n",
    "        t -= op.dt\n",
    "        iteration -= 1\n",
    "\n",
    "    assert np.allclose(t, 0.0)\n",
    "    toc = clock() - tic\n",
    "    print_debug(msg.format(t/60, toc), debug=debug)\n",
    "    return q_star"
   ]
  },
  {
   "cell_type": "markdown",
   "metadata": {},
   "source": [
    "Let's take a look at the adjoint solution."
   ]
  },
  {
   "cell_type": "code",
   "execution_count": 21,
   "metadata": {},
   "outputs": [
    {
     "data": {
      "image/png": "[encoded data removed]",
      "text/plain": [
       "<Figure size 864x360 with 4 Axes>"
      ]
     },
     "metadata": {
      "needs_background": "light"
     },
     "output_type": "display_data"
    }
   ],
   "source": [
    "q_star = solve_adjoint()\n",
    "plot_fields(*q_star.split());"
   ]
  },
  {
   "cell_type": "markdown",
   "metadata": {},
   "source": [
    "Further, recall that the gradient may be computed as\n",
    "\n",
    "$$\n",
    "    \\frac{\\mathrm dJ}{\\mathrm dm_k} = \\int_\\Omega g_k\\eta^*|_{t=0}\\;\\mathrm dx\n",
    "    +\\int_\\Omega\\sigma m_k\\nabla g_k\\cdot\\nabla g_k\\;\\mathrm dx.\n",
    "$$"
   ]
  },
  {
   "cell_type": "code",
   "execution_count": 22,
   "metadata": {},
   "outputs": [],
   "source": [
    "def gradient(m, debug=True):\n",
    "    if isinstance(m, float):\n",
    "        m = [m, ]\n",
    "    if diffs[-1] is None:\n",
    "        J, q = solve_forward(m, gradient=True, debug=debug)\n",
    "    adj_sol0 = solve_adjoint(debug=debug)\n",
    "    basis_functions = get_basis_functions(adj_sol0.function_space())\n",
    "    g = np.array([assemble(inner(adj_sol0, phi)*dx) for phi in basis_functions])\n",
    "    basis_derivatives = [m_i*grad(phi_i.split()[1]) for m_i, phi_i in zip(m, basis_functions)]\n",
    "    g += np.array([assemble(sigma*m_i*(d_i[0]**2 + d_i[1]**2)*dx) for m_i, d_i in zip(m, basis_derivatives)])\n",
    "    \n",
    "    print_debug(\"Gradient = {:.8e}\".format(g[0]), debug=debug)\n",
    "    return g"
   ]
  },
  {
   "cell_type": "markdown",
   "metadata": {},
   "source": [
    "## Taylor Test\n",
    "\n",
    "To check that the gradient is consistent, we can apply a Taylor remainder test.\n",
    "Denote by $\\widehat J=\\widehat J(m)$ the reduced functional and consider the first order Taylor remainder\n",
    "\n",
    "$$\n",
    "    T_1(h):=\\left|\\:\\widehat J(m+h\\delta m) - \\widehat J(m)\\:\\right|,\n",
    "$$\n",
    "\n",
    "for some search direction $\\delta m$ and step length $m$.\n",
    "In addition, consider the second order Taylor remainder\n",
    "\n",
    "$$\n",
    "    T_2(h):=\\left|\\:\\widehat J(m+h\\delta m) - \\widehat J(m) - h\\;\\mathrm d\\widehat J\\cdot\\delta m\\:\\right|.\n",
    "$$\n",
    "\n",
    "where we propose that $\\mathrm d\\widehat J$ is the gradient of $\\widehat J$ w.r.t. the control $m$.\n",
    "Continuity of the reduced functional implies that $\\lim_{h\\rightarrow0}T_1(h)=0$ at rate $\\mathcal O(h)$.\n",
    "Provided that $\\mathrm d\\widehat J$ is indeed the gradient, we also have that $\\lim_{h\\rightarrow0}T_2(h)=0$.\n",
    "Moreover, we expect that this convergence is achieved at rate $\\mathcal O(h^2)$.\n",
    "\n",
    "The Taylor test simply verifies that the second order convergence is achieved."
   ]
  },
  {
   "cell_type": "code",
   "execution_count": 23,
   "metadata": {},
   "outputs": [],
   "source": [
    "def taylor_test(m, delta_m=0.1, h_init=1):\n",
    "    print(20*\"=\" + \"TAYLOR TEST\" + 20*\"=\")\n",
    "    if isinstance(m, float):\n",
    "        m = [m, ]\n",
    "    if isinstance(delta_m, float):\n",
    "        delta_m = [delta_m, ]\n",
    "    m = np.array(m)\n",
    "    delta_m = np.array(delta_m)\n",
    "    \n",
    "    # Evaluate the reduced functional and gradient at the specified control value\n",
    "    Jm = reduced_functional(m)\n",
    "    dJm = gradient(m)\n",
    "    \n",
    "    # Check that the Taylor remainders decrease quadratically\n",
    "    remainders = np.zeros(3)\n",
    "    for i in range(3):\n",
    "        h = h_init*pow(0.5, i)\n",
    "        print(\"h = {:.4e}\".format(h))\n",
    "        J_step = reduced_functional(m+h*delta_m)\n",
    "        diff = J_step - Jm\n",
    "        grad_h = h*np.dot(dJm, delta_m)\n",
    "        print(\"Difference = {:.4e}\".format(diff))\n",
    "        print(\"Gradient = {:.4e}\".format(grad_h))\n",
    "        remainders[i] = abs(diff - grad_h)\n",
    "        print(\"Taylor remainder = {:.4e}\".format(remainders[i]))\n",
    "        if i > 0:\n",
    "            ratio = remainders[i-1]/remainders[i]\n",
    "            try:\n",
    "                assert ratio > 1.95\n",
    "            except AssertionError:\n",
    "                msg = \"Taylor remainders do not decrease quadratically (ratio {:.4e})\"\n",
    "                raise ConvergenceError(msg.format(ratio))\n",
    "    print(16*\"=\" + \"TAYLOR TEST PASSED!\" + 16*\"=\")"
   ]
  },
  {
   "cell_type": "code",
   "execution_count": 24,
   "metadata": {},
   "outputs": [
    {
     "name": "stdout",
     "output_type": "stream",
     "text": [
      "====================TAYLOR TEST====================\n",
      "FORWARD SOLVE\n",
      "Current control value = 4.50000000e+00\n",
      "    simulation time  0.0 minutes    wallclock time  0.0 seconds\n",
      "    simulation time  4.0 minutes    wallclock time 20.6 seconds\n",
      "    simulation time  8.0 minutes    wallclock time 19.5 seconds\n",
      "    simulation time 12.0 minutes    wallclock time 19.7 seconds\n",
      "    simulation time 16.0 minutes    wallclock time 19.4 seconds\n",
      "    simulation time 20.0 minutes    wallclock time 19.6 seconds\n",
      "    simulation time 24.0 minutes    wallclock time 20.1 seconds\n",
      "    Quantity of interest = 6.52032091e+13\n",
      "ADJOINT SOLVE FOR GRADIENT CALCULATION\n",
      "    simulation time 24.0 minutes    wallclock time  0.0 seconds\n",
      "    simulation time 20.0 minutes    wallclock time 13.5 seconds\n",
      "    simulation time 16.0 minutes    wallclock time 13.9 seconds\n",
      "    simulation time 12.0 minutes    wallclock time 13.5 seconds\n",
      "    simulation time  8.0 minutes    wallclock time 13.4 seconds\n",
      "    simulation time  4.0 minutes    wallclock time 13.1 seconds\n",
      "    simulation time  0.0 minutes    wallclock time 13.8 seconds\n",
      "Gradient = 6.29371438e+13\n",
      "h = 1.0000e+00\n",
      "FORWARD SOLVE\n",
      "Current control value = 4.60000000e+00\n",
      "    simulation time  0.0 minutes    wallclock time  0.0 seconds\n",
      "    simulation time  4.0 minutes    wallclock time 19.9 seconds\n",
      "    simulation time  8.0 minutes    wallclock time 20.1 seconds\n",
      "    simulation time 12.0 minutes    wallclock time 19.8 seconds\n",
      "    simulation time 16.0 minutes    wallclock time 19.7 seconds\n",
      "    simulation time 20.0 minutes    wallclock time 20.1 seconds\n",
      "    simulation time 24.0 minutes    wallclock time 19.9 seconds\n",
      "    Quantity of interest = 6.51540639e+13\n",
      "Difference = 2.6608e+11\n",
      "Gradient = 6.2937e+12\n",
      "Taylor remainder = 6.0276e+12\n",
      "h = 5.0000e-01\n",
      "FORWARD SOLVE\n",
      "Current control value = 4.55000000e+00\n",
      "    simulation time  0.0 minutes    wallclock time  0.0 seconds\n",
      "    simulation time  4.0 minutes    wallclock time 20.0 seconds\n",
      "    simulation time  8.0 minutes    wallclock time 20.0 seconds\n",
      "    simulation time 12.0 minutes    wallclock time 20.1 seconds\n",
      "    simulation time 16.0 minutes    wallclock time 19.9 seconds\n",
      "    simulation time 20.0 minutes    wallclock time 20.1 seconds\n",
      "    simulation time 24.0 minutes    wallclock time 19.9 seconds\n",
      "    Quantity of interest = 6.51783123e+13\n",
      "Difference = 1.3185e+11\n",
      "Gradient = 3.1469e+12\n",
      "Taylor remainder = 3.0150e+12\n",
      "h = 2.5000e-01\n",
      "FORWARD SOLVE\n",
      "Current control value = 4.52500000e+00\n",
      "    simulation time  0.0 minutes    wallclock time  0.0 seconds\n",
      "    simulation time  4.0 minutes    wallclock time 19.3 seconds\n",
      "    simulation time  8.0 minutes    wallclock time 20.0 seconds\n",
      "    simulation time 12.0 minutes    wallclock time 19.8 seconds\n",
      "    simulation time 16.0 minutes    wallclock time 20.0 seconds\n",
      "    simulation time 20.0 minutes    wallclock time 20.5 seconds\n",
      "    simulation time 24.0 minutes    wallclock time 20.3 seconds\n",
      "    Quantity of interest = 6.51906796e+13\n",
      "Difference = 6.5626e+10\n",
      "Gradient = 1.5734e+12\n",
      "Taylor remainder = 1.5078e+12\n",
      "================TAYLOR TEST PASSED!================\n"
     ]
    }
   ],
   "source": [
    "taylor_test(4.5)"
   ]
  },
  {
   "cell_type": "markdown",
   "metadata": {},
   "source": [
    "## Parameter space exploration\n",
    "\n",
    "Since we have a one-dimensional control parameter space, we can easily explore the parameter space to see how it looks."
   ]
  },
  {
   "cell_type": "code",
   "execution_count": 27,
   "metadata": {},
   "outputs": [],
   "source": [
    "sigma.assign(1.0e+10);"
   ]
  },
  {
   "cell_type": "code",
   "execution_count": 28,
   "metadata": {},
   "outputs": [],
   "source": [
    "n = 9\n",
    "control_values = np.linspace(2.0, 10.0, n)\n",
    "# func_values = np.zeros(n)\n",
    "# for i, m in enumerate(control_values):\n",
    "#     func_values[i] = reduced_functional(m, debug=False)\n",
    "#     print(\"{:2d}: control value {:.4e}  functional value {:.4e}\".format(i, m, func_values[i]))\n",
    "    \n",
    "# Here's one I prepared earlier\n",
    "assert sigma.dat.data[0] == 1.0e+10\n",
    "func_values = np.array([6.7522e+13, 6.6670e+13, 6.6147e+13, 6.5954e+13, 6.6090e+13, 6.6556e+13,\n",
    "                        6.7352e+13, 6.8477e+13, 6.9932e+13])"
   ]
  },
  {
   "cell_type": "code",
   "execution_count": 29,
   "metadata": {},
   "outputs": [
    {
     "data": {
      "image/png": "[encoded data removed]",
      "text/plain": [
       "<Figure size 576x576 with 1 Axes>"
      ]
     },
     "metadata": {
      "needs_background": "light"
     },
     "output_type": "display_data"
    }
   ],
   "source": [
    "fig, axes = plt.subplots(figsize=(8, 8))\n",
    "\n",
    "axes.plot(control_values, func_values, '--x')\n",
    "axes.set_xlabel(\"Control values\");\n",
    "axes.set_ylabel(\"Functional values\");"
   ]
  },
  {
   "cell_type": "markdown",
   "metadata": {},
   "source": [
    "This plot will be very useful in interpreting the progress of the minimisation routine."
   ]
  },
  {
   "cell_type": "markdown",
   "metadata": {},
   "source": [
    "## Inversion for a single basis function coefficient\n",
    "\n",
    "Now that we have functions for solving the forward problem and computing the gradient, we can apply a quasi-Newton optimisation method such as BFGS to optimise the control parameter.\n",
    "BFGS may be expressed in pseudocode as\n",
    "\n",
    "* Choose initial guess $m_0$\n",
    "* $i:=0$\n",
    "* while not converged:\n",
    "    - solve forward problem with control $m_i$ to evaluate QoI as $J_i$\n",
    "    - solve adjoint problem\n",
    "    - compute gradient $g_i$ for control $m_i$\n",
    "        \n",
    "    - Approximate Hessian:\n",
    "        * if $i = 0$ then $H_i:=I$\n",
    "        * else:\n",
    "            - $s := m_i - m_{i-1}$\n",
    "            - $y := g_i - g_{i-1}$\n",
    "            - $H_i := \\left(I - \\frac{sy^T}{y^Ts}\\right) H_{i-1} \\left(I - \\frac{ys^T}{y^Ts}\\right) + \\frac{ss^T}{y^Ts}$\n",
    "            \n",
    "    - compute search direction $p_i := H_ig_i$\n",
    "    - compute step length $\\alpha_i$ using line search\n",
    "    - take step $m_{i+1} := m_i + \\alpha_ip_i$\n",
    "    - check convergence\n",
    "    - $i = i+1$\n",
    "        \n",
    "where $I$ is the identity matrix and each $m_i$ is a vector of control parameters.\n",
    "\n",
    "Note that this \"bad Broyden\" version of BFGS (which approximates the inverse Hessian rather than the Hessian itself) is known to be sensitive to the scaling of the gradient.\n",
    "Since the gradient values are $\\mathcal O(10^{11})$ for this problem, we rescale it."
   ]
  },
  {
   "cell_type": "code",
   "execution_count": null,
   "metadata": {},
   "outputs": [
    {
     "name": "stdout",
     "output_type": "stream",
     "text": [
      "FORWARD SOLVE\n",
      "ADJOINT SOLVE FOR GRADIENT CALCULATION\n",
      "control 9.00000000e+00  functional 6.84771528e+13  gradient 4.08252912e+11\n",
      "FORWARD SOLVE\n",
      "ADJOINT SOLVE FOR GRADIENT CALCULATION\n",
      "control 7.99000000e+00  functional 6.73422956e+13  gradient 3.62691582e+11\n",
      "LINE SEARCH COMPLETE\n",
      "\n",
      "FORWARD SOLVE\n",
      "ADJOINT SOLVE FOR GRADIENT CALCULATION\n",
      "control 1.66944696e+00  functional 6.78765300e+13  gradient 7.75699903e+10\n",
      "FORWARD SOLVE\n",
      "ADJOINT SOLVE FOR GRADIENT CALCULATION\n",
      "control 6.66473456e+00  functional 6.63632596e+13  gradient 3.02908555e+11\n",
      "LINE SEARCH COMPLETE\n",
      "\n",
      "FORWARD SOLVE\n",
      "ADJOINT SOLVE FOR GRADIENT CALCULATION\n",
      "control 1.35857052e-01  functional 6.99912893e+13  gradient 8.38939934e+09\n",
      "FORWARD SOLVE\n",
      "ADJOINT SOLVE FOR GRADIENT CALCULATION\n",
      "control 6.20038781e+00  functional 6.61571815e+13  gradient 2.81961767e+11\n",
      "FORWARD SOLVE\n",
      "ADJOINT SOLVE FOR GRADIENT CALCULATION\n",
      "control 6.08668860e+00  functional 6.61175534e+13  gradient 2.76832770e+11\n",
      "FORWARD SOLVE\n",
      "ADJOINT SOLVE FOR GRADIENT CALCULATION\n"
     ]
    }
   ],
   "source": [
    "m_init = np.array([9.0, ])\n",
    "\n",
    "# scaling = 1.0e-13\n",
    "scaling = 1.0\n",
    "control_values_opt = []\n",
    "func_values_opt = []\n",
    "gradient_values_opt = []\n",
    "\n",
    "def scaled_reduced_functional(m):\n",
    "    J = scaling*reduced_functional(m, debug=False)\n",
    "    control_values_opt.append(m[0])\n",
    "    func_values_opt.append(J)\n",
    "    return J\n",
    "\n",
    "def scaled_gradient(m):\n",
    "    if diffs[0] is None:\n",
    "        J = scaled_reduced_functional(m)\n",
    "        control_values_opt.append(m[0])\n",
    "        func_values_opt.append(J)\n",
    "    else:\n",
    "        J = func_values_opt[-1]\n",
    "    adj_sol0 = solve_adjoint(debug=False)\n",
    "    adj_sol0 *= -1  # FIXME\n",
    "    basis_functions = get_basis_functions(adj_sol0.function_space())\n",
    "    g = scaling*np.array([assemble(inner(adj_sol0, phi)*dx) for phi in basis_functions])\n",
    "    gradient_values_opt.append(g[0])\n",
    "    print(\"control {:.8e}  functional {:.8e}  gradient {:.8e}\".format(m[0], J, g[0]))\n",
    "    return g\n",
    "\n",
    "def opt_cb(m_current):\n",
    "    print(\"LINE SEARCH COMPLETE\\n\")\n",
    "\n",
    "opt_parameters = {\n",
    "    'maxiter': 5,\n",
    "    'disp': True,\n",
    "#     'gtol': 1.0e-02,\n",
    "    'gtol': 1.0,\n",
    "    'callback': opt_cb,\n",
    "    'retall': True,\n",
    "}\n",
    "\n",
    "m_opt = scipy.optimize.fmin_bfgs(scaled_reduced_functional, m_init, fprime=scaled_gradient, **opt_parameters)\n",
    "print(\"Optimised control parameter = {:.4e}\".format(*m_opt))"
   ]
  },
  {
   "cell_type": "markdown",
   "metadata": {},
   "source": [
    "Let's view the progress of the optimisation routine superimposed on the sample of the parameter space explored previously."
   ]
  },
  {
   "cell_type": "code",
   "execution_count": 24,
   "metadata": {},
   "outputs": [
    {
     "data": {
      "image/png": "[encoded data removed]",
      "text/plain": [
       "<Figure size 576x576 with 1 Axes>"
      ]
     },
     "metadata": {
      "needs_background": "light"
     },
     "output_type": "display_data"
    }
   ],
   "source": [
    "fig, axes = plt.subplots(figsize=(8, 8))\n",
    "\n",
    "axes.plot(control_values, scaling*func_values, '--x')\n",
    "axes.plot(control_values_opt, func_values_opt, 'o', color='r')\n",
    "\n",
    "delta_m = 0.25\n",
    "for m, f, g in zip(control_values_opt, func_values_opt, gradient_values_opt):\n",
    "    x = np.array([m - delta_m, m + delta_m])\n",
    "    axes.plot(x, g*(x-m) + f, '-', color='g')\n",
    "\n",
    "axes.set_xlabel(\"Control values\");\n",
    "axes.set_ylabel(\"Functional values\");\n",
    "# axes.set_xlim([3, 10]);\n",
    "# axes.set_ylim([scaling*6.45e+13, scaling*6.65e+13]);\n",
    "# axes.set_ylim([scaling*3.8e+12, scaling*4.2e+12]);"
   ]
  }
 ],
 "metadata": {
  "kernelspec": {
   "display_name": "Python 3",
   "language": "python",
   "name": "python3"
  },
  "language_info": {
   "codemirror_mode": {
    "name": "ipython",
    "version": 3
   },
   "file_extension": ".py",
   "mimetype": "text/x-python",
   "name": "python",
   "nbconvert_exporter": "python",
   "pygments_lexer": "ipython3",
   "version": "3.6.8"
  }
 },
 "nbformat": 4,
 "nbformat_minor": 4
}
