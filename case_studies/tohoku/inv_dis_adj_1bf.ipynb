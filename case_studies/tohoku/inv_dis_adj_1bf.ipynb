{
 "cells": [
  {
   "cell_type": "markdown",
   "metadata": {},
   "source": [
    "# Tohoku tsunami inversion\n",
    "## Inversion using discrete adjoint"
   ]
  },
  {
   "cell_type": "code",
   "execution_count": 1,
   "metadata": {},
   "outputs": [],
   "source": [
    "%matplotlib inline"
   ]
  },
  {
   "cell_type": "code",
   "execution_count": 2,
   "metadata": {},
   "outputs": [],
   "source": [
    "import matplotlib\n",
    "import matplotlib.pyplot as plt\n",
    "import scipy\n",
    "from time import clock"
   ]
  },
  {
   "cell_type": "code",
   "execution_count": 3,
   "metadata": {},
   "outputs": [],
   "source": [
    "from thetis import *\n",
    "from firedrake_adjoint import *\n",
    "from firedrake.adjoint.blocks import GenericSolveBlock"
   ]
  },
  {
   "cell_type": "code",
   "execution_count": 4,
   "metadata": {},
   "outputs": [],
   "source": [
    "from adapt_utils.case_studies.tohoku.options import TohokuOptions\n",
    "from adapt_utils.norms import total_variation\n",
    "from adapt_utils.misc import gaussian, ellipse"
   ]
  },
  {
   "cell_type": "markdown",
   "metadata": {},
   "source": [
    "_[Misc plotting functions]_"
   ]
  },
  {
   "cell_type": "code",
   "execution_count": 5,
   "metadata": {
    "code_folding": [
     0
    ]
   },
   "outputs": [],
   "source": [
    "def plot_field(field, figure=None, axes=None, height=5, **kwargs):\n",
    "    CG1 = field.ufl_element().degree() == 1 and field.ufl_element().family() == 'Lagrange'\n",
    "    fs_constructor = FunctionSpace if len(field.function_space().shape) == 0 else VectorFunctionSpace\n",
    "    out = field if CG1 else interpolate(field, fs_constructor(field.function_space().mesh(), \"CG\", 1))\n",
    "    \n",
    "    if figure is None and axes is None:\n",
    "        figure, axes = plt.subplots(figsize=(height*1.2, height))\n",
    "    if axes is None:\n",
    "        axes = plt.gca()\n",
    "    figure.colorbar(tricontourf(out, levels=50, axes=axes, cmap='coolwarm', **kwargs), ax=axes);\n",
    "    axes.axis(False);\n",
    "    axes.set_title(field.dat.name);\n",
    "    return axes"
   ]
  },
  {
   "cell_type": "code",
   "execution_count": 6,
   "metadata": {
    "code_folding": [
     0
    ]
   },
   "outputs": [],
   "source": [
    "def plot_fields(*fields, height=5):\n",
    "    nfields = len(fields)\n",
    "    fig, axes = plt.subplots(ncols=nfields, figsize=(height*nfields*1.2, height))\n",
    "    for i, field in enumerate(fields):\n",
    "        try:\n",
    "            plot_field(field, fig, axes[i])\n",
    "        except AttributeError:\n",
    "            plot_mesh(field, fig, axes[i])\n",
    "    return axes"
   ]
  },
  {
   "cell_type": "code",
   "execution_count": 7,
   "metadata": {},
   "outputs": [],
   "source": [
    "level = 0\n",
    "# level = 1\n",
    "# level = 2\n",
    "\n",
    "op = TohokuOptions(level=level)\n",
    "op.gauges.pop('21418')  # This pressure gauge isn't within the domain\n",
    "\n",
    "mesh = op.default_mesh\n",
    "\n",
    "boundary_conditions = {\n",
    "    100: ['freeslip', 'dirichlet'],\n",
    "    200: ['freeslip'],\n",
    "    300: ['freeslip'],\n",
    "}\n",
    "\n",
    "basis_centres = [(0.7e+06, 4.2e+06), ]"
   ]
  },
  {
   "cell_type": "markdown",
   "metadata": {},
   "source": [
    "### Forward model\n",
    "\n",
    "As before, consider the shallow water equations linearised about lake at rest:\n",
    "\n",
    "$$\n",
    "    \\frac{\\partial\\mathbf u}{\\partial t}+g\\nabla\\eta+f\\widehat{\\mathbf z}\\times\\mathbf u=\\boldsymbol0,\\qquad\n",
    "    \\frac{\\partial\\eta}{\\partial t}+\\nabla\\cdot(b\\mathbf u)=0,\\qquad\n",
    "    \\text{in}\\quad(0,T]\\times\\Omega,\n",
    "$$\n",
    "\n",
    "equipped with boundary conditions\n",
    "\n",
    "$$\n",
    "    \\mathbf u\\cdot\\widehat{\\mathbf n}|_{\\Gamma_{\\mathrm{freeslip}}}\\equiv0,\\qquad\n",
    "    \\eta|_{\\Gamma_D}\\equiv0.\n",
    "$$\n",
    "\n",
    "Assume zero initial velocity and expand the initial surface over a radial basis:\n",
    "\n",
    "$$\n",
    "    \\mathbf u|_{t=0}\\equiv\\boldsymbol0,\\qquad\n",
    "    \\eta|_{t=0}=\\sum_{k=1}^N m_kg_k,\n",
    "$$\n",
    "\n",
    "where $m_k$ are (constant in space) control parameters and $g_k$ are Gaussians."
   ]
  },
  {
   "cell_type": "markdown",
   "metadata": {},
   "source": [
    "Choose an initial guess for the basis coefficient"
   ]
  },
  {
   "cell_type": "code",
   "execution_count": 8,
   "metadata": {},
   "outputs": [],
   "source": [
    "R = FunctionSpace(mesh, \"R\", 0)\n",
    "m0 = Function(R).assign(10.0)"
   ]
  },
  {
   "cell_type": "code",
   "execution_count": 9,
   "metadata": {},
   "outputs": [],
   "source": [
    "def get_fields(fs):\n",
    "    elev_space = fs.sub(1)\n",
    "    b = Function(elev_space, name=\"Bathymetry (from GEBCO)\").assign(op.set_bathymetry(elev_space))\n",
    "    f = Function(elev_space, name=\"Coriolis parameter\").assign(op.set_coriolis(elev_space))\n",
    "    g = Constant(op.g)\n",
    "    return b, f, g"
   ]
  },
  {
   "cell_type": "markdown",
   "metadata": {},
   "source": [
    "### Quantity of Interest\n",
    "\n",
    "Again, we have the QoI\n",
    "\n",
    "$$\n",
    "J(\\mathbf u,\\eta)=\\frac12\\sum_{g\\in\\mathcal G}\\int_0^T\\int_\\Omega\\mathbb1_g\\big(\\:\\eta(x,t)-\\eta_g(t)\\:\\big)^2\\;\\mathrm dx\\;\\mathrm dt,\n",
    "$$\n",
    "\n",
    "where $\\mathbb1_g$ is an indicator function related to a sufficiently small neighbourhood of gauge $g$."
   ]
  },
  {
   "cell_type": "code",
   "execution_count": 10,
   "metadata": {
    "code_folding": []
   },
   "outputs": [],
   "source": [
    "def sampled_timeseries(g, sample=1):\n",
    "    time_prev = 0.0\n",
    "    num_lines = sum(1 for line in open('resources/gauges/{:s}.dat'.format(g), 'r'))\n",
    "    t, d, running = [], [], []\n",
    "    with open('resources/gauges/{:s}.dat'.format(g), 'r') as f:\n",
    "        for i in range(num_lines):\n",
    "            time, dat = f.readline().split()\n",
    "            time, dat = float(time), float(dat)\n",
    "            if np.isnan(dat):\n",
    "                continue\n",
    "            running.append(dat)\n",
    "            if i % sample == 0 and i > 0:\n",
    "                t.append(0.5*(time + time_prev))\n",
    "                d.append(np.mean(running))\n",
    "                running = 0\n",
    "                time_prev = time\n",
    "                running = []\n",
    "    return scipy.interpolate.interp1d(t, d, bounds_error=False, fill_value='extrapolate')"
   ]
  },
  {
   "cell_type": "code",
   "execution_count": 11,
   "metadata": {},
   "outputs": [],
   "source": [
    "def get_basis_functions(fs, xy_skew=(48e+03, 96e+03), angle=pi/12):\n",
    "    basis_functions = []\n",
    "    for loc in basis_centres:\n",
    "        basis_function = Function(fs)\n",
    "        psi, phi = basis_function.split()\n",
    "        phi.interpolate(gaussian([loc + xy_skew, ], fs.mesh(), rotation=angle))\n",
    "        basis_functions.append(basis_function)\n",
    "    return basis_functions"
   ]
  },
  {
   "cell_type": "code",
   "execution_count": 12,
   "metadata": {},
   "outputs": [],
   "source": [
    "def print_debug(msg, debug=False):\n",
    "    if debug:\n",
    "        print(msg)"
   ]
  },
  {
   "cell_type": "code",
   "execution_count": 13,
   "metadata": {},
   "outputs": [],
   "source": [
    "def solve_forward(ctrls, gradient=False, debug=True):\n",
    "    print(\"FORWARD SOLVE FOR GRADIENT CALCULATION\" if gradient else \"FORWARD SOLVE\")\n",
    "    if isinstance(ctrls, Function):\n",
    "        ctrls = [ctrls, ]\n",
    "    \n",
    "    # --- Setup function spaces\n",
    "    \n",
    "    fs = VectorFunctionSpace(mesh, \"CG\", 2)*FunctionSpace(mesh, \"CG\", 1)\n",
    "    P0 = FunctionSpace(mesh, \"DG\", 0)\n",
    "    \n",
    "    # -- Setup fields\n",
    "    \n",
    "    b, f, g = get_fields(fs)\n",
    "    \n",
    "    # --- Setup PDE\n",
    "    \n",
    "    dtc = Constant(op.dt)\n",
    "    \n",
    "    u, eta = TrialFunctions(fs)\n",
    "    z, zeta = TestFunctions(fs)\n",
    "\n",
    "    q_ = Function(fs)\n",
    "    u_, eta_ = q_.split()\n",
    "\n",
    "    a = inner(z, u)*dx + inner(zeta, eta)*dx\n",
    "    L = inner(z, u_)*dx + inner(zeta, eta_)*dx\n",
    "    \n",
    "    n = FacetNormal(mesh)\n",
    "\n",
    "    def G(uv, elev):\n",
    "        F = g*inner(z, grad(elev))*dx\n",
    "        F += f*inner(z, as_vector((-uv[1], uv[0])))*dx\n",
    "        F += -inner(grad(zeta), b*uv)*dx\n",
    "        for tag in boundary_conditions:\n",
    "            if 'freeslip' not in boundary_conditions[tag]:\n",
    "                F += inner(zeta*n, b*uv)*ds(tag)\n",
    "        return F\n",
    "\n",
    "    a += 0.5*dtc*G(u, eta)\n",
    "    L += -0.5*dtc*G(u_, eta_)\n",
    "\n",
    "    q = Function(fs)\n",
    "    u, eta = q.split()\n",
    "\n",
    "    bcs = []\n",
    "    for tag in boundary_conditions:\n",
    "        if 'dirichlet' in boundary_conditions[tag]:\n",
    "            bcs.append(DirichletBC(fs.sub(1), 0, tag))\n",
    "\n",
    "    params = {\n",
    "        \"snes_type\": \"ksponly\",\n",
    "        \"ksp_type\": \"gmres\",\n",
    "        \"pc_type\": \"fieldsplit\",\n",
    "        \"pc_fieldsplit_type\": \"multiplicative\",\n",
    "    }\n",
    "\n",
    "    problem = LinearVariationalProblem(a, L, q, bcs=bcs)\n",
    "    solver = LinearVariationalSolver(problem, solver_parameters=params)\n",
    "    \n",
    "    # --- Setup initial condition / control\n",
    "    \n",
    "    basis_functions = get_basis_functions(fs)\n",
    "    try:\n",
    "        assert len(basis_functions) == len(ctrls)\n",
    "    except AssertionError:\n",
    "        msg = \"Number of basis functions and number of basis coefficients do not match ({:d} vs {:d})\"\n",
    "        raise ValueError(msg.format(len(basis_functions), len(ctrls)))\n",
    "    q_.project(sum(m_i*phi_i for m_i, phi_i in zip(ctrls, basis_functions)))\n",
    "    \n",
    "    # --- Setup QoI\n",
    "    \n",
    "    radius = 20.0e+03*pow(0.5, level)  # The finer the mesh, the more precise the indicator region\n",
    "    for gauge in op.gauges:\n",
    "        op.gauges[gauge]['indicator'] = interpolate(ellipse([op.gauges[gauge][\"coords\"] + (radius,), ], mesh), P0)\n",
    "        op.gauges[gauge]['interpolator'] = sampled_timeseries(gauge, sample=60 if gauge[0] == 'P' else 1)\n",
    "        \n",
    "    op.end_time = 1440.0\n",
    "        \n",
    "    times = []\n",
    "\n",
    "    # --- Time integrate\n",
    "    \n",
    "    t = 0.0\n",
    "    iteration = 0\n",
    "    J = 0\n",
    "    eta_obs = Constant(0.0)\n",
    "    weight = Constant(1.0)\n",
    "    tic = clock()\n",
    "    msg = \"    simulation time {:4.1f} minutes    wallclock time {:4.1f} seconds\"\n",
    "    while t < op.end_time:\n",
    "        times.append(t)\n",
    "        if iteration % 48 == 0:\n",
    "            toc = clock() - tic\n",
    "            print_debug(msg.format(t/60, toc), debug=debug)\n",
    "            tic = clock()\n",
    "\n",
    "        # Solve forward equation at current timestep\n",
    "        solver.solve()\n",
    "\n",
    "        # Time integrate QoI\n",
    "        weight.assign(0.5 if np.allclose(t, 0.0) else 1.0)\n",
    "        u, eta = q.split()\n",
    "        for gauge in op.gauges:\n",
    "            indicator = op.gauges[gauge]['indicator']\n",
    "\n",
    "            # Interpolate observations\n",
    "            obs = float(op.gauges[gauge]['interpolator'](t))\n",
    "            eta_obs.assign(obs)\n",
    "\n",
    "            # Continuous form of error\n",
    "            J += assemble(weight*dtc*0.5*indicator*(eta - eta_obs)**2*dx)\n",
    "\n",
    "        # Increment\n",
    "        q_.assign(q)\n",
    "        t += op.dt\n",
    "        iteration += 1\n",
    "\n",
    "    assert np.allclose(t, op.end_time), print(\"mismatching end time ({:.2f} vs {:.2f})\".format(t, op.end_time))\n",
    "    toc = clock() - tic\n",
    "    print_debug(msg.format(t/60, toc), debug=debug)\n",
    "    print_debug(\"    Quantity of interest = {:.8e}\".format(J), debug=debug)\n",
    "    \n",
    "    weight.assign(0.5)\n",
    "    u, eta = q.split()\n",
    "    for gauge in op.gauges:\n",
    "        indicator = op.gauges[gauge]['indicator']\n",
    "\n",
    "        # Interpolate observations\n",
    "        obs = float(op.gauges[gauge]['interpolator'](t))\n",
    "        eta_obs.assign(obs)\n",
    "\n",
    "        # Continuous form of error\n",
    "        J += assemble(weight*dtc*0.5*indicator*(eta - eta_obs)**2*dx)\n",
    "    \n",
    "    return J, q"
   ]
  },
  {
   "cell_type": "code",
   "execution_count": 48,
   "metadata": {},
   "outputs": [],
   "source": [
    "def reduced_functional(m, debug=True, **kwargs):\n",
    "    J, q = solve_forward(m, debug=debug)\n",
    "    return ReducedFunctional(J, Control(m), **kwargs)"
   ]
  },
  {
   "cell_type": "markdown",
   "metadata": {},
   "source": [
    "Let's take a look at the forward solution."
   ]
  },
  {
   "cell_type": "code",
   "execution_count": 33,
   "metadata": {},
   "outputs": [
    {
     "name": "stdout",
     "output_type": "stream",
     "text": [
      "FORWARD SOLVE\n",
      "    simulation time  0.0 minutes    wallclock time  0.0 seconds\n",
      "    simulation time  4.0 minutes    wallclock time 18.9 seconds\n",
      "    simulation time  8.0 minutes    wallclock time 17.8 seconds\n",
      "    simulation time 12.0 minutes    wallclock time 19.5 seconds\n",
      "    simulation time 16.0 minutes    wallclock time 18.9 seconds\n",
      "    simulation time 20.0 minutes    wallclock time 18.5 seconds\n",
      "    simulation time 24.0 minutes    wallclock time 17.7 seconds\n",
      "    Quantity of interest = 6.63522212e+13\n"
     ]
    },
    {
     "data": {
      "image/png": "[encoded data removed]",
      "text/plain": [
       "<Figure size 864x360 with 4 Axes>"
      ]
     },
     "metadata": {
      "needs_background": "light"
     },
     "output_type": "display_data"
    }
   ],
   "source": [
    "tape = get_working_tape()\n",
    "tape.clear_tape()\n",
    "m0 = Function(R).assign(10.0)\n",
    "J, q = solve_forward(m0)\n",
    "plot_fields(*q.split());"
   ]
  },
  {
   "cell_type": "code",
   "execution_count": 34,
   "metadata": {},
   "outputs": [],
   "source": [
    "g = compute_gradient(J, Control(m0))"
   ]
  },
  {
   "cell_type": "markdown",
   "metadata": {},
   "source": [
    "Let's take a look at the adjoint solution."
   ]
  },
  {
   "cell_type": "code",
   "execution_count": 19,
   "metadata": {},
   "outputs": [
    {
     "data": {
      "image/png": "[encoded data removed]",
      "text/plain": [
       "<Figure size 864x360 with 4 Axes>"
      ]
     },
     "metadata": {
      "needs_background": "light"
     },
     "output_type": "display_data"
    }
   ],
   "source": [
    "tape = get_working_tape()\n",
    "blocks = tape.get_blocks()\n",
    "solve_blocks = [block for block in blocks if isinstance(block, GenericSolveBlock)]\n",
    "q_star0 = solve_blocks[0].adj_sol\n",
    "plot_fields(*q_star0.split());"
   ]
  },
  {
   "cell_type": "markdown",
   "metadata": {},
   "source": [
    "## Taylor Test\n",
    "\n",
    "To check that the gradient is consistent, we can apply a Taylor remainder test.\n",
    "Denote by $\\widehat J=\\widehat J(m)$ the reduced functional and consider the first order Taylor remainder\n",
    "\n",
    "$$\n",
    "    T_1(h):=\\left|\\:\\widehat J(m+h\\delta m) - \\widehat J(m)\\:\\right|,\n",
    "$$\n",
    "\n",
    "for some search direction $\\delta m$ and step length $m$.\n",
    "In addition, consider the second order Taylor remainder\n",
    "\n",
    "$$\n",
    "    T_2(h):=\\left|\\:\\widehat J(m+h\\delta m) - \\widehat J(m) - h\\;\\mathrm d\\widehat J\\cdot\\delta m\\:\\right|.\n",
    "$$\n",
    "\n",
    "where we propose that $\\mathrm d\\widehat J$ is the gradient of $\\widehat J$ w.r.t. the control $m$.\n",
    "Continuity of the reduced functional implies that $\\lim_{h\\rightarrow0}T_1(h)=0$ at rate $\\mathcal O(h)$.\n",
    "Provided that $\\mathrm d\\widehat J$ is indeed the gradient, we also have that $\\lim_{h\\rightarrow0}T_2(h)=0$.\n",
    "Moreover, we expect that this convergence is achieved at rate $\\mathcal O(h^2)$.\n",
    "\n",
    "The Taylor test simply verifies that the second order convergence is achieved."
   ]
  },
  {
   "cell_type": "code",
   "execution_count": 85,
   "metadata": {},
   "outputs": [],
   "source": [
    "def taylor_test(m_init, h_init=1):\n",
    "    print(20*\"=\" + \"TAYLOR TEST\" + 20*\"=\")\n",
    "    tape = get_working_tape()\n",
    "    tape.clear_tape()\n",
    "    m = Function(R).assign(m_init)\n",
    "    \n",
    "    # Choose a random search direction\n",
    "    delta_m = np.random.rand(1)\n",
    "    \n",
    "    # Evaluate the reduced functional and gradient at the specified control value\n",
    "    Jm = solve_forward(m)[0]\n",
    "    dJm = compute_gradient(Jm, Control(m)).dat.data\n",
    "    m = np.array([m, ])\n",
    "    tape.clear_tape()\n",
    "    \n",
    "    # Check that the Taylor remainders decrease quadratically\n",
    "    with stop_annotating():\n",
    "        remainders = np.zeros(3)\n",
    "        for i in range(3):\n",
    "            h = h_init*pow(0.5, i)\n",
    "            print(\"h = {:.4e}\".format(h))\n",
    "            J_step = solve_forward(m+h*delta_m)[0]\n",
    "            remainders[i] = abs(J_step - Jm - h*np.dot(dJm, delta_m))\n",
    "            print(\"Taylor remainder = {:.4e}\".format(remainders[i]))\n",
    "            if i > 0:\n",
    "                ratio = remainders[i-1]/remainders[i]\n",
    "                try:\n",
    "                    assert ratio > 1.95\n",
    "                except AssertionError:\n",
    "                    msg = \"Taylor remainders do not decrease quadratically (ratio {:.4e})\"\n",
    "                    raise ConvergenceError(msg.format(ratio))\n",
    "    print(16*\"=\" + \"TAYLOR TEST PASSED!\" + 16*\"=\")"
   ]
  },
  {
   "cell_type": "code",
   "execution_count": 86,
   "metadata": {},
   "outputs": [
    {
     "name": "stdout",
     "output_type": "stream",
     "text": [
      "====================TAYLOR TEST====================\n",
      "FORWARD SOLVE\n",
      "    simulation time  0.0 minutes    wallclock time  0.0 seconds\n",
      "    simulation time  4.0 minutes    wallclock time 17.1 seconds\n",
      "    simulation time  8.0 minutes    wallclock time 18.1 seconds\n",
      "    simulation time 12.0 minutes    wallclock time 17.7 seconds\n",
      "    simulation time 16.0 minutes    wallclock time 19.2 seconds\n",
      "    simulation time 20.0 minutes    wallclock time 19.2 seconds\n",
      "    simulation time 24.0 minutes    wallclock time 19.5 seconds\n",
      "    Quantity of interest = 6.52032091e+13\n",
      "h = 1.0000e+00\n",
      "FORWARD SOLVE\n",
      "    simulation time  0.0 minutes    wallclock time  0.0 seconds\n",
      "    simulation time  4.0 minutes    wallclock time 10.5 seconds\n",
      "    simulation time  8.0 minutes    wallclock time 10.5 seconds\n",
      "    simulation time 12.0 minutes    wallclock time 10.8 seconds\n",
      "    simulation time 16.0 minutes    wallclock time 11.2 seconds\n",
      "    simulation time 20.0 minutes    wallclock time 11.3 seconds\n",
      "    simulation time 24.0 minutes    wallclock time 12.1 seconds\n",
      "    Quantity of interest = 6.51540639e+13\n",
      "Taylor remainder = 1.3016e+09\n",
      "h = 5.0000e-01\n",
      "FORWARD SOLVE\n",
      "    simulation time  0.0 minutes    wallclock time  0.0 seconds\n",
      "    simulation time  4.0 minutes    wallclock time 10.5 seconds\n",
      "    simulation time  8.0 minutes    wallclock time 10.3 seconds\n",
      "    simulation time 12.0 minutes    wallclock time 10.6 seconds\n",
      "    simulation time 16.0 minutes    wallclock time 11.0 seconds\n",
      "    simulation time 20.0 minutes    wallclock time 12.0 seconds\n",
      "    simulation time 24.0 minutes    wallclock time 12.8 seconds\n",
      "    Quantity of interest = 6.51783123e+13\n",
      "Taylor remainder = 3.2540e+08\n",
      "h = 2.5000e-01\n",
      "FORWARD SOLVE\n",
      "    simulation time  0.0 minutes    wallclock time  0.0 seconds\n",
      "    simulation time  4.0 minutes    wallclock time 10.7 seconds\n",
      "    simulation time  8.0 minutes    wallclock time 10.5 seconds\n",
      "    simulation time 12.0 minutes    wallclock time 11.4 seconds\n",
      "    simulation time 16.0 minutes    wallclock time 12.0 seconds\n",
      "    simulation time 20.0 minutes    wallclock time 12.0 seconds\n",
      "    simulation time 24.0 minutes    wallclock time 12.6 seconds\n",
      "    Quantity of interest = 6.51906796e+13\n",
      "Taylor remainder = 8.1347e+07\n",
      "================TAYLOR TEST PASSED!================\n"
     ]
    }
   ],
   "source": [
    "taylor_test(4.5)"
   ]
  },
  {
   "cell_type": "markdown",
   "metadata": {},
   "source": [
    "## Parameter space exploration\n",
    "\n",
    "Since we have a one-dimensional control parameter space, we can easily explore the parameter space to see how it looks."
   ]
  },
  {
   "cell_type": "code",
   "execution_count": 80,
   "metadata": {},
   "outputs": [
    {
     "name": "stdout",
     "output_type": "stream",
     "text": [
      "FORWARD SOLVE\n",
      " 0: control value 5.0000e+00  functional value 6.5088e+13\n",
      "FORWARD SOLVE\n",
      " 1: control value 6.0000e+00  functional value 6.4843e+13\n",
      "FORWARD SOLVE\n",
      " 2: control value 7.0000e+00  functional value 6.4859e+13\n",
      "FORWARD SOLVE\n",
      " 3: control value 8.0000e+00  functional value 6.5135e+13\n",
      "FORWARD SOLVE\n",
      " 4: control value 9.0000e+00  functional value 6.5671e+13\n",
      "FORWARD SOLVE\n",
      " 5: control value 1.0000e+01  functional value 6.6467e+13\n"
     ]
    }
   ],
   "source": [
    "n = 6\n",
    "control_values = np.linspace(5.0, 10.0, n)\n",
    "func_values = np.zeros(n)\n",
    "with stop_annotating():\n",
    "    for i, m in enumerate(control_values):\n",
    "        m0.assign(m)\n",
    "        func_values[i] = solve_forward(m0, debug=False)[0]\n",
    "        print(\"{:2d}: control value {:.4e}  functional value {:.4e}\".format(i, m, func_values[i]))"
   ]
  },
  {
   "cell_type": "code",
   "execution_count": 81,
   "metadata": {},
   "outputs": [
    {
     "data": {
      "image/png": "[encoded data removed]",
      "text/plain": [
       "<Figure size 576x576 with 1 Axes>"
      ]
     },
     "metadata": {
      "needs_background": "light"
     },
     "output_type": "display_data"
    }
   ],
   "source": [
    "fig, axes = plt.subplots(figsize=(8, 8))\n",
    "\n",
    "axes.plot(control_values, func_values, '--x')\n",
    "axes.set_xlabel(\"Control values\");\n",
    "axes.set_ylabel(\"Functional values\");"
   ]
  },
  {
   "cell_type": "markdown",
   "metadata": {},
   "source": [
    "This plot will be very useful in interpreting the progress of the minimisation routine."
   ]
  },
  {
   "cell_type": "markdown",
   "metadata": {},
   "source": [
    "## Inversion for a single basis function coefficient\n",
    "\n",
    "Now that we have functions for solving the forward problem and computing the gradient, we can apply a quasi-Newton optimisation method such as BFGS to optimise the control parameter.\n",
    "BFGS may be expressed in pseudocode as\n",
    "\n",
    "* Choose initial guess $m_0$\n",
    "* $i:=0$\n",
    "* while not converged:\n",
    "    - solve forward problem with control $m_i$ to evaluate QoI as $J_i$\n",
    "    - solve adjoint problem\n",
    "    - compute gradient $g_i$ for control $m_i$\n",
    "        \n",
    "    - Approximate Hessian:\n",
    "        * if $i = 0$ then $H_i:=I$\n",
    "        * else:\n",
    "            - $s := m_i - m_{i-1}$\n",
    "            - $y := g_i - g_{i-1}$\n",
    "            - $H_i := \\left(I - \\frac{sy^T}{y^Ts}\\right) H_{i-1} \\left(I - \\frac{ys^T}{y^Ts}\\right) + \\frac{ss^T}{y^Ts}$\n",
    "            \n",
    "    - compute search direction $p_i := H_ig_i$\n",
    "    - compute step length $\\alpha_i$ using line search\n",
    "    - take step $m_{i+1} := m_i + \\alpha_ip_i$\n",
    "    - check convergence\n",
    "    - $i = i+1$\n",
    "        \n",
    "where $I$ is the identity matrix and each $m_i$ is a vector of control parameters."
   ]
  },
  {
   "cell_type": "code",
   "execution_count": 61,
   "metadata": {},
   "outputs": [
    {
     "name": "stdout",
     "output_type": "stream",
     "text": [
      "Optimised control parameter = 6.4399e+00\n"
     ]
    }
   ],
   "source": [
    "m_init = np.array([9.0, ])  # it looks like the minimum lies in [6, 7]\n",
    "\n",
    "control_values_opt = []\n",
    "func_values_opt = []\n",
    "gradient_values_opt = []\n",
    "\n",
    "def derivative_cb_post(j, dj, m):\n",
    "    control_values_opt.append(m)\n",
    "    func_values_opt.append(j)\n",
    "    gradient_values_opt.append(dj)\n",
    "    print(\"control {:}  functional  {:.8e}  gradient {:}\".format(m, j, dj))\n",
    "\n",
    "opt_parameters = {\n",
    "    'maxiter': 5,\n",
    "    'disp': True,\n",
    "#     'gtol': 1.0e-02,\n",
    "    'gtol': 1.0,\n",
    "}\n",
    "\n",
    "tape = get_working_tape()\n",
    "tape.clear_tape()\n",
    "m = Function(R).assign(10.0)\n",
    "\n",
    "# Evaluate the reduced functional\n",
    "J = reduced_functional(m, debug=False, derivative_cb_post=derivative_cb_post)\n",
    "\n",
    "m_opt = minimize(J, method='BFGS', options=opt_parameters)\n",
    "print(\"Optimised control parameter = {:.4e}\".format(*m_opt.dat.data))"
   ]
  },
  {
   "cell_type": "markdown",
   "metadata": {},
   "source": [
    "Let's view the progress of the optimisation routine superimposed on the sample of the parameter space explored previously."
   ]
  },
  {
   "cell_type": "code",
   "execution_count": 82,
   "metadata": {},
   "outputs": [
    {
     "data": {
      "image/png": "[encoded data removed]",
      "text/plain": [
       "<Figure size 576x576 with 1 Axes>"
      ]
     },
     "metadata": {
      "needs_background": "light"
     },
     "output_type": "display_data"
    }
   ],
   "source": [
    "fig, axes = plt.subplots(figsize=(8, 8))\n",
    "\n",
    "axes.plot(control_values, func_values, '--x')\n",
    "ctrl_plot = [ctrl.dat.data[0] for ctrl in control_values_opt]\n",
    "gradient_plot = [gradient.dat.data[0] for gradient in gradient_values_opt]\n",
    "axes.plot(ctrl_plot, func_values_opt, 'o', color='r')\n",
    "\n",
    "delta_m = 0.25\n",
    "for m, f, g in zip(ctrl_plot, func_values_opt, gradient_plot):\n",
    "    x = np.array([m - delta_m, m + delta_m])\n",
    "    axes.plot(x, g*(x-m) + f, '-', color='g')\n",
    "\n",
    "axes.set_xlabel(\"Control values\");\n",
    "axes.set_ylabel(\"Functional values\");\n",
    "axes.set_xlim([4, 11]);\n",
    "# axes.set_ylim([scaling*6.45e+13, scaling*6.65e+13]);\n",
    "# axes.set_ylim([scaling*3.8e+12, scaling*4.2e+12]);"
   ]
  }
 ],
 "metadata": {
  "kernelspec": {
   "display_name": "Python 3",
   "language": "python",
   "name": "python3"
  },
  "language_info": {
   "codemirror_mode": {
    "name": "ipython",
    "version": 3
   },
   "file_extension": ".py",
   "mimetype": "text/x-python",
   "name": "python",
   "nbconvert_exporter": "python",
   "pygments_lexer": "ipython3",
   "version": "3.6.8"
  }
 },
 "nbformat": 4,
 "nbformat_minor": 4
}
