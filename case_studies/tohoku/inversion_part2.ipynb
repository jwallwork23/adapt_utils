{
 "cells": [
  {
   "cell_type": "markdown",
   "metadata": {},
   "source": [
    "# Tohoku tsunami inversion part II:\n",
    "### Inversion for an initial surface defined by a single radial basis function"
   ]
  },
  {
   "cell_type": "code",
   "execution_count": 1,
   "metadata": {},
   "outputs": [],
   "source": [
    "%matplotlib inline\n",
    "import matplotlib\n",
    "import matplotlib.pyplot as plt"
   ]
  },
  {
   "cell_type": "code",
   "execution_count": 2,
   "metadata": {},
   "outputs": [],
   "source": [
    "from thetis import *\n",
    "from firedrake_adjoint import *"
   ]
  },
  {
   "cell_type": "code",
   "execution_count": 3,
   "metadata": {},
   "outputs": [],
   "source": [
    "from adapt_utils.case_studies.tohoku.options import TohokuOptions\n",
    "from adapt_utils.norms import total_variation"
   ]
  },
  {
   "cell_type": "markdown",
   "metadata": {},
   "source": [
    "Misc plotting routines"
   ]
  },
  {
   "cell_type": "code",
   "execution_count": 4,
   "metadata": {
    "code_folding": [
     0
    ]
   },
   "outputs": [],
   "source": [
    "def plot_mesh(mesh2d, axes=None):\n",
    "    if axes is None:\n",
    "        fig, axes = plt.subplots(figsize=(6, 6))\n",
    "    triplot(mesh2d, axes=axes);\n",
    "    axes.axis(False);\n",
    "    axes.legend(loc='upper left');\n",
    "    return axes"
   ]
  },
  {
   "cell_type": "code",
   "execution_count": 5,
   "metadata": {
    "code_folding": [
     0
    ]
   },
   "outputs": [],
   "source": [
    "def plot_field(field, figure=None, axes=None, height=5, **kwargs):\n",
    "    CG1 = field.ufl_element().degree() == 1 and field.ufl_element().family() == 'Lagrange'\n",
    "    fs_constructor = FunctionSpace if len(field.function_space().shape) == 0 else VectorFunctionSpace\n",
    "    out = field if CG1 else interpolate(field, fs_constructor(field.function_space().mesh(), \"CG\", 1))\n",
    "    \n",
    "    if figure is None and axes is None:\n",
    "        figure, axes = plt.subplots(figsize=(height*1.2, height))\n",
    "    if axes is None:\n",
    "        axes = plt.gca()\n",
    "    figure.colorbar(tricontourf(out, levels=50, axes=axes, cmap='coolwarm', **kwargs), ax=axes);\n",
    "    axes.axis(False);\n",
    "    axes.set_title(field.dat.name);\n",
    "    return axes"
   ]
  },
  {
   "cell_type": "code",
   "execution_count": 6,
   "metadata": {
    "code_folding": [
     0
    ]
   },
   "outputs": [],
   "source": [
    "def plot_fields(*fields, height=5):\n",
    "    nfields = len(fields)\n",
    "    fig, axes = plt.subplots(ncols=nfields, figsize=(height*nfields*1.2, height))\n",
    "    for i, field in enumerate(fields):\n",
    "        plot_field(field, fig, axes[i])\n",
    "    return axes"
   ]
  },
  {
   "cell_type": "markdown",
   "metadata": {},
   "source": [
    "Function for extracting timeseries data from file"
   ]
  },
  {
   "cell_type": "code",
   "execution_count": 7,
   "metadata": {},
   "outputs": [],
   "source": [
    "def read_and_sample(g, sample=1):\n",
    "    \"\"\"Copied from `resources/gauges/plot_gauge_data.ipynb`\"\"\"\n",
    "    time_prev = 0.0\n",
    "    num_lines = sum(1 for line in open('resources/gauges/{:s}.dat'.format(g), 'r'))\n",
    "    t = []\n",
    "    d = []\n",
    "    with open('resources/gauges/{:s}.dat'.format(g), 'r') as f:\n",
    "        running = 0\n",
    "        for i in range(num_lines):\n",
    "            line = f.readline()\n",
    "            time, dat = line.split()\n",
    "            time = float(time)\n",
    "            dat = float(dat)\n",
    "            running += dat\n",
    "            if i % sample == 0 and i > 0:\n",
    "                if time < time_prev:\n",
    "                    break  # FIXME\n",
    "                t.append(0.5*(time + time_prev))\n",
    "                d.append(running/sample)\n",
    "                running = 0\n",
    "                time_prev = time\n",
    "    return t, d"
   ]
  },
  {
   "cell_type": "markdown",
   "metadata": {},
   "source": [
    "Define a mesh and a Taylor-Hood space upon it.\n",
    "\n",
    "For quick results, let's just use the coarsest mesh of the hierarchy."
   ]
  },
  {
   "cell_type": "code",
   "execution_count": 8,
   "metadata": {},
   "outputs": [],
   "source": [
    "level = 0\n",
    "# level = 1\n",
    "# level = 2\n",
    "op = TohokuOptions(level=level)\n",
    "mesh = op.default_mesh\n",
    "P2_vec = VectorFunctionSpace(mesh, \"CG\", 2)\n",
    "P1 = FunctionSpace(mesh, \"CG\", 1)\n",
    "TaylorHood = P2_vec*P1\n",
    "# plot_mesh(mesh);"
   ]
  },
  {
   "cell_type": "markdown",
   "metadata": {},
   "source": [
    "Define fields for forward model, e.g. bathymetry from GEBCO."
   ]
  },
  {
   "cell_type": "code",
   "execution_count": 9,
   "metadata": {},
   "outputs": [],
   "source": [
    "b = Function(P1, name=\"Bathymetry\").assign(op.set_bathymetry(P1))\n",
    "g = Constant(op.g)\n",
    "f = Function(P1, name=\"Coriolis parameter\").assign(op.set_coriolis(P1))"
   ]
  },
  {
   "cell_type": "code",
   "execution_count": 10,
   "metadata": {},
   "outputs": [],
   "source": [
    "# plot_fields(eta_init, b, f);"
   ]
  },
  {
   "cell_type": "markdown",
   "metadata": {},
   "source": [
    "Hand-coded Crank-Nicolson / Taylor-Hood solver for shallow water equations linearised about lake at rest:\n",
    "\n",
    "$$\n",
    "    \\frac{\\partial\\mathbf u}{\\partial t}+g\\nabla\\eta+f\\widehat{\\mathbf z}\\times\\mathbf u=\\boldsymbol0,\\qquad\n",
    "    \\frac{\\partial\\eta}{\\partial t}+\\nabla\\cdot(b\\mathbf u)=0\n",
    "$$\n",
    "equipped with boundary conditions\n",
    "$$\n",
    "    \\mathbf u\\cdot\\widehat{\\mathbf n}|_{\\partial\\Omega}\\equiv0\\qquad\n",
    "    \\eta|_{\\Gamma_{100}}\\equiv0.\n",
    "$$"
   ]
  },
  {
   "cell_type": "code",
   "execution_count": 11,
   "metadata": {},
   "outputs": [],
   "source": [
    "dtc = Constant(op.dt)\n",
    "\n",
    "u, eta = TrialFunctions(TaylorHood)\n",
    "z, zeta = TestFunctions(TaylorHood)\n",
    "\n",
    "q_ = Function(TaylorHood)\n",
    "u_, eta_ = q_.split()\n",
    "\n",
    "a = inner(z, u)*dx + inner(zeta, eta)*dx\n",
    "L = inner(z, u_)*dx + inner(zeta, eta_)*dx\n",
    "\n",
    "def G(uv, elev):\n",
    "    F = g*inner(z, grad(elev))*dx\n",
    "    F += f*inner(z, as_vector((-uv[1], uv[0])))*dx\n",
    "    F += -inner(grad(zeta), b*uv)*dx\n",
    "    return F\n",
    "\n",
    "a += 0.5*dtc*G(u, eta)\n",
    "L += -0.5*dtc*G(u_, eta_)\n",
    "\n",
    "q = Function(TaylorHood)\n",
    "u, eta = q.split()\n",
    "eta.dat.name = \"Final surface\"\n",
    "\n",
    "bc = DirichletBC(TaylorHood.sub(1), 0, 100)\n",
    "\n",
    "params = {\n",
    "    \"snes_type\": \"ksponly\",\n",
    "    \"ksp_type\": \"gmres\",\n",
    "    \"pc_type\": \"fieldsplit\",\n",
    "    \"pc_fieldsplit_type\": \"multiplicative\",\n",
    "}\n",
    "\n",
    "problem = LinearVariationalProblem(a, L, q, bcs=bc)\n",
    "solver = LinearVariationalSolver(problem, solver_parameters=params)"
   ]
  },
  {
   "cell_type": "markdown",
   "metadata": {},
   "source": [
    "This time we define the initial condition using radial basis functions.\n",
    "\n",
    "For now, let's just use a one-dimensional basis."
   ]
  },
  {
   "cell_type": "code",
   "execution_count": 12,
   "metadata": {},
   "outputs": [
    {
     "data": {
      "image/png": "[encoded data removed]",
      "text/plain": [
       "<Figure size 432x360 with 2 Axes>"
      ]
     },
     "metadata": {
      "needs_background": "light"
     },
     "output_type": "display_data"
    }
   ],
   "source": [
    "# This is the coefficient we will be tweaking\n",
    "# m = Constant(1.0)\n",
    "R = FunctionSpace(mesh, \"R\", 0)\n",
    "m = Function(R).assign(1.0)\n",
    "\n",
    "basis_function = Function(TaylorHood)\n",
    "psi, phi = basis_function.split()\n",
    "phi.interpolate(op.gaussian(mesh, custom_locs=[(0.7e+06, 4.2e+06, 96e+03), ]))\n",
    "phi.dat.name = \"Radial basis function\"\n",
    "\n",
    "plot_field(phi);"
   ]
  },
  {
   "cell_type": "code",
   "execution_count": 13,
   "metadata": {},
   "outputs": [
    {
     "data": {
      "text/plain": [
       "Coefficient(WithGeometry(MixedFunctionSpace(IndexedProxyFunctionSpace(<firedrake.mesh.MeshTopology object at 0x7fcc370a2be0>, VectorElement(FiniteElement('Lagrange', triangle, 2), dim=2), name=None, index=0, component=None), IndexedProxyFunctionSpace(<firedrake.mesh.MeshTopology object at 0x7fcc370a2be0>, FiniteElement('Lagrange', triangle, 1), name=None, index=1, component=None), name='None_None'), Mesh(VectorElement(FiniteElement('Lagrange', triangle, 1), dim=2), 1)), 64)"
      ]
     },
     "execution_count": 13,
     "metadata": {},
     "output_type": "execute_result"
    }
   ],
   "source": [
    "q_.project(m*basis_function)"
   ]
  },
  {
   "cell_type": "markdown",
   "metadata": {},
   "source": [
    "Consider a time-dependent quantity of interest (QoI) which measures the goodness-of-fit at gauges\n",
    "\n",
    "$$\n",
    "J(\\mathbf u,\\eta)=\\sum_{t\\in\\mathcal T}\\sum_{g\\in\\mathcal G}\\big|\\:\\eta(\\mathbf x_g,t)-\\eta_g(t)\\:\\big|,\n",
    "$$\n",
    "\n",
    "where $\\mathcal T\\subset(0, T]$ is a finite set of time levels and $\\mathcal G\\subset\\Omega$ is a finite set of gauge coordinates.\n",
    "For a given gauge $g$, $\\eta_g(t)$ is the observed free surface height at time $t$ and $\\mathbf x_g$ provides the UTM coordinates.\n",
    "\n",
    "In order to evaluate such a QoI we first need to be able to represent the elevation at each gauge in $\\mathcal H^1(\\Omega)$.\n",
    "Our approach is to use indicator functions of as narrow a radius as we can get away with."
   ]
  },
  {
   "cell_type": "code",
   "execution_count": 14,
   "metadata": {},
   "outputs": [],
   "source": [
    "gauges = list(op.gauges.keys())\n",
    "radius = 20.0e+03*pow(0.5, level)  # The finer the mesh, the more precise the indicator region\n",
    "P0 = FunctionSpace(mesh, \"DG\", 0)\n",
    "for gauge in gauges:\n",
    "    x, y = op.gauges[gauge][\"coords\"]\n",
    "    op.gauges[gauge]['indicator'] = interpolate(op.ball(mesh, custom_locs=[(x, y, radius), ]), P0)"
   ]
  },
  {
   "cell_type": "markdown",
   "metadata": {},
   "source": [
    "Next we need timeseries data at the gauges. (See notebook `resources/gauges/plot_gauge_data.ipynb`.)\n",
    "\n",
    "__Notes__\n",
    "  * We have done some averaging over samples in order to reduce noise.\n",
    "  * The GPS gauges 801-806 contain `NaN`s."
   ]
  },
  {
   "cell_type": "code",
   "execution_count": 15,
   "metadata": {},
   "outputs": [],
   "source": [
    "for gauge in gauges:\n",
    "    sample = 60 if gauge[0] == 'P' else 12\n",
    "    op.gauges[gauge]['times'], op.gauges[gauge]['data'] = read_and_sample(gauge, sample=sample)\n",
    "    \n",
    "times = np.array(op.gauges['P02']['times'])\n",
    "n = len(times)\n",
    "for gauge in op.gps_gauges:\n",
    "    op.gauges[gauge]['data'] = op.gauges[gauge]['data'][:-1]\n",
    "for gauge in op.gauges:\n",
    "    assert len(op.gauges[gauge]['data']) == n\n",
    "    \n",
    "for gauge in gauges:\n",
    "    for i in range(n):\n",
    "        if not np.isnan(op.gauges[gauge]['data'][i]):\n",
    "            op.gauges[gauge]['data'] = np.array(op.gauges[gauge]['data']) - op.gauges[gauge]['data'][i]\n",
    "            break"
   ]
  },
  {
   "cell_type": "markdown",
   "metadata": {},
   "source": [
    "Now run the forward model, time integrating the QoI as time progresses."
   ]
  },
  {
   "cell_type": "code",
   "execution_count": 16,
   "metadata": {},
   "outputs": [
    {
     "name": "stdout",
     "output_type": "stream",
     "text": [
      "observation  0 (t = 30.00)\n",
      "observation  1 (t = 90.00)\n",
      "observation  2 (t = 150.00)\n",
      "observation  3 (t = 210.00)\n",
      "observation  4 (t = 270.00)\n",
      "observation  5 (t = 330.00)\n",
      "observation  6 (t = 390.00)\n",
      "observation  7 (t = 450.00)\n",
      "observation  8 (t = 510.00)\n",
      "observation  9 (t = 570.00)\n",
      "observation 10 (t = 630.00)\n",
      "observation 11 (t = 690.00)\n",
      "observation 12 (t = 750.00)\n",
      "observation 13 (t = 810.00)\n",
      "observation 14 (t = 870.00)\n",
      "observation 15 (t = 930.00)\n",
      "observation 16 (t = 990.00)\n",
      "observation 17 (t = 1050.00)\n",
      "observation 18 (t = 1110.00)\n",
      "observation 19 (t = 1170.00)\n",
      "observation 20 (t = 1230.00)\n",
      "observation 21 (t = 1290.00)\n",
      "observation 22 (t = 1350.00)\n",
      "observation 23 (t = 1410.00)\n",
      "Quantity of interest = 4.6868e+12\n"
     ]
    }
   ],
   "source": [
    "t = 0.0\n",
    "i = 0\n",
    "J = 0\n",
    "i_obs = 0\n",
    "# op.end_time = 3600.0\n",
    "op.end_time = 1440.0  # TODO: TEMPORARY\n",
    "t_obs = Constant(op.end_time / len(times))\n",
    "with stop_annotating():\n",
    "    for gauge in gauges:\n",
    "        op.gauges[gauge]['diff'] = []\n",
    "        op.gauges[gauge]['timeseries'] = []\n",
    "        op.gauges[gauge]['diff_smooth'] = []\n",
    "        op.gauges[gauge]['init'] = None\n",
    "        op.gauges[gauge]['area'] = assemble(op.gauges[gauge]['indicator']*dx)\n",
    "while t < op.end_time:\n",
    "    solver.solve()\n",
    "    \n",
    "    # Time integrate QoI\n",
    "    #   NOTE: The quadrature scheme matching Crank-Nicolson is the trapezium rule\n",
    "    if np.allclose(t, times[i_obs]):\n",
    "        print(\"observation {:2d} (t = {:.2f})\".format(i_obs, t))\n",
    "        weight = 1.0\n",
    "        if np.allclose(t, 0.0) or t >= op.end_time - 0.5*op.dt:\n",
    "            weight = 0.5\n",
    "        u, eta = q.split()\n",
    "        for gauge in op.gauges:\n",
    "            eta_discrete = eta.at(op.gauges[gauge][\"coords\"])\n",
    "            if op.gauges[gauge]['init'] is None:\n",
    "                op.gauges[gauge]['init'] = eta_discrete\n",
    "            eta_discrete -= op.gauges[gauge]['init']\n",
    "            op.gauges[gauge]['timeseries'].append(eta_discrete)\n",
    "            eta_obs = op.gauges[gauge]['data'][i_obs]\n",
    "            if not np.isnan(eta_obs):\n",
    "                \n",
    "                # Discrete form\n",
    "                diff = abs(eta_discrete - eta_obs)\n",
    "                op.gauges[gauge]['diff'].append(diff)\n",
    "#                 J += weight*t_obs*diff\n",
    "\n",
    "                # Continuous form\n",
    "                diff = op.gauges[gauge]['indicator']*abs(eta - eta_obs)\n",
    "                J_inc = assemble(weight*t_obs*diff*dx)\n",
    "                J += J_inc\n",
    "                with stop_annotating():\n",
    "                    op.gauges[gauge]['diff_smooth'].append(assemble(diff*dx)/op.gauges[gauge]['area'])\n",
    "            else:\n",
    "                op.gauges[gauge]['diff'].append(np.nan)\n",
    "                op.gauges[gauge]['diff_smooth'].append(np.nan)\n",
    "        i_obs += 1\n",
    "        \n",
    "        \n",
    "    q_.assign(q)\n",
    "    t += op.dt\n",
    "    i += 1\n",
    "    if i_obs == len(times):\n",
    "        break\n",
    "print(\"Quantity of interest = {:.4e}\".format(J))"
   ]
  },
  {
   "cell_type": "markdown",
   "metadata": {},
   "source": [
    "Compare initial and final solution"
   ]
  },
  {
   "cell_type": "code",
   "execution_count": 17,
   "metadata": {},
   "outputs": [
    {
     "data": {
      "image/png": "[encoded data removed]",
      "text/plain": [
       "<Figure size 1036.8x432 with 4 Axes>"
      ]
     },
     "metadata": {
      "needs_background": "light"
     },
     "output_type": "display_data"
    }
   ],
   "source": [
    "axes = plot_fields(phi, eta, height=6)"
   ]
  },
  {
   "cell_type": "markdown",
   "metadata": {},
   "source": [
    "Form the reduced functional, passing in some callbacks to print progress of the optimisation routine"
   ]
  },
  {
   "cell_type": "code",
   "execution_count": 18,
   "metadata": {},
   "outputs": [],
   "source": [
    "def derivative_cb_post(j, dj, m):\n",
    "    print(\"functional value {:.8e}  derivatives {:.8e}  values {:.8e}\".format(j, norm(dj), norm(m)))\n",
    "\n",
    "Jhat = ReducedFunctional(J, Control(m), derivative_cb_post=derivative_cb_post)"
   ]
  },
  {
   "cell_type": "markdown",
   "metadata": {},
   "source": [
    "Run the minimisation routine. We just use the dolfin-adjoint default, L-BFGS."
   ]
  },
  {
   "cell_type": "code",
   "execution_count": 19,
   "metadata": {},
   "outputs": [
    {
     "name": "stdout",
     "output_type": "stream",
     "text": [
      "functional value 4.6868e+12  derivatives 3.6270e+17  values 9.8335e+05\n",
      "functional value 4.3426e+12  derivatives 3.0060e+17  values 1.9667e+06\n",
      "functional value 4.0402e+12  derivatives 1.7978e+17  values 6.7265e+06\n",
      "functional value 3.8864e+12  derivatives 5.1333e+14  values 4.9451e+06\n",
      "functional value 3.8864e+12  derivatives 5.1333e+14  values 4.9502e+06\n",
      "functional value 3.8864e+12  derivatives 6.4853e+14  values 4.9705e+06\n",
      "functional value 3.8864e+12  derivatives 3.7812e+14  values 4.9534e+06\n"
     ]
    }
   ],
   "source": [
    "m_opt = minimize(Jhat, options={'ftol': 1.0e-04})"
   ]
  },
  {
   "cell_type": "code",
   "execution_count": 20,
   "metadata": {},
   "outputs": [
    {
     "name": "stdout",
     "output_type": "stream",
     "text": [
      "Initial choice of basis coefficient: 1.00000000e+00\n",
      "Optimised basis coefficient:         5.03731996e+00\n"
     ]
    }
   ],
   "source": [
    "print(\"Initial choice of basis coefficient: {:.8e}\".format(*m.dat.data))\n",
    "print(\"Optimised basis coefficient:         {:.8e}\".format(*m_opt.dat.data))"
   ]
  },
  {
   "cell_type": "markdown",
   "metadata": {},
   "source": [
    "Now that we've computed the optimised basis function, run the forward model again to see whether the timeseries match the data better."
   ]
  },
  {
   "cell_type": "code",
   "execution_count": 21,
   "metadata": {},
   "outputs": [
    {
     "name": "stdout",
     "output_type": "stream",
     "text": [
      "observation  0 (t = 30.00)\n",
      "observation  1 (t = 90.00)\n",
      "observation  2 (t = 150.00)\n",
      "observation  3 (t = 210.00)\n",
      "observation  4 (t = 270.00)\n",
      "observation  5 (t = 330.00)\n",
      "observation  6 (t = 390.00)\n",
      "observation  7 (t = 450.00)\n",
      "observation  8 (t = 510.00)\n",
      "observation  9 (t = 570.00)\n",
      "observation 10 (t = 630.00)\n",
      "observation 11 (t = 690.00)\n",
      "observation 12 (t = 750.00)\n",
      "observation 13 (t = 810.00)\n",
      "observation 14 (t = 870.00)\n",
      "observation 15 (t = 930.00)\n",
      "observation 16 (t = 990.00)\n",
      "observation 17 (t = 1050.00)\n",
      "observation 18 (t = 1110.00)\n",
      "observation 19 (t = 1170.00)\n",
      "observation 20 (t = 1230.00)\n",
      "observation 21 (t = 1290.00)\n",
      "observation 22 (t = 1350.00)\n",
      "observation 23 (t = 1410.00)\n",
      "Quantity of interest = 3.8864e+12\n"
     ]
    }
   ],
   "source": [
    "with stop_annotating():\n",
    "    u_.assign(0.0)\n",
    "    eta_.project(m_opt*phi)\n",
    "    t = 0.0\n",
    "    i = 0\n",
    "    J_opt = 0\n",
    "    i_obs = 0\n",
    "    for gauge in gauges:\n",
    "        op.gauges[gauge]['diff_opt'] = []\n",
    "        op.gauges[gauge]['timeseries'] = []\n",
    "        op.gauges[gauge]['diff_smooth_opt'] = []\n",
    "        op.gauges[gauge]['init'] = None\n",
    "        op.gauges[gauge]['area'] = assemble(op.gauges[gauge]['indicator']*dx)\n",
    "    while t < op.end_time:\n",
    "        solver.solve()\n",
    "\n",
    "        # Time integrate QoI\n",
    "        #   NOTE: The quadrature scheme matching Crank-Nicolson is the trapezium rule\n",
    "        if np.allclose(t, times[i_obs]):\n",
    "            print(\"observation {:2d} (t = {:.2f})\".format(i_obs, t))\n",
    "            weight = 1.0\n",
    "            if np.allclose(t, 0.0) or t >= op.end_time - 0.5*op.dt:\n",
    "                weight = 0.5\n",
    "            u, eta = q.split()\n",
    "            for gauge in op.gauges:\n",
    "                eta_discrete = eta.at(op.gauges[gauge][\"coords\"])\n",
    "                if op.gauges[gauge]['init'] is None:\n",
    "                    op.gauges[gauge]['init'] = eta_discrete\n",
    "                eta_discrete -= op.gauges[gauge]['init']\n",
    "                op.gauges[gauge]['timeseries'].append(eta_discrete)\n",
    "                eta_obs = op.gauges[gauge]['data'][i_obs]\n",
    "                if not np.isnan(eta_obs):\n",
    "\n",
    "                    # Discrete form\n",
    "                    diff = abs(eta_discrete - eta_obs)\n",
    "                    op.gauges[gauge]['diff_opt'].append(diff)\n",
    "\n",
    "                    # Continuous form\n",
    "                    diff = op.gauges[gauge]['indicator']*abs(eta - eta_obs)\n",
    "                    J_inc = assemble(weight*t_obs*diff*dx)\n",
    "                    J_opt += J_inc\n",
    "                    op.gauges[gauge]['diff_smooth_opt'].append(assemble(diff*dx)/op.gauges[gauge]['area'])\n",
    "                else:\n",
    "                    op.gauges[gauge]['diff_opt'].append(np.nan)\n",
    "                    op.gauges[gauge]['diff_smooth_opt'].append(np.nan)\n",
    "            i_obs += 1\n",
    "\n",
    "\n",
    "        q_.assign(q)\n",
    "        t += op.dt\n",
    "        i += 1\n",
    "        if i_obs == len(times):\n",
    "            break\n",
    "    print(\"Quantity of interest = {:.4e}\".format(J_opt))"
   ]
  },
  {
   "cell_type": "code",
   "execution_count": 25,
   "metadata": {},
   "outputs": [
    {
     "name": "stdout",
     "output_type": "stream",
     "text": [
      "Previous QoI value = 4.6868e+12\n"
     ]
    }
   ],
   "source": [
    "print(\"Previous QoI value = {:.4e}\".format(J))"
   ]
  },
  {
   "cell_type": "markdown",
   "metadata": {},
   "source": [
    "Observe that the QoI value has dropped by 17%."
   ]
  },
  {
   "cell_type": "code",
   "execution_count": 22,
   "metadata": {},
   "outputs": [
    {
     "data": {
      "image/png": "[encoded data removed]",
      "text/plain": [
       "<Figure size 1036.8x432 with 4 Axes>"
      ]
     },
     "metadata": {
      "needs_background": "light"
     },
     "output_type": "display_data"
    }
   ],
   "source": [
    "axes = plot_fields(phi, eta, height=6)"
   ]
  },
  {
   "cell_type": "markdown",
   "metadata": {},
   "source": [
    "Let's see how well the timeseries approximate the data at each gauge. Note that since the QoI is formed of a summation, we shouldn't expect the accuracy of every timeseries to improve and indeed some will likely be worsened."
   ]
  },
  {
   "cell_type": "code",
   "execution_count": 27,
   "metadata": {},
   "outputs": [
    {
     "name": "stdout",
     "output_type": "stream",
     "text": [
      "Discrete\n",
      "total variation for gauge P02: before 1.3850e+01  after 1.3624e+01\n",
      "total variation for gauge P06: before 1.0486e+01  after 1.1326e+01\n",
      "total variation for gauge 801: before 2.4741e+00  after 1.2543e+00\n",
      "total variation for gauge 802: before 3.5396e+00  after 3.3812e+00\n",
      "total variation for gauge 803: before 3.0795e+00  after 1.4968e+00\n",
      "total variation for gauge 804: before 2.0915e+00  after 2.5430e+00\n",
      "total variation for gauge 806: before 1.4685e+00  after 1.3167e+00\n",
      "\n",
      "Continuous\n",
      "total variation for gauge P02: before 1.3689e+01  after 1.3945e+01\n",
      "total variation for gauge P06: before 1.0517e+01  after 1.1045e+01\n",
      "total variation for gauge 801: before 2.7101e+00  after 1.4733e+00\n",
      "total variation for gauge 802: before 3.5809e+00  after 2.6431e+00\n",
      "total variation for gauge 803: before 3.2331e+00  after 2.1320e+00\n",
      "total variation for gauge 804: before 1.9972e+00  after 1.5262e+00\n",
      "total variation for gauge 806: before 1.6143e+00  after 1.5026e+00\n"
     ]
    }
   ],
   "source": [
    "print(\"Continuous\")\n",
    "for gauge in gauges:\n",
    "    tv = total_variation(op.gauges[gauge]['diff_smooth'])\n",
    "    tv_opt = total_variation(op.gauges[gauge]['diff_smooth_opt'])\n",
    "    print(\"total variation for gauge {:s}: before {:.4e}  after {:.4e}\".format(gauge, tv, tv_opt))\n",
    "    \n",
    "print(\"\\nDiscrete\")\n",
    "for gauge in gauges:\n",
    "    tv = total_variation(op.gauges[gauge]['diff'])\n",
    "    tv_opt = total_variation(op.gauges[gauge]['diff_opt'])\n",
    "    print(\"total variation for gauge {:s}: before {:.4e}  after {:.4e}\".format(gauge, tv, tv_opt))"
   ]
  }
 ],
 "metadata": {
  "kernelspec": {
   "display_name": "Python 3",
   "language": "python",
   "name": "python3"
  },
  "language_info": {
   "codemirror_mode": {
    "name": "ipython",
    "version": 3
   },
   "file_extension": ".py",
   "mimetype": "text/x-python",
   "name": "python",
   "nbconvert_exporter": "python",
   "pygments_lexer": "ipython3",
   "version": "3.6.8"
  }
 },
 "nbformat": 4,
 "nbformat_minor": 4
}
