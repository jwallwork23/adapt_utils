{
 "cells": [
  {
   "cell_type": "markdown",
   "metadata": {},
   "source": [
    "# Tohoku tsunami inversion part V:\n",
    "### Inversion for full initial condition with higher resolution\n",
    "\n",
    "Let's try a slightly different QoI:\n",
    "\n",
    "$$\n",
    "J(\\mathbf u,\\eta)=\\frac12\\sum_{t\\in\\mathcal T}\\sum_{g\\in\\mathcal G}\\big(\\:\\eta(\\mathbf x_g,t)-\\eta_g(t)\\:\\big)^2.\n",
    "$$\n",
    "\n",
    "Again, $\\mathcal T\\subset(0, T]$ is a finite set of time levels and $\\mathcal G\\subset\\Omega$ is a finite set of gauge coordinates.\n",
    "For a given gauge $g$, $\\eta_g(t)$ is the observed free surface height at time $t$ and $\\mathbf x_g$ provides the UTM coordinates.\n",
    "Whilst we have removed the potentially troublesome modulus operator, we have introduced nonlinearity into the QoI, meaning the adjoint equation RHS now depends on the forward (elevation) solution.\n",
    "\n",
    "To stay in $\\mathcal H^1(\\Omega)$ we use the continuous formulation\n",
    "\n",
    "$$\n",
    "J(\\mathbf u,\\eta)=\\frac12\\sum_{t\\in\\mathcal T}\\sum_{g\\in\\mathcal G}\\int_\\Omega\\mathbb1_g\\big(\\:\\eta(x,t)-\\eta_g(t)\\:\\big)^2\\;\\mathrm dx.\n",
    "$$\n",
    "\n",
    "__Extension__\n",
    "\n",
    "Suppose we follow __[Saito et al. 2011]__ in expressing the initial surface in terms of $N$ radial basis functions,\n",
    "\n",
    "$$\n",
    "\\eta_0(\\mathbf x) = \\sum_{k=1}^N m_k G_k.\n",
    "$$\n",
    "\n",
    "Then this provides a natural regularisation for the QoI:\n",
    "\n",
    "$$\n",
    "J(\\mathbf u,\\eta)=\\frac12\\sum_{t\\in\\mathcal T}\\sum_{g\\in\\mathcal G}\\int_\\Omega\\mathbb1_g\\big(\\:\\eta(x,t)-\\eta_g(t)\\:\\big)^2\\;\\mathrm dx\n",
    "+\\frac\\sigma2\\sum_{k=1}^N m_k^2.\n",
    "$$"
   ]
  },
  {
   "cell_type": "code",
   "execution_count": 1,
   "metadata": {},
   "outputs": [],
   "source": [
    "%matplotlib inline"
   ]
  },
  {
   "cell_type": "code",
   "execution_count": 2,
   "metadata": {},
   "outputs": [],
   "source": [
    "import matplotlib\n",
    "import matplotlib.pyplot as plt"
   ]
  },
  {
   "cell_type": "code",
   "execution_count": 3,
   "metadata": {},
   "outputs": [],
   "source": [
    "from thetis import *\n",
    "from firedrake_adjoint import *\n",
    "from firedrake.adjoint.blocks import SolveVarFormBlock"
   ]
  },
  {
   "cell_type": "code",
   "execution_count": 4,
   "metadata": {},
   "outputs": [],
   "source": [
    "from adapt_utils.case_studies.tohoku.options import TohokuOptions\n",
    "from adapt_utils.norms import total_variation\n",
    "from adapt_utils.swe.tsunami.conversion import from_latlon\n",
    "from adapt_utils.misc import box, ellipse #, bump"
   ]
  },
  {
   "cell_type": "markdown",
   "metadata": {},
   "source": [
    "Misc plotting routines"
   ]
  },
  {
   "cell_type": "code",
   "execution_count": 5,
   "metadata": {
    "code_folding": [
     0
    ]
   },
   "outputs": [],
   "source": [
    "def plot_mesh(mesh2d, axes=None):\n",
    "    if axes is None:\n",
    "        fig, axes = plt.subplots(figsize=(6, 6))\n",
    "    triplot(mesh2d, axes=axes);\n",
    "    axes.axis(False);\n",
    "    axes.legend(loc='upper left');\n",
    "    return axes"
   ]
  },
  {
   "cell_type": "code",
   "execution_count": 6,
   "metadata": {
    "code_folding": [
     0
    ]
   },
   "outputs": [],
   "source": [
    "def plot_field(field, figure=None, axes=None, height=5, **kwargs):\n",
    "    CG1 = field.ufl_element().degree() == 1 and field.ufl_element().family() == 'Lagrange'\n",
    "    fs_constructor = FunctionSpace if len(field.function_space().shape) == 0 else VectorFunctionSpace\n",
    "    out = field if CG1 else interpolate(field, fs_constructor(field.function_space().mesh(), \"CG\", 1))\n",
    "    \n",
    "    if figure is None and axes is None:\n",
    "        figure, axes = plt.subplots(figsize=(height*1.2, height))\n",
    "    if axes is None:\n",
    "        axes = plt.gca()\n",
    "    figure.colorbar(tricontourf(out, levels=50, axes=axes, cmap='coolwarm', **kwargs), ax=axes);\n",
    "    axes.axis(False);\n",
    "    axes.set_title(field.dat.name);\n",
    "    return axes"
   ]
  },
  {
   "cell_type": "code",
   "execution_count": 7,
   "metadata": {
    "code_folding": [
     0
    ]
   },
   "outputs": [],
   "source": [
    "def plot_fields(*fields, height=5):\n",
    "    nfields = len(fields)\n",
    "    fig, axes = plt.subplots(ncols=nfields, figsize=(height*nfields*1.2, height))\n",
    "    for i, field in enumerate(fields):\n",
    "        plot_field(field, fig, axes[i])\n",
    "    return axes"
   ]
  },
  {
   "cell_type": "markdown",
   "metadata": {},
   "source": [
    "Function for extracting timeseries data from file"
   ]
  },
  {
   "cell_type": "code",
   "execution_count": 8,
   "metadata": {},
   "outputs": [],
   "source": [
    "def read_and_sample(g, sample=1):\n",
    "    \"\"\"Copied from `resources/gauges/plot_gauge_data.ipynb`\"\"\"\n",
    "    time_prev = 0.0\n",
    "    num_lines = sum(1 for line in open('resources/gauges/{:s}.dat'.format(g), 'r'))\n",
    "    t = []\n",
    "    d = []\n",
    "    with open('resources/gauges/{:s}.dat'.format(g), 'r') as f:\n",
    "        running = 0\n",
    "        for i in range(num_lines):\n",
    "            line = f.readline()\n",
    "            time, dat = line.split()\n",
    "            time = float(time)\n",
    "            dat = float(dat)\n",
    "            running += dat\n",
    "            if i % sample == 0 and i > 0:\n",
    "                if time < time_prev:\n",
    "                    break  # FIXME\n",
    "                t.append(0.5*(time + time_prev))\n",
    "                d.append(running/sample)\n",
    "                running = 0\n",
    "                time_prev = time\n",
    "    return t, d"
   ]
  },
  {
   "cell_type": "markdown",
   "metadata": {},
   "source": [
    "Define a mesh and a Taylor-Hood space upon it.\n",
    "\n",
    "For quick results, let's just use the coarsest mesh of the hierarchy."
   ]
  },
  {
   "cell_type": "code",
   "execution_count": 9,
   "metadata": {},
   "outputs": [],
   "source": [
    "# level = 0\n",
    "level = 1\n",
    "# level = 2\n",
    "op = TohokuOptions(level=level)\n",
    "mesh = op.default_mesh\n",
    "P2_vec = VectorFunctionSpace(mesh, \"CG\", 2)\n",
    "P1 = FunctionSpace(mesh, \"CG\", 1)\n",
    "TaylorHood = P2_vec*P1\n",
    "# plot_mesh(mesh);"
   ]
  },
  {
   "cell_type": "markdown",
   "metadata": {},
   "source": [
    "Define fields for forward model, e.g. bathymetry from GEBCO."
   ]
  },
  {
   "cell_type": "code",
   "execution_count": 10,
   "metadata": {},
   "outputs": [],
   "source": [
    "b = Function(P1, name=\"Bathymetry\").assign(op.set_bathymetry(P1))\n",
    "g = Constant(op.g)\n",
    "f = Function(P1, name=\"Coriolis parameter\").assign(op.set_coriolis(P1))\n",
    "# plot_fields(eta_init, b, f);"
   ]
  },
  {
   "cell_type": "markdown",
   "metadata": {},
   "source": [
    "Hand-coded Crank-Nicolson / Taylor-Hood solver for shallow water equations linearised about lake at rest:\n",
    "\n",
    "$$\n",
    "    \\frac{\\partial\\mathbf u}{\\partial t}+g\\nabla\\eta+f\\widehat{\\mathbf z}\\times\\mathbf u=\\boldsymbol0,\\qquad\n",
    "    \\frac{\\partial\\eta}{\\partial t}+\\nabla\\cdot(b\\mathbf u)=0\n",
    "$$\n",
    "equipped with boundary conditions\n",
    "$$\n",
    "    \\mathbf u\\cdot\\widehat{\\mathbf n}|_{\\partial\\Omega}\\equiv0\\qquad\n",
    "    \\eta|_{\\Gamma_{100}}\\equiv0.\n",
    "$$"
   ]
  },
  {
   "cell_type": "code",
   "execution_count": 11,
   "metadata": {},
   "outputs": [],
   "source": [
    "dtc = Constant(op.dt)\n",
    "\n",
    "u, eta = TrialFunctions(TaylorHood)\n",
    "z, zeta = TestFunctions(TaylorHood)\n",
    "\n",
    "q_ = Function(TaylorHood)\n",
    "u_, eta_ = q_.split()\n",
    "\n",
    "a = inner(z, u)*dx + inner(zeta, eta)*dx\n",
    "L = inner(z, u_)*dx + inner(zeta, eta_)*dx\n",
    "\n",
    "def G(uv, elev):\n",
    "    F = g*inner(z, grad(elev))*dx\n",
    "    F += f*inner(z, as_vector((-uv[1], uv[0])))*dx\n",
    "    F += -inner(grad(zeta), b*uv)*dx\n",
    "    return F\n",
    "\n",
    "a += 0.5*dtc*G(u, eta)\n",
    "L += -0.5*dtc*G(u_, eta_)\n",
    "\n",
    "q = Function(TaylorHood)\n",
    "u, eta = q.split()\n",
    "eta.dat.name = \"Final surface\"\n",
    "\n",
    "bc = DirichletBC(TaylorHood.sub(1), 0, 100)\n",
    "\n",
    "params = {\n",
    "    \"snes_type\": \"ksponly\",\n",
    "    \"ksp_type\": \"gmres\",\n",
    "    \"pc_type\": \"fieldsplit\",\n",
    "    \"pc_fieldsplit_type\": \"multiplicative\",\n",
    "}\n",
    "\n",
    "problem = LinearVariationalProblem(a, L, q, bcs=bc)\n",
    "solver = LinearVariationalSolver(problem, solver_parameters=params)"
   ]
  },
  {
   "cell_type": "markdown",
   "metadata": {},
   "source": [
    "We use the initial free surface computed using inversion in __[Saito et al. 2011]__ as an initial guess.\n",
    "\n",
    "Note that if we were to invert w.r.t. the full initial condition then we would very likely get non-zero initial velocity.\n",
    "As such, we filter the initial condition using a kernel function which zeroes out the velocity.\n",
    "\n",
    "In addition, we assume that the initial free surface is only non-zero in a rectangular region aligned with the fault centred at the earthquake epicentre, of widths 280km and 140km parallel and perpendicular to the fault, resp.\n",
    "This is accounted for in the free surface component of the kernel function."
   ]
  },
  {
   "cell_type": "code",
   "execution_count": 12,
   "metadata": {},
   "outputs": [],
   "source": [
    "initial_surface = Function(P1, name=\"Initial surface\")  # This is the field we will be optimising\n",
    "initial_surface.interpolate(op.set_initial_surface(P1));"
   ]
  },
  {
   "cell_type": "code",
   "execution_count": 13,
   "metadata": {},
   "outputs": [],
   "source": [
    "xy = tuple(from_latlon(38.0, 143.2, force_zone_number=54))\n",
    "radii = (140e+03, 280e+03)\n",
    "angle = pi/10\n",
    "loc = [xy + radii, ]\n",
    "\n",
    "kernel = Function(TaylorHood)\n",
    "kernel_u, kernel_eta = kernel.split()\n",
    "kernel_eta.interpolate(box(loc, mesh, rotation=angle));"
   ]
  },
  {
   "cell_type": "code",
   "execution_count": 14,
   "metadata": {},
   "outputs": [
    {
     "data": {
      "image/png": "[encoded data removed]",
      "text/plain": [
       "<Figure size 1555.2x432 with 6 Axes>"
      ]
     },
     "metadata": {
      "needs_background": "light"
     },
     "output_type": "display_data"
    }
   ],
   "source": [
    "q_.project(kernel*initial_surface)  # This acts to zero out the initial velocity\n",
    "u_, eta_ = q_.split()\n",
    "u_.dat.name = \"Initial velocity * kernel\"\n",
    "eta_.dat.name = \"Initial surface * kernel\"\n",
    "kernel_eta.dat.name = \"Kernel\"\n",
    "axes = plot_fields(initial_surface, kernel_eta, eta_, height=6);"
   ]
  },
  {
   "cell_type": "code",
   "execution_count": 15,
   "metadata": {},
   "outputs": [],
   "source": [
    "op.gauges.pop('21418')  # This pressure gauge isn't within the domain\n",
    "gauges = list(op.gauges.keys())\n",
    "radius = 20.0e+03*pow(0.5, level)  # The finer the mesh, the more precise the indicator region\n",
    "P0 = FunctionSpace(mesh, \"DG\", 0)\n",
    "for gauge in gauges:\n",
    "    x, y = op.gauges[gauge][\"coords\"]\n",
    "    op.gauges[gauge]['indicator'] = interpolate(ellipse([(x, y, radius), ], mesh), P0)"
   ]
  },
  {
   "cell_type": "markdown",
   "metadata": {},
   "source": [
    "Next we need timeseries data at the gauges. (See notebook `resources/gauges/plot_gauge_data.ipynb`.)\n",
    "\n",
    "__Notes__\n",
    "  * We have done some averaging over samples in order to reduce noise.\n",
    "  * The GPS gauges 801-806 contain `NaN`s."
   ]
  },
  {
   "cell_type": "code",
   "execution_count": 16,
   "metadata": {},
   "outputs": [],
   "source": [
    "for gauge in gauges:\n",
    "    sample = 60 if gauge[0] == 'P' else 12\n",
    "    op.gauges[gauge]['times'], op.gauges[gauge]['data'] = read_and_sample(gauge, sample=sample)\n",
    "    \n",
    "times = np.array(op.gauges['P02']['times'])\n",
    "n = len(times)\n",
    "for gauge in op.gps_gauges:\n",
    "    op.gauges[gauge]['data'] = op.gauges[gauge]['data'][:-1]\n",
    "for gauge in op.gauges:\n",
    "    assert len(op.gauges[gauge]['data']) == n\n",
    "    \n",
    "for gauge in gauges:\n",
    "    for i in range(n):\n",
    "        if not np.isnan(op.gauges[gauge]['data'][i]):\n",
    "            op.gauges[gauge]['data'] = np.array(op.gauges[gauge]['data']) - op.gauges[gauge]['data'][i]\n",
    "            break"
   ]
  },
  {
   "cell_type": "markdown",
   "metadata": {},
   "source": [
    "Now run the forward model, time integrating the QoI as time progresses."
   ]
  },
  {
   "cell_type": "code",
   "execution_count": 17,
   "metadata": {},
   "outputs": [
    {
     "name": "stdout",
     "output_type": "stream",
     "text": [
      "observation  0 (t = 30.00)\n",
      "observation  1 (t = 90.00)\n",
      "observation  2 (t = 150.00)\n",
      "observation  3 (t = 210.00)\n",
      "observation  4 (t = 270.00)\n",
      "observation  5 (t = 330.00)\n",
      "observation  6 (t = 390.00)\n",
      "observation  7 (t = 450.00)\n",
      "observation  8 (t = 510.00)\n",
      "observation  9 (t = 570.00)\n",
      "observation 10 (t = 630.00)\n",
      "observation 11 (t = 690.00)\n",
      "observation 12 (t = 750.00)\n",
      "observation 13 (t = 810.00)\n",
      "observation 14 (t = 870.00)\n",
      "observation 15 (t = 930.00)\n",
      "observation 16 (t = 990.00)\n",
      "observation 17 (t = 1050.00)\n",
      "observation 18 (t = 1110.00)\n",
      "observation 19 (t = 1170.00)\n",
      "observation 20 (t = 1230.00)\n",
      "observation 21 (t = 1290.00)\n",
      "observation 22 (t = 1350.00)\n",
      "observation 23 (t = 1410.00)\n",
      "Quantity of interest = 4.5418e+11\n"
     ]
    }
   ],
   "source": [
    "t = 0.0\n",
    "i = 0\n",
    "J = 0\n",
    "i_obs = 0\n",
    "# op.end_time = 3600.0\n",
    "op.end_time = 1440.0  # TODO: TEMPORARY\n",
    "t_obs = Constant(op.end_time / len(times))\n",
    "with stop_annotating():\n",
    "    for gauge in gauges:\n",
    "        op.gauges[gauge]['diff'] = []\n",
    "        op.gauges[gauge]['timeseries'] = []\n",
    "        op.gauges[gauge]['diff_smooth'] = []\n",
    "        op.gauges[gauge]['init'] = None\n",
    "        op.gauges[gauge]['area'] = assemble(op.gauges[gauge]['indicator']*dx)\n",
    "while t < op.end_time:\n",
    "    solver.solve()\n",
    "    \n",
    "    # Time integrate QoI\n",
    "    #   NOTE: The quadrature scheme matching Crank-Nicolson is the trapezium rule\n",
    "    if np.allclose(t, times[i_obs]):\n",
    "        print(\"observation {:2d} (t = {:.2f})\".format(i_obs, t))\n",
    "        weight = 1.0\n",
    "        if np.allclose(t, 0.0) or t >= op.end_time - 0.5*op.dt:\n",
    "            weight = 0.5\n",
    "        u, eta = q.split()\n",
    "        for gauge in op.gauges:\n",
    "            eta_discrete = eta.at(op.gauges[gauge][\"coords\"])\n",
    "            if op.gauges[gauge]['init'] is None:\n",
    "                op.gauges[gauge]['init'] = eta_discrete\n",
    "            eta_discrete -= op.gauges[gauge]['init']\n",
    "            op.gauges[gauge]['timeseries'].append(eta_discrete)\n",
    "            eta_obs = op.gauges[gauge]['data'][i_obs]\n",
    "            if not np.isnan(eta_obs):\n",
    "                \n",
    "                # Discrete form\n",
    "                diff = 0.5*(eta_discrete - eta_obs)**2\n",
    "                op.gauges[gauge]['diff'].append(diff)\n",
    "#                 J += weight*t_obs*diff\n",
    "\n",
    "                # Continuous form\n",
    "                diff = op.gauges[gauge]['indicator']*0.5*(eta - eta_obs)**2\n",
    "                J_inc = assemble(weight*t_obs*diff*dx)\n",
    "                J += J_inc\n",
    "                with stop_annotating():\n",
    "                    op.gauges[gauge]['diff_smooth'].append(assemble(diff*dx)/op.gauges[gauge]['area'])\n",
    "            else:\n",
    "                op.gauges[gauge]['diff'].append(np.nan)\n",
    "                op.gauges[gauge]['diff_smooth'].append(np.nan)\n",
    "        i_obs += 1\n",
    "        \n",
    "        \n",
    "    q_.assign(q)\n",
    "    t += op.dt\n",
    "    i += 1\n",
    "    if i_obs == len(times):\n",
    "        break\n",
    "print(\"Quantity of interest = {:.4e}\".format(J))"
   ]
  },
  {
   "cell_type": "markdown",
   "metadata": {},
   "source": [
    "Compare initial and final solution"
   ]
  },
  {
   "cell_type": "code",
   "execution_count": 18,
   "metadata": {},
   "outputs": [
    {
     "data": {
      "image/png": "[encoded data removed]",
      "text/plain": [
       "<Figure size 1036.8x432 with 4 Axes>"
      ]
     },
     "metadata": {
      "needs_background": "light"
     },
     "output_type": "display_data"
    }
   ],
   "source": [
    "initial_surface.dat.name = 'Initial surface'\n",
    "axes = plot_fields(initial_surface, eta, height=6)"
   ]
  },
  {
   "cell_type": "markdown",
   "metadata": {},
   "source": [
    "Form the reduced functional, passing in some callbacks to print progress of the optimisation routine"
   ]
  },
  {
   "cell_type": "code",
   "execution_count": 19,
   "metadata": {
    "code_folding": []
   },
   "outputs": [],
   "source": [
    "opt_kwargs = {\n",
    "    'ftol': 1.0e-03,\n",
    "}\n",
    "scale = 1.0  # TODO\n",
    "\n",
    "def derivative_cb_post(j, dj, ctrl):\n",
    "    print(\"functional value {:.8e}  derivatives {:.8e}  values {:.8e}\".format(j, norm(dj), norm(ctrl)))\n",
    "\n",
    "Jhat = ReducedFunctional(J, Control(initial_surface), derivative_cb_post=derivative_cb_post, scale=scale)"
   ]
  },
  {
   "cell_type": "markdown",
   "metadata": {},
   "source": [
    "Run the minimisation routine. We just use the dolfin-adjoint default, L-BFGS."
   ]
  },
  {
   "cell_type": "code",
   "execution_count": null,
   "metadata": {},
   "outputs": [
    {
     "name": "stdout",
     "output_type": "stream",
     "text": [
      "functional value 4.54175884e+11  derivatives 3.82393457e+14  values 7.87737457e+05\n",
      "functional value 4.23413828e+11  derivatives 3.52686586e+14  values 7.87409153e+05\n",
      "functional value 3.24112045e+11  derivatives 2.41358724e+14  values 7.87914763e+05\n",
      "functional value 1.80745790e+11  derivatives 1.04778659e+14  values 8.12053920e+05\n",
      "functional value 1.46691247e+11  derivatives 9.34704612e+13  values 8.27128734e+05\n",
      "functional value 1.21553545e+11  derivatives 6.43905137e+13  values 8.55904756e+05\n",
      "functional value 1.10727268e+11  derivatives 4.82646431e+13  values 8.64098108e+05\n",
      "functional value 1.03810276e+11  derivatives 3.47684126e+13  values 8.69549045e+05\n",
      "functional value 9.72851013e+10  derivatives 3.13507311e+13  values 8.83325773e+05\n",
      "functional value 9.36646663e+10  derivatives 4.96649656e+13  values 9.04820275e+05\n",
      "functional value 8.99895575e+10  derivatives 2.23215830e+13  values 9.10512519e+05\n",
      "functional value 8.74865609e+10  derivatives 1.91007690e+13  values 9.18460849e+05\n",
      "functional value 8.48803320e+10  derivatives 2.18979381e+13  values 9.31528806e+05\n",
      "functional value 8.08850315e+10  derivatives 3.45019733e+13  values 9.63589962e+05\n",
      "functional value 7.88029358e+10  derivatives 3.56629102e+13  values 1.00682597e+06\n",
      "functional value 7.66386486e+10  derivatives 1.05415325e+13  values 9.98777023e+05\n",
      "functional value 7.56440422e+10  derivatives 1.05425026e+13  values 9.99075130e+05\n",
      "functional value 7.46068714e+10  derivatives 1.26394343e+13  values 1.00706177e+06\n",
      "functional value 7.37622139e+10  derivatives 3.08671205e+13  values 1.02427190e+06\n",
      "functional value 7.25994146e+10  derivatives 8.43643413e+12  values 1.03738392e+06\n",
      "functional value 7.21656148e+10  derivatives 6.31975080e+12  values 1.04071653e+06\n",
      "functional value 7.15366148e+10  derivatives 1.22340628e+13  values 1.04705841e+06\n",
      "functional value 7.10791294e+10  derivatives 1.82766647e+13  values 1.05606010e+06\n",
      "functional value 7.05559557e+10  derivatives 9.00934227e+12  values 1.05602918e+06\n",
      "functional value 7.00103478e+10  derivatives 6.90592243e+12  values 1.05815191e+06\n",
      "functional value 6.96759382e+10  derivatives 7.62411235e+12  values 1.06050633e+06\n",
      "functional value 6.95942406e+10  derivatives 2.90434225e+13  values 1.06984948e+06\n",
      "functional value 6.87935350e+10  derivatives 5.72136206e+12  values 1.06983401e+06\n",
      "functional value 6.86216230e+10  derivatives 4.20049628e+12  values 1.07009022e+06\n",
      "functional value 6.83220726e+10  derivatives 6.51184339e+12  values 1.07190568e+06\n",
      "functional value 6.78840951e+10  derivatives 9.77850039e+12  values 1.07472023e+06\n",
      "functional value 6.77353765e+10  derivatives 2.05475042e+13  values 1.08500182e+06\n",
      "functional value 6.71422543e+10  derivatives 4.73834373e+12  values 1.08401132e+06\n",
      "functional value 6.69455655e+10  derivatives 4.56404193e+12  values 1.08422167e+06\n",
      "functional value 6.66236214e+10  derivatives 6.14584612e+12  values 1.08681123e+06\n"
     ]
    }
   ],
   "source": [
    "ic_opt = minimize(Jhat, options=opt_kwargs)"
   ]
  },
  {
   "cell_type": "code",
   "execution_count": null,
   "metadata": {},
   "outputs": [],
   "source": [
    "ic_opt.dat.name = \"Optimised elevation\"\n",
    "\n",
    "surface_diff = Function(P1, name=\"Difference in surface\")\n",
    "surface_diff.interpolate(abs(initial_surface - ic_opt))\n",
    "\n",
    "plot_fields(initial_surface, ic_opt, surface_diff);"
   ]
  },
  {
   "cell_type": "markdown",
   "metadata": {},
   "source": [
    "Now that we've computed the optimised basis function, run the forward model again to see whether the timeseries match the data better."
   ]
  },
  {
   "cell_type": "code",
   "execution_count": null,
   "metadata": {},
   "outputs": [],
   "source": [
    "with stop_annotating():\n",
    "    u_.assign(0.0)\n",
    "    eta_.assign(ic_opt)\n",
    "    t = 0.0\n",
    "    i = 0\n",
    "    J_opt = 0\n",
    "    i_obs = 0\n",
    "    for gauge in gauges:\n",
    "        op.gauges[gauge]['diff_opt'] = []\n",
    "        op.gauges[gauge]['timeseries_opt'] = []\n",
    "        op.gauges[gauge]['diff_smooth_opt'] = []\n",
    "        op.gauges[gauge]['init'] = None\n",
    "        op.gauges[gauge]['area'] = assemble(op.gauges[gauge]['indicator']*dx)\n",
    "    while t < op.end_time:\n",
    "        solver.solve()\n",
    "\n",
    "        # Time integrate QoI\n",
    "        #   NOTE: The quadrature scheme matching Crank-Nicolson is the trapezium rule\n",
    "        if np.allclose(t, times[i_obs]):\n",
    "            print(\"observation {:2d} (t = {:.2f})\".format(i_obs, t))\n",
    "            weight = 1.0\n",
    "            if np.allclose(t, 0.0) or t >= op.end_time - 0.5*op.dt:\n",
    "                weight = 0.5\n",
    "            u, eta = q.split()\n",
    "            for gauge in op.gauges:\n",
    "                eta_discrete = eta.at(op.gauges[gauge][\"coords\"])\n",
    "                if op.gauges[gauge]['init'] is None:\n",
    "                    op.gauges[gauge]['init'] = eta_discrete\n",
    "                eta_discrete -= op.gauges[gauge]['init']\n",
    "                op.gauges[gauge]['timeseries_opt'].append(eta_discrete)\n",
    "                eta_obs = op.gauges[gauge]['data'][i_obs]\n",
    "                if not np.isnan(eta_obs):\n",
    "\n",
    "                    # Discrete form\n",
    "                    diff = 0.5*(eta_discrete - eta_obs)**2\n",
    "                    op.gauges[gauge]['diff_opt'].append(diff)\n",
    "\n",
    "                    # Continuous form\n",
    "                    diff = op.gauges[gauge]['indicator']*0.5*(eta - eta_obs)**2\n",
    "                    J_inc = assemble(weight*t_obs*diff*dx)\n",
    "                    J_opt += J_inc\n",
    "                    op.gauges[gauge]['diff_smooth_opt'].append(assemble(diff*dx)/op.gauges[gauge]['area'])\n",
    "                else:\n",
    "                    op.gauges[gauge]['diff_opt'].append(np.nan)\n",
    "                    op.gauges[gauge]['diff_smooth_opt'].append(np.nan)\n",
    "            i_obs += 1\n",
    "\n",
    "\n",
    "        q_.assign(q)\n",
    "        t += op.dt\n",
    "        i += 1\n",
    "        if i_obs == len(times):\n",
    "            break\n",
    "    print(\"Quantity of interest = {:.4e}\".format(J_opt))"
   ]
  },
  {
   "cell_type": "code",
   "execution_count": null,
   "metadata": {},
   "outputs": [],
   "source": [
    "print(\"Reduction in QoI value by {:.1f}%\".format(100*(1-J_opt/J)))"
   ]
  },
  {
   "cell_type": "code",
   "execution_count": null,
   "metadata": {},
   "outputs": [],
   "source": [
    "eta.dat.name = \"Final surface using optimised IC\"\n",
    "plot_fields(ic_opt, eta, height=6);"
   ]
  },
  {
   "cell_type": "markdown",
   "metadata": {},
   "source": [
    "Let's see how well the timeseries approximate the data at each gauge. Note that since the QoI is formed of a summation, we shouldn't expect the accuracy of every timeseries to improve and indeed some will likely be worsened."
   ]
  },
  {
   "cell_type": "code",
   "execution_count": null,
   "metadata": {},
   "outputs": [],
   "source": [
    "gauges = list(op.gauges.keys())\n",
    "n = len(gauges)\n",
    "fig, axes = plt.subplots(nrows=n, figsize=(12, 4*n))\n",
    "for i, gauge in enumerate(gauges):\n",
    "    N = len(op.gauges[gauge]['timeseries'])\n",
    "    axes[i].plot(times[:N]/60, op.gauges[gauge]['timeseries'], '--x', label=gauge + ' initial')\n",
    "    axes[i].plot(times[:N]/60, op.gauges[gauge]['timeseries_opt'], '--x', label=gauge + ' optimised')\n",
    "    axes[i].plot(times[:N]/60, op.gauges[gauge]['data'][:N], '--x', label=gauge + ' data')\n",
    "    axes[i].legend(loc='upper right')\n",
    "    axes[i].set_xlabel('Time (min)')\n",
    "    axes[i].set_ylabel('Elevation (m)')"
   ]
  },
  {
   "cell_type": "code",
   "execution_count": null,
   "metadata": {},
   "outputs": [],
   "source": [
    "msg = \"total variation for gauge {:s}: before {:.4e}  after {:.4e} reduction  {:.1f}%\"\n",
    "\n",
    "print(\"Continuous\")\n",
    "for gauge in gauges:\n",
    "    tv = total_variation(op.gauges[gauge]['diff_smooth'])\n",
    "    tv_opt = total_variation(op.gauges[gauge]['diff_smooth_opt'])\n",
    "    print(msg.format(gauge, tv, tv_opt, 100*(1-tv_opt/tv)))\n",
    "    \n",
    "print(\"\\nDiscrete\")\n",
    "for gauge in gauges:\n",
    "    tv = total_variation(op.gauges[gauge]['diff'])\n",
    "    tv_opt = total_variation(op.gauges[gauge]['diff_opt'])\n",
    "    print(msg.format(gauge, tv, tv_opt, 100*(1-tv_opt/tv)))"
   ]
  },
  {
   "cell_type": "code",
   "execution_count": null,
   "metadata": {},
   "outputs": [],
   "source": []
  }
 ],
 "metadata": {
  "kernelspec": {
   "display_name": "Python 3",
   "language": "python",
   "name": "python3"
  },
  "language_info": {
   "codemirror_mode": {
    "name": "ipython",
    "version": 3
   },
   "file_extension": ".py",
   "mimetype": "text/x-python",
   "name": "python",
   "nbconvert_exporter": "python",
   "pygments_lexer": "ipython3",
   "version": "3.6.8"
  }
 },
 "nbformat": 4,
 "nbformat_minor": 4
}
