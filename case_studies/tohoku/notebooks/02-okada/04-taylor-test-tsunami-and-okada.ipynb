{
 "cells": [
  {
   "cell_type": "code",
   "execution_count": 1,
   "metadata": {},
   "outputs": [],
   "source": [
    "%matplotlib inline"
   ]
  },
  {
   "cell_type": "code",
   "execution_count": 2,
   "metadata": {},
   "outputs": [],
   "source": [
    "from thetis import *\n",
    "from firedrake_adjoint import *"
   ]
  },
  {
   "cell_type": "code",
   "execution_count": 3,
   "metadata": {},
   "outputs": [],
   "source": [
    "import adolc\n",
    "import numpy as np"
   ]
  },
  {
   "cell_type": "code",
   "execution_count": 4,
   "metadata": {},
   "outputs": [],
   "source": [
    "from adapt_utils.case_studies.tohoku.options.okada_options import TohokuOkadaBasisOptions\n",
    "from adapt_utils.misc import taylor_test\n",
    "from adapt_utils.unsteady.solver import AdaptiveProblem\n",
    "from adapt_utils.unsteady.solver_adjoint import AdaptiveDiscreteAdjointProblem"
   ]
  },
  {
   "cell_type": "markdown",
   "metadata": {},
   "source": [
    "# Taylor test for the gradient of timeseries misfit w.r.t. Okada parameters\n",
    "\n",
    "See the previous notebook for a description of the derivation.\n",
    "Here we wrap code in functions and perform a Taylor test."
   ]
  },
  {
   "cell_type": "markdown",
   "metadata": {},
   "source": [
    "### Initialisation\n",
    "\n",
    "Set parameters and create a `TohokuOkadaBasisOptions` object to hold them"
   ]
  },
  {
   "cell_type": "code",
   "execution_count": 5,
   "metadata": {},
   "outputs": [],
   "source": [
    "kwargs = {\n",
    "    'level': 0,\n",
    "    'synthetic': True,\n",
    "    'plot_pvd': False,\n",
    "    'save_timeseries': True,\n",
    "    'family': 'dg-cg',\n",
    "    'stabilisation': None,\n",
    "    'okada_grid_resolution': 51,\n",
    "    'debug': False,\n",
    "}\n",
    "nonlinear = False\n",
    "print_progress = False"
   ]
  },
  {
   "cell_type": "code",
   "execution_count": 6,
   "metadata": {},
   "outputs": [],
   "source": [
    "active_controls = ('slip', 'rake', 'strike', 'dip')"
   ]
  },
  {
   "cell_type": "code",
   "execution_count": 7,
   "metadata": {},
   "outputs": [],
   "source": [
    "op_data = TohokuOkadaBasisOptions(**kwargs)\n",
    "op_data.active_controls = active_controls"
   ]
  },
  {
   "cell_type": "markdown",
   "metadata": {},
   "source": [
    "### Get timeseries data\n",
    "\n",
    "We use a 'synthetic' approach whereby 'the truth' is given by timeseries extracted from a model run with some Okada parameters."
   ]
  },
  {
   "cell_type": "code",
   "execution_count": 8,
   "metadata": {},
   "outputs": [
    {
     "name": "stderr",
     "output_type": "stream",
     "text": [
      "WARNING: Cannot check validity of coordinates.\n"
     ]
    }
   ],
   "source": [
    "with stop_annotating():\n",
    "    swp = AdaptiveProblem(op_data, nonlinear=nonlinear, print_progress=print_progress)\n",
    "    swp.solve_forward()  # NOTE: pyadolc annotation is also off\n",
    "    for gauge in op_data.gauges:\n",
    "        op_data.gauges[gauge][\"data\"] = op_data.gauges[gauge][\"timeseries\"]"
   ]
  },
  {
   "cell_type": "markdown",
   "metadata": {},
   "source": [
    "Perturb the control parameters with some Normal random noise so that the source is different from that used to generate the gauge timeseries data."
   ]
  },
  {
   "cell_type": "code",
   "execution_count": 9,
   "metadata": {},
   "outputs": [],
   "source": [
    "kwargs['control_parameters'] = op_data.control_parameters\n",
    "mu = 0\n",
    "sigma = 5\n",
    "for control in op_data.active_controls:\n",
    "    size = np.shape(op_data.control_parameters[control])\n",
    "    kwargs['control_parameters'][control] += np.random.normal(loc=mu, scale=sigma, size=size)"
   ]
  },
  {
   "cell_type": "code",
   "execution_count": 10,
   "metadata": {},
   "outputs": [],
   "source": [
    "op_pert = TohokuOkadaBasisOptions(**kwargs)\n",
    "op_pert.active_controls = active_controls\n",
    "for gauge in op_pert.gauges:\n",
    "    op_pert.gauges[gauge][\"data\"] = op_data.gauges[gauge][\"data\"]"
   ]
  },
  {
   "cell_type": "markdown",
   "metadata": {},
   "source": [
    "### Annotate the source model\n",
    "\n",
    "When setting the free surface initial condition using the Okada model, we tell `pyadolc` to annotate its tape."
   ]
  },
  {
   "cell_type": "code",
   "execution_count": 11,
   "metadata": {},
   "outputs": [
    {
     "name": "stderr",
     "output_type": "stream",
     "text": [
      "WARNING: Cannot check validity of coordinates.\n"
     ]
    }
   ],
   "source": [
    "tape_tag = 0\n",
    "swp = AdaptiveDiscreteAdjointProblem(op_pert, nonlinear=nonlinear, print_progress=print_progress)\n",
    "swp.set_initial_condition(annotate_source=True, tag=tape_tag)"
   ]
  },
  {
   "cell_type": "markdown",
   "metadata": {},
   "source": [
    "### Annotate the tsunami model\n",
    "\n",
    "Now `pyadjoint` annotates its tape."
   ]
  },
  {
   "cell_type": "code",
   "execution_count": 12,
   "metadata": {},
   "outputs": [
    {
     "name": "stdout",
     "output_type": "stream",
     "text": [
      "QoI: 1.4827e+05\n"
     ]
    }
   ],
   "source": [
    "init_pert = swp.fwd_solutions[0].copy(deepcopy=True)\n",
    "source_control = Control(swp.fwd_solutions[0])\n",
    "swp.setup_solver_forward(0)\n",
    "swp.solve_forward_step(0)\n",
    "J_pert = op_pert.J\n",
    "print(\"QoI: {:.4e}\".format(J_pert))"
   ]
  },
  {
   "cell_type": "code",
   "execution_count": 13,
   "metadata": {},
   "outputs": [],
   "source": [
    "m_init = op_pert.get_input_vector()\n",
    "controls_pert = op_pert.control_parameters.copy()"
   ]
  },
  {
   "cell_type": "markdown",
   "metadata": {},
   "source": [
    "### Reduced functional\n",
    "\n",
    "Create a `pyadjoint` `ReducedFunctional` and a callable version"
   ]
  },
  {
   "cell_type": "code",
   "execution_count": 14,
   "metadata": {},
   "outputs": [],
   "source": [
    "Jhat = ReducedFunctional(swp.op.J, source_control)\n",
    "rf_np = pyadjoint.reduced_functional_numpy.ReducedFunctionalNumPy(Jhat)"
   ]
  },
  {
   "cell_type": "code",
   "execution_count": 15,
   "metadata": {},
   "outputs": [],
   "source": [
    "stop_annotating();"
   ]
  },
  {
   "cell_type": "code",
   "execution_count": 16,
   "metadata": {},
   "outputs": [],
   "source": [
    "def reduced_functional(m):\n",
    "    \"\"\"\n",
    "    Given a vector of control parameters `m`:\n",
    "      1. run the Okada model to generate the corresponding dislocation field;\n",
    "      2. set an initial ocean free surface displacement from the dislocation field;\n",
    "      3. run the tsunami propagation model by traversing the pyadjoint tape.\n",
    "      \n",
    "    :return: the corresponding square timeseries error misfit functional value.\n",
    "    \"\"\"\n",
    "    op = swp.op\n",
    "    num_subfaults = len(op.subfaults)\n",
    "    num_active_controls = len(op.active_controls)\n",
    "    \n",
    "    # Extract active control parameter values from the input vector\n",
    "    m_arr = m.reshape(num_subfaults, num_active_controls)\n",
    "    for i, subfault in enumerate(op.subfaults):\n",
    "        for j, control in enumerate(op.active_controls):\n",
    "            op.control_parameters[control][i] = m_arr[i, j]\n",
    "    \n",
    "    # Set initial condition based on the control parameters \n",
    "    swp.set_fields()\n",
    "    try:\n",
    "        swp.set_initial_condition(annotate_source=False)\n",
    "    except TypeError:\n",
    "        op_pert.get_subfaults(reset=True)  # FIXME\n",
    "        swp.set_initial_condition(annotate_source=False)\n",
    "        \n",
    "    # Update the initial condition data stored in the ReducedFunctional object\n",
    "    init = swp.fwd_solutions[0].copy(deepcopy=True)\n",
    "    Jhat.controls[0].update(init)\n",
    "    \n",
    "    # Check the initial conditions match (debugging)\n",
    "    if np.allclose(m, m_init):\n",
    "        msg = \"Initial conditions do not match: {:.4e} vs. {:.4e}\"\n",
    "        assert np.isclose(errornorm(init, init_pert), 0.0), msg.format(norm(init), norm(init_pert))\n",
    "    \n",
    "    # Extract an array from the initial condition data and pass it to the NumPy reduced functional\n",
    "    sol = rf_np.obj_to_array(init)\n",
    "    return rf_np.__call__(sol)"
   ]
  },
  {
   "cell_type": "code",
   "execution_count": 17,
   "metadata": {},
   "outputs": [
    {
     "name": "stdout",
     "output_type": "stream",
     "text": [
      "QoI: 1.4827e+05\n"
     ]
    }
   ],
   "source": [
    "J = reduced_functional(m_init)\n",
    "print(\"QoI: {:.4e}\".format(J))"
   ]
  },
  {
   "cell_type": "code",
   "execution_count": 18,
   "metadata": {},
   "outputs": [],
   "source": [
    "for control in active_controls:\n",
    "    assert np.allclose(swp.op.control_parameters[control], controls_pert[control])"
   ]
  },
  {
   "cell_type": "code",
   "execution_count": 19,
   "metadata": {},
   "outputs": [],
   "source": [
    "assert np.isclose(J_pert, J)"
   ]
  },
  {
   "cell_type": "markdown",
   "metadata": {},
   "source": [
    "### Gradient"
   ]
  },
  {
   "cell_type": "code",
   "execution_count": 20,
   "metadata": {},
   "outputs": [],
   "source": [
    "def gradient(m):\n",
    "    \"\"\"\n",
    "    Given a vector of control parameters `m`, compute the gradient of the reduced functional.\n",
    "    This is done as follows:\n",
    "      1. Propagate unity through the *reverse* mode of AD on pyadjoint's tape to endow\n",
    "         its SolveBlocks with adjoint solutions. Extract the one corresponding to time t = 0.\n",
    "      2. Propagate `m` through the *forward* mode of AD on pyadolc's tape using an appropriate\n",
    "         seed matrix. This computes the derivative of the Okada model.\n",
    "      3. Assemble the gradient by integrating the L2 inner product of adjoint solution at time\n",
    "         t = 0 with each component of the derivative of the Okada model.\n",
    "    \"\"\"\n",
    "    op = swp.op\n",
    "    num_subfaults = len(op.subfaults)\n",
    "    num_active_controls = len(op.active_controls)\n",
    "    N = op.N\n",
    "    \n",
    "    # Differentiate tsunami propagation\n",
    "    swp.print(\"Differentiating the tsunami propagation model...\")\n",
    "    Jhat.derivative()\n",
    "    swp.get_solve_blocks()\n",
    "    swp.extract_adjoint_solution(0)\n",
    "    u_star, eta_star = swp.adj_solutions[0].split()\n",
    "    swp.print(\"Done!\")\n",
    "    \n",
    "    # Differentiate Okada\n",
    "    swp.print(\"Differentiating the Okada model...\")\n",
    "    if not hasattr(op, 'seed_matrices'):\n",
    "        op.get_seed_matrices()\n",
    "    F, dFdm = adolc.fov_forward(tape_tag, m, op.seed_matrices)\n",
    "    F = F.reshape(num_subfaults, N, N)\n",
    "    F = sum(F[i, :, :] for i in range(num_subfaults))\n",
    "    dFdm = dFdm.reshape(num_subfaults, N, N, num_active_controls)\n",
    "    swp.print(\"Done!\")\n",
    "    \n",
    "    # Assemble gradient\n",
    "    swp.print(\"Assembling gradient...\")\n",
    "    dJdm = np.zeros((num_subfaults, num_active_controls))\n",
    "    for i, subfault in enumerate(op.subfaults):\n",
    "        for j, control in enumerate(op.active_controls):\n",
    "            deta0dm = op.interpolate_okada_array(dFdm[i, :, :, j])\n",
    "            dJdm[i, j] = assemble(eta_star*deta0dm*dx)\n",
    "    swp.print(\"Done!\")\n",
    "            \n",
    "    return dJdm.flatten()"
   ]
  },
  {
   "cell_type": "markdown",
   "metadata": {},
   "source": [
    "### Taylor test"
   ]
  },
  {
   "cell_type": "code",
   "execution_count": 23,
   "metadata": {},
   "outputs": [],
   "source": [
    "# np.random.seed(23)"
   ]
  },
  {
   "cell_type": "code",
   "execution_count": 24,
   "metadata": {},
   "outputs": [
    {
     "name": "stderr",
     "output_type": "stream",
     "text": [
      "========================TAYLOR TEST========================\n",
      "h = 1.0000e+00\n",
      "Taylor remainder = 5.7483e+02\n",
      "h = 5.0000e-01\n",
      "Taylor remainder = 3.0032e+02\n"
     ]
    },
    {
     "ename": "ConvergenceError",
     "evalue": "Taylor remainders do not decrease quadratically (ratio 1.9140e+00 < 3.9500e+00)",
     "output_type": "error",
     "traceback": [
      "\u001b[0;31m---------------------------------------------------------------------------\u001b[0m",
      "\u001b[0;31mAssertionError\u001b[0m                            Traceback (most recent call last)",
      "\u001b[0;32m~/src/adapt_utils/misc.py\u001b[0m in \u001b[0;36mtaylor_test\u001b[0;34m(function, gradient, m, verbose, ratio_tol)\u001b[0m\n\u001b[1;32m     55\u001b[0m             \u001b[0;32mtry\u001b[0m\u001b[0;34m:\u001b[0m\u001b[0;34m\u001b[0m\u001b[0;34m\u001b[0m\u001b[0m\n\u001b[0;32m---> 56\u001b[0;31m                 \u001b[0;32massert\u001b[0m \u001b[0mratio\u001b[0m \u001b[0;34m>\u001b[0m \u001b[0mratio_tol\u001b[0m\u001b[0;34m\u001b[0m\u001b[0;34m\u001b[0m\u001b[0m\n\u001b[0m\u001b[1;32m     57\u001b[0m             \u001b[0;32mexcept\u001b[0m \u001b[0mAssertionError\u001b[0m\u001b[0;34m:\u001b[0m\u001b[0;34m\u001b[0m\u001b[0;34m\u001b[0m\u001b[0m\n",
      "\u001b[0;31mAssertionError\u001b[0m: ",
      "\nDuring handling of the above exception, another exception occurred:\n",
      "\u001b[0;31mConvergenceError\u001b[0m                          Traceback (most recent call last)",
      "\u001b[0;32m<ipython-input-24-7b8e626fed16>\u001b[0m in \u001b[0;36m<module>\u001b[0;34m\u001b[0m\n\u001b[0;32m----> 1\u001b[0;31m \u001b[0mtaylor_test\u001b[0m\u001b[0;34m(\u001b[0m\u001b[0mreduced_functional\u001b[0m\u001b[0;34m,\u001b[0m \u001b[0mgradient\u001b[0m\u001b[0;34m,\u001b[0m \u001b[0mm_init\u001b[0m\u001b[0;34m,\u001b[0m \u001b[0mverbose\u001b[0m\u001b[0;34m=\u001b[0m\u001b[0;32mTrue\u001b[0m\u001b[0;34m)\u001b[0m\u001b[0;34m\u001b[0m\u001b[0;34m\u001b[0m\u001b[0m\n\u001b[0m",
      "\u001b[0;32m~/src/adapt_utils/misc.py\u001b[0m in \u001b[0;36mtaylor_test\u001b[0;34m(function, gradient, m, verbose, ratio_tol)\u001b[0m\n\u001b[1;32m     57\u001b[0m             \u001b[0;32mexcept\u001b[0m \u001b[0mAssertionError\u001b[0m\u001b[0;34m:\u001b[0m\u001b[0;34m\u001b[0m\u001b[0;34m\u001b[0m\u001b[0m\n\u001b[1;32m     58\u001b[0m                 \u001b[0mmsg\u001b[0m \u001b[0;34m=\u001b[0m \u001b[0;34m\"Taylor remainders do not decrease quadratically (ratio {:.4e} < {:.4e})\"\u001b[0m\u001b[0;34m\u001b[0m\u001b[0;34m\u001b[0m\u001b[0m\n\u001b[0;32m---> 59\u001b[0;31m                 \u001b[0;32mraise\u001b[0m \u001b[0mConvergenceError\u001b[0m\u001b[0;34m(\u001b[0m\u001b[0mmsg\u001b[0m\u001b[0;34m.\u001b[0m\u001b[0mformat\u001b[0m\u001b[0;34m(\u001b[0m\u001b[0mratio\u001b[0m\u001b[0;34m,\u001b[0m \u001b[0mratio_tol\u001b[0m\u001b[0;34m)\u001b[0m\u001b[0;34m)\u001b[0m\u001b[0;34m\u001b[0m\u001b[0;34m\u001b[0m\u001b[0m\n\u001b[0m\u001b[1;32m     60\u001b[0m     \u001b[0;32mif\u001b[0m \u001b[0mverbose\u001b[0m\u001b[0;34m:\u001b[0m\u001b[0;34m\u001b[0m\u001b[0;34m\u001b[0m\u001b[0m\n\u001b[1;32m     61\u001b[0m         \u001b[0mprint_output\u001b[0m\u001b[0;34m(\u001b[0m\u001b[0;36m20\u001b[0m\u001b[0;34m*\u001b[0m\u001b[0;34m\"=\"\u001b[0m \u001b[0;34m+\u001b[0m \u001b[0;34m\"TAYLOR TEST PASSED!\"\u001b[0m \u001b[0;34m+\u001b[0m \u001b[0;36m20\u001b[0m\u001b[0;34m*\u001b[0m\u001b[0;34m\"=\"\u001b[0m\u001b[0;34m)\u001b[0m\u001b[0;34m\u001b[0m\u001b[0;34m\u001b[0m\u001b[0m\n",
      "\u001b[0;31mConvergenceError\u001b[0m: Taylor remainders do not decrease quadratically (ratio 1.9140e+00 < 3.9500e+00)"
     ]
    }
   ],
   "source": [
    "taylor_test(reduced_functional, gradient, m_init, verbose=True)"
   ]
  },
  {
   "cell_type": "markdown",
   "metadata": {},
   "source": [
    "# [FIXME]"
   ]
  },
  {
   "cell_type": "code",
   "execution_count": 21,
   "metadata": {},
   "outputs": [
    {
     "name": "stderr",
     "output_type": "stream",
     "text": [
      "========================TAYLOR TEST========================\n",
      "h = 1.0000e+00\n",
      "Taylor remainder = 1.0399e+02\n",
      "h = 5.0000e-01\n",
      "Taylor remainder = 4.8174e+01\n",
      "h = 2.5000e-01\n",
      "Taylor remainder = 2.3397e+01\n",
      "====================TAYLOR TEST PASSED!====================\n"
     ]
    }
   ],
   "source": [
    "taylor_test(reduced_functional, gradient, m_init, verbose=True, ratio_tol=1.8)  # Check for linear convergence"
   ]
  },
  {
   "cell_type": "code",
   "execution_count": null,
   "metadata": {},
   "outputs": [],
   "source": []
  }
 ],
 "metadata": {
  "kernelspec": {
   "display_name": "Python 3",
   "language": "python",
   "name": "python3"
  },
  "language_info": {
   "codemirror_mode": {
    "name": "ipython",
    "version": 3
   },
   "file_extension": ".py",
   "mimetype": "text/x-python",
   "name": "python",
   "nbconvert_exporter": "python",
   "pygments_lexer": "ipython3",
   "version": "3.6.9"
  }
 },
 "nbformat": 4,
 "nbformat_minor": 4
}
