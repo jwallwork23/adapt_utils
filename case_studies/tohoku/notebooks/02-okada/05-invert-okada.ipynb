{
 "cells": [
  {
   "cell_type": "code",
   "execution_count": 1,
   "metadata": {},
   "outputs": [],
   "source": [
    "%matplotlib inline"
   ]
  },
  {
   "cell_type": "code",
   "execution_count": 2,
   "metadata": {},
   "outputs": [],
   "source": [
    "import adolc"
   ]
  },
  {
   "cell_type": "code",
   "execution_count": 3,
   "metadata": {},
   "outputs": [],
   "source": [
    "from adapt_utils.case_studies.tohoku.options.okada_options import TohokuOkadaBasisOptions\n",
    "from adapt_utils.misc import taylor_test\n",
    "from adapt_utils.norms import vecnorm"
   ]
  },
  {
   "cell_type": "code",
   "execution_count": 4,
   "metadata": {},
   "outputs": [],
   "source": [
    "import matplotlib.pyplot as plt\n",
    "import numpy as np\n",
    "import scipy"
   ]
  },
  {
   "cell_type": "code",
   "execution_count": 5,
   "metadata": {},
   "outputs": [],
   "source": [
    "np.random.seed(0)  # make results reproducible"
   ]
  },
  {
   "cell_type": "markdown",
   "metadata": {},
   "source": [
    "# Inverting the Okada model\n",
    "\n",
    "In this notebook, $\\mathbf m$ contains parameters associated with an Okada function representation on an array of subfaults.\n",
    "That is, the initial surface elevation $\\eta_0$ is given by\n",
    "\n",
    "$$\n",
    "    \\eta_0(\\mathbf x)=\\mathrm{Okada}(\\mathbf m),\n",
    "$$\n",
    "\n",
    "where $\\mathrm{Okada}$ denotes the Okada model."
   ]
  },
  {
   "cell_type": "markdown",
   "metadata": {},
   "source": [
    "We can use `pyadolc` to differentiate through the Okada model, giving\n",
    "\n",
    "$$\n",
    "    \\frac{\\mathrm d\\eta_0}{\\mathrm d\\mathrm m}\\:\\widetilde{\\mathrm m},\n",
    "$$\n",
    "\n",
    "for some choice of control parameters, $\\widetilde{\\mathrm m}$.\n",
    "With an appropriate choice of seed vectors (i.e. a seed matrix), we can obtain the gradient\n",
    "\n",
    "$$\n",
    "    \\frac{\\mathrm d\\eta_0}{\\mathrm d\\mathrm m}.\n",
    "$$\n",
    "\n",
    "(See previous notebook for details.)\n",
    "Henceforth let's drop the subscript zero and instead use $\\eta_{ij}$ to indicate the $(i,j)^{th}$ entry on the Okada grid.\n",
    "\n",
    "Suppose we have a source field $\\eta^\\star$.\n",
    "We would like to establish Okada parameters $\\mathbf m$ so that $\\mathrm{Okada}(\\mathbf m)\\approx\\eta^\\star$.\n",
    "One approach is to solve an optimisation problem of the form\n",
    "\n",
    "$$\n",
    "    \\min J(\\eta;\\mathbf m)\\quad\\text{such that}\\quad\\eta=\\mathrm{Okada}(\\mathbf m),\n",
    "$$\n",
    "\n",
    "where $J$ quantifies how well $\\eta$ matches $\\eta^\\star$ in some sense.\n",
    "We opt for the mean square error as our error measure:\n",
    "\n",
    "$$\n",
    "    J(\\eta;\\mathbf m)=\\frac1{N^2}\\sum_{i=0}^{N-1}\\sum_{j=0}^{N-1}(\\eta_{ij}-\\eta_{ij}^\\star)^2.\n",
    "$$\n",
    "\n",
    "where the Okada grid has dimensions $N\\times N$.\n",
    "\n",
    "There are potentially redundancies in the Okada source model in the sense that very similar fields can be generated using different combinations of the input parameters.\n",
    "If so then there could be uniqueness/local minima issues when applying gradient-based optimisation routines.\n",
    "This notebook explores whether or not we need to worry."
   ]
  },
  {
   "cell_type": "markdown",
   "metadata": {},
   "source": [
    "### Initialisation\n",
    "\n",
    "Set parameters and create a `TohokuOkadaBasisOptions` object to hold them.\n",
    "Apply the Okada model with default input parameters to give the field we want to invert for, stored in memory as `eta`."
   ]
  },
  {
   "cell_type": "code",
   "execution_count": 6,
   "metadata": {},
   "outputs": [],
   "source": [
    "kwargs = {\n",
    "    'okada_grid_resolution': 51,\n",
    "    'debug': False,\n",
    "}\n",
    "plotting_kwargs = {\n",
    "    'cmap': 'coolwarm',\n",
    "    'levels': 50,\n",
    "}\n",
    "fontsize = 18\n",
    "tick_fontsize = 12"
   ]
  },
  {
   "cell_type": "code",
   "execution_count": 7,
   "metadata": {},
   "outputs": [],
   "source": [
    "op = TohokuOkadaBasisOptions(**kwargs)\n",
    "op.create_topography()\n",
    "N = op.N\n",
    "X = op.fault.dtopo.X\n",
    "Y = op.fault.dtopo.Y\n",
    "eta = op.fault.dtopo.dZ.copy()\n",
    "m_orig = op.get_input_vector()\n",
    "np.save(\"notebook_4_m_orig\", m_orig)"
   ]
  },
  {
   "cell_type": "markdown",
   "metadata": {},
   "source": [
    "### Differentatiate the source model\n",
    "\n",
    "Perturb the control parameters with some Normal random noise so that the source is different from that used to generate the gauge timeseries data.\n",
    "This effectively means 'choose an initial guess'."
   ]
  },
  {
   "cell_type": "code",
   "execution_count": 9,
   "metadata": {},
   "outputs": [],
   "source": [
    "kwargs['control_parameters'] = op.control_parameters\n",
    "for control in op.active_controls:\n",
    "    size = np.shape(op.control_parameters[control])\n",
    "    kwargs['control_parameters'][control] += np.random.normal(loc=0, scale=10, size=size)"
   ]
  },
  {
   "cell_type": "markdown",
   "metadata": {},
   "source": [
    "When setting the free surface initial condition using the Okada model, we tell `pyadolc` to annotate its tape.\n",
    "For this application we need to modify the way that the tape is annotated by default and therefore pass the `interpolate` flag as `True`:"
   ]
  },
  {
   "cell_type": "code",
   "execution_count": 10,
   "metadata": {},
   "outputs": [
    {
     "name": "stdout",
     "output_type": "stream",
     "text": [
      "QoI = 4.6523e-01\n"
     ]
    }
   ],
   "source": [
    "tape_tag = 0\n",
    "op = TohokuOkadaBasisOptions(**kwargs)\n",
    "op._data_to_interpolate = eta\n",
    "op.create_topography(annotate=True, interpolate=True, tag=tape_tag)\n",
    "op.get_seed_matrices()  # these can be reused over and over\n",
    "print(\"QoI = {:.4e}\".format(op.J.val))\n",
    "assert np.isclose(op.J.val, 4.6523e-01, rtol=1.0e-04)  # from previous run"
   ]
  },
  {
   "cell_type": "markdown",
   "metadata": {},
   "source": [
    "Create some arrays to keep track of the optimisation routine"
   ]
  },
  {
   "cell_type": "code",
   "execution_count": 11,
   "metadata": {},
   "outputs": [],
   "source": [
    "op.J_progress = []\n",
    "op.dJdm_progress = []"
   ]
  },
  {
   "cell_type": "markdown",
   "metadata": {},
   "source": [
    "Sum over all subfaults to get the total QoI.\n",
    "By unrolling the tape, we can easily express the reduced functional as a function of the active controls.\n",
    "Note that we raise a flag which prepares for a subsequent reverse mode propagation."
   ]
  },
  {
   "cell_type": "code",
   "execution_count": 12,
   "metadata": {},
   "outputs": [],
   "source": [
    "def reduced_functional(m):\n",
    "    \"\"\"Apply the Okada model by unrolling the tape and compute the QoI.\"\"\"\n",
    "    J = sum(adolc.zos_forward(tape_tag, m, keep=1))\n",
    "    op.J_progress.append(J)\n",
    "    return J"
   ]
  },
  {
   "cell_type": "code",
   "execution_count": 13,
   "metadata": {},
   "outputs": [],
   "source": [
    "J = reduced_functional(op.input_vector)\n",
    "assert np.isclose(J, op.J.val)"
   ]
  },
  {
   "cell_type": "markdown",
   "metadata": {},
   "source": [
    "The reverse mode of AD computes\n",
    "\n",
    "$$\n",
    "    \\mathbf m_b:=\\frac{\\mathrm dJ}{\\mathrm d\\mathbf m}^T\\:J_b,\n",
    "$$\n",
    "\n",
    "where $J_b$ is a scalar *seed* and $\\mathbf m_b$ is of the same dimension as the control parameter vector.\n",
    "Therefore we can propagate through the reverse mode of AD to get the gradient by choosing a unit seed."
   ]
  },
  {
   "cell_type": "code",
   "execution_count": 14,
   "metadata": {},
   "outputs": [],
   "source": [
    "def gradient(m):\n",
    "    \"\"\"Compute the gradient of the QoI with respect to the input parameters.\"\"\"\n",
    "    dJdm = adolc.fos_reverse(tape_tag, 1.0)\n",
    "    op.dJdm_progress.append(vecnorm(dJdm, order=np.Inf))\n",
    "    return dJdm"
   ]
  },
  {
   "cell_type": "code",
   "execution_count": 15,
   "metadata": {},
   "outputs": [
    {
     "name": "stdout",
     "output_type": "stream",
     "text": [
      "J = 4.6523e-01  ||dJdm|| = 5.0260e-03\n"
     ]
    }
   ],
   "source": [
    "g = gradient(op.input_vector)\n",
    "assert len(g) == len(op.input_vector)\n",
    "print(\"J = {:.4e}  ||dJdm|| = {:.4e}\".format(op.J_progress[-1], op.dJdm_progress[-1]))\n",
    "assert np.isclose(op.dJdm_progress[-1], 5.0260e-03, rtol=1.0e-04)  # from previous run"
   ]
  },
  {
   "cell_type": "code",
   "execution_count": 16,
   "metadata": {},
   "outputs": [],
   "source": [
    "eta_pert = op.fault.dtopo.dZ.copy()"
   ]
  },
  {
   "cell_type": "markdown",
   "metadata": {},
   "source": [
    "Check that the function stored to tape evaluates as it should"
   ]
  },
  {
   "cell_type": "code",
   "execution_count": 17,
   "metadata": {},
   "outputs": [
    {
     "data": {
      "image/png": "[encoded data removed]",
      "text/plain": [
       "<Figure size 648x288 with 4 Axes>"
      ]
     },
     "metadata": {
      "needs_background": "light"
     },
     "output_type": "display_data"
    }
   ],
   "source": [
    "eta_pert = op.fault.dtopo.dZ.reshape(N, N)\n",
    "\n",
    "fig, axes = plt.subplots()\n",
    "fig.colorbar(axes.contourf(X, Y, eta, **plotting_kwargs), ax=axes);\n",
    "axes.set_xlabel(\"Longitude [degrees]\", fontsize=fontsize);\n",
    "axes.set_ylabel(\"Latitude [degrees]\", fontsize=fontsize);\n",
    "for tick in axes.xaxis.get_major_ticks():\n",
    "    tick.label.set_fontsize(tick_fontsize);\n",
    "for tick in axes.yaxis.get_major_ticks():\n",
    "    tick.label.set_fontsize(tick_fontsize);\n",
    "plt.tight_layout()\n",
    "plt.savefig(\"plots/notebook_4_original_source.pdf\")\n",
    "plt.close()\n",
    "\n",
    "fig, axes = plt.subplots()\n",
    "cbar = fig.colorbar(axes.contourf(X, Y, eta_pert, **plotting_kwargs), ax=axes);\n",
    "cbar.ax.tick_params(labelsize=tick_fontsize);\n",
    "axes.set_xlabel(\"Longitude [degrees]\", fontsize=fontsize);\n",
    "axes.set_ylabel(\"Latitude [degrees]\", fontsize=fontsize);\n",
    "for tick in axes.xaxis.get_major_ticks():\n",
    "    tick.label.set_fontsize(tick_fontsize);\n",
    "for tick in axes.yaxis.get_major_ticks():\n",
    "    tick.label.set_fontsize(tick_fontsize);\n",
    "plt.tight_layout()\n",
    "plt.savefig(\"plots/notebook_4_perturbed_source.pdf\")\n",
    "plt.close()\n",
    "\n",
    "fig, axes = plt.subplots(ncols=2, figsize=(9, 4))\n",
    "cbar = fig.colorbar(axes[0].contourf(X, Y, eta, **plotting_kwargs), ax=axes[0]);\n",
    "cbar.ax.tick_params(labelsize=tick_fontsize);\n",
    "axes[0].set_title(\"Original source\");\n",
    "axes[0].set_xlabel(\"Longitude [degrees]\");\n",
    "axes[0].set_ylabel(\"Latitude [degrees]\");\n",
    "fig.colorbar(axes[1].contourf(X, Y, eta_pert, **plotting_kwargs), ax=axes[1]);\n",
    "axes[1].set_title(\"Perturbed source\");\n",
    "axes[1].set_xlabel(\"Longitude [degrees]\");\n",
    "axes[1].set_ylabel(\"Latitude [degrees]\");"
   ]
  },
  {
   "cell_type": "markdown",
   "metadata": {},
   "source": [
    "### Taylor test\n",
    "\n",
    "Before attempting gradient-based optimisation, we better check that our gradient function is consistent."
   ]
  },
  {
   "cell_type": "code",
   "execution_count": 18,
   "metadata": {},
   "outputs": [
    {
     "name": "stdout",
     "output_type": "stream",
     "text": [
      "========================TAYLOR TEST========================\n",
      "h = 1.0000e+00\n",
      "Taylor remainder = 4.5043e-03\n",
      "h = 5.0000e-01\n",
      "Taylor remainder = 1.1238e-03\n",
      "h = 2.5000e-01\n",
      "Taylor remainder = 2.8067e-04\n",
      "====================TAYLOR TEST PASSED!====================\n"
     ]
    }
   ],
   "source": [
    "taylor_test(reduced_functional, gradient, op.input_vector, verbose=True)"
   ]
  },
  {
   "cell_type": "markdown",
   "metadata": {},
   "source": [
    "### Inversion\n",
    "\n",
    "Now we are ready to do the gradient-based optimisation.\n",
    "Here we use BFGS and require that the gradient norm is smaller than $10^{-8}$ for convergence."
   ]
  },
  {
   "cell_type": "code",
   "execution_count": 20,
   "metadata": {},
   "outputs": [
    {
     "name": "stdout",
     "output_type": "stream",
     "text": [
      " 100: J = 1.2063e-02  ||dJdm|| = 1.9477e-04\n",
      " 200: J = 2.3576e-03  ||dJdm|| = 1.2086e-04\n",
      " 300: J = 1.0258e-03  ||dJdm|| = 3.0795e-05\n",
      " 400: J = 5.1683e-04  ||dJdm|| = 6.1249e-06\n",
      " 500: J = 2.8053e-04  ||dJdm|| = 1.1917e-05\n",
      " 600: J = 1.8569e-04  ||dJdm|| = 9.6780e-06\n",
      " 700: J = 1.2663e-04  ||dJdm|| = 4.9819e-06\n",
      " 800: J = 9.1618e-05  ||dJdm|| = 3.6968e-06\n",
      " 900: J = 6.6199e-05  ||dJdm|| = 2.2484e-06\n",
      "1000: J = 5.0487e-05  ||dJdm|| = 1.8310e-06\n",
      "1100: J = 3.8883e-05  ||dJdm|| = 1.8653e-06\n",
      "1200: J = 3.0626e-05  ||dJdm|| = 1.2448e-06\n",
      "1300: J = 2.4373e-05  ||dJdm|| = 1.1816e-06\n",
      "1400: J = 2.0631e-05  ||dJdm|| = 1.2238e-06\n",
      "1500: J = 1.7147e-05  ||dJdm|| = 1.0303e-06\n",
      "1600: J = 1.4632e-05  ||dJdm|| = 1.4846e-06\n",
      "1700: J = 1.3069e-05  ||dJdm|| = 3.2703e-07\n",
      "1800: J = 1.1554e-05  ||dJdm|| = 5.5549e-07\n",
      "1900: J = 1.0204e-05  ||dJdm|| = 4.5460e-07\n",
      "2000: J = 9.0621e-06  ||dJdm|| = 5.1930e-07\n",
      "2100: J = 8.0897e-06  ||dJdm|| = 3.2269e-07\n",
      "2200: J = 7.0076e-06  ||dJdm|| = 4.0421e-07\n",
      "2300: J = 6.1786e-06  ||dJdm|| = 4.6622e-07\n",
      "2400: J = 5.4079e-06  ||dJdm|| = 3.0590e-07\n",
      "2500: J = 4.6005e-06  ||dJdm|| = 3.5136e-07\n",
      "2600: J = 4.1272e-06  ||dJdm|| = 1.8974e-07\n",
      "2700: J = 3.5740e-06  ||dJdm|| = 2.4020e-07\n",
      "2800: J = 3.1377e-06  ||dJdm|| = 2.3376e-07\n",
      "2900: J = 2.7515e-06  ||dJdm|| = 1.4615e-07\n",
      "3000: J = 2.4278e-06  ||dJdm|| = 1.3205e-07\n",
      "3100: J = 2.2006e-06  ||dJdm|| = 1.4292e-07\n",
      "3200: J = 1.9663e-06  ||dJdm|| = 7.8910e-08\n",
      "3300: J = 1.6994e-06  ||dJdm|| = 9.0337e-08\n",
      "3400: J = 1.5381e-06  ||dJdm|| = 9.3867e-08\n",
      "3500: J = 1.3440e-06  ||dJdm|| = 9.0825e-08\n",
      "3600: J = 1.1947e-06  ||dJdm|| = 7.5447e-08\n",
      "3700: J = 1.0153e-06  ||dJdm|| = 6.3920e-08\n",
      "3800: J = 9.1555e-07  ||dJdm|| = 4.5239e-08\n",
      "3900: J = 8.3680e-07  ||dJdm|| = 3.9768e-08\n",
      "4000: J = 7.6617e-07  ||dJdm|| = 3.4052e-08\n",
      "4100: J = 7.1041e-07  ||dJdm|| = 1.2639e-07\n",
      "4200: J = 6.3586e-07  ||dJdm|| = 2.0524e-08\n",
      "4300: J = 5.7149e-07  ||dJdm|| = 3.5783e-08\n",
      "4400: J = 5.2374e-07  ||dJdm|| = 3.9076e-08\n",
      "4500: J = 4.6982e-07  ||dJdm|| = 2.7078e-08\n",
      "4600: J = 3.9761e-07  ||dJdm|| = 2.1825e-08\n",
      "4700: J = 3.7314e-07  ||dJdm|| = 2.9232e-08\n",
      "4800: J = 3.3311e-07  ||dJdm|| = 1.5392e-08\n",
      "4900: J = 3.0484e-07  ||dJdm|| = 6.8698e-08\n",
      "Optimization terminated successfully.\n",
      "         Current function value: 0.000000\n",
      "         Iterations: 4942\n",
      "         Function evaluations: 4966\n",
      "         Gradient evaluations: 4966\n"
     ]
    }
   ],
   "source": [
    "# Reset progress arrays\n",
    "op.J_progress = []\n",
    "op.dJdm_progress = []\n",
    "\n",
    "def opt_cb(m):\n",
    "    \"\"\"Print progress after every successful line search\"\"\"\n",
    "    msg = \"{:4d}: J = {:.4e}  ||dJdm|| = {:.4e}\"\n",
    "    counter = len(op.J_progress)\n",
    "    if counter % 100 == 0:\n",
    "        print(msg.format(counter, op.J_progress[-1], op.dJdm_progress[-1]))\n",
    "\n",
    "opt_parameters = {\n",
    "    'maxiter': 40000,\n",
    "    'disp': True,\n",
    "    'gtol': 1.0e-08,\n",
    "    'callback': opt_cb,\n",
    "    'retall': True,\n",
    "    'fprime': gradient,\n",
    "}\n",
    "\n",
    "m_opt, out = scipy.optimize.fmin_bfgs(reduced_functional, op.input_vector, **opt_parameters)"
   ]
  },
  {
   "cell_type": "code",
   "execution_count": 21,
   "metadata": {},
   "outputs": [],
   "source": [
    "np.save(\"notebook_4_m_opt\", m_opt)\n",
    "np.save(\"notebook_4_J_progress\", op.J_progress)\n",
    "np.save(\"notebook_4_dJdm_progress\", op.dJdm_progress)"
   ]
  },
  {
   "cell_type": "markdown",
   "metadata": {},
   "source": [
    "Let's take a look at the progress of the reduced functional and gradient"
   ]
  },
  {
   "cell_type": "code",
   "execution_count": 22,
   "metadata": {},
   "outputs": [
    {
     "data": {
      "image/png": "[encoded data removed]",
      "text/plain": [
       "<Figure size 1008x432 with 2 Axes>"
      ]
     },
     "metadata": {
      "needs_background": "light"
     },
     "output_type": "display_data"
    }
   ],
   "source": [
    "op.J_progress = np.load(\"notebook_4_J_progress.npy\")\n",
    "op.dJdm_progress = np.load(\"notebook_4_dJdm_progress.npy\")\n",
    "\n",
    "fig, axes = plt.subplots()\n",
    "axes.semilogy(op.J_progress);\n",
    "axes.set_xlabel(\"Iteration\", fontsize=fontsize);\n",
    "axes.set_ylabel(\"Mean square error\", fontsize=fontsize);\n",
    "for tick in axes.xaxis.get_major_ticks():\n",
    "    tick.label.set_fontsize(tick_fontsize);\n",
    "for tick in axes.yaxis.get_major_ticks():\n",
    "    tick.label.set_fontsize(tick_fontsize);\n",
    "plt.tight_layout()\n",
    "plt.savefig(\"plots/notebook_4_J_progress.pdf\")\n",
    "plt.close()\n",
    "\n",
    "fig, axes = plt.subplots()\n",
    "axes.semilogy(op.dJdm_progress);\n",
    "axes.set_xlabel(\"Iteration\", fontsize=fontsize);\n",
    "axes.set_ylabel(r\"$\\ell_\\infty$-norm of gradient\", fontsize=fontsize);\n",
    "for tick in axes.xaxis.get_major_ticks():\n",
    "    tick.label.set_fontsize(tick_fontsize);\n",
    "for tick in axes.yaxis.get_major_ticks():\n",
    "    tick.label.set_fontsize(tick_fontsize);\n",
    "plt.tight_layout()\n",
    "plt.savefig(\"plots/notebook_4_dJdm_progress.pdf\")\n",
    "plt.close()\n",
    "\n",
    "fig, axes = plt.subplots(ncols=2, figsize=(14, 6))\n",
    "ax = axes[0]\n",
    "ax.semilogy(op.J_progress);\n",
    "ax.set_xlabel(\"Iteration\", fontsize=fontsize);\n",
    "ax.set_ylabel(\"Mean square error\", fontsize=fontsize);\n",
    "for tick in ax.xaxis.get_major_ticks():\n",
    "    tick.label.set_fontsize(tick_fontsize);\n",
    "for tick in ax.yaxis.get_major_ticks():\n",
    "    tick.label.set_fontsize(tick_fontsize);\n",
    "ax = axes[1]\n",
    "ax.semilogy(op.dJdm_progress);\n",
    "ax.set_xlabel(\"Iteration\", fontsize=fontsize);\n",
    "ax.set_ylabel(\"Norm of gradient\", fontsize=fontsize);\n",
    "for tick in ax.xaxis.get_major_ticks():\n",
    "    tick.label.set_fontsize(tick_fontsize);\n",
    "for tick in ax.yaxis.get_major_ticks():\n",
    "    tick.label.set_fontsize(tick_fontsize);"
   ]
  },
  {
   "cell_type": "markdown",
   "metadata": {},
   "source": [
    "Compare the optimised parameters, `m_opt`, against the original ones, `m_orig`."
   ]
  },
  {
   "cell_type": "code",
   "execution_count": 23,
   "metadata": {},
   "outputs": [
    {
     "name": "stdout",
     "output_type": "stream",
     "text": [
      "Mean square error of controls = 6.3622e+01\n"
     ]
    }
   ],
   "source": [
    "m_opt = np.load(\"notebook_4_m_opt.npy\")\n",
    "m_orig = np.load(\"notebook_4_m_orig.npy\")\n",
    "diff = m_opt - m_orig\n",
    "print(\"Mean square error of controls = {:.4e}\".format(np.linalg.norm(diff)**2/len(m_opt)))"
   ]
  },
  {
   "cell_type": "code",
   "execution_count": 24,
   "metadata": {},
   "outputs": [
    {
     "data": {
      "image/png": "[encoded data removed]",
      "text/plain": [
       "<Figure size 432x288 with 1 Axes>"
      ]
     },
     "metadata": {
      "needs_background": "light"
     },
     "output_type": "display_data"
    }
   ],
   "source": [
    "plt.hist(diff, bins=21);"
   ]
  },
  {
   "cell_type": "code",
   "execution_count": 25,
   "metadata": {},
   "outputs": [
    {
     "name": "stdout",
     "output_type": "stream",
     "text": [
      "  0:  -0.0153, -19.8130, -15.3220,   8.4069\n",
      "  1:  -0.1992,   0.7960,   2.6680,   0.1893\n",
      "  2:   0.9199,  -3.3597, -17.9724,  -0.0751\n",
      "  3:   0.4067,  -0.4514,  -5.1222,  -0.1068\n",
      "  4:   2.6521,  -2.8921,  -3.2386,  -0.9824\n",
      "  5:  -4.8887,  -0.8575,  -4.8981,  -1.4997\n",
      "  6:   1.3955,   4.9828,  -2.5655,  -0.4313\n",
      "  7:  -5.2462,   7.7532,  -8.1032,  -0.8993\n",
      "  8:   3.5260,  23.6776,   6.7381,   1.0928\n",
      "  9:   1.4453,   9.4242,   3.9862,   0.1687\n",
      " 10:   0.4546,  -3.9065,   0.1447,  -0.3212\n",
      " 11:  -0.1308,   0.2528,   2.4062,   0.6355\n",
      " 12:  -0.3908,   4.6943,   0.9185,  -0.1096\n",
      " 13:   0.0390,   6.1587,  -8.2666,  -0.1599\n",
      " 14:   0.0583,  -1.0212,   1.0818,  -1.1100\n",
      " 15:  -0.1070, -10.4220, -12.3991,   0.1307\n",
      " 16:   0.0136,   1.3070,   6.6598,  -0.1804\n",
      " 17:   0.0590,  -4.3021,   5.4758,   2.8125\n",
      " 18:  -0.0016,   5.0173,  12.1212,  -8.5012\n",
      " 19:  -0.0181,  -0.4235,   8.1453, -31.5644\n",
      " 20:  -0.4335,   0.8789,   0.1416,  -2.8982\n",
      " 21:  -0.5139,   3.9384,  -7.4721,   6.1615\n",
      " 22:  -1.4960,   8.4271,  14.2088,   1.8177\n",
      " 23:   0.1095,   0.7636,   1.7834,   8.9268\n",
      " 24:  13.1609, -15.0012, -14.0631,  -3.9175\n",
      " 25:  -5.4206,  -3.5840,   3.2058,   5.8491\n",
      " 26:   0.0146,  -1.2065,   6.0601,  -1.8327\n",
      " 27:  -6.4998,   3.0798,   3.4649,  -1.3403\n",
      " 28:  14.4142,  14.6776,   4.3152,   0.3715\n",
      " 29:   4.0176,   1.4843,   2.2772,   0.2618\n",
      " 30:  -4.8588, -15.1980,  -5.8955,  -1.3968\n",
      " 31:  -1.1457,   1.3960,   4.0417,   0.3750\n",
      " 32:   1.2544,  -5.0036,  -1.4005,  -4.3091\n",
      " 33:   2.4425,   2.3999,  -0.1851,  -0.3407\n",
      " 34:   0.6480,  -7.8874,  11.5564,  -1.7188\n",
      " 35:  -0.3068,   3.4105,   5.5307,  -7.6913\n",
      " 36:   0.0070,   2.6063,   3.9263,   5.0919\n",
      " 37:  -0.0044,   2.1788,   1.3276, -17.1430\n",
      " 38:   0.0973,  -3.4988,  13.0659,   9.7743\n",
      " 39:   0.0321,   0.2101,  15.7596,  10.8646\n",
      " 40:  -3.2783,  -8.7371,   3.0192,  -7.2623\n",
      " 41:   4.5888,   1.4920,  -1.6282, -11.5104\n",
      " 42: -14.2896,  -7.8879, -12.9072,   3.5557\n",
      " 43:  10.3596,   3.4863,   3.5135,   6.8712\n",
      " 44:  -8.0041, -12.6952,  -3.1964,  -0.9969\n",
      " 45:  -0.5249,   4.7214,   2.4734,  -2.5129\n",
      " 46:  -3.7243,  14.9995,   9.1201,   0.6103\n",
      " 47:   6.3977, -27.5209, -19.9451,   3.7239\n",
      " 48:   0.3253,   3.5109,  -3.7623,  -2.5841\n",
      " 49:   2.8356,  10.1754,  -0.0996,   1.3287\n",
      " 50:  -0.0845,  -6.2849,  -3.3430,   3.9168\n",
      " 51:   2.4149,  -6.8527,  -9.2180,  -1.0077\n",
      " 52:   1.9312,   0.1874,   8.4972,   7.2311\n",
      " 53:  -0.7648,  -3.4532,   4.2964,   4.9210\n",
      " 54:   0.1899,  -5.8913,  -7.7091,  -1.4002\n",
      " 55:  -0.1154, -16.6288,   3.0423, -12.3329\n",
      " 56:   0.0140,  11.3599,   8.4745,   1.1751\n",
      " 57:   0.0933,  10.9867,  -0.0558,  13.3388\n",
      " 58:  -1.2564,  -8.1146,   7.9956,  -2.9987\n",
      " 59:   0.6676,  -8.8341,  -4.7550, -10.8113\n",
      " 60:  10.2126,   3.5099,  -1.0450,  -7.6617\n",
      " 61:   0.6730,  -3.8624, -12.5256,  -5.7220\n",
      " 62:  -4.8695,   0.5044,   3.8785,   8.8000\n",
      " 63:  -3.5852,  -3.5763,   1.0074,  -4.2739\n",
      " 64:   1.2821,   7.6065,   6.5595,  -0.8296\n",
      " 65:   0.4442,   4.7613,   1.3214,   0.8101\n",
      " 66:   1.0126,  -2.8254,  -1.0016,  -1.2026\n",
      " 67:   5.3186, -15.4716, -11.5305,  -4.4106\n",
      " 68:  -2.8653, -16.1689,  -7.2048,  12.7836\n",
      " 69:  -0.9503,  -0.4422,   2.8813,  20.0111\n",
      " 70:   3.4035,  -8.4958, -14.2935,   2.4793\n",
      " 71:  -0.9143,  -4.0744,   4.7297,   6.4846\n",
      " 72:   0.6324, -13.1950,   8.1075,   3.5122\n",
      " 73:   1.3488,  -7.2634,   7.9316,  -3.5025\n",
      " 74:   0.0483, -18.4445,   2.1200, -13.8476\n",
      " 75:  -0.0181,   2.0653,  19.9270,  -3.1176\n",
      " 76:  -0.3073,   5.6126,  -5.4373,   8.6651\n",
      " 77:  -1.2062,  -0.5388, -21.2515,  -2.0230\n",
      " 78:   1.2151,  -1.7766,   0.7598,  -3.6891\n",
      " 79:   7.2772,   0.7252,   0.9526,  10.0238\n",
      " 80:  -0.0413,   2.0384,  -1.7346,   1.7468\n",
      " 81:  -3.0215, -18.4756, -22.6560,  -7.8583\n",
      " 82:   1.2861,  11.0651,   5.3014,  -3.9810\n",
      " 83:  -8.0575,   2.9951,   1.4660,   8.1855\n",
      " 84:   6.2869,  -6.8711,  -5.4861,   7.1363\n",
      " 85:   4.9491,   4.2388,  17.1893,  -2.7961\n",
      " 86:   4.9601,   1.0911,  -6.9425,  -7.1648\n",
      " 87:  -6.0924,  -2.4954,  -6.4282, -11.9296\n",
      " 88:  -2.3317, -19.3906, -24.2868, -11.7881\n",
      " 89:   1.6622,  25.3932,  -2.2610, -10.0568\n",
      " 90:  -4.2164,  -8.7897, -13.2243,  -4.3727\n",
      " 91:  -1.2502,  11.3448,  -6.8721,   0.8549\n",
      " 92:  -1.9116,  -3.5838,  -6.4745,   6.1735\n",
      " 93:   0.0787,   8.5556,   0.4391,   7.8988\n",
      " 94:   0.0668,   2.6848,  17.9025,  -2.6758\n",
      " 95:  -0.1137,   5.6846,  10.6936,  -1.3921\n",
      " 96:   0.4062,  -8.2150,  10.9846,  -0.7576\n",
      " 97:   2.1425,  13.4193, -10.5714,   9.5812\n",
      " 98:  -2.8410,   8.6529,  10.1115, -25.1110\n",
      " 99:   0.6647,  12.0346,   5.7582,   1.4122\n",
      "100:   8.1260,  -4.3902,   0.0720,   2.5051\n",
      "101:   6.0961,   7.9918,   2.4807, -14.3611\n",
      "102: -14.4208,  23.1810,  -9.1189, -19.5328\n",
      "103:   6.2175, -10.7797,  -2.7505,   5.3465\n",
      "104:  -4.1258,   0.5882,   6.7289,   2.7274\n",
      "105:   1.5905,  -3.0423,  -6.8628,   4.7969\n",
      "106:   0.3212,   4.0764,  11.5960,  -8.9415\n",
      "107:   0.3875,   4.2602,   5.0101,   8.1615\n",
      "108:  -0.5170,  -9.2813,   2.3979,  17.8861\n",
      "109:  -0.1353,   2.0202,   2.6842,   2.7180\n",
      "110:   0.1796, -13.3967,  -9.9294,  -7.9079\n",
      "111:  -0.4845,  18.2629,  -5.5115,  13.5890\n",
      "112:   0.4933,   0.6064,   6.0291,   2.1067\n",
      "113:   0.1144, -14.3666,  14.3570,   9.0663\n",
      "114:   0.1910,  16.8411,  17.7416,  -2.6611\n",
      "115:   0.4685,  -6.9050,  -5.3879,  -9.7194\n",
      "116:  -1.3492, -10.5738, -11.2723,  25.6591\n",
      "117:  -3.7258, -14.9437,  -3.8540, -18.2689\n",
      "118:   4.8027,   0.9153,  -3.0858,   0.0266\n",
      "119:  -0.8631,   2.3366,  -3.5334,  25.7575\n",
      "120:   3.8225,  -0.1195,   1.6215,  -4.7856\n",
      "121:  -7.6809,   7.6382,   2.9657,  10.2274\n",
      "122:   7.8739,  -3.8176,   3.5334,  -0.3077\n",
      "123:  -1.4909,  -7.9745,  -2.6905, -14.3297\n",
      "124:  -5.1498,  -1.3075,  -6.1873,  -0.3831\n",
      "125:   4.2237,   5.6112,  -7.6780,   0.8103\n",
      "126:  -0.2938,  -1.1014, -15.7397,  -7.2236\n",
      "127:  -0.7736,  -7.2449,  -8.3457,  12.2433\n",
      "128:  -0.2468,  -1.2755, -11.0775,   1.2304\n",
      "129:   0.6510,   1.5653,  10.3277,  12.6326\n",
      "130:   1.3210, -12.1137,  14.0142, -13.9418\n",
      "131:  -0.8940,  -6.1845,  12.1710,  -1.4336\n",
      "132:  -0.5987,  -0.5937, -10.5500, -15.9205\n",
      "133:  -0.3800, -17.5068, -15.6529,   5.6687\n",
      "134:  -1.0960,  -5.2768, -11.7034,   0.2915\n",
      "135:  -1.4366,  -9.6432,   0.5686,  18.3158\n",
      "136:   3.5675,  -6.7803,   4.9158,   6.7541\n",
      "137:   0.4112,  22.0868,  10.8250,   0.6916\n",
      "138:   1.2581,  -5.4939,   0.6556,   9.9544\n",
      "139:  -2.2415,   9.9639,  17.2353,   2.8334\n",
      "140:  -2.6609,   4.6431,  -0.4214,  -3.1026\n",
      "141:   3.7193,  -7.3056, -11.4233,   1.5453\n",
      "142:   6.4034,   1.5595,  -6.9415,  -1.9037\n",
      "143:  -0.0639,  -9.7862, -12.1962,  -2.7211\n",
      "144:   0.4944, -23.1791,  -2.6516,  15.8848\n",
      "145:   3.9255,  -4.2548,   1.4447,  -4.8715\n",
      "146:  -0.0938, -15.0813,   6.9972,  -8.2012\n",
      "147:   0.7864,  10.1924,   7.6421,  -3.2693\n",
      "148:  -1.1434, -10.0878, -20.4011,   1.6070\n",
      "149:   3.8493,  19.0811,   5.1926,  -2.9644\n",
      "150:  -1.3751,   1.6866, -12.7167,  -1.4720\n",
      "151:   0.5586,   1.8945,  -0.3409,   2.4345\n",
      "152:  -0.0267,  -9.3989,  17.7785,   5.3492\n",
      "153:   0.7543,  -3.9461,  -5.8253,   0.9373\n",
      "154:  -0.6697,  -8.0377,  -9.3947,  -7.1845\n",
      "155:  -0.8075,  -5.6089,  -3.4198,  -7.3946\n",
      "156:   0.7945,   0.6262,  -6.5598,  -7.9544\n",
      "157:  -0.9589,   0.9750,   1.6384,  14.8781\n",
      "158:  -0.4419,   7.3387,  -3.3935,   9.6514\n",
      "159:  -0.9543,  -7.0995,   9.6384,   2.1758\n",
      "160:   0.0804,  -7.5685,   2.6731,   0.7633\n",
      "161:   1.4872, -13.0511, -15.0777,  -1.5749\n",
      "162:   3.3410,   9.7084,   5.2093,   9.1871\n",
      "163:  -1.4676,  -4.2495,  12.2032, -12.6285\n",
      "164:   0.0371,  -9.4070,  -2.0635,  19.6930\n",
      "165:   0.9748,  -6.4710,  -3.9411,  -5.6294\n",
      "166:  -0.3301, -16.6999,   9.2904,   5.0083\n",
      "167:  -0.7343,  -8.5386, -21.8943, -15.4975\n",
      "168:   1.6804,   1.5441,   4.9652,  11.4327\n",
      "169:   1.3024,  -2.7843,   2.6461,  -6.3478\n",
      "170:  -0.2802,   5.1142,   3.4928, -10.4676\n",
      "171:  -0.0194,  -0.9150,   0.8324,  -8.7480\n",
      "172:   0.8998,   2.4593,  12.7578,  13.2321\n",
      "173:   1.8893,   0.4371,   0.2098,  -2.4599\n",
      "174:   0.9221,  -2.4481,  -4.8215,  -6.5853\n",
      "175:   0.4295,  10.6451,   4.2630,  -3.2993\n",
      "176:  -0.4663,  -3.9591, -21.0083,   3.9510\n",
      "177:   0.2410,  -3.0770,  -1.1279,   7.0009\n",
      "178:  -0.2351,  -5.7307, -11.1381, -15.4768\n",
      "179:  -0.8284, -12.6535,  -6.0636,   3.0233\n",
      "180:   1.5086,   3.0825,  20.0081,   7.1492\n",
      "181:  -0.8503, -10.4361,  -0.2338, -20.8377\n",
      "182:   2.8262,  16.3070,  -4.7457,   3.0933\n",
      "183:  -3.3447,   4.3632, -23.8644,  23.4003\n",
      "184:   2.2538,  -2.8481,  -3.2220,   0.6136\n",
      "185:  -1.8269,   1.9254,   5.1141,  11.4786\n",
      "186:   1.4642,  -4.8966,  14.3996,  -3.0223\n",
      "187:  -0.5931, -14.9153,   5.5680,  -0.1307\n",
      "188:   0.7147,  -5.6250,   3.2313,   2.2232\n",
      "189:   0.2209,   8.8058,   5.1469,  -1.0814\n"
     ]
    }
   ],
   "source": [
    "diff = diff.reshape(op.nx*op.ny, len(op.active_controls))\n",
    "for j, row in enumerate(diff):\n",
    "    print(\"{:3d}: {:8.4f}, {:8.4f}, {:8.4f}, {:8.4f}\".format(j, *row))"
   ]
  },
  {
   "cell_type": "code",
   "execution_count": 26,
   "metadata": {},
   "outputs": [
    {
     "name": "stdout",
     "output_type": "stream",
     "text": [
      "Maximum pointwise difference: -31.5644 degree difference in dip on subfault 19\n"
     ]
    }
   ],
   "source": [
    "msg = \"Maximum pointwise difference: {:.4f} degree difference in {:s} on subfault {:d}\"\n",
    "loc = np.unravel_index(np.argmax(np.abs(diff), axis=None), diff.shape)\n",
    "print(msg.format(diff[loc], op.active_controls[loc[1]], loc[0]))"
   ]
  },
  {
   "cell_type": "code",
   "execution_count": 27,
   "metadata": {},
   "outputs": [],
   "source": [
    "op = TohokuOkadaInversionOptions(**kwargs)\n",
    "m_opt = np.load(\"notebook_4_m_opt.npy\")\n",
    "m_opt = m_opt.reshape(op.nx*op.ny, len(op.active_controls))\n",
    "for i, control in enumerate(op.active_controls):\n",
    "    op.control_parameters[control] = m_opt[:, i]\n",
    "    op.create_topography()"
   ]
  },
  {
   "cell_type": "code",
   "execution_count": 28,
   "metadata": {},
   "outputs": [
    {
     "data": {
      "image/png": "[encoded data removed]",
      "text/plain": [
       "<Figure size 1008x288 with 6 Axes>"
      ]
     },
     "metadata": {
      "needs_background": "light"
     },
     "output_type": "display_data"
    }
   ],
   "source": [
    "eta_opt = op.fault.dtopo.dZ.reshape(N, N)\n",
    "eta_err = np.abs(eta - eta_opt)\n",
    "\n",
    "fig, axes = plt.subplots()\n",
    "cbar = fig.colorbar(axes.contourf(X, Y, eta_opt, **plotting_kwargs), ax=axes);\n",
    "cbar.ax.tick_params(labelsize=tick_fontsize);\n",
    "axes.set_xlabel(\"Longitude [degrees]\", fontsize=fontsize);\n",
    "axes.set_ylabel(\"Latitude [degrees]\", fontsize=fontsize);\n",
    "for tick in axes.xaxis.get_major_ticks():\n",
    "    tick.label.set_fontsize(tick_fontsize);\n",
    "for tick in axes.yaxis.get_major_ticks():\n",
    "    tick.label.set_fontsize(tick_fontsize);\n",
    "plt.tight_layout()\n",
    "plt.savefig(\"plots/notebook_4_optimised_source.pdf\")\n",
    "plt.close()\n",
    "\n",
    "fig, axes = plt.subplots()\n",
    "cbar = fig.colorbar(axes.contourf(X, Y, eta_err, **plotting_kwargs), ax=axes);\n",
    "cbar.ax.tick_params(labelsize=tick_fontsize);\n",
    "axes.set_xlabel(\"Longitude [degrees]\", fontsize=fontsize);\n",
    "axes.set_ylabel(\"Latitude [degrees]\", fontsize=fontsize);\n",
    "for tick in axes.xaxis.get_major_ticks():\n",
    "    tick.label.set_fontsize(tick_fontsize);\n",
    "for tick in axes.yaxis.get_major_ticks():\n",
    "    tick.label.set_fontsize(tick_fontsize);\n",
    "plt.tight_layout()\n",
    "plt.savefig(\"plots/notebook_4_pointwise_error.pdf\")\n",
    "plt.close()\n",
    "\n",
    "fig, axes = plt.subplots(ncols=3, figsize=(14, 4))\n",
    "fig.colorbar(axes[0].contourf(X, Y, eta, **plotting_kwargs), ax=axes[0]);\n",
    "axes[0].set_title(\"Original source\");\n",
    "fig.colorbar(axes[1].contourf(X, Y, eta_opt, **plotting_kwargs), ax=axes[1]);\n",
    "axes[1].set_title(\"Optimised source\");\n",
    "fig.colorbar(axes[2].contourf(X, Y, eta_err, **plotting_kwargs), ax=axes[2]);\n",
    "axes[2].set_title(\"Pointwise error\");"
   ]
  },
  {
   "cell_type": "code",
   "execution_count": null,
   "metadata": {},
   "outputs": [],
   "source": []
  }
 ],
 "metadata": {
  "kernelspec": {
   "display_name": "Python 3",
   "language": "python",
   "name": "python3"
  },
  "language_info": {
   "codemirror_mode": {
    "name": "ipython",
    "version": 3
   },
   "file_extension": ".py",
   "mimetype": "text/x-python",
   "name": "python",
   "nbconvert_exporter": "python",
   "pygments_lexer": "ipython3",
   "version": "3.6.9"
  }
 },
 "nbformat": 4,
 "nbformat_minor": 4
}
