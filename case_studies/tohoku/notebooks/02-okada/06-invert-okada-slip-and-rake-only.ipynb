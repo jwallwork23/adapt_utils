{
 "cells": [
  {
   "cell_type": "code",
   "execution_count": 1,
   "metadata": {},
   "outputs": [],
   "source": [
    "%matplotlib inline"
   ]
  },
  {
   "cell_type": "code",
   "execution_count": 2,
   "metadata": {},
   "outputs": [],
   "source": [
    "import adolc"
   ]
  },
  {
   "cell_type": "code",
   "execution_count": 3,
   "metadata": {},
   "outputs": [],
   "source": [
    "from adapt_utils.case_studies.tohoku.options.okada_options import TohokuOkadaBasisOptions\n",
    "from adapt_utils.misc import taylor_test\n",
    "from adapt_utils.norms import vecnorm"
   ]
  },
  {
   "cell_type": "code",
   "execution_count": 4,
   "metadata": {},
   "outputs": [],
   "source": [
    "import matplotlib.pyplot as plt\n",
    "import numpy as np\n",
    "import scipy"
   ]
  },
  {
   "cell_type": "code",
   "execution_count": 5,
   "metadata": {},
   "outputs": [],
   "source": [
    "np.random.seed(0)  # make results reproducible"
   ]
  },
  {
   "cell_type": "markdown",
   "metadata": {},
   "source": [
    "# Inverting the Okada model for slip and rake only\n",
    "\n",
    "The experiments in this notebook are very much the same as those in the previous one.\n",
    "The only difference is that strike and dip are fixed at $198^\\circ$ and $10^\\circ$, respectively."
   ]
  },
  {
   "cell_type": "markdown",
   "metadata": {},
   "source": [
    "### Initialisation\n",
    "\n",
    "Set parameters and create a `TohokuOkadaBasisOptions` object to hold them.\n",
    "Apply the Okada model with default input parameters to give the field we want to invert for, stored in memory as `eta`."
   ]
  },
  {
   "cell_type": "code",
   "execution_count": 6,
   "metadata": {},
   "outputs": [],
   "source": [
    "kwargs = {\n",
    "    'okada_grid_resolution': 51,\n",
    "    'debug': False,\n",
    "}\n",
    "plotting_kwargs = {\n",
    "    'cmap': 'coolwarm',\n",
    "    'levels': 50,\n",
    "}\n",
    "fontsize = 18\n",
    "tick_fontsize = 12\n",
    "active_controls = ('slip', 'rake')"
   ]
  },
  {
   "cell_type": "code",
   "execution_count": 7,
   "metadata": {},
   "outputs": [],
   "source": [
    "op = TohokuOkadaBasisOptions(**kwargs)\n",
    "op.active_controls = active_controls\n",
    "op.create_topography()\n",
    "N = op.N\n",
    "X = op.fault.dtopo.X\n",
    "Y = op.fault.dtopo.Y\n",
    "eta = op.fault.dtopo.dZ.copy()\n",
    "m_orig = op.get_input_vector()\n",
    "np.save(\"notebook_5_m_orig\", m_orig)"
   ]
  },
  {
   "cell_type": "markdown",
   "metadata": {},
   "source": [
    "### Differentatiate the source model\n",
    "\n",
    "Perturb the control parameters with some Normal random noise so that the source is different from that used to generate the gauge timeseries data.\n",
    "This effectively means 'choose an initial guess'."
   ]
  },
  {
   "cell_type": "code",
   "execution_count": 8,
   "metadata": {},
   "outputs": [],
   "source": [
    "kwargs['control_parameters'] = op.control_parameters\n",
    "for control in op.active_controls:\n",
    "    size = np.shape(op.control_parameters[control])\n",
    "    kwargs['control_parameters'][control] += np.random.normal(loc=0, scale=10, size=size)"
   ]
  },
  {
   "cell_type": "markdown",
   "metadata": {},
   "source": [
    "When setting the free surface initial condition using the Okada model, we tell `pyadolc` to annotate its tape.\n",
    "For this application we need to modify the way that the tape is annotated by default and therefore pass the `interpolate` flag as `True`:"
   ]
  },
  {
   "cell_type": "code",
   "execution_count": 9,
   "metadata": {},
   "outputs": [
    {
     "name": "stdout",
     "output_type": "stream",
     "text": [
      "QoI = 3.0457e-01\n"
     ]
    }
   ],
   "source": [
    "tape_tag = 0\n",
    "op = TohokuOkadaBasisOptions(**kwargs)\n",
    "op._data_to_interpolate = eta\n",
    "op.active_controls = active_controls\n",
    "op.create_topography(annotate=True, interpolate=True, tag=tape_tag)\n",
    "op.get_seed_matrices()  # these can be reused over and over\n",
    "print(\"QoI = {:.4e}\".format(op.J.val))\n",
    "assert np.isclose(op.J.val, 3.0457e-01, rtol=1.0e-04)  # from previous run"
   ]
  },
  {
   "cell_type": "markdown",
   "metadata": {},
   "source": [
    "Create some arrays to keep track of the optimisation routine"
   ]
  },
  {
   "cell_type": "code",
   "execution_count": 10,
   "metadata": {},
   "outputs": [],
   "source": [
    "op.J_progress = []\n",
    "op.dJdm_progress = []"
   ]
  },
  {
   "cell_type": "markdown",
   "metadata": {},
   "source": [
    "Sum over all subfaults to get the total QoI.\n",
    "By unrolling the tape, we can easily express the reduced functional as a function of the active controls.\n",
    "Note that we raise a flag which prepares for a subsequent reverse mode propagation."
   ]
  },
  {
   "cell_type": "code",
   "execution_count": 11,
   "metadata": {},
   "outputs": [],
   "source": [
    "def reduced_functional(m):\n",
    "    \"\"\"Apply the Okada model by unrolling the tape and compute the QoI.\"\"\"\n",
    "    J = sum(adolc.zos_forward(tape_tag, m, keep=1))\n",
    "    op.J_progress.append(J)\n",
    "    return J"
   ]
  },
  {
   "cell_type": "code",
   "execution_count": 12,
   "metadata": {},
   "outputs": [],
   "source": [
    "J = reduced_functional(op.input_vector)\n",
    "assert np.isclose(J, op.J.val)"
   ]
  },
  {
   "cell_type": "markdown",
   "metadata": {},
   "source": [
    "The reverse mode of AD computes\n",
    "\n",
    "$$\n",
    "    \\mathbf m_b:=\\frac{\\mathrm dJ}{\\mathrm d\\mathbf m}^T\\:J_b,\n",
    "$$\n",
    "\n",
    "where $J_b$ is a scalar *seed* and $\\mathbf m_b$ is of the same dimension as the control parameter vector.\n",
    "Therefore we can propagate through the reverse mode of AD to get the gradient by choosing a unit seed."
   ]
  },
  {
   "cell_type": "code",
   "execution_count": 13,
   "metadata": {},
   "outputs": [],
   "source": [
    "def gradient(m):\n",
    "    \"\"\"Compute the gradient of the QoI with respect to the input parameters.\"\"\"\n",
    "    dJdm = adolc.fos_reverse(tape_tag, 1.0)\n",
    "    op.dJdm_progress.append(vecnorm(dJdm, order=np.Inf))\n",
    "    return dJdm"
   ]
  },
  {
   "cell_type": "code",
   "execution_count": 14,
   "metadata": {},
   "outputs": [
    {
     "name": "stdout",
     "output_type": "stream",
     "text": [
      "J = 3.0457e-01  ||dJdm|| = 2.0739e-03\n"
     ]
    }
   ],
   "source": [
    "g = gradient(op.input_vector)\n",
    "assert len(g) == len(op.input_vector)\n",
    "print(\"J = {:.4e}  ||dJdm|| = {:.4e}\".format(op.J_progress[-1], op.dJdm_progress[-1]))\n",
    "assert np.isclose(op.dJdm_progress[-1], 2.0739e-03, rtol=1.0e-04)  # from previous run"
   ]
  },
  {
   "cell_type": "code",
   "execution_count": 15,
   "metadata": {},
   "outputs": [],
   "source": [
    "eta_pert = op.fault.dtopo.dZ.copy()"
   ]
  },
  {
   "cell_type": "markdown",
   "metadata": {},
   "source": [
    "Check that the function stored to tape evaluates as it should"
   ]
  },
  {
   "cell_type": "code",
   "execution_count": 16,
   "metadata": {},
   "outputs": [
    {
     "data": {
      "image/png": "[encoded data removed]",
      "text/plain": [
       "<Figure size 648x288 with 4 Axes>"
      ]
     },
     "metadata": {
      "needs_background": "light"
     },
     "output_type": "display_data"
    }
   ],
   "source": [
    "eta_pert = op.fault.dtopo.dZ.reshape(N, N)\n",
    "\n",
    "fig, axes = plt.subplots()\n",
    "cbar = fig.colorbar(axes.contourf(X, Y, eta, **plotting_kwargs), ax=axes);\n",
    "cbar.ax.tick_params(labelsize=tick_fontsize);\n",
    "axes.set_xlabel(\"Longitude [degrees]\", fontsize=fontsize);\n",
    "axes.set_ylabel(\"Latitude [degrees]\", fontsize=fontsize);\n",
    "for tick in axes.xaxis.get_major_ticks():\n",
    "    tick.label.set_fontsize(tick_fontsize);\n",
    "for tick in axes.yaxis.get_major_ticks():\n",
    "    tick.label.set_fontsize(tick_fontsize);\n",
    "plt.tight_layout()\n",
    "plt.savefig(\"plots/notebook_5_original_source.pdf\")\n",
    "plt.close()\n",
    "\n",
    "fig, axes = plt.subplots()\n",
    "cbar = fig.colorbar(axes.contourf(X, Y, eta_pert, **plotting_kwargs), ax=axes);\n",
    "cbar.ax.tick_params(labelsize=tick_fontsize);\n",
    "axes.set_xlabel(\"Longitude [degrees]\", fontsize=fontsize);\n",
    "axes.set_ylabel(\"Latitude [degrees]\", fontsize=fontsize);\n",
    "for tick in axes.xaxis.get_major_ticks():\n",
    "    tick.label.set_fontsize(tick_fontsize);\n",
    "for tick in axes.yaxis.get_major_ticks():\n",
    "    tick.label.set_fontsize(tick_fontsize);\n",
    "plt.tight_layout()\n",
    "plt.savefig(\"plots/notebook_5_perturbed_source.pdf\")\n",
    "plt.close()\n",
    "\n",
    "fig, axes = plt.subplots(ncols=2, figsize=(9, 4))\n",
    "fig.colorbar(axes[0].contourf(X, Y, eta, **plotting_kwargs), ax=axes[0]);\n",
    "axes[0].set_title(\"Original source\");\n",
    "axes[0].set_xlabel(\"Longitude [degrees]\");\n",
    "axes[0].set_ylabel(\"Latitude [degrees]\");\n",
    "fig.colorbar(axes[1].contourf(X, Y, eta_pert, **plotting_kwargs), ax=axes[1]);\n",
    "axes[1].set_title(\"Perturbed source\");\n",
    "axes[1].set_xlabel(\"Longitude [degrees]\");\n",
    "axes[1].set_ylabel(\"Latitude [degrees]\");"
   ]
  },
  {
   "cell_type": "markdown",
   "metadata": {},
   "source": [
    "### Taylor test\n",
    "\n",
    "Before attempting gradient-based optimisation, we better check that our gradient function is consistent."
   ]
  },
  {
   "cell_type": "code",
   "execution_count": 17,
   "metadata": {},
   "outputs": [
    {
     "name": "stdout",
     "output_type": "stream",
     "text": [
      "========================TAYLOR TEST========================\n",
      "h = 1.0000e+00\n",
      "Taylor remainder = 2.1515e-03\n",
      "h = 5.0000e-01\n",
      "Taylor remainder = 5.3803e-04\n",
      "h = 2.5000e-01\n",
      "Taylor remainder = 1.3453e-04\n",
      "====================TAYLOR TEST PASSED!====================\n"
     ]
    }
   ],
   "source": [
    "taylor_test(reduced_functional, gradient, op.input_vector, verbose=True)"
   ]
  },
  {
   "cell_type": "markdown",
   "metadata": {},
   "source": [
    "### Inversion\n",
    "\n",
    "Now we are ready to do the gradient-based optimisation.\n",
    "Here we use BFGS and require that the gradient norm is smaller than $10^{-8}$ for convergence."
   ]
  },
  {
   "cell_type": "code",
   "execution_count": 20,
   "metadata": {},
   "outputs": [
    {
     "name": "stdout",
     "output_type": "stream",
     "text": [
      " 100: J = 2.7769e-03  ||dJdm|| = 8.3628e-05\n",
      " 200: J = 7.8062e-04  ||dJdm|| = 2.1403e-05\n",
      " 300: J = 3.2953e-04  ||dJdm|| = 8.9949e-06\n",
      " 400: J = 1.7621e-04  ||dJdm|| = 7.9621e-06\n",
      " 500: J = 9.5216e-05  ||dJdm|| = 3.7894e-06\n",
      " 700: J = 4.1894e-05  ||dJdm|| = 2.8640e-06\n",
      " 800: J = 3.0838e-05  ||dJdm|| = 1.6080e-06\n",
      " 900: J = 2.3846e-05  ||dJdm|| = 2.0610e-06\n",
      "1000: J = 1.8609e-05  ||dJdm|| = 1.9559e-06\n",
      "1100: J = 1.4822e-05  ||dJdm|| = 5.7339e-07\n",
      "1200: J = 1.1971e-05  ||dJdm|| = 6.7818e-07\n",
      "1300: J = 1.0320e-05  ||dJdm|| = 5.5706e-07\n",
      "1400: J = 8.8930e-06  ||dJdm|| = 5.2346e-07\n",
      "1500: J = 7.5018e-06  ||dJdm|| = 5.2361e-07\n",
      "1600: J = 6.7992e-06  ||dJdm|| = 1.9786e-07\n",
      "1700: J = 5.8198e-06  ||dJdm|| = 6.0808e-07\n",
      "1800: J = 5.2239e-06  ||dJdm|| = 2.8740e-07\n",
      "1900: J = 4.7757e-06  ||dJdm|| = 1.4167e-07\n",
      "2000: J = 4.1865e-06  ||dJdm|| = 3.5520e-07\n",
      "2100: J = 3.5043e-06  ||dJdm|| = 4.9788e-07\n",
      "2200: J = 3.1151e-06  ||dJdm|| = 2.1110e-07\n",
      "2300: J = 2.7169e-06  ||dJdm|| = 2.2493e-07\n",
      "2400: J = 2.4900e-06  ||dJdm|| = 1.3804e-07\n",
      "2500: J = 2.2367e-06  ||dJdm|| = 2.3582e-07\n",
      "2600: J = 2.0305e-06  ||dJdm|| = 1.5834e-07\n",
      "2700: J = 1.7807e-06  ||dJdm|| = 1.4050e-07\n",
      "2800: J = 1.5685e-06  ||dJdm|| = 1.4259e-07\n",
      "2900: J = 1.4239e-06  ||dJdm|| = 1.0949e-07\n",
      "3000: J = 1.2706e-06  ||dJdm|| = 5.1281e-08\n",
      "3100: J = 1.1382e-06  ||dJdm|| = 1.1044e-07\n",
      "3200: J = 1.0309e-06  ||dJdm|| = 6.6441e-08\n",
      "3300: J = 9.3979e-07  ||dJdm|| = 6.3952e-08\n",
      "3400: J = 8.3268e-07  ||dJdm|| = 5.3849e-08\n",
      "3500: J = 7.3608e-07  ||dJdm|| = 4.8280e-08\n",
      "3600: J = 6.7478e-07  ||dJdm|| = 1.3474e-07\n",
      "3700: J = 6.0488e-07  ||dJdm|| = 5.0903e-08\n",
      "3800: J = 5.5792e-07  ||dJdm|| = 4.1254e-08\n",
      "3900: J = 4.9580e-07  ||dJdm|| = 4.1390e-08\n",
      "4000: J = 4.2380e-07  ||dJdm|| = 2.4121e-08\n",
      "4100: J = 3.7295e-07  ||dJdm|| = 2.7659e-08\n",
      "4200: J = 3.3719e-07  ||dJdm|| = 5.5575e-08\n",
      "4300: J = 2.8793e-07  ||dJdm|| = 2.0520e-08\n",
      "4400: J = 2.4760e-07  ||dJdm|| = 6.0623e-08\n",
      "4500: J = 2.0615e-07  ||dJdm|| = 2.1627e-08\n",
      "4600: J = 1.8319e-07  ||dJdm|| = 3.5126e-08\n",
      "4700: J = 1.4624e-07  ||dJdm|| = 1.5161e-08\n",
      "Optimization terminated successfully.\n",
      "         Current function value: 0.000000\n",
      "         Iterations: 4681\n",
      "         Function evaluations: 4727\n",
      "         Gradient evaluations: 4727\n"
     ]
    }
   ],
   "source": [
    "# Reset progress arrays\n",
    "op.J_progress = []\n",
    "op.dJdm_progress = []\n",
    "\n",
    "def opt_cb(m):\n",
    "    \"\"\"Print progress after every successful line search\"\"\"\n",
    "    msg = \"{:4d}: J = {:.4e}  ||dJdm|| = {:.4e}\"\n",
    "    counter = len(op.J_progress)\n",
    "    if counter % 100 == 0:\n",
    "        print(msg.format(counter, op.J_progress[-1], op.dJdm_progress[-1]))\n",
    "\n",
    "opt_parameters = {\n",
    "    'maxiter': 40000,\n",
    "    'disp': True,\n",
    "    'gtol': 1.0e-08,\n",
    "    'callback': opt_cb,\n",
    "    'retall': True,\n",
    "    'fprime': gradient,\n",
    "}\n",
    "\n",
    "m_opt, out = scipy.optimize.fmin_bfgs(reduced_functional, op.input_vector, **opt_parameters)"
   ]
  },
  {
   "cell_type": "code",
   "execution_count": 21,
   "metadata": {},
   "outputs": [],
   "source": [
    "np.save(\"notebook_5_m_opt\", m_opt)\n",
    "np.save(\"notebook_5_J_progress\", op.J_progress)\n",
    "np.save(\"notebook_5_dJdm_progress\", op.dJdm_progress)"
   ]
  },
  {
   "cell_type": "markdown",
   "metadata": {},
   "source": [
    "Let's take a look at the progress of the reduced functional and gradient"
   ]
  },
  {
   "cell_type": "code",
   "execution_count": 19,
   "metadata": {},
   "outputs": [
    {
     "data": {
      "image/png": "[encoded data removed]",
      "text/plain": [
       "<Figure size 1008x432 with 2 Axes>"
      ]
     },
     "metadata": {
      "needs_background": "light"
     },
     "output_type": "display_data"
    }
   ],
   "source": [
    "op.J_progress = np.load(\"notebook_5_J_progress.npy\")\n",
    "op.dJdm_progress = np.load(\"notebook_5_dJdm_progress.npy\")\n",
    "\n",
    "fig, axes = plt.subplots()\n",
    "axes.semilogy(op.J_progress);\n",
    "axes.set_xlabel(\"Iteration\", fontsize=fontsize);\n",
    "axes.set_ylabel(\"Mean square error\", fontsize=fontsize);\n",
    "for tick in axes.xaxis.get_major_ticks():\n",
    "    tick.label.set_fontsize(tick_fontsize);\n",
    "for tick in axes.yaxis.get_major_ticks():\n",
    "    tick.label.set_fontsize(tick_fontsize);\n",
    "plt.tight_layout()\n",
    "plt.savefig(\"plots/notebook_5_J_progress.pdf\")\n",
    "plt.close()\n",
    "\n",
    "fig, axes = plt.subplots()\n",
    "axes.semilogy(op.dJdm_progress);\n",
    "axes.set_xlabel(\"Iteration\", fontsize=fontsize);\n",
    "axes.set_ylabel(r\"$\\ell_\\infty$-norm of gradient\", fontsize=fontsize);\n",
    "for tick in axes.xaxis.get_major_ticks():\n",
    "    tick.label.set_fontsize(tick_fontsize);\n",
    "for tick in axes.yaxis.get_major_ticks():\n",
    "    tick.label.set_fontsize(tick_fontsize);\n",
    "plt.tight_layout()\n",
    "plt.savefig(\"plots/notebook_5_dJdm_progress.pdf\")\n",
    "plt.close()\n",
    "\n",
    "fig, axes = plt.subplots(ncols=2, figsize=(14, 6))\n",
    "ax = axes[0]\n",
    "ax.semilogy(op.J_progress);\n",
    "ax.set_xlabel(\"Iteration\", fontsize=fontsize);\n",
    "ax.set_ylabel(\"Mean square error\", fontsize=fontsize);\n",
    "for tick in ax.xaxis.get_major_ticks():\n",
    "    tick.label.set_fontsize(tick_fontsize);\n",
    "for tick in ax.yaxis.get_major_ticks():\n",
    "    tick.label.set_fontsize(tick_fontsize);\n",
    "ax = axes[1]\n",
    "ax.semilogy(op.dJdm_progress);\n",
    "ax.set_xlabel(\"Iteration\", fontsize=fontsize);\n",
    "ax.set_ylabel(\"Norm of gradient\", fontsize=fontsize);\n",
    "for tick in ax.xaxis.get_major_ticks():\n",
    "    tick.label.set_fontsize(tick_fontsize);\n",
    "for tick in ax.yaxis.get_major_ticks():\n",
    "    tick.label.set_fontsize(tick_fontsize);"
   ]
  },
  {
   "cell_type": "markdown",
   "metadata": {},
   "source": [
    "Compare the optimised parameters, `m_opt`, against the original ones, `m_orig`."
   ]
  },
  {
   "cell_type": "code",
   "execution_count": 20,
   "metadata": {},
   "outputs": [
    {
     "name": "stdout",
     "output_type": "stream",
     "text": [
      "Mean square error of controls = 2.6317e+01\n"
     ]
    }
   ],
   "source": [
    "m_opt = np.load(\"notebook_5_m_opt.npy\")\n",
    "m_orig = np.load(\"notebook_5_m_orig.npy\")\n",
    "diff = m_opt - m_orig\n",
    "print(\"Mean square error of controls = {:.4e}\".format(np.linalg.norm(diff)**2/len(m_opt)))"
   ]
  },
  {
   "cell_type": "code",
   "execution_count": 21,
   "metadata": {},
   "outputs": [
    {
     "data": {
      "image/png": "[encoded data removed]",
      "text/plain": [
       "<Figure size 432x288 with 1 Axes>"
      ]
     },
     "metadata": {
      "needs_background": "light"
     },
     "output_type": "display_data"
    }
   ],
   "source": [
    "plt.hist(diff, bins=21);"
   ]
  },
  {
   "cell_type": "code",
   "execution_count": 22,
   "metadata": {},
   "outputs": [
    {
     "name": "stdout",
     "output_type": "stream",
     "text": [
      "  0:   0.0042, -17.6233\n",
      "  1:   0.0127,  -0.3642\n",
      "  2:  -0.0862,   2.5470\n",
      "  3:   0.1441,   0.6666\n",
      "  4:   0.1984,  -0.7519\n",
      "  5:   0.0445,  -1.3829\n",
      "  6:  -0.0128,  -1.4164\n",
      "  7:  -0.0425,  -0.5678\n",
      "  8:  -0.1328,  -0.3565\n",
      "  9:  -0.0957,   0.9414\n",
      " 10:   0.0842,   0.1467\n",
      " 11:  -0.0176,  -0.9272\n",
      " 12:  -0.3296,   2.8170\n",
      " 13:   0.1138,  10.7877\n",
      " 14:   0.4942,   2.0199\n",
      " 15:  -0.0429,   2.6049\n",
      " 16:   0.0635,   0.6268\n",
      " 17:  -0.0197,  -1.7477\n",
      " 18:   0.0033,   2.5249\n",
      " 19:   0.0227,  -1.5209\n",
      " 20:  -0.0705,  -1.6858\n",
      " 21:  -0.2031,   2.9710\n",
      " 22:  -0.1217,   3.2045\n",
      " 23:   0.2691,   4.7145\n",
      " 24:   2.8163,  -4.0525\n",
      " 25:  -1.4924,  -1.9521\n",
      " 26:   0.3398,  -1.7923\n",
      " 27:  -2.2588,   0.4757\n",
      " 28:   0.7465,   1.6796\n",
      " 29:   1.1338,   0.2658\n",
      " 30:  -0.8618,  -0.0385\n",
      " 31:  -0.8120,  -1.2394\n",
      " 32:   0.4900,  -2.0073\n",
      " 33:   0.4814,  -0.6589\n",
      " 34:   0.0835,  -6.3157\n",
      " 35:  -0.1158,  -0.3084\n",
      " 36:  -0.0003,   2.8322\n",
      " 37:   0.0031,   0.2222\n",
      " 38:   0.0578,  -5.0315\n",
      " 39:  -0.1080,  -1.8516\n",
      " 40:  -0.3751,  -2.6592\n",
      " 41:  -1.4510,   0.5590\n",
      " 42:   1.8028,   2.4069\n",
      " 43:   1.8649,   1.8749\n",
      " 44:  -1.0413,   2.8914\n",
      " 45:   1.6577,  -3.3981\n",
      " 46:  -3.7447,   2.3124\n",
      " 47:   3.4186,  -5.6550\n",
      " 48:  -3.9587,   1.8748\n",
      " 49:   2.1873,   4.8345\n",
      " 50:   0.6921,  -1.1241\n",
      " 51:  -1.0097,  -0.5907\n",
      " 52:   1.0783,  -0.5360\n",
      " 53:  -0.4000,  -2.7339\n",
      " 54:   0.2034,  -3.8597\n",
      " 55:   0.0364, -17.9155\n",
      " 56:  -0.0078,  11.2594\n",
      " 57:   0.0159,   8.8280\n",
      " 58:   0.0579,  -8.4345\n",
      " 59:   0.6809,  -8.8551\n",
      " 60:  -2.1556,  -3.5763\n",
      " 61:   0.7805,  -1.0941\n",
      " 62:  -1.1543,   3.2192\n",
      " 63:   4.8245,   0.8448\n",
      " 64:  -1.9845,  -2.8361\n",
      " 65:  -1.6919,   2.0597\n",
      " 66:   3.7339,   3.8886\n",
      " 67:  -0.0744, -12.7325\n",
      " 68:   2.2823,  -5.3345\n",
      " 69:  -0.8710,   3.5495\n",
      " 70:   0.8455, -10.4826\n",
      " 71:   0.2731,  -4.1380\n",
      " 72:   0.8874,  -2.8432\n",
      " 73:   0.4012, -10.4201\n",
      " 74:  -0.1532, -17.9192\n",
      " 75:  -0.0154,   1.9142\n",
      " 76:   0.1404,   4.6865\n",
      " 77:   0.5025,  -0.0402\n",
      " 78:   0.2839,  -0.6884\n",
      " 79:  -1.6026,   3.4540\n",
      " 80:   0.9669,  -3.9680\n",
      " 81:  -4.0062,   0.1774\n",
      " 82:   6.7561,   4.5897\n",
      " 83:  -3.5157,  -0.9891\n",
      " 84:  -3.9088,   4.9266\n",
      " 85:   6.3068,   0.0381\n",
      " 86:  -1.6330,  10.5578\n",
      " 87:  -1.6073,  -4.1634\n",
      " 88:   0.3169, -19.6909\n",
      " 89:   0.0614,  23.8703\n",
      " 90:   0.2535,  -1.8952\n",
      " 91:  -0.6975,   4.2402\n",
      " 92:  -0.8769,   1.7123\n",
      " 93:  -0.2316,  14.5465\n",
      " 94:   0.0318,   2.4163\n",
      " 95:   0.2804,   3.7776\n",
      " 96:   0.2326,  -0.1862\n",
      " 97:  -0.1763,  14.8060\n",
      " 98:  -0.8658,   3.6574\n",
      " 99:   0.1974,   2.6738\n",
      "100:  -1.7769,  -8.1228\n",
      "101:   6.9763,   6.2494\n",
      "102:  -9.8903,  19.1800\n",
      "103:   3.9123,  -1.5357\n",
      "104:   1.0426,   0.8389\n",
      "105:  -1.0225,   7.4386\n",
      "106:   0.9522,   5.0544\n",
      "107:   0.5932,   6.1035\n",
      "108:   0.7782,  -6.4470\n",
      "109:  -1.2044,   0.3656\n",
      "110:  -0.6208, -19.6204\n",
      "111:   0.0598,  17.0450\n",
      "112:   0.2977,  -6.3601\n",
      "113:  -0.0217,  -4.9839\n",
      "114:   0.2439,   7.8852\n",
      "115:   0.4299,  -0.0396\n",
      "116:  -0.2142,  -6.5719\n",
      "117:   0.0637, -15.2355\n",
      "118:  -0.8294,   7.9198\n",
      "119:   2.5938,   2.1657\n",
      "120:   0.6095,  -1.4256\n",
      "121:  -6.2088,   8.0681\n",
      "122:   5.3511,  -2.0381\n",
      "123:  -0.3536,  -0.8920\n",
      "124:  -0.7965,  -2.4067\n",
      "125:   0.6065,   4.2276\n",
      "126:   1.3321,   0.1572\n",
      "127:  -1.6128,  -4.8371\n",
      "128:  -0.8854,  -0.7260\n",
      "129:   0.6899,   3.5549\n",
      "130:   0.5985, -11.8018\n",
      "131:  -0.4140,  -5.8528\n",
      "132:  -0.0757,  -1.2128\n",
      "133:  -0.2407,   1.8074\n",
      "134:  -1.6713,   3.3002\n",
      "135:  -0.9042,   3.0489\n",
      "136:  -0.8757,  -1.3803\n",
      "137:   0.6180,  22.7514\n",
      "138:   0.4398,  -7.0035\n",
      "139:  -2.4357,   6.3291\n",
      "140:  -2.4333,  -0.3717\n",
      "141:   3.1879,  -3.5366\n",
      "142:   0.4055,   2.3043\n",
      "143:  -0.2726,  -4.9495\n",
      "144:   0.2526, -13.5648\n",
      "145:   0.1188,  -1.3956\n",
      "146:  -1.5347, -15.9893\n",
      "147:   1.3756,   6.7710\n",
      "148:  -0.1580,  -7.9417\n",
      "149:   0.2683,  15.8543\n",
      "150:   0.2285,   9.5595\n",
      "151:   0.0342,  -1.9541\n",
      "152:  -0.0129,  -3.9285\n",
      "153:   0.7992,  -2.9177\n",
      "154:   0.8896,  -0.4849\n",
      "155:   0.8489,  -2.6547\n",
      "156:   0.6752,  -3.4902\n",
      "157:  -0.3783,   1.0604\n",
      "158:  -1.1356,   7.5664\n",
      "159:   0.4399, -10.5804\n",
      "160:   0.6682,  -0.5309\n",
      "161:   0.1739,  -0.3779\n",
      "162:   1.2110,   6.2267\n",
      "163:   0.0922,   0.1007\n",
      "164:  -1.5196,  -4.5560\n",
      "165:   0.3932,  -6.5401\n",
      "166:   1.0177, -13.0879\n",
      "167:  -1.1316,  -5.9496\n",
      "168:  -0.3214,  -1.6170\n",
      "169:   0.6871,  -0.6996\n",
      "170:  -0.0619,   3.5980\n",
      "171:   0.0401,   0.0589\n",
      "172:  -0.0596,   3.4159\n",
      "173:  -0.0879,   2.5755\n",
      "174:  -0.3060,  -1.9397\n",
      "175:   0.3072,   4.7174\n",
      "176:  -0.6366,  -3.0065\n",
      "177:   0.7414,  -3.5154\n",
      "178:  -0.3481, -12.9045\n",
      "179:   0.4568, -12.0741\n",
      "180:  -0.1306,   2.1296\n",
      "181:   0.0851,  -8.1393\n",
      "182:   0.6255,  20.0918\n",
      "183:  -0.2966,   6.6531\n",
      "184:  -0.1569,  -6.0436\n",
      "185:   0.7094,   9.7106\n",
      "186:  -0.7791,   8.1704\n",
      "187:   0.1837, -12.1526\n",
      "188:   0.1573,  -7.0032\n",
      "189:   0.0689,  -0.5938\n"
     ]
    }
   ],
   "source": [
    "diff = diff.reshape(op.nx*op.ny, len(op.active_controls))\n",
    "for j, row in enumerate(diff):\n",
    "    print(\"{:3d}: {:8.4f}, {:8.4f}\".format(j, *row))"
   ]
  },
  {
   "cell_type": "code",
   "execution_count": 23,
   "metadata": {},
   "outputs": [
    {
     "name": "stdout",
     "output_type": "stream",
     "text": [
      "Maximum pointwise difference: 23.8703 degree difference in rake on subfault 89\n"
     ]
    }
   ],
   "source": [
    "msg = \"Maximum pointwise difference: {:.4f} degree difference in {:s} on subfault {:d}\"\n",
    "loc = np.unravel_index(np.argmax(np.abs(diff), axis=None), diff.shape)\n",
    "print(msg.format(diff[loc], op.active_controls[loc[1]], loc[0]))"
   ]
  },
  {
   "cell_type": "code",
   "execution_count": 24,
   "metadata": {},
   "outputs": [],
   "source": [
    "op = TohokuOkadaInversionOptions(**kwargs)\n",
    "op.active_controls = active_controls\n",
    "m_opt = np.load(\"notebook_5_m_opt.npy\")\n",
    "m_opt = m_opt.reshape(op.nx*op.ny, len(op.active_controls))\n",
    "for i, control in enumerate(op.active_controls):\n",
    "    op.control_parameters[control] = m_opt[:, i]\n",
    "    op.create_topography()"
   ]
  },
  {
   "cell_type": "code",
   "execution_count": 25,
   "metadata": {},
   "outputs": [
    {
     "data": {
      "image/png": "[encoded data removed]",
      "text/plain": [
       "<Figure size 1008x288 with 6 Axes>"
      ]
     },
     "metadata": {
      "needs_background": "light"
     },
     "output_type": "display_data"
    }
   ],
   "source": [
    "eta_opt = op.fault.dtopo.dZ.reshape(N, N)\n",
    "eta_err = np.abs(eta - eta_opt)\n",
    "\n",
    "fig, axes = plt.subplots()\n",
    "cbar = fig.colorbar(axes.contourf(X, Y, eta_opt, **plotting_kwargs), ax=axes);\n",
    "cbar.ax.tick_params(labelsize=tick_fontsize);\n",
    "axes.set_xlabel(\"Longitude [degrees]\", fontsize=fontsize);\n",
    "axes.set_ylabel(\"Latitude [degrees]\", fontsize=fontsize);\n",
    "for tick in axes.xaxis.get_major_ticks():\n",
    "    tick.label.set_fontsize(tick_fontsize);\n",
    "for tick in axes.yaxis.get_major_ticks():\n",
    "    tick.label.set_fontsize(tick_fontsize);\n",
    "plt.tight_layout()\n",
    "plt.savefig(\"plots/notebook_5_optimised_source.pdf\")\n",
    "plt.close()\n",
    "\n",
    "fig, axes = plt.subplots()\n",
    "cbar = fig.colorbar(axes.contourf(X, Y, eta_err, **plotting_kwargs), ax=axes);\n",
    "cbar.ax.tick_params(labelsize=tick_fontsize);\n",
    "axes.set_xlabel(\"Longitude [degrees]\", fontsize=fontsize);\n",
    "axes.set_ylabel(\"Latitude [degrees]\", fontsize=fontsize);\n",
    "for tick in axes.xaxis.get_major_ticks():\n",
    "    tick.label.set_fontsize(tick_fontsize);\n",
    "for tick in axes.yaxis.get_major_ticks():\n",
    "    tick.label.set_fontsize(tick_fontsize);\n",
    "plt.tight_layout()\n",
    "plt.savefig(\"plots/notebook_5_pointwise_error.pdf\")\n",
    "plt.close()\n",
    "\n",
    "fig, axes = plt.subplots(ncols=3, figsize=(14, 4))\n",
    "fig.colorbar(axes[0].contourf(X, Y, eta, **plotting_kwargs), ax=axes[0]);\n",
    "axes[0].set_title(\"Original source\");\n",
    "fig.colorbar(axes[1].contourf(X, Y, eta_opt, **plotting_kwargs), ax=axes[1]);\n",
    "axes[1].set_title(\"Optimised source\");\n",
    "fig.colorbar(axes[2].contourf(X, Y, eta_err, **plotting_kwargs), ax=axes[2]);\n",
    "axes[2].set_title(\"Pointwise error\");"
   ]
  },
  {
   "cell_type": "code",
   "execution_count": null,
   "metadata": {},
   "outputs": [],
   "source": []
  }
 ],
 "metadata": {
  "kernelspec": {
   "display_name": "Python 3",
   "language": "python",
   "name": "python3"
  },
  "language_info": {
   "codemirror_mode": {
    "name": "ipython",
    "version": 3
   },
   "file_extension": ".py",
   "mimetype": "text/x-python",
   "name": "python",
   "nbconvert_exporter": "python",
   "pygments_lexer": "ipython3",
   "version": "3.6.9"
  }
 },
 "nbformat": 4,
 "nbformat_minor": 4
}
