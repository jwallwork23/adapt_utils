{
 "cells": [
  {
   "cell_type": "markdown",
   "metadata": {},
   "source": [
    "# Tohoku tsunami inversion\n",
    "## 6. Inversion using continuous adjoint\n",
    "\n",
    "Now let's perform the same inversion as in notebook 4 but using the continuous adjoint approach to compute gradients, as opposed to discrete adjoint."
   ]
  },
  {
   "cell_type": "code",
   "execution_count": 1,
   "metadata": {},
   "outputs": [],
   "source": [
    "%matplotlib inline"
   ]
  },
  {
   "cell_type": "code",
   "execution_count": 2,
   "metadata": {},
   "outputs": [],
   "source": [
    "import matplotlib\n",
    "import matplotlib.pyplot as plt\n",
    "import scipy\n",
    "from time import clock"
   ]
  },
  {
   "cell_type": "code",
   "execution_count": 3,
   "metadata": {},
   "outputs": [],
   "source": [
    "from thetis import *"
   ]
  },
  {
   "cell_type": "code",
   "execution_count": 4,
   "metadata": {},
   "outputs": [],
   "source": [
    "from adapt_utils.case_studies.tohoku.options.options import TohokuOptions\n",
    "from adapt_utils.norms import total_variation\n",
    "from adapt_utils.misc import gaussian, ellipse"
   ]
  },
  {
   "cell_type": "markdown",
   "metadata": {},
   "source": [
    "_[Misc plotting functions]_"
   ]
  },
  {
   "cell_type": "code",
   "execution_count": 5,
   "metadata": {
    "code_folding": [
     0
    ]
   },
   "outputs": [],
   "source": [
    "def plot_field(field, figure=None, axes=None, height=5, **kwargs):\n",
    "    CG1 = field.ufl_element().degree() == 1 and field.ufl_element().family() == 'Lagrange'\n",
    "    fs_constructor = FunctionSpace if len(field.function_space().shape) == 0 else VectorFunctionSpace\n",
    "    out = field if CG1 else interpolate(field, fs_constructor(field.function_space().mesh(), \"CG\", 1))\n",
    "    \n",
    "    if figure is None and axes is None:\n",
    "        figure, axes = plt.subplots(figsize=(height*1.2, height))\n",
    "    if axes is None:\n",
    "        axes = plt.gca()\n",
    "    figure.colorbar(tricontourf(out, levels=50, axes=axes, cmap='coolwarm', **kwargs), ax=axes);\n",
    "    axes.axis(False);\n",
    "    axes.set_title(field.dat.name);\n",
    "    return axes"
   ]
  },
  {
   "cell_type": "code",
   "execution_count": 6,
   "metadata": {
    "code_folding": [
     0
    ]
   },
   "outputs": [],
   "source": [
    "def plot_fields(*fields, height=5):\n",
    "    nfields = len(fields)\n",
    "    fig, axes = plt.subplots(ncols=nfields, figsize=(height*nfields*1.2, height))\n",
    "    for i, field in enumerate(fields):\n",
    "        try:\n",
    "            plot_field(field, fig, axes[i])\n",
    "        except AttributeError:\n",
    "            plot_mesh(field, fig, axes[i])\n",
    "    return axes"
   ]
  },
  {
   "cell_type": "markdown",
   "metadata": {},
   "source": [
    "In this hacky implementation we use some global variables"
   ]
  },
  {
   "cell_type": "code",
   "execution_count": 7,
   "metadata": {},
   "outputs": [],
   "source": [
    "global level\n",
    "level = 0\n",
    "# level = 1\n",
    "# level = 2\n",
    "\n",
    "global op\n",
    "op = TohokuOptions(level=0)\n",
    "op.gauges.pop('21418')  # This pressure gauge isn't within the domain\n",
    "\n",
    "global mesh\n",
    "mesh = op.default_mesh\n",
    "\n",
    "global diffs\n",
    "diffs = [None for i in range(int(op.end_time/op.dt))]\n",
    "\n",
    "global boundary_conditions\n",
    "boundary_conditions = {\n",
    "    100: ['freeslip', 'dirichlet'],\n",
    "    200: ['freeslip'],\n",
    "    300: ['freeslip'],\n",
    "}\n",
    "\n",
    "global basis_centres\n",
    "basis_centres = [(0.7e+06, 4.2e+06), ]"
   ]
  },
  {
   "cell_type": "markdown",
   "metadata": {},
   "source": [
    "### Forward model\n",
    "\n",
    "As before, consider the shallow water equations linearised about lake at rest:\n",
    "\n",
    "$$\n",
    "    \\frac{\\partial\\mathbf u}{\\partial t}+g\\nabla\\eta+f\\widehat{\\mathbf z}\\times\\mathbf u=\\boldsymbol0,\\qquad\n",
    "    \\frac{\\partial\\eta}{\\partial t}+\\nabla\\cdot(b\\mathbf u)=0,\\qquad\n",
    "    \\text{in}\\quad(0,T]\\times\\Omega,\n",
    "$$\n",
    "\n",
    "equipped with boundary conditions\n",
    "\n",
    "$$\n",
    "    \\mathbf u\\cdot\\widehat{\\mathbf n}|_{\\Gamma_{\\mathrm{freeslip}}}\\equiv0,\\qquad\n",
    "    \\eta|_{\\Gamma_D}\\equiv0.\n",
    "$$\n",
    "\n",
    "Assume zero initial velocity and expand the initial surface over a radial basis:\n",
    "\n",
    "$$\n",
    "    \\mathbf u|_{t=0}\\equiv\\boldsymbol0,\\qquad\n",
    "    \\eta|_{t=0}=\\sum_{k=1}^N m_kg_k,\n",
    "$$\n",
    "\n",
    "where $m_k$ are (constant in space) control parameters and $g_k$ are Gaussians."
   ]
  },
  {
   "cell_type": "markdown",
   "metadata": {},
   "source": [
    "Choose an initial guess for the basis coefficient"
   ]
  },
  {
   "cell_type": "code",
   "execution_count": 8,
   "metadata": {},
   "outputs": [],
   "source": [
    "m0 = 10.0"
   ]
  },
  {
   "cell_type": "code",
   "execution_count": 9,
   "metadata": {},
   "outputs": [],
   "source": [
    "def get_fields(fs):\n",
    "    elev_space = fs.sub(1)\n",
    "    b = Function(elev_space, name=\"Bathymetry (from GEBCO)\").assign(op.set_bathymetry(elev_space))\n",
    "    f = Function(elev_space, name=\"Coriolis parameter\").assign(op.set_coriolis(elev_space))\n",
    "    g = Constant(op.g)\n",
    "    return b, f, g"
   ]
  },
  {
   "cell_type": "markdown",
   "metadata": {},
   "source": [
    "### Quantity of Interest\n",
    "\n",
    "Again, we have the QoI\n",
    "\n",
    "$$\n",
    "J(\\mathbf u,\\eta)=\\frac12\\sum_{g\\in\\mathcal G}\\int_0^T\\int_\\Omega\\mathbb1_g\\big(\\:\\eta(x,t)-\\eta_g(t)\\:\\big)^2\\;\\mathrm dx\\;\\mathrm dt,\n",
    "$$\n",
    "\n",
    "where $\\mathbb1_g$ is an indicator function related to a sufficiently small neighbourhood of gauge $g$."
   ]
  },
  {
   "cell_type": "code",
   "execution_count": 10,
   "metadata": {
    "code_folding": []
   },
   "outputs": [],
   "source": [
    "def sampled_timeseries(g, sample=1):\n",
    "    time_prev = 0.0\n",
    "    num_lines = sum(1 for line in open('resources/gauges/{:s}.dat'.format(g), 'r'))\n",
    "    t, d, running = [], [], []\n",
    "    with open('resources/gauges/{:s}.dat'.format(g), 'r') as f:\n",
    "        for i in range(num_lines):\n",
    "            time, dat = f.readline().split()\n",
    "            time, dat = float(time), float(dat)\n",
    "            if np.isnan(dat):\n",
    "                continue\n",
    "            running.append(dat)\n",
    "            if i % sample == 0 and i > 0:\n",
    "                t.append(0.5*(time + time_prev))\n",
    "                d.append(np.mean(running))\n",
    "                running = 0\n",
    "                time_prev = time\n",
    "                running = []\n",
    "    return scipy.interpolate.interp1d(t, d, bounds_error=False, fill_value='extrapolate')"
   ]
  },
  {
   "cell_type": "code",
   "execution_count": 11,
   "metadata": {},
   "outputs": [],
   "source": [
    "def get_basis_functions(fs, xy_skew=(48e+03, 96e+03), angle=pi/12):\n",
    "    basis_functions = []\n",
    "    for loc in basis_centres:\n",
    "        basis_function = Function(fs)\n",
    "        psi, phi = basis_function.split()\n",
    "        phi.interpolate(gaussian([loc + xy_skew, ], fs.mesh(), rotation=angle))\n",
    "        basis_functions.append(basis_function)\n",
    "    return basis_functions"
   ]
  },
  {
   "cell_type": "code",
   "execution_count": 12,
   "metadata": {},
   "outputs": [],
   "source": [
    "def print_debug(msg, debug=False):\n",
    "    if debug:\n",
    "        print(msg)"
   ]
  },
  {
   "cell_type": "code",
   "execution_count": 13,
   "metadata": {},
   "outputs": [],
   "source": [
    "def solve_forward(ctrl_dat, gradient=False, debug=True):\n",
    "    print(\"FORWARD SOLVE FOR GRADIENT CALCULATION\" if gradient else \"FORWARD SOLVE\")\n",
    "    if isinstance(ctrl_dat, float):\n",
    "        ctrl_dat = [ctrl_dat, ]\n",
    "    print_debug(\"Current control value = {:.8e}\".format(*ctrl_dat), debug=debug)\n",
    "    \n",
    "    # --- Setup function spaces\n",
    "    \n",
    "    fs = VectorFunctionSpace(mesh, \"CG\", 2)*FunctionSpace(mesh, \"CG\", 1)\n",
    "    P0 = FunctionSpace(mesh, \"DG\", 0)\n",
    "    \n",
    "    # -- Setup fields\n",
    "    \n",
    "    b, f, g = get_fields(fs)\n",
    "    \n",
    "    # --- Setup PDE\n",
    "    \n",
    "    dtc = Constant(op.dt)\n",
    "    \n",
    "    u, eta = TrialFunctions(fs)\n",
    "    z, zeta = TestFunctions(fs)\n",
    "\n",
    "    q_ = Function(fs)\n",
    "    u_, eta_ = q_.split()\n",
    "\n",
    "    a = inner(z, u)*dx + inner(zeta, eta)*dx\n",
    "    L = inner(z, u_)*dx + inner(zeta, eta_)*dx\n",
    "    \n",
    "    n = FacetNormal(mesh)\n",
    "\n",
    "    def G(uv, elev):\n",
    "        F = g*inner(z, grad(elev))*dx\n",
    "        F += f*inner(z, as_vector((-uv[1], uv[0])))*dx\n",
    "        F += -inner(grad(zeta), b*uv)*dx\n",
    "        for tag in boundary_conditions:\n",
    "            if 'freeslip' not in boundary_conditions[tag]:\n",
    "                F += inner(zeta*n, b*uv)*ds(tag)\n",
    "        return F\n",
    "\n",
    "    a += 0.5*dtc*G(u, eta)\n",
    "    L += -0.5*dtc*G(u_, eta_)\n",
    "\n",
    "    q = Function(fs)\n",
    "    u, eta = q.split()\n",
    "\n",
    "    bcs = []\n",
    "    for tag in boundary_conditions:\n",
    "        if 'dirichlet' in boundary_conditions[tag]:\n",
    "            bcs.append(DirichletBC(fs.sub(1), 0, tag))\n",
    "\n",
    "    params = {\n",
    "        \"snes_type\": \"ksponly\",\n",
    "        \"ksp_type\": \"gmres\",\n",
    "        \"pc_type\": \"fieldsplit\",\n",
    "        \"pc_fieldsplit_type\": \"multiplicative\",\n",
    "    }\n",
    "\n",
    "    problem = LinearVariationalProblem(a, L, q, bcs=bcs)\n",
    "    solver = LinearVariationalSolver(problem, solver_parameters=params)\n",
    "    \n",
    "    # --- Setup initial condition / control\n",
    "    \n",
    "    basis_functions = get_basis_functions(fs)\n",
    "    try:\n",
    "        assert len(basis_functions) == len(ctrl_dat)\n",
    "    except AssertionError:\n",
    "        msg = \"Number of basis functions and number of basis coefficients do not match ({:d} vs {:d})\"\n",
    "        raise ValueError(msg.format(len(basis_functions), len(ctrl_dat)))\n",
    "    eta_.project(sum(Constant(m_i)*phi_i.split()[1] for m_i, phi_i in zip(ctrl_dat, basis_functions)))\n",
    "    \n",
    "    # --- Setup QoI\n",
    "    \n",
    "    radius = 20.0e+03*pow(0.5, level)  # The finer the mesh, the more precise the indicator region\n",
    "    for gauge in op.gauges:\n",
    "        op.gauges[gauge]['indicator'] = interpolate(ellipse([op.gauges[gauge][\"coords\"] + (radius,), ], mesh), P0)\n",
    "        op.gauges[gauge]['interpolator'] = sampled_timeseries(gauge, sample=60 if gauge[0] == 'P' else 1)\n",
    "        \n",
    "    op.end_time = 1440.0\n",
    "        \n",
    "    times = []\n",
    "\n",
    "    # --- Time integrate\n",
    "    \n",
    "    t = 0.0\n",
    "    iteration = 0\n",
    "    J = 0\n",
    "    eta_obs = Constant(0.0)\n",
    "    weight = Constant(1.0)\n",
    "    tic = clock()\n",
    "    msg = \"    simulation time {:4.1f} minutes    wallclock time {:4.1f} seconds\"\n",
    "    while t < op.end_time:\n",
    "        times.append(t)\n",
    "        if iteration % 48 == 0:\n",
    "            toc = clock() - tic\n",
    "            print_debug(msg.format(t/60, toc), debug=debug)\n",
    "            tic = clock()\n",
    "\n",
    "        # Solve forward equation at current timestep\n",
    "        solver.solve()\n",
    "\n",
    "        # Time integrate QoI\n",
    "        weight.assign(0.5 if np.allclose(t, 0.0) else 1.0)\n",
    "        u, eta = q.split()\n",
    "        diff_expr = 0\n",
    "        for gauge in op.gauges:\n",
    "            indicator = op.gauges[gauge]['indicator']\n",
    "\n",
    "            # Interpolate observations\n",
    "            obs = float(op.gauges[gauge]['interpolator'](t))\n",
    "            eta_obs.assign(obs)\n",
    "\n",
    "            # Continuous form of error\n",
    "            J += assemble(weight*dtc*0.5*indicator*(eta - eta_obs)**2*dx)\n",
    "            \n",
    "            # Save RHS of adjoint equation\n",
    "            diff_expr = diff_expr + indicator*(eta - eta_obs)\n",
    "        diffs[iteration] = interpolate(diff_expr, fs.sub(1))  # TODO: Checkpoint to disk\n",
    "\n",
    "        # Increment\n",
    "        q_.assign(q)\n",
    "        t += op.dt\n",
    "        iteration += 1\n",
    "\n",
    "    assert np.allclose(t, op.end_time), print(\"mismatching end time ({:.2f} vs {:.2f})\".format(t, op.end_time))\n",
    "    toc = clock() - tic\n",
    "    print_debug(msg.format(t/60, toc), debug=debug)\n",
    "    print_debug(\"    Quantity of interest = {:.8e}\".format(J), debug=debug)\n",
    "    \n",
    "    return J, q"
   ]
  },
  {
   "cell_type": "code",
   "execution_count": 14,
   "metadata": {},
   "outputs": [],
   "source": [
    "def reduced_functional(m, debug=True):\n",
    "    J, q = solve_forward(m, debug=debug)\n",
    "    return J"
   ]
  },
  {
   "cell_type": "markdown",
   "metadata": {},
   "source": [
    "Let's take a look at the forward solution."
   ]
  },
  {
   "cell_type": "code",
   "execution_count": 15,
   "metadata": {},
   "outputs": [
    {
     "name": "stdout",
     "output_type": "stream",
     "text": [
      "FORWARD SOLVE\n",
      "Current control value = 1.00000000e+01\n",
      "    simulation time  0.0 minutes    wallclock time  0.0 seconds\n",
      "    simulation time  4.0 minutes    wallclock time 19.4 seconds\n",
      "    simulation time  8.0 minutes    wallclock time 20.0 seconds\n",
      "    simulation time 12.0 minutes    wallclock time 19.6 seconds\n",
      "    simulation time 16.0 minutes    wallclock time 20.0 seconds\n",
      "    simulation time 20.0 minutes    wallclock time 20.1 seconds\n",
      "    simulation time 24.0 minutes    wallclock time 20.3 seconds\n",
      "    Quantity of interest = 6.63522212e+13\n"
     ]
    },
    {
     "data": {
      "image/png": "[encoded data removed]",
      "text/plain": [
       "<Figure size 864x360 with 4 Axes>"
      ]
     },
     "metadata": {
      "needs_background": "light"
     },
     "output_type": "display_data"
    }
   ],
   "source": [
    "J, q = solve_forward(m0)\n",
    "u, eta = q.split()\n",
    "u.dat.name = \"Velocity (initial guess control)\"\n",
    "eta.dat.name = \"Elevation (initial guess control)\"\n",
    "plot_fields(u, eta);"
   ]
  },
  {
   "cell_type": "markdown",
   "metadata": {},
   "source": [
    "### Adjoint problem\n",
    "\n",
    "The adjoint problem is comprised of the adjoint equations\n",
    "\n",
    "$$\n",
    "    -\\frac{\\partial\\mathbf u^*}{\\partial t}-b\\nabla\\eta^*-f\\widehat{\\mathbf z}\\times\\mathbf u^*=\\boldsymbol0,\\qquad\n",
    "    -\\frac{\\partial\\eta^*}{\\partial t}-g\\nabla\\cdot u^*=\\sum_{g\\in\\mathcal G}\\mathbb 1_g(\\eta-\\eta_g),\\qquad\n",
    "    \\text{in}\\quad(0,T]\\times\\Omega,\n",
    "$$\n",
    "\n",
    "(using the expressions for $\\frac{\\partial J}{\\partial\\mathbf u}$ and $\\frac{\\partial J}{\\partial\\eta}$ stated earlier) and the final time and boundary conditions\n",
    "\n",
    "$$\n",
    "    \\mathbf u^*\\cdot\\widehat{\\mathbf n}|_{\\partial\\Omega\\backslash\\Gamma_D}\\equiv0,\\qquad\n",
    "    \\eta^*|_{\\partial\\Omega\\backslash\\Gamma_{\\mathrm{freeslip}}}\\equiv0,\\qquad\n",
    "    \\mathbf u^*|_{t=T}\\equiv\\boldsymbol0,\\qquad\n",
    "    \\eta^*|_{t=T}\\equiv0.\n",
    "$$\n",
    "\n",
    "Recall that in our case $\\partial\\Omega\\backslash\\Gamma_{\\mathrm{freeslip}}=\\emptyset$ and $\\partial\\Omega\\backslash\\Gamma_D$ corresponds to coastal boundary tags 200 and 300."
   ]
  },
  {
   "cell_type": "code",
   "execution_count": 16,
   "metadata": {},
   "outputs": [],
   "source": [
    "def solve_adjoint(gradient=True, debug=True):\n",
    "    print(\"ADJOINT SOLVE FOR GRADIENT CALCULATION\" if gradient else \"ADJOINT SOLVE\")\n",
    "    \n",
    "    # --- Setup function spaces\n",
    "    \n",
    "    fs = VectorFunctionSpace(mesh, \"CG\", 2)*FunctionSpace(mesh, \"CG\", 1)\n",
    "    P0 = FunctionSpace(mesh, \"DG\", 0)\n",
    "    \n",
    "    # -- Setup fields\n",
    "    \n",
    "    b, f, g = get_fields(fs)\n",
    "    \n",
    "    # --- Setup PDE\n",
    "\n",
    "    dtc = Constant(op.dt)\n",
    "    \n",
    "    u_star, eta_star = TrialFunctions(fs)\n",
    "    z, zeta = TestFunctions(fs)\n",
    "    q_star_ = Function(fs)\n",
    "    u_star_, eta_star_ = q_star_.split()\n",
    "\n",
    "    # NOTE: Time direction is reversed\n",
    "    a = inner(z, u_star)*dx + inner(zeta, eta_star)*dx\n",
    "    L = inner(z, u_star_)*dx + inner(zeta, eta_star_)*dx\n",
    "\n",
    "    n = FacetNormal(mesh)\n",
    "\n",
    "    def G(uv_star, elev_star):\n",
    "        F = -b*inner(z, grad(elev_star))*dx\n",
    "        F += -f*inner(z, as_vector((-uv_star[1], uv_star[0])))*dx\n",
    "        F += g*inner(grad(zeta), uv_star)*dx\n",
    "        for tag in boundary_conditions:\n",
    "            if 'dirichlet' in boundary_conditions[tag]:\n",
    "                F += -inner(zeta*n, uv_star)*ds(tag)\n",
    "        return F\n",
    "\n",
    "    a += 0.5*dtc*G(u_star, eta_star)\n",
    "    L += -0.5*dtc*G(u_star_, eta_star_)\n",
    "\n",
    "    rhs = Function(fs.sub(1))\n",
    "\n",
    "    L += dtc*zeta*rhs*dx\n",
    "\n",
    "    q_star = Function(fs)\n",
    "    u_star, eta_star = q_star.split()\n",
    "\n",
    "    # bc = DirichletBC(fs.sub(1), 0, [200, 300])\n",
    "    bc = None\n",
    "    bcs = []\n",
    "    for tag in boundary_conditions:\n",
    "        if 'freeslip' not in boundary_conditions[tag]:\n",
    "            bcs.append(DirichletBC(fs.sub(1), 0, tag))\n",
    "\n",
    "    params = {\n",
    "        \"snes_type\": \"ksponly\",\n",
    "        \"ksp_type\": \"gmres\",\n",
    "        \"pc_type\": \"fieldsplit\",\n",
    "        \"pc_fieldsplit_type\": \"multiplicative\",\n",
    "    }\n",
    "\n",
    "    problem = LinearVariationalProblem(a, L, q_star, bcs=bc)\n",
    "    solver = LinearVariationalSolver(problem, solver_parameters=params)\n",
    "    \n",
    "    # --- Setup indicators\n",
    "    \n",
    "    radius = 20.0e+03*pow(0.5, level)  # The finer the mesh, the more precise the indicator region\n",
    "    for gauge in op.gauges:\n",
    "        op.gauges[gauge]['indicator'] = interpolate(ellipse([op.gauges[gauge][\"coords\"] + (radius,), ], mesh), P0)\n",
    "    \n",
    "    # --- Time integrate\n",
    "    \n",
    "    t = op.end_time\n",
    "    iteration = int(op.end_time/op.dt)-1\n",
    "    tic = clock()\n",
    "    msg = \"    simulation time {:4.1f} minutes    wallclock time {:4.1f} seconds\"\n",
    "    while t > 0.0:\n",
    "        if iteration % 48 == 0:\n",
    "            toc = clock() - tic\n",
    "            print_debug(msg.format(t/60, toc), debug=debug)\n",
    "            tic = clock()\n",
    "\n",
    "        # Evaluate function appearing in RHS\n",
    "        assert diffs[iteration] is not None\n",
    "        rhs.interpolate(diffs[iteration])\n",
    "        diffs[iteration] = None  # Reset saved data\n",
    "\n",
    "        # Solve adjoint equation at current timestep\n",
    "        solver.solve()\n",
    "\n",
    "        # Increment\n",
    "        q_star_.assign(q_star)\n",
    "        t -= op.dt\n",
    "        iteration -= 1\n",
    "\n",
    "    assert np.allclose(t, 0.0)\n",
    "    toc = clock() - tic\n",
    "    print_debug(msg.format(t/60, toc), debug=debug)\n",
    "    return q_star"
   ]
  },
  {
   "cell_type": "markdown",
   "metadata": {},
   "source": [
    "Let's take a look at the adjoint solution."
   ]
  },
  {
   "cell_type": "code",
   "execution_count": 17,
   "metadata": {},
   "outputs": [
    {
     "name": "stdout",
     "output_type": "stream",
     "text": [
      "ADJOINT SOLVE FOR GRADIENT CALCULATION\n",
      "    simulation time 20.1 minutes    wallclock time 13.4 seconds\n",
      "    simulation time 16.1 minutes    wallclock time 13.5 seconds\n",
      "    simulation time 12.1 minutes    wallclock time 13.9 seconds\n",
      "    simulation time  8.1 minutes    wallclock time 13.9 seconds\n",
      "    simulation time  4.1 minutes    wallclock time 13.9 seconds\n",
      "    simulation time  0.1 minutes    wallclock time 13.8 seconds\n",
      "    simulation time  0.0 minutes    wallclock time  0.3 seconds\n"
     ]
    },
    {
     "data": {
      "image/png": "[encoded data removed]",
      "text/plain": [
       "<Figure size 864x360 with 4 Axes>"
      ]
     },
     "metadata": {
      "needs_background": "light"
     },
     "output_type": "display_data"
    }
   ],
   "source": [
    "q_star = solve_adjoint()\n",
    "u_star, eta_star = q_star.split()\n",
    "u_star.dat.name = \"Adjoint velocity at t=0\"\n",
    "eta_star.dat.name = \"Adjoint elevation at t=0\"\n",
    "plot_fields(u_star, eta_star);"
   ]
  },
  {
   "cell_type": "markdown",
   "metadata": {},
   "source": [
    "Further, recall that the gradient may be computed as\n",
    "\n",
    "$$\n",
    "    \\frac{\\mathrm dJ}{\\mathrm dm_k} = \\int_\\Omega g_k\\eta^*|_{t=0}\\;\\mathrm dx.\n",
    "$$"
   ]
  },
  {
   "cell_type": "code",
   "execution_count": 18,
   "metadata": {},
   "outputs": [],
   "source": [
    "def gradient(m, debug=True):\n",
    "    if diffs[-1] is None:\n",
    "        J, q = solve_forward(m, gradient=True, debug=debug)\n",
    "    q_star = solve_adjoint(debug=debug)\n",
    "    basis_functions = get_basis_functions(q_star.function_space())\n",
    "    g = np.array([assemble(inner(q_star, phi)*dx) for phi in basis_functions])\n",
    "    print_debug(\"Gradient = {:.8e}\".format(g[0]), debug=debug)\n",
    "    return g"
   ]
  },
  {
   "cell_type": "markdown",
   "metadata": {},
   "source": [
    "## Taylor Test\n",
    "\n",
    "As in notebook 4, let's do a Taylor Test to check whether we have a decent gradient approximation."
   ]
  },
  {
   "cell_type": "code",
   "execution_count": 19,
   "metadata": {},
   "outputs": [],
   "source": [
    "def taylor_test(m, delta_m=0.1, h_init=1):\n",
    "    print(24*\"=\" + \"TAYLOR TEST\" + 24*\"=\")\n",
    "    if isinstance(m, float):\n",
    "        m = [m, ]\n",
    "    if isinstance(delta_m, float):\n",
    "        delta_m = [delta_m, ]\n",
    "    m = np.array(m)\n",
    "    delta_m = np.array(delta_m)\n",
    "    \n",
    "    # Evaluate the reduced functional and gradient at the specified control value\n",
    "    Jm = reduced_functional(m)\n",
    "    dJm = gradient(m)\n",
    "    \n",
    "    # Check that the Taylor remainders decrease quadratically\n",
    "    remainders = np.zeros(3)\n",
    "    for i in range(3):\n",
    "        h = h_init*pow(0.5, i)\n",
    "        print(\"h = {:.4e}\".format(h))\n",
    "        J_step = reduced_functional(m+h*delta_m)\n",
    "        remainders[i] = abs(J_step - Jm - h*np.dot(dJm, delta_m))\n",
    "        print(\"Taylor remainder = {:.4e}\".format(remainders[i]))\n",
    "        if i > 0:\n",
    "            ratio = remainders[i-1]/remainders[i]\n",
    "            try:\n",
    "                assert ratio > 3.95\n",
    "            except AssertionError:\n",
    "                msg = \"Taylor remainders do not decrease quadratically (ratio {:.4e})\"\n",
    "                raise ConvergenceError(msg.format(ratio))\n",
    "    print(20*\"=\" + \"TAYLOR TEST PASSED!\" + 20*\"=\")"
   ]
  },
  {
   "cell_type": "code",
   "execution_count": 20,
   "metadata": {},
   "outputs": [
    {
     "name": "stdout",
     "output_type": "stream",
     "text": [
      "========================TAYLOR TEST========================\n",
      "FORWARD SOLVE\n",
      "Current control value = 4.50000000e+00\n",
      "    simulation time  0.0 minutes    wallclock time  0.0 seconds\n",
      "    simulation time  4.0 minutes    wallclock time 19.5 seconds\n",
      "    simulation time  8.0 minutes    wallclock time 20.0 seconds\n",
      "    simulation time 12.0 minutes    wallclock time 20.5 seconds\n",
      "    simulation time 16.0 minutes    wallclock time 19.9 seconds\n",
      "    simulation time 20.0 minutes    wallclock time 20.7 seconds\n",
      "    simulation time 24.0 minutes    wallclock time 18.8 seconds\n",
      "    Quantity of interest = 6.52032091e+13\n",
      "ADJOINT SOLVE FOR GRADIENT CALCULATION\n",
      "    simulation time 20.1 minutes    wallclock time 13.4 seconds\n",
      "    simulation time 16.1 minutes    wallclock time 13.7 seconds\n",
      "    simulation time 12.1 minutes    wallclock time 13.5 seconds\n",
      "    simulation time  8.1 minutes    wallclock time 13.4 seconds\n",
      "    simulation time  4.1 minutes    wallclock time 12.9 seconds\n",
      "    simulation time  0.1 minutes    wallclock time 13.3 seconds\n",
      "    simulation time  0.0 minutes    wallclock time  0.3 seconds\n",
      "Gradient = -2.04461777e+11\n",
      "h = 1.0000e+00\n",
      "FORWARD SOLVE\n",
      "Current control value = 4.60000000e+00\n",
      "    simulation time  0.0 minutes    wallclock time  0.0 seconds\n",
      "    simulation time  4.0 minutes    wallclock time 18.9 seconds\n",
      "    simulation time  8.0 minutes    wallclock time 19.3 seconds\n",
      "    simulation time 12.0 minutes    wallclock time 18.8 seconds\n",
      "    simulation time 16.0 minutes    wallclock time 19.1 seconds\n",
      "    simulation time 20.0 minutes    wallclock time 19.8 seconds\n",
      "    simulation time 24.0 minutes    wallclock time 18.7 seconds\n",
      "    Quantity of interest = 6.51540639e+13\n",
      "Taylor remainder = 2.8699e+10\n",
      "h = 5.0000e-01\n",
      "FORWARD SOLVE\n",
      "Current control value = 4.55000000e+00\n",
      "    simulation time  0.0 minutes    wallclock time  0.0 seconds\n",
      "    simulation time  4.0 minutes    wallclock time 19.2 seconds\n",
      "    simulation time  8.0 minutes    wallclock time 19.6 seconds\n",
      "    simulation time 12.0 minutes    wallclock time 20.1 seconds\n",
      "    simulation time 16.0 minutes    wallclock time 19.7 seconds\n",
      "    simulation time 20.0 minutes    wallclock time 20.1 seconds\n",
      "    simulation time 24.0 minutes    wallclock time 19.8 seconds\n",
      "    Quantity of interest = 6.51783123e+13\n",
      "Taylor remainder = 1.4674e+10\n"
     ]
    },
    {
     "ename": "ConvergenceError",
     "evalue": "Taylor remainders do not decrease quadratically (ratio 1.9558e+00)",
     "output_type": "error",
     "traceback": [
      "\u001b[0;31m---------------------------------------------------------------------------\u001b[0m",
      "\u001b[0;31mAssertionError\u001b[0m                            Traceback (most recent call last)",
      "\u001b[0;32m<ipython-input-19-103dbaad7d15>\u001b[0m in \u001b[0;36mtaylor_test\u001b[0;34m(m, delta_m, h_init)\u001b[0m\n\u001b[1;32m     24\u001b[0m             \u001b[0;32mtry\u001b[0m\u001b[0;34m:\u001b[0m\u001b[0;34m\u001b[0m\u001b[0;34m\u001b[0m\u001b[0m\n\u001b[0;32m---> 25\u001b[0;31m                 \u001b[0;32massert\u001b[0m \u001b[0mratio\u001b[0m \u001b[0;34m>\u001b[0m \u001b[0;36m3.95\u001b[0m\u001b[0;34m\u001b[0m\u001b[0;34m\u001b[0m\u001b[0m\n\u001b[0m\u001b[1;32m     26\u001b[0m             \u001b[0;32mexcept\u001b[0m \u001b[0mAssertionError\u001b[0m\u001b[0;34m:\u001b[0m\u001b[0;34m\u001b[0m\u001b[0;34m\u001b[0m\u001b[0m\n",
      "\u001b[0;31mAssertionError\u001b[0m: ",
      "\nDuring handling of the above exception, another exception occurred:\n",
      "\u001b[0;31mConvergenceError\u001b[0m                          Traceback (most recent call last)",
      "\u001b[0;32m<ipython-input-20-468224f7d575>\u001b[0m in \u001b[0;36m<module>\u001b[0;34m\u001b[0m\n\u001b[0;32m----> 1\u001b[0;31m \u001b[0mtaylor_test\u001b[0m\u001b[0;34m(\u001b[0m\u001b[0;36m4.5\u001b[0m\u001b[0;34m)\u001b[0m\u001b[0;34m\u001b[0m\u001b[0;34m\u001b[0m\u001b[0m\n\u001b[0m",
      "\u001b[0;32m<ipython-input-19-103dbaad7d15>\u001b[0m in \u001b[0;36mtaylor_test\u001b[0;34m(m, delta_m, h_init)\u001b[0m\n\u001b[1;32m     26\u001b[0m             \u001b[0;32mexcept\u001b[0m \u001b[0mAssertionError\u001b[0m\u001b[0;34m:\u001b[0m\u001b[0;34m\u001b[0m\u001b[0;34m\u001b[0m\u001b[0m\n\u001b[1;32m     27\u001b[0m                 \u001b[0mmsg\u001b[0m \u001b[0;34m=\u001b[0m \u001b[0;34m\"Taylor remainders do not decrease quadratically (ratio {:.4e})\"\u001b[0m\u001b[0;34m\u001b[0m\u001b[0;34m\u001b[0m\u001b[0m\n\u001b[0;32m---> 28\u001b[0;31m                 \u001b[0;32mraise\u001b[0m \u001b[0mConvergenceError\u001b[0m\u001b[0;34m(\u001b[0m\u001b[0mmsg\u001b[0m\u001b[0;34m.\u001b[0m\u001b[0mformat\u001b[0m\u001b[0;34m(\u001b[0m\u001b[0mratio\u001b[0m\u001b[0;34m)\u001b[0m\u001b[0;34m)\u001b[0m\u001b[0;34m\u001b[0m\u001b[0;34m\u001b[0m\u001b[0m\n\u001b[0m\u001b[1;32m     29\u001b[0m     \u001b[0mprint\u001b[0m\u001b[0;34m(\u001b[0m\u001b[0;36m20\u001b[0m\u001b[0;34m*\u001b[0m\u001b[0;34m\"=\"\u001b[0m \u001b[0;34m+\u001b[0m \u001b[0;34m\"TAYLOR TEST PASSED!\"\u001b[0m \u001b[0;34m+\u001b[0m \u001b[0;36m20\u001b[0m\u001b[0;34m*\u001b[0m\u001b[0;34m\"=\"\u001b[0m\u001b[0;34m)\u001b[0m\u001b[0;34m\u001b[0m\u001b[0;34m\u001b[0m\u001b[0m\n",
      "\u001b[0;31mConvergenceError\u001b[0m: Taylor remainders do not decrease quadratically (ratio 1.9558e+00)"
     ]
    }
   ],
   "source": [
    "taylor_test(4.5)"
   ]
  },
  {
   "cell_type": "markdown",
   "metadata": {},
   "source": [
    "The Taylor test failed! We should expect given that the continuous adjoint solution doesn't match the discrete adjoint solution.\n",
    "\n",
    "Let's try running the inversion anyway to see what happens."
   ]
  },
  {
   "cell_type": "markdown",
   "metadata": {},
   "source": [
    "## Inversion for a single basis function coefficient"
   ]
  },
  {
   "cell_type": "code",
   "execution_count": 27,
   "metadata": {},
   "outputs": [
    {
     "name": "stdout",
     "output_type": "stream",
     "text": [
      "FORWARD SOLVE\n",
      "ADJOINT SOLVE FOR GRADIENT CALCULATION\n",
      "control 9.00000000e+00  functional 6.55596741e+13  gradient 4.06524594e+11\n",
      "FORWARD SOLVE\n",
      "ADJOINT SOLVE FOR GRADIENT CALCULATION\n",
      "control 7.99000000e+00  functional 6.50224992e+13  gradient 3.61172717e+11\n",
      "LINE SEARCH COMPLETE\n",
      "\n",
      "FORWARD SOLVE\n",
      "ADJOINT SOLVE FOR GRADIENT CALCULATION\n",
      "control 4.98563844e+00  functional 6.49888310e+13  gradient 2.26268326e+11\n",
      "LINE SEARCH COMPLETE\n",
      "\n",
      "FORWARD SOLVE\n",
      "ADJOINT SOLVE FOR GRADIENT CALCULATION\n",
      "control 4.68506768e+00  functional 6.51142991e+13  gradient 2.12771843e+11\n",
      "FORWARD SOLVE\n",
      "ADJOINT SOLVE FOR GRADIENT CALCULATION\n",
      "control 4.96671877e+00  functional 6.49960376e+13  gradient 2.25418779e+11\n",
      "FORWARD SOLVE\n",
      "ADJOINT SOLVE FOR GRADIENT CALCULATION\n",
      "control 4.98437897e+00  functional 6.49893079e+13  gradient 2.26211772e+11\n",
      "FORWARD SOLVE\n",
      "ADJOINT SOLVE FOR GRADIENT CALCULATION\n",
      "control 4.98555429e+00  functional 6.49888629e+13  gradient 2.26264547e+11\n",
      "FORWARD SOLVE\n",
      "ADJOINT SOLVE FOR GRADIENT CALCULATION\n",
      "control 4.98563282e+00  functional 6.49888332e+13  gradient 2.26268073e+11\n",
      "FORWARD SOLVE\n",
      "ADJOINT SOLVE FOR GRADIENT CALCULATION\n",
      "control 4.98563806e+00  functional 6.49888312e+13  gradient 2.26268309e+11\n",
      "FORWARD SOLVE\n",
      "ADJOINT SOLVE FOR GRADIENT CALCULATION\n",
      "control 4.98563842e+00  functional 6.49888310e+13  gradient 2.26268325e+11\n",
      "FORWARD SOLVE\n",
      "ADJOINT SOLVE FOR GRADIENT CALCULATION\n",
      "control 4.98563844e+00  functional 6.49888310e+13  gradient 2.26268326e+11\n",
      "FORWARD SOLVE\n",
      "ADJOINT SOLVE FOR GRADIENT CALCULATION\n",
      "control 4.98563844e+00  functional 6.49888310e+13  gradient 2.26268326e+11\n",
      "FORWARD SOLVE\n"
     ]
    },
    {
     "ename": "KeyboardInterrupt",
     "evalue": "",
     "output_type": "error",
     "traceback": [
      "\u001b[0;31m---------------------------------------------------------------------------\u001b[0m",
      "\u001b[0;31mKeyboardInterrupt\u001b[0m                         Traceback (most recent call last)",
      "\u001b[0;32m<ipython-input-27-9abda0937827>\u001b[0m in \u001b[0;36m<module>\u001b[0;34m\u001b[0m\n\u001b[1;32m     40\u001b[0m }\n\u001b[1;32m     41\u001b[0m \u001b[0;34m\u001b[0m\u001b[0m\n\u001b[0;32m---> 42\u001b[0;31m \u001b[0mm_opt\u001b[0m \u001b[0;34m=\u001b[0m \u001b[0mscipy\u001b[0m\u001b[0;34m.\u001b[0m\u001b[0moptimize\u001b[0m\u001b[0;34m.\u001b[0m\u001b[0mfmin_bfgs\u001b[0m\u001b[0;34m(\u001b[0m\u001b[0mscaled_reduced_functional\u001b[0m\u001b[0;34m,\u001b[0m \u001b[0mm_init\u001b[0m\u001b[0;34m,\u001b[0m \u001b[0mfprime\u001b[0m\u001b[0;34m=\u001b[0m\u001b[0mscaled_gradient\u001b[0m\u001b[0;34m,\u001b[0m \u001b[0;34m**\u001b[0m\u001b[0mopt_parameters\u001b[0m\u001b[0;34m)\u001b[0m\u001b[0;34m\u001b[0m\u001b[0;34m\u001b[0m\u001b[0m\n\u001b[0m\u001b[1;32m     43\u001b[0m \u001b[0mprint\u001b[0m\u001b[0;34m(\u001b[0m\u001b[0;34m\"Optimised control parameter = {:.4e}\"\u001b[0m\u001b[0;34m.\u001b[0m\u001b[0mformat\u001b[0m\u001b[0;34m(\u001b[0m\u001b[0;34m*\u001b[0m\u001b[0mm_opt\u001b[0m\u001b[0;34m)\u001b[0m\u001b[0;34m)\u001b[0m\u001b[0;34m\u001b[0m\u001b[0;34m\u001b[0m\u001b[0m\n",
      "\u001b[0;32m~/software/firedrake-pragmatic/lib/python3.6/site-packages/scipy/optimize/optimize.py\u001b[0m in \u001b[0;36mfmin_bfgs\u001b[0;34m(f, x0, fprime, args, gtol, norm, epsilon, maxiter, full_output, disp, retall, callback)\u001b[0m\n\u001b[1;32m    950\u001b[0m             'return_all': retall}\n\u001b[1;32m    951\u001b[0m \u001b[0;34m\u001b[0m\u001b[0m\n\u001b[0;32m--> 952\u001b[0;31m     \u001b[0mres\u001b[0m \u001b[0;34m=\u001b[0m \u001b[0m_minimize_bfgs\u001b[0m\u001b[0;34m(\u001b[0m\u001b[0mf\u001b[0m\u001b[0;34m,\u001b[0m \u001b[0mx0\u001b[0m\u001b[0;34m,\u001b[0m \u001b[0margs\u001b[0m\u001b[0;34m,\u001b[0m \u001b[0mfprime\u001b[0m\u001b[0;34m,\u001b[0m \u001b[0mcallback\u001b[0m\u001b[0;34m=\u001b[0m\u001b[0mcallback\u001b[0m\u001b[0;34m,\u001b[0m \u001b[0;34m**\u001b[0m\u001b[0mopts\u001b[0m\u001b[0;34m)\u001b[0m\u001b[0;34m\u001b[0m\u001b[0;34m\u001b[0m\u001b[0m\n\u001b[0m\u001b[1;32m    953\u001b[0m \u001b[0;34m\u001b[0m\u001b[0m\n\u001b[1;32m    954\u001b[0m     \u001b[0;32mif\u001b[0m \u001b[0mfull_output\u001b[0m\u001b[0;34m:\u001b[0m\u001b[0;34m\u001b[0m\u001b[0;34m\u001b[0m\u001b[0m\n",
      "\u001b[0;32m~/software/firedrake-pragmatic/lib/python3.6/site-packages/scipy/optimize/optimize.py\u001b[0m in \u001b[0;36m_minimize_bfgs\u001b[0;34m(fun, x0, args, jac, callback, gtol, norm, eps, maxiter, disp, return_all, **unknown_options)\u001b[0m\n\u001b[1;32m   1026\u001b[0m             \u001b[0malpha_k\u001b[0m\u001b[0;34m,\u001b[0m \u001b[0mfc\u001b[0m\u001b[0;34m,\u001b[0m \u001b[0mgc\u001b[0m\u001b[0;34m,\u001b[0m \u001b[0mold_fval\u001b[0m\u001b[0;34m,\u001b[0m \u001b[0mold_old_fval\u001b[0m\u001b[0;34m,\u001b[0m \u001b[0mgfkp1\u001b[0m \u001b[0;34m=\u001b[0m\u001b[0;31m \u001b[0m\u001b[0;31m\\\u001b[0m\u001b[0;34m\u001b[0m\u001b[0;34m\u001b[0m\u001b[0m\n\u001b[1;32m   1027\u001b[0m                      _line_search_wolfe12(f, myfprime, xk, pk, gfk,\n\u001b[0;32m-> 1028\u001b[0;31m                                           old_fval, old_old_fval, amin=1e-100, amax=1e100)\n\u001b[0m\u001b[1;32m   1029\u001b[0m         \u001b[0;32mexcept\u001b[0m \u001b[0m_LineSearchError\u001b[0m\u001b[0;34m:\u001b[0m\u001b[0;34m\u001b[0m\u001b[0;34m\u001b[0m\u001b[0m\n\u001b[1;32m   1030\u001b[0m             \u001b[0;31m# Line search failed to find a better solution.\u001b[0m\u001b[0;34m\u001b[0m\u001b[0;34m\u001b[0m\u001b[0;34m\u001b[0m\u001b[0m\n",
      "\u001b[0;32m~/software/firedrake-pragmatic/lib/python3.6/site-packages/scipy/optimize/optimize.py\u001b[0m in \u001b[0;36m_line_search_wolfe12\u001b[0;34m(f, fprime, xk, pk, gfk, old_fval, old_old_fval, **kwargs)\u001b[0m\n\u001b[1;32m    843\u001b[0m     ret = line_search_wolfe1(f, fprime, xk, pk, gfk,\n\u001b[1;32m    844\u001b[0m                              \u001b[0mold_fval\u001b[0m\u001b[0;34m,\u001b[0m \u001b[0mold_old_fval\u001b[0m\u001b[0;34m,\u001b[0m\u001b[0;34m\u001b[0m\u001b[0;34m\u001b[0m\u001b[0m\n\u001b[0;32m--> 845\u001b[0;31m                              **kwargs)\n\u001b[0m\u001b[1;32m    846\u001b[0m \u001b[0;34m\u001b[0m\u001b[0m\n\u001b[1;32m    847\u001b[0m     \u001b[0;32mif\u001b[0m \u001b[0mret\u001b[0m\u001b[0;34m[\u001b[0m\u001b[0;36m0\u001b[0m\u001b[0;34m]\u001b[0m \u001b[0;32mis\u001b[0m \u001b[0;32mnot\u001b[0m \u001b[0;32mNone\u001b[0m \u001b[0;32mand\u001b[0m \u001b[0mextra_condition\u001b[0m \u001b[0;32mis\u001b[0m \u001b[0;32mnot\u001b[0m \u001b[0;32mNone\u001b[0m\u001b[0;34m:\u001b[0m\u001b[0;34m\u001b[0m\u001b[0;34m\u001b[0m\u001b[0m\n",
      "\u001b[0;32m~/software/firedrake-pragmatic/lib/python3.6/site-packages/scipy/optimize/linesearch.py\u001b[0m in \u001b[0;36mline_search_wolfe1\u001b[0;34m(f, fprime, xk, pk, gfk, old_fval, old_old_fval, args, c1, c2, amax, amin, xtol)\u001b[0m\n\u001b[1;32m     99\u001b[0m     stp, fval, old_fval = scalar_search_wolfe1(\n\u001b[1;32m    100\u001b[0m             \u001b[0mphi\u001b[0m\u001b[0;34m,\u001b[0m \u001b[0mderphi\u001b[0m\u001b[0;34m,\u001b[0m \u001b[0mold_fval\u001b[0m\u001b[0;34m,\u001b[0m \u001b[0mold_old_fval\u001b[0m\u001b[0;34m,\u001b[0m \u001b[0mderphi0\u001b[0m\u001b[0;34m,\u001b[0m\u001b[0;34m\u001b[0m\u001b[0;34m\u001b[0m\u001b[0m\n\u001b[0;32m--> 101\u001b[0;31m             c1=c1, c2=c2, amax=amax, amin=amin, xtol=xtol)\n\u001b[0m\u001b[1;32m    102\u001b[0m \u001b[0;34m\u001b[0m\u001b[0m\n\u001b[1;32m    103\u001b[0m     \u001b[0;32mreturn\u001b[0m \u001b[0mstp\u001b[0m\u001b[0;34m,\u001b[0m \u001b[0mfc\u001b[0m\u001b[0;34m[\u001b[0m\u001b[0;36m0\u001b[0m\u001b[0;34m]\u001b[0m\u001b[0;34m,\u001b[0m \u001b[0mgc\u001b[0m\u001b[0;34m[\u001b[0m\u001b[0;36m0\u001b[0m\u001b[0;34m]\u001b[0m\u001b[0;34m,\u001b[0m \u001b[0mfval\u001b[0m\u001b[0;34m,\u001b[0m \u001b[0mold_fval\u001b[0m\u001b[0;34m,\u001b[0m \u001b[0mgval\u001b[0m\u001b[0;34m[\u001b[0m\u001b[0;36m0\u001b[0m\u001b[0;34m]\u001b[0m\u001b[0;34m\u001b[0m\u001b[0;34m\u001b[0m\u001b[0m\n",
      "\u001b[0;32m~/software/firedrake-pragmatic/lib/python3.6/site-packages/scipy/optimize/linesearch.py\u001b[0m in \u001b[0;36mscalar_search_wolfe1\u001b[0;34m(phi, derphi, phi0, old_phi0, derphi0, c1, c2, amax, amin, xtol)\u001b[0m\n\u001b[1;32m    173\u001b[0m         \u001b[0;32mif\u001b[0m \u001b[0mtask\u001b[0m\u001b[0;34m[\u001b[0m\u001b[0;34m:\u001b[0m\u001b[0;36m2\u001b[0m\u001b[0;34m]\u001b[0m \u001b[0;34m==\u001b[0m \u001b[0;34mb'FG'\u001b[0m\u001b[0;34m:\u001b[0m\u001b[0;34m\u001b[0m\u001b[0;34m\u001b[0m\u001b[0m\n\u001b[1;32m    174\u001b[0m             \u001b[0malpha1\u001b[0m \u001b[0;34m=\u001b[0m \u001b[0mstp\u001b[0m\u001b[0;34m\u001b[0m\u001b[0;34m\u001b[0m\u001b[0m\n\u001b[0;32m--> 175\u001b[0;31m             \u001b[0mphi1\u001b[0m \u001b[0;34m=\u001b[0m \u001b[0mphi\u001b[0m\u001b[0;34m(\u001b[0m\u001b[0mstp\u001b[0m\u001b[0;34m)\u001b[0m\u001b[0;34m\u001b[0m\u001b[0;34m\u001b[0m\u001b[0m\n\u001b[0m\u001b[1;32m    176\u001b[0m             \u001b[0mderphi1\u001b[0m \u001b[0;34m=\u001b[0m \u001b[0mderphi\u001b[0m\u001b[0;34m(\u001b[0m\u001b[0mstp\u001b[0m\u001b[0;34m)\u001b[0m\u001b[0;34m\u001b[0m\u001b[0;34m\u001b[0m\u001b[0m\n\u001b[1;32m    177\u001b[0m         \u001b[0;32melse\u001b[0m\u001b[0;34m:\u001b[0m\u001b[0;34m\u001b[0m\u001b[0;34m\u001b[0m\u001b[0m\n",
      "\u001b[0;32m~/software/firedrake-pragmatic/lib/python3.6/site-packages/scipy/optimize/linesearch.py\u001b[0m in \u001b[0;36mphi\u001b[0;34m(s)\u001b[0m\n\u001b[1;32m     85\u001b[0m     \u001b[0;32mdef\u001b[0m \u001b[0mphi\u001b[0m\u001b[0;34m(\u001b[0m\u001b[0ms\u001b[0m\u001b[0;34m)\u001b[0m\u001b[0;34m:\u001b[0m\u001b[0;34m\u001b[0m\u001b[0;34m\u001b[0m\u001b[0m\n\u001b[1;32m     86\u001b[0m         \u001b[0mfc\u001b[0m\u001b[0;34m[\u001b[0m\u001b[0;36m0\u001b[0m\u001b[0;34m]\u001b[0m \u001b[0;34m+=\u001b[0m \u001b[0;36m1\u001b[0m\u001b[0;34m\u001b[0m\u001b[0;34m\u001b[0m\u001b[0m\n\u001b[0;32m---> 87\u001b[0;31m         \u001b[0;32mreturn\u001b[0m \u001b[0mf\u001b[0m\u001b[0;34m(\u001b[0m\u001b[0mxk\u001b[0m \u001b[0;34m+\u001b[0m \u001b[0ms\u001b[0m\u001b[0;34m*\u001b[0m\u001b[0mpk\u001b[0m\u001b[0;34m,\u001b[0m \u001b[0;34m*\u001b[0m\u001b[0margs\u001b[0m\u001b[0;34m)\u001b[0m\u001b[0;34m\u001b[0m\u001b[0;34m\u001b[0m\u001b[0m\n\u001b[0m\u001b[1;32m     88\u001b[0m \u001b[0;34m\u001b[0m\u001b[0m\n\u001b[1;32m     89\u001b[0m     \u001b[0;32mdef\u001b[0m \u001b[0mderphi\u001b[0m\u001b[0;34m(\u001b[0m\u001b[0ms\u001b[0m\u001b[0;34m)\u001b[0m\u001b[0;34m:\u001b[0m\u001b[0;34m\u001b[0m\u001b[0;34m\u001b[0m\u001b[0m\n",
      "\u001b[0;32m~/software/firedrake-pragmatic/lib/python3.6/site-packages/scipy/optimize/optimize.py\u001b[0m in \u001b[0;36mfunction_wrapper\u001b[0;34m(*wrapper_args)\u001b[0m\n\u001b[1;32m    325\u001b[0m     \u001b[0;32mdef\u001b[0m \u001b[0mfunction_wrapper\u001b[0m\u001b[0;34m(\u001b[0m\u001b[0;34m*\u001b[0m\u001b[0mwrapper_args\u001b[0m\u001b[0;34m)\u001b[0m\u001b[0;34m:\u001b[0m\u001b[0;34m\u001b[0m\u001b[0;34m\u001b[0m\u001b[0m\n\u001b[1;32m    326\u001b[0m         \u001b[0mncalls\u001b[0m\u001b[0;34m[\u001b[0m\u001b[0;36m0\u001b[0m\u001b[0;34m]\u001b[0m \u001b[0;34m+=\u001b[0m \u001b[0;36m1\u001b[0m\u001b[0;34m\u001b[0m\u001b[0;34m\u001b[0m\u001b[0m\n\u001b[0;32m--> 327\u001b[0;31m         \u001b[0;32mreturn\u001b[0m \u001b[0mfunction\u001b[0m\u001b[0;34m(\u001b[0m\u001b[0;34m*\u001b[0m\u001b[0;34m(\u001b[0m\u001b[0mwrapper_args\u001b[0m \u001b[0;34m+\u001b[0m \u001b[0margs\u001b[0m\u001b[0;34m)\u001b[0m\u001b[0;34m)\u001b[0m\u001b[0;34m\u001b[0m\u001b[0;34m\u001b[0m\u001b[0m\n\u001b[0m\u001b[1;32m    328\u001b[0m \u001b[0;34m\u001b[0m\u001b[0m\n\u001b[1;32m    329\u001b[0m     \u001b[0;32mreturn\u001b[0m \u001b[0mncalls\u001b[0m\u001b[0;34m,\u001b[0m \u001b[0mfunction_wrapper\u001b[0m\u001b[0;34m\u001b[0m\u001b[0;34m\u001b[0m\u001b[0m\n",
      "\u001b[0;32m<ipython-input-27-9abda0937827>\u001b[0m in \u001b[0;36mscaled_reduced_functional\u001b[0;34m(m)\u001b[0m\n\u001b[1;32m      8\u001b[0m \u001b[0;34m\u001b[0m\u001b[0m\n\u001b[1;32m      9\u001b[0m \u001b[0;32mdef\u001b[0m \u001b[0mscaled_reduced_functional\u001b[0m\u001b[0;34m(\u001b[0m\u001b[0mm\u001b[0m\u001b[0;34m)\u001b[0m\u001b[0;34m:\u001b[0m\u001b[0;34m\u001b[0m\u001b[0;34m\u001b[0m\u001b[0m\n\u001b[0;32m---> 10\u001b[0;31m     \u001b[0mJ\u001b[0m \u001b[0;34m=\u001b[0m \u001b[0mscaling\u001b[0m\u001b[0;34m*\u001b[0m\u001b[0mreduced_functional\u001b[0m\u001b[0;34m(\u001b[0m\u001b[0mm\u001b[0m\u001b[0;34m,\u001b[0m \u001b[0mdebug\u001b[0m\u001b[0;34m=\u001b[0m\u001b[0;32mFalse\u001b[0m\u001b[0;34m)\u001b[0m\u001b[0;34m\u001b[0m\u001b[0;34m\u001b[0m\u001b[0m\n\u001b[0m\u001b[1;32m     11\u001b[0m     \u001b[0mcontrol_values_opt\u001b[0m\u001b[0;34m.\u001b[0m\u001b[0mappend\u001b[0m\u001b[0;34m(\u001b[0m\u001b[0mm\u001b[0m\u001b[0;34m[\u001b[0m\u001b[0;36m0\u001b[0m\u001b[0;34m]\u001b[0m\u001b[0;34m)\u001b[0m\u001b[0;34m\u001b[0m\u001b[0;34m\u001b[0m\u001b[0m\n\u001b[1;32m     12\u001b[0m     \u001b[0mfunc_values_opt\u001b[0m\u001b[0;34m.\u001b[0m\u001b[0mappend\u001b[0m\u001b[0;34m(\u001b[0m\u001b[0mJ\u001b[0m\u001b[0;34m)\u001b[0m\u001b[0;34m\u001b[0m\u001b[0;34m\u001b[0m\u001b[0m\n",
      "\u001b[0;32m<ipython-input-14-9af362c6738d>\u001b[0m in \u001b[0;36mreduced_functional\u001b[0;34m(m, debug)\u001b[0m\n\u001b[1;32m      1\u001b[0m \u001b[0;32mdef\u001b[0m \u001b[0mreduced_functional\u001b[0m\u001b[0;34m(\u001b[0m\u001b[0mm\u001b[0m\u001b[0;34m,\u001b[0m \u001b[0mdebug\u001b[0m\u001b[0;34m=\u001b[0m\u001b[0;32mTrue\u001b[0m\u001b[0;34m)\u001b[0m\u001b[0;34m:\u001b[0m\u001b[0;34m\u001b[0m\u001b[0;34m\u001b[0m\u001b[0m\n\u001b[0;32m----> 2\u001b[0;31m     \u001b[0mJ\u001b[0m\u001b[0;34m,\u001b[0m \u001b[0mq\u001b[0m \u001b[0;34m=\u001b[0m \u001b[0msolve_forward\u001b[0m\u001b[0;34m(\u001b[0m\u001b[0mm\u001b[0m\u001b[0;34m,\u001b[0m \u001b[0mdebug\u001b[0m\u001b[0;34m=\u001b[0m\u001b[0mdebug\u001b[0m\u001b[0;34m)\u001b[0m\u001b[0;34m\u001b[0m\u001b[0;34m\u001b[0m\u001b[0m\n\u001b[0m\u001b[1;32m      3\u001b[0m     \u001b[0;32mreturn\u001b[0m \u001b[0mJ\u001b[0m\u001b[0;34m\u001b[0m\u001b[0;34m\u001b[0m\u001b[0m\n",
      "\u001b[0;32m<ipython-input-13-f7f47d73568f>\u001b[0m in \u001b[0;36msolve_forward\u001b[0;34m(ctrl_dat, gradient, debug)\u001b[0m\n\u001b[1;32m     97\u001b[0m \u001b[0;34m\u001b[0m\u001b[0m\n\u001b[1;32m     98\u001b[0m         \u001b[0;31m# Solve forward equation at current timestep\u001b[0m\u001b[0;34m\u001b[0m\u001b[0;34m\u001b[0m\u001b[0;34m\u001b[0m\u001b[0m\n\u001b[0;32m---> 99\u001b[0;31m         \u001b[0msolver\u001b[0m\u001b[0;34m.\u001b[0m\u001b[0msolve\u001b[0m\u001b[0;34m(\u001b[0m\u001b[0;34m)\u001b[0m\u001b[0;34m\u001b[0m\u001b[0;34m\u001b[0m\u001b[0m\n\u001b[0m\u001b[1;32m    100\u001b[0m \u001b[0;34m\u001b[0m\u001b[0m\n\u001b[1;32m    101\u001b[0m         \u001b[0;31m# Time integrate QoI\u001b[0m\u001b[0;34m\u001b[0m\u001b[0;34m\u001b[0m\u001b[0;34m\u001b[0m\u001b[0m\n",
      "\u001b[0;32m~/software/firedrake-pragmatic/src/firedrake/firedrake/adjoint/variational_solver.py\u001b[0m in \u001b[0;36mwrapper\u001b[0;34m(self, **kwargs)\u001b[0m\n\u001b[1;32m     53\u001b[0m \u001b[0;34m\u001b[0m\u001b[0m\n\u001b[1;32m     54\u001b[0m             \u001b[0;32mwith\u001b[0m \u001b[0mstop_annotating\u001b[0m\u001b[0;34m(\u001b[0m\u001b[0;34m)\u001b[0m\u001b[0;34m:\u001b[0m\u001b[0;34m\u001b[0m\u001b[0;34m\u001b[0m\u001b[0m\n\u001b[0;32m---> 55\u001b[0;31m                 \u001b[0mout\u001b[0m \u001b[0;34m=\u001b[0m \u001b[0msolve\u001b[0m\u001b[0;34m(\u001b[0m\u001b[0mself\u001b[0m\u001b[0;34m,\u001b[0m \u001b[0;34m**\u001b[0m\u001b[0mkwargs\u001b[0m\u001b[0;34m)\u001b[0m\u001b[0;34m\u001b[0m\u001b[0;34m\u001b[0m\u001b[0m\n\u001b[0m\u001b[1;32m     56\u001b[0m \u001b[0;34m\u001b[0m\u001b[0m\n\u001b[1;32m     57\u001b[0m             \u001b[0;32mif\u001b[0m \u001b[0mannotate\u001b[0m\u001b[0;34m:\u001b[0m\u001b[0;34m\u001b[0m\u001b[0;34m\u001b[0m\u001b[0m\n",
      "\u001b[0;32m~/software/firedrake-pragmatic/src/firedrake/firedrake/variational_solver.py\u001b[0m in \u001b[0;36msolve\u001b[0;34m(self, bounds)\u001b[0m\n\u001b[1;32m    274\u001b[0m                                  self._transfer_operators):\n\u001b[1;32m    275\u001b[0m                     \u001b[0mstack\u001b[0m\u001b[0;34m.\u001b[0m\u001b[0menter_context\u001b[0m\u001b[0;34m(\u001b[0m\u001b[0mctx\u001b[0m\u001b[0;34m)\u001b[0m\u001b[0;34m\u001b[0m\u001b[0;34m\u001b[0m\u001b[0m\n\u001b[0;32m--> 276\u001b[0;31m                 \u001b[0mself\u001b[0m\u001b[0;34m.\u001b[0m\u001b[0msnes\u001b[0m\u001b[0;34m.\u001b[0m\u001b[0msolve\u001b[0m\u001b[0;34m(\u001b[0m\u001b[0;32mNone\u001b[0m\u001b[0;34m,\u001b[0m \u001b[0mwork\u001b[0m\u001b[0;34m)\u001b[0m\u001b[0;34m\u001b[0m\u001b[0;34m\u001b[0m\u001b[0m\n\u001b[0m\u001b[1;32m    277\u001b[0m             \u001b[0mwork\u001b[0m\u001b[0;34m.\u001b[0m\u001b[0mcopy\u001b[0m\u001b[0;34m(\u001b[0m\u001b[0mu\u001b[0m\u001b[0;34m)\u001b[0m\u001b[0;34m\u001b[0m\u001b[0;34m\u001b[0m\u001b[0m\n\u001b[1;32m    278\u001b[0m         \u001b[0mself\u001b[0m\u001b[0;34m.\u001b[0m\u001b[0m_setup\u001b[0m \u001b[0;34m=\u001b[0m \u001b[0;32mTrue\u001b[0m\u001b[0;34m\u001b[0m\u001b[0;34m\u001b[0m\u001b[0m\n",
      "\u001b[0;31mKeyboardInterrupt\u001b[0m: "
     ]
    }
   ],
   "source": [
    "m_init = np.array([9.0, ])  # initial guess\n",
    "\n",
    "control_values_opt = []\n",
    "func_values_opt = []\n",
    "gradient_values_opt = []\n",
    "\n",
    "def reduced_functional_with_write(m):\n",
    "    J = reduced_functional(m, debug=False)\n",
    "    control_values_opt.append(m[0])\n",
    "    func_values_opt.append(J)\n",
    "    return J\n",
    "\n",
    "def gradient_with_write(m):\n",
    "    if diffs[0] is None:\n",
    "        J = scaled_reduced_functional(m)\n",
    "        control_values_opt.append(m[0])\n",
    "        func_values_opt.append(J)\n",
    "    else:\n",
    "        J = func_values_opt[-1]\n",
    "    adj_sol0 = solve_adjoint(debug=False)\n",
    "    basis_functions = get_basis_functions(adj_sol0.function_space())\n",
    "    g = np.array([assemble(inner(adj_sol0, phi)*dx) for phi in basis_functions])\n",
    "    gradient_values_opt.append(g[0])\n",
    "    print(\"control {:.8e}  functional {:.8e}  gradient {:.8e}\".format(m[0], J, g[0]))\n",
    "    return g\n",
    "\n",
    "def opt_cb(m_current):\n",
    "    print(\"LINE SEARCH COMPLETE\\n\")\n",
    "\n",
    "opt_parameters = {\n",
    "    'maxiter': 5,\n",
    "    'disp': True,\n",
    "#     'gtol': 1.0e-02,\n",
    "    'gtol': 1.0,\n",
    "    'callback': opt_cb,\n",
    "    'retall': True,\n",
    "    'fprime': gradient_with_write,\n",
    "}\n",
    "\n",
    "m_opt = scipy.optimize.fmin_bfgs(reduced_functional_with_write, m_init, **opt_parameters)\n",
    "print(\"Optimised control parameter = {:.4e}\".format(*m_opt))"
   ]
  },
  {
   "cell_type": "markdown",
   "metadata": {},
   "source": [
    "Let's view the progress of the optimisation routine superimposed on the sample of the parameter space explored previously."
   ]
  },
  {
   "cell_type": "code",
   "execution_count": 28,
   "metadata": {},
   "outputs": [
    {
     "data": {
      "image/png": "[encoded data removed]",
      "text/plain": [
       "<Figure size 576x576 with 1 Axes>"
      ]
     },
     "metadata": {
      "needs_background": "light"
     },
     "output_type": "display_data"
    }
   ],
   "source": [
    "fig, axes = plt.subplots(figsize=(8, 8))\n",
    "\n",
    "n = 9\n",
    "control_values = np.linspace(2.0, 10.0, n)\n",
    "func_values = [\n",
    "    6.72748675e+13,\n",
    "    6.62516589e+13,\n",
    "    6.54878439e+13,\n",
    "    6.49834226e+13,\n",
    "    6.47383950e+13,\n",
    "    6.47527611e+13,\n",
    "    6.50265208e+13,\n",
    "    6.55596741e+13,\n",
    "    6.63522212e+13\n",
    "]  # from previous run\n",
    "# func_values = [\n",
    "#     1.14670603e+13,\n",
    "#     1.09983814e+13,\n",
    "#     1.07900293e+13,\n",
    "#     1.08420040e+13,\n",
    "#     1.11543055e+13,\n",
    "#     1.17269337e+13,\n",
    "#     1.25598888e+13,\n",
    "#     1.36531706e+13,\n",
    "#     1.50067792e+13\n",
    "# ]  # from previous run\n",
    "\n",
    "axes.plot(control_values, func_values, '--x')\n",
    "axes.plot(control_values_opt, func_values_opt, 'o', color='r')\n",
    "\n",
    "delta_m = 0.25\n",
    "for m, f, g in zip(control_values_opt, func_values_opt, gradient_values_opt):\n",
    "    x = np.array([m - delta_m, m + delta_m])\n",
    "    axes.plot(x, g*(x-m) + f, '-', color='g')\n",
    "\n",
    "axes.set_xlabel(\"Control values\");\n",
    "axes.set_ylabel(\"Functional values\");"
   ]
  },
  {
   "cell_type": "markdown",
   "metadata": {},
   "source": [
    "This clearly exhibits the phenomenon of inconsistent gradients arising from the continuous adjoint method.\n",
    "In order to combat it we could add a regularisation term."
   ]
  }
 ],
 "metadata": {
  "kernelspec": {
   "display_name": "Python 3",
   "language": "python",
   "name": "python3"
  },
  "language_info": {
   "codemirror_mode": {
    "name": "ipython",
    "version": 3
   },
   "file_extension": ".py",
   "mimetype": "text/x-python",
   "name": "python",
   "nbconvert_exporter": "python",
   "pygments_lexer": "ipython3",
   "version": "3.6.9"
  }
 },
 "nbformat": 4,
 "nbformat_minor": 4
}
