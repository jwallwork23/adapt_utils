{
 "cells": [
  {
   "cell_type": "markdown",
   "metadata": {},
   "source": [
    "# Tohoku tsunami inversion\n",
    "## 7. Inversion using continuous adjoint with a regularisation term\n",
    "\n",
    "In notebook 6 we attempted to do source inversion with a single basis function using the continuous adjoint approach but found the gradient to be inconsistent.\n",
    "Here we try adding a regularisation term to the quantity of interest to see if that helps."
   ]
  },
  {
   "cell_type": "code",
   "execution_count": 1,
   "metadata": {},
   "outputs": [],
   "source": [
    "%matplotlib inline"
   ]
  },
  {
   "cell_type": "code",
   "execution_count": 2,
   "metadata": {},
   "outputs": [],
   "source": [
    "import matplotlib\n",
    "import matplotlib.pyplot as plt\n",
    "import scipy\n",
    "from time import clock"
   ]
  },
  {
   "cell_type": "code",
   "execution_count": 3,
   "metadata": {},
   "outputs": [],
   "source": [
    "from thetis import *"
   ]
  },
  {
   "cell_type": "code",
   "execution_count": 4,
   "metadata": {},
   "outputs": [],
   "source": [
    "from adapt_utils.case_studies.tohoku.options.options import TohokuOptions\n",
    "from adapt_utils.norms import total_variation\n",
    "from adapt_utils.misc import gaussian, ellipse"
   ]
  },
  {
   "cell_type": "markdown",
   "metadata": {},
   "source": [
    "_[Misc plotting functions]_"
   ]
  },
  {
   "cell_type": "code",
   "execution_count": 5,
   "metadata": {
    "code_folding": [
     0
    ]
   },
   "outputs": [],
   "source": [
    "def plot_field(field, figure=None, axes=None, height=5, **kwargs):\n",
    "    CG1 = field.ufl_element().degree() == 1 and field.ufl_element().family() == 'Lagrange'\n",
    "    fs_constructor = FunctionSpace if len(field.function_space().shape) == 0 else VectorFunctionSpace\n",
    "    out = field if CG1 else interpolate(field, fs_constructor(field.function_space().mesh(), \"CG\", 1))\n",
    "    \n",
    "    if figure is None and axes is None:\n",
    "        figure, axes = plt.subplots(figsize=(height*1.2, height))\n",
    "    if axes is None:\n",
    "        axes = plt.gca()\n",
    "    figure.colorbar(tricontourf(out, levels=50, axes=axes, cmap='coolwarm', **kwargs), ax=axes);\n",
    "    axes.axis(False);\n",
    "    axes.set_title(field.dat.name);\n",
    "    return axes"
   ]
  },
  {
   "cell_type": "code",
   "execution_count": 6,
   "metadata": {
    "code_folding": [
     0
    ]
   },
   "outputs": [],
   "source": [
    "def plot_fields(*fields, height=5):\n",
    "    nfields = len(fields)\n",
    "    fig, axes = plt.subplots(ncols=nfields, figsize=(height*nfields*1.2, height))\n",
    "    for i, field in enumerate(fields):\n",
    "        try:\n",
    "            plot_field(field, fig, axes[i])\n",
    "        except AttributeError:\n",
    "            plot_mesh(field, fig, axes[i])\n",
    "    return axes"
   ]
  },
  {
   "cell_type": "markdown",
   "metadata": {},
   "source": [
    "In this hacky implementation we use some global variables"
   ]
  },
  {
   "cell_type": "code",
   "execution_count": 7,
   "metadata": {},
   "outputs": [],
   "source": [
    "global level\n",
    "level = 0\n",
    "\n",
    "global op\n",
    "op = TohokuOptions(level=level)\n",
    "op.gauges.pop('21418')  # This pressure gauge isn't within the domain\n",
    "\n",
    "global mesh\n",
    "mesh = op.default_mesh\n",
    "\n",
    "global diffs\n",
    "diffs = [None for i in range(int(op.end_time/op.dt)+1)]\n",
    "\n",
    "global boundary_conditions\n",
    "boundary_conditions = {\n",
    "    100: ['freeslip', 'dirichlet'],\n",
    "    200: ['freeslip'],\n",
    "    300: ['freeslip'],\n",
    "}\n",
    "\n",
    "global basis_centres\n",
    "basis_centres = [(0.7e+06, 4.2e+06), ]"
   ]
  },
  {
   "cell_type": "markdown",
   "metadata": {},
   "source": [
    "### Forward model\n",
    "\n",
    "As before, consider the shallow water equations linearised about lake at rest:\n",
    "\n",
    "$$\n",
    "    \\frac{\\partial\\mathbf u}{\\partial t}+g\\nabla\\eta+f\\widehat{\\mathbf z}\\times\\mathbf u=\\boldsymbol0,\\qquad\n",
    "    \\frac{\\partial\\eta}{\\partial t}+\\nabla\\cdot(b\\mathbf u)=0,\\qquad\n",
    "    \\text{in}\\quad(0,T]\\times\\Omega,\n",
    "$$\n",
    "\n",
    "equipped with boundary conditions\n",
    "\n",
    "$$\n",
    "    \\mathbf u\\cdot\\widehat{\\mathbf n}|_{\\Gamma_{\\mathrm{freeslip}}}\\equiv0,\\qquad\n",
    "    \\eta|_{\\Gamma_D}\\equiv0.\n",
    "$$\n",
    "\n",
    "Assume zero initial velocity and expand the initial surface over a radial basis:\n",
    "\n",
    "$$\n",
    "    \\mathbf u|_{t=0}\\equiv\\boldsymbol0,\\qquad\n",
    "    \\eta|_{t=0}=\\sum_{k=1}^N m_kg_k,\n",
    "$$\n",
    "\n",
    "where $m_k$ are (constant in space) control parameters and $g_k$ are Gaussians."
   ]
  },
  {
   "cell_type": "markdown",
   "metadata": {},
   "source": [
    "Choose an initial guess for the basis coefficient"
   ]
  },
  {
   "cell_type": "code",
   "execution_count": 8,
   "metadata": {},
   "outputs": [],
   "source": [
    "m0 = 10.0"
   ]
  },
  {
   "cell_type": "code",
   "execution_count": 9,
   "metadata": {},
   "outputs": [],
   "source": [
    "def get_fields(fs):\n",
    "    elev_space = fs.sub(1)\n",
    "    b = Function(elev_space, name=\"Bathymetry (from GEBCO)\").assign(op.set_bathymetry(elev_space))\n",
    "    f = Function(elev_space, name=\"Coriolis parameter\").assign(op.set_coriolis(elev_space))\n",
    "    g = Constant(op.g)\n",
    "    return b, f, g"
   ]
  },
  {
   "cell_type": "markdown",
   "metadata": {},
   "source": [
    "### Quantity of Interest\n",
    "\n",
    "Modify the QoI with a regularisation term\n",
    "\n",
    "$$\n",
    "J(\\mathbf u,\\eta)=\\frac12\\sum_{g\\in\\mathcal G}\\int_0^T\\int_\\Omega\\mathbb1_g\\big(\\:\\eta(x,t)-\\eta_g(t)\\:\\big)^2\\;\\mathrm dx\\;\\mathrm dt\n",
    "+\\mathcal R,\n",
    "$$\n",
    "\n",
    "where $\\mathbb1_g$ is an indicator function related to a sufficiently small neighbourhood of gauge $g$ and $\\sigma>0$ is the regularisation parameter.\n",
    "We have\n",
    "$$\n",
    "    \\int_\\Omega\\frac\\sigma2\\nabla\\eta_0\\cdot\\nabla\\eta_0\\;\\mathrm dx.\n",
    "$$\n",
    "\n",
    "Note that\n",
    "\n",
    "$$\n",
    "    \\mathcal R=\\int_\\Omega\\frac\\sigma2\\left(\\sum_{k=1}^Nm_k\\nabla g_k\\right)\\cdot\\left(\\sum_{k=1}^Nm_k\\nabla g_k\\right)\\;\\mathrm dx\n",
    "    \\quad\\implies\\quad\n",
    "    \\frac{\\partial\\mathcal R}{\\partial m_k}=\n",
    "    \\int_\\Omega\\sigma m_k\\nabla g_k\\cdot\\nabla g_k\\;\\mathrm dx.\n",
    "$$"
   ]
  },
  {
   "cell_type": "code",
   "execution_count": 10,
   "metadata": {},
   "outputs": [],
   "source": [
    "global sigma\n",
    "sigma = Constant(1.0e+11)"
   ]
  },
  {
   "cell_type": "code",
   "execution_count": 11,
   "metadata": {
    "code_folding": []
   },
   "outputs": [],
   "source": [
    "def sampled_timeseries(g, sample=1):\n",
    "    time_prev = 0.0\n",
    "    num_lines = sum(1 for line in open('resources/gauges/{:s}.dat'.format(g), 'r'))\n",
    "    t, d, running = [], [], []\n",
    "    with open('resources/gauges/{:s}.dat'.format(g), 'r') as f:\n",
    "        for i in range(num_lines):\n",
    "            time, dat = f.readline().split()\n",
    "            time, dat = float(time), float(dat)\n",
    "            if np.isnan(dat):\n",
    "                continue\n",
    "            running.append(dat)\n",
    "            if i % sample == 0 and i > 0:\n",
    "                t.append(0.5*(time + time_prev))\n",
    "                d.append(np.mean(running))\n",
    "                running = 0\n",
    "                time_prev = time\n",
    "                running = []\n",
    "    return scipy.interpolate.interp1d(t, d, bounds_error=False, fill_value='extrapolate')"
   ]
  },
  {
   "cell_type": "code",
   "execution_count": 12,
   "metadata": {},
   "outputs": [],
   "source": [
    "def get_basis_functions(fs, xy_skew=(48e+03, 96e+03), angle=pi/12):\n",
    "    basis_functions = []\n",
    "    for loc in basis_centres:\n",
    "        basis_function = Function(fs)\n",
    "        psi, phi = basis_function.split()\n",
    "        phi.interpolate(gaussian([loc + xy_skew, ], fs.mesh(), rotation=angle))\n",
    "        basis_functions.append(basis_function)\n",
    "    return basis_functions"
   ]
  },
  {
   "cell_type": "code",
   "execution_count": 13,
   "metadata": {},
   "outputs": [],
   "source": [
    "def print_debug(msg, debug=False):\n",
    "    if debug:\n",
    "        print(msg)"
   ]
  },
  {
   "cell_type": "code",
   "execution_count": 14,
   "metadata": {},
   "outputs": [],
   "source": [
    "def solve_forward(ctrl_dat, gradient=False, debug=True):\n",
    "    print(\"FORWARD SOLVE FOR GRADIENT CALCULATION\" if gradient else \"FORWARD SOLVE\")\n",
    "    if isinstance(ctrl_dat, float):\n",
    "        ctrl_dat = [ctrl_dat, ]\n",
    "    print_debug(\"Current control value = {:.8e}\".format(*ctrl_dat), debug=debug)\n",
    "    \n",
    "    # --- Setup function spaces\n",
    "    \n",
    "    fs = VectorFunctionSpace(mesh, \"CG\", 2)*FunctionSpace(mesh, \"CG\", 1)\n",
    "    P0 = FunctionSpace(mesh, \"DG\", 0)\n",
    "    \n",
    "    # -- Setup fields\n",
    "    \n",
    "    b, f, g = get_fields(fs)\n",
    "    \n",
    "    # --- Setup PDE\n",
    "    \n",
    "    dtc = Constant(op.dt)\n",
    "    \n",
    "    u, eta = TrialFunctions(fs)\n",
    "    z, zeta = TestFunctions(fs)\n",
    "\n",
    "    q_ = Function(fs)\n",
    "    u_, eta_ = q_.split()\n",
    "\n",
    "    a = inner(z, u)*dx + inner(zeta, eta)*dx\n",
    "    L = inner(z, u_)*dx + inner(zeta, eta_)*dx\n",
    "    \n",
    "    n = FacetNormal(mesh)\n",
    "\n",
    "    def G(uv, elev):\n",
    "        F = g*inner(z, grad(elev))*dx\n",
    "        F += f*inner(z, as_vector((-uv[1], uv[0])))*dx\n",
    "        F += -inner(grad(zeta), b*uv)*dx\n",
    "        for tag in boundary_conditions:\n",
    "            if 'freeslip' not in boundary_conditions[tag]:\n",
    "                F += inner(zeta*n, b*uv)*ds(tag)\n",
    "        return F\n",
    "\n",
    "    a += 0.5*dtc*G(u, eta)\n",
    "    L += -0.5*dtc*G(u_, eta_)\n",
    "\n",
    "    q = Function(fs)\n",
    "    u, eta = q.split()\n",
    "\n",
    "    bcs = []\n",
    "    for tag in boundary_conditions:\n",
    "        if 'dirichlet' in boundary_conditions[tag]:\n",
    "            bcs.append(DirichletBC(fs.sub(1), 0, tag))\n",
    "\n",
    "    params = {\n",
    "        \"snes_type\": \"ksponly\",\n",
    "        \"ksp_type\": \"gmres\",\n",
    "        \"pc_type\": \"fieldsplit\",\n",
    "        \"pc_fieldsplit_type\": \"multiplicative\",\n",
    "    }\n",
    "\n",
    "    problem = LinearVariationalProblem(a, L, q, bcs=bcs)\n",
    "    solver = LinearVariationalSolver(problem, solver_parameters=params)\n",
    "    \n",
    "    # --- Setup initial condition / control\n",
    "    \n",
    "    basis_functions = get_basis_functions(fs)\n",
    "    try:\n",
    "        assert len(basis_functions) == len(ctrl_dat)\n",
    "    except AssertionError:\n",
    "        msg = \"Number of basis functions and number of basis coefficients do not match ({:d} vs {:d})\"\n",
    "        raise ValueError(msg.format(len(basis_functions), len(ctrl_dat)))\n",
    "    eta_.project(sum(Constant(m_i)*phi_i.split()[1] for m_i, phi_i in zip(ctrl_dat, basis_functions)))\n",
    "    \n",
    "    # --- Setup QoI\n",
    "    \n",
    "    radius = 20.0e+03*pow(0.5, level)  # The finer the mesh, the more precise the indicator region\n",
    "    for gauge in op.gauges:\n",
    "        op.gauges[gauge]['indicator'] = interpolate(ellipse([op.gauges[gauge][\"coords\"] + (radius,), ], mesh), P0)\n",
    "        op.gauges[gauge]['interpolator'] = sampled_timeseries(gauge, sample=60 if gauge[0] == 'P' else 1)\n",
    "        \n",
    "    op.end_time = 1440.0\n",
    "        \n",
    "    times = []\n",
    "\n",
    "    # --- Time integrate\n",
    "    \n",
    "    t = 0.0\n",
    "    iteration = 0\n",
    "    J = 0\n",
    "    eta_obs = Constant(0.0)\n",
    "    weight = Constant(1.0)\n",
    "    tic = clock()\n",
    "    msg = \"    simulation time {:4.1f} minutes    wallclock time {:4.1f} seconds\"\n",
    "    while t < op.end_time:\n",
    "        times.append(t)\n",
    "        if iteration % 48 == 0:\n",
    "            toc = clock() - tic\n",
    "            print_debug(msg.format(t/60, toc), debug=debug)\n",
    "            tic = clock()\n",
    "\n",
    "        # Solve forward equation at current timestep\n",
    "        solver.solve()\n",
    "\n",
    "        # Time integrate QoI\n",
    "        weight.assign(0.5 if np.allclose(t, 0.0) else 1.0)\n",
    "        u, eta = q.split()\n",
    "        diff_expr = 0\n",
    "        for gauge in op.gauges:\n",
    "            indicator = op.gauges[gauge]['indicator']\n",
    "\n",
    "            # Interpolate observations\n",
    "            obs = float(op.gauges[gauge]['interpolator'](t))\n",
    "            eta_obs.assign(obs)\n",
    "\n",
    "            # Continuous form of error\n",
    "            J += assemble(weight*dtc*0.5*indicator*(eta - eta_obs)**2*dx)\n",
    "            \n",
    "            # Save RHS of adjoint equation\n",
    "            diff_expr = diff_expr + indicator*(eta - eta_obs)\n",
    "        diffs[iteration] = interpolate(diff_expr, fs.sub(1))  # TODO: Checkpoint to disk\n",
    "\n",
    "        # Increment\n",
    "        q_.assign(q)\n",
    "        t += op.dt\n",
    "        iteration += 1\n",
    "\n",
    "    assert np.allclose(t, op.end_time), print(\"mismatching end time ({:.2f} vs {:.2f})\".format(t, op.end_time))\n",
    "    toc = clock() - tic\n",
    "    print_debug(msg.format(t/60, toc), debug=debug)\n",
    "    print_debug(\"    Quantity of interest = {:.8e}\".format(J), debug=debug)\n",
    "    \n",
    "    diff_expr = 0\n",
    "    weight.assign(0.5)\n",
    "    u, eta = q.split()\n",
    "    for gauge in op.gauges:\n",
    "        indicator = op.gauges[gauge]['indicator']\n",
    "\n",
    "        # Interpolate observations\n",
    "        obs = float(op.gauges[gauge]['interpolator'](t))\n",
    "        eta_obs.assign(obs)\n",
    "\n",
    "        # Continuous form of error\n",
    "        J += assemble(weight*dtc*0.5*indicator*(eta - eta_obs)**2*dx)\n",
    "\n",
    "        # Save RHS of adjoint equation\n",
    "        diff_expr = diff_expr + indicator*(eta - eta_obs)\n",
    "    diffs[iteration] = interpolate(diff_expr, fs.sub(1))  # TODO: Checkpoint to disk\n",
    "    \n",
    "    # Add regularisation term  # TODO: Might need to reconstruct\n",
    "    basis_derivatives = [m_i*grad(phi_i.split()[1]) for m_i, phi_i in zip(ctrl_dat, basis_functions)]\n",
    "    J += assemble(0.5*sigma*sum(d[0]**2 + d[1]**2 for d in basis_derivatives)*dx)\n",
    "    \n",
    "    return J, q"
   ]
  },
  {
   "cell_type": "code",
   "execution_count": 15,
   "metadata": {},
   "outputs": [],
   "source": [
    "def reduced_functional(m, debug=True):\n",
    "    J, q = solve_forward(m, debug=debug)\n",
    "    return J"
   ]
  },
  {
   "cell_type": "markdown",
   "metadata": {},
   "source": [
    "Let's take a look at the forward solution."
   ]
  },
  {
   "cell_type": "code",
   "execution_count": 16,
   "metadata": {},
   "outputs": [
    {
     "name": "stdout",
     "output_type": "stream",
     "text": [
      "FORWARD SOLVE\n",
      "Current control value = 1.00000000e+01\n",
      "    simulation time  0.0 minutes    wallclock time  0.0 seconds\n",
      "    simulation time  4.0 minutes    wallclock time 19.0 seconds\n",
      "    simulation time  8.0 minutes    wallclock time 19.8 seconds\n",
      "    simulation time 12.0 minutes    wallclock time 19.5 seconds\n",
      "    simulation time 16.0 minutes    wallclock time 19.5 seconds\n",
      "    simulation time 20.0 minutes    wallclock time 19.7 seconds\n",
      "    simulation time 24.0 minutes    wallclock time 19.3 seconds\n",
      "    Quantity of interest = 6.63522212e+13\n"
     ]
    },
    {
     "data": {
      "image/png": "[encoded data removed]",
      "text/plain": [
       "<Figure size 864x360 with 4 Axes>"
      ]
     },
     "metadata": {
      "needs_background": "light"
     },
     "output_type": "display_data"
    }
   ],
   "source": [
    "J, q = solve_forward(m0)\n",
    "u, eta = q.split()\n",
    "u.dat.name = \"Velocity (initial guess control)\"\n",
    "eta.dat.name = \"Elevation (initial guess control)\"\n",
    "plot_fields(u, eta);"
   ]
  },
  {
   "cell_type": "markdown",
   "metadata": {},
   "source": [
    "### Adjoint problem\n",
    "\n",
    "The adjoint problem is comprised of the adjoint equations\n",
    "\n",
    "$$\n",
    "    -\\frac{\\partial\\mathbf u^*}{\\partial t}-b\\nabla\\eta^*-f\\widehat{\\mathbf z}\\times\\mathbf u^*=\\boldsymbol0,\\qquad\n",
    "    -\\frac{\\partial\\eta^*}{\\partial t}-g\\nabla\\cdot u^*=\\sum_{g\\in\\mathcal G}\\mathbb 1_g(\\eta-\\eta_g),\\qquad\n",
    "    \\text{in}\\quad(0,T]\\times\\Omega,\n",
    "$$\n",
    "\n",
    "(using the expressions for $\\frac{\\partial J}{\\partial\\mathbf u}$ and $\\frac{\\partial J}{\\partial\\eta}$ stated earlier) and the final time and boundary conditions\n",
    "\n",
    "$$\n",
    "    \\mathbf u^*\\cdot\\widehat{\\mathbf n}|_{\\partial\\Omega\\backslash\\Gamma_D}\\equiv0,\\qquad\n",
    "    \\eta^*|_{\\partial\\Omega\\backslash\\Gamma_{\\mathrm{freeslip}}}\\equiv0,\\qquad\n",
    "    \\mathbf u^*|_{t=T}\\equiv\\boldsymbol0,\\qquad\n",
    "    \\eta^*|_{t=T}\\equiv0.\n",
    "$$\n",
    "\n",
    "Recall that in our case $\\partial\\Omega\\backslash\\Gamma_{\\mathrm{freeslip}}=\\emptyset$ and $\\partial\\Omega\\backslash\\Gamma_D$ corresponds to coastal boundary tags 200 and 300."
   ]
  },
  {
   "cell_type": "code",
   "execution_count": 17,
   "metadata": {},
   "outputs": [],
   "source": [
    "def solve_adjoint(gradient=True, debug=True):\n",
    "    print(\"ADJOINT SOLVE FOR GRADIENT CALCULATION\" if gradient else \"ADJOINT SOLVE\")\n",
    "    \n",
    "    # --- Setup function spaces\n",
    "    \n",
    "    fs = VectorFunctionSpace(mesh, \"CG\", 2)*FunctionSpace(mesh, \"CG\", 1)\n",
    "    P0 = FunctionSpace(mesh, \"DG\", 0)\n",
    "    \n",
    "    # -- Setup fields\n",
    "    \n",
    "    b, f, g = get_fields(fs)\n",
    "    \n",
    "    # --- Setup PDE\n",
    "\n",
    "    dtc = Constant(op.dt)\n",
    "    \n",
    "    u_star, eta_star = TrialFunctions(fs)\n",
    "    z, zeta = TestFunctions(fs)\n",
    "    q_star_ = Function(fs)\n",
    "    u_star_, eta_star_ = q_star_.split()\n",
    "\n",
    "    a = -inner(z, u_star)*dx - inner(zeta, eta_star)*dx\n",
    "    L = -inner(z, u_star_)*dx - inner(zeta, eta_star_)*dx\n",
    "\n",
    "    n = FacetNormal(mesh)\n",
    "\n",
    "    def G(uv_star, elev_star):\n",
    "        F = -b*inner(z, grad(elev_star))*dx\n",
    "        F += -f*inner(z, as_vector((-uv_star[1], uv_star[0])))*dx\n",
    "        F += g*inner(grad(zeta), uv_star)*dx\n",
    "        for tag in boundary_conditions:\n",
    "            if 'dirichlet' in boundary_conditions[tag]:\n",
    "                F += -inner(zeta*n, uv_star)*ds(tag)\n",
    "        return F\n",
    "\n",
    "    a += 0.5*dtc*G(u_star, eta_star)\n",
    "    L += -0.5*dtc*G(u_star_, eta_star_)\n",
    "\n",
    "    rhs = Function(fs.sub(1))\n",
    "\n",
    "    L += zeta*rhs*dx\n",
    "\n",
    "    q_star = Function(fs)\n",
    "    u_star, eta_star = q_star.split()\n",
    "\n",
    "    # bc = DirichletBC(fs.sub(1), 0, [200, 300])\n",
    "    bc = None\n",
    "    bcs = []\n",
    "    for tag in boundary_conditions:\n",
    "        if 'freeslip' not in boundary_conditions[tag]:\n",
    "            bcs.append(DirichletBC(fs.sub(1), 0, tag))\n",
    "\n",
    "    params = {\n",
    "        \"snes_type\": \"ksponly\",\n",
    "        \"ksp_type\": \"gmres\",\n",
    "        \"pc_type\": \"fieldsplit\",\n",
    "        \"pc_fieldsplit_type\": \"multiplicative\",\n",
    "    }\n",
    "\n",
    "    problem = LinearVariationalProblem(a, L, q_star, bcs=bc)\n",
    "    solver = LinearVariationalSolver(problem, solver_parameters=params)\n",
    "    \n",
    "    # --- Setup indicators\n",
    "    \n",
    "    radius = 20.0e+03*pow(0.5, level)  # The finer the mesh, the more precise the indicator region\n",
    "    for gauge in op.gauges:\n",
    "        op.gauges[gauge]['indicator'] = interpolate(ellipse([op.gauges[gauge][\"coords\"] + (radius,), ], mesh), P0)\n",
    "    \n",
    "    # --- Time integrate\n",
    "    \n",
    "    t = op.end_time\n",
    "    iteration = int(op.end_time/op.dt)\n",
    "    tic = clock()\n",
    "    msg = \"    simulation time {:4.1f} minutes    wallclock time {:4.1f} seconds\"\n",
    "    while t > 0.0:\n",
    "        if iteration % 48 == 0:\n",
    "            toc = clock() - tic\n",
    "            print_debug(msg.format(t/60, toc), debug=debug)\n",
    "            tic = clock()\n",
    "\n",
    "        # Evaluate function appearing in RHS\n",
    "        assert diffs[iteration] is not None\n",
    "        rhs.interpolate(diffs[iteration])\n",
    "        diffs[iteration] = None  # Reset saved data\n",
    "\n",
    "        # Solve adjoint equation at current timestep\n",
    "        solver.solve()\n",
    "\n",
    "        # Increment\n",
    "        q_star_.assign(q_star)\n",
    "        t -= op.dt\n",
    "        iteration -= 1\n",
    "\n",
    "    assert np.allclose(t, 0.0)\n",
    "    toc = clock() - tic\n",
    "    print_debug(msg.format(t/60, toc), debug=debug)\n",
    "    return q_star"
   ]
  },
  {
   "cell_type": "markdown",
   "metadata": {},
   "source": [
    "Let's take a look at the adjoint solution."
   ]
  },
  {
   "cell_type": "code",
   "execution_count": 18,
   "metadata": {},
   "outputs": [
    {
     "name": "stdout",
     "output_type": "stream",
     "text": [
      "ADJOINT SOLVE FOR GRADIENT CALCULATION\n",
      "    simulation time 24.0 minutes    wallclock time  0.0 seconds\n",
      "    simulation time 20.0 minutes    wallclock time 12.3 seconds\n",
      "    simulation time 16.0 minutes    wallclock time 13.3 seconds\n",
      "    simulation time 12.0 minutes    wallclock time 13.8 seconds\n",
      "    simulation time  8.0 minutes    wallclock time 13.5 seconds\n",
      "    simulation time  4.0 minutes    wallclock time 13.5 seconds\n",
      "    simulation time  0.0 minutes    wallclock time 13.4 seconds\n"
     ]
    },
    {
     "data": {
      "image/png": "[encoded data removed]",
      "text/plain": [
       "<Figure size 864x360 with 4 Axes>"
      ]
     },
     "metadata": {
      "needs_background": "light"
     },
     "output_type": "display_data"
    }
   ],
   "source": [
    "q_star = solve_adjoint()\n",
    "u_star, eta_star = q_star.split()\n",
    "u_star.dat.name = \"Adjoint velocity at t=0\"\n",
    "eta_star.dat.name = \"Adjoint elevation at t=0\"\n",
    "plot_fields(u_star, eta_star);"
   ]
  },
  {
   "cell_type": "markdown",
   "metadata": {},
   "source": [
    "Further, recall that the gradient may be computed as\n",
    "\n",
    "$$\n",
    "    \\frac{\\mathrm dJ}{\\mathrm dm_k} = \\int_\\Omega g_k\\eta^*|_{t=0}\\;\\mathrm dx\n",
    "    +\\int_\\Omega\\sigma m_k\\nabla g_k\\cdot\\nabla g_k\\;\\mathrm dx.\n",
    "$$"
   ]
  },
  {
   "cell_type": "code",
   "execution_count": 19,
   "metadata": {},
   "outputs": [],
   "source": [
    "def gradient(m, debug=True):\n",
    "    if isinstance(m, float):\n",
    "        m = [m, ]\n",
    "    if diffs[-1] is None:\n",
    "        J, q = solve_forward(m, gradient=True, debug=debug)\n",
    "    q_star = solve_adjoint(debug=debug)\n",
    "    basis_functions = get_basis_functions(q_star.function_space())\n",
    "    \n",
    "    # As before\n",
    "    g = np.array([assemble(inner(q_star, phi)*dx) for phi in basis_functions])\n",
    "    \n",
    "    # Regularisation term\n",
    "    basis_derivatives = [m_i*grad(phi_i.split()[1]) for m_i, phi_i in zip(m, basis_functions)]\n",
    "    g += np.array([assemble(sigma*m_i*(d_i[0]**2 + d_i[1]**2)*dx) for m_i, d_i in zip(m, basis_derivatives)])\n",
    "    \n",
    "    print_debug(\"Gradient = {:.8e}\".format(g[0]), debug=debug)\n",
    "    return g"
   ]
  },
  {
   "cell_type": "markdown",
   "metadata": {},
   "source": [
    "## Taylor Test\n",
    "\n",
    "As before, let's do a Taylor Test to check whether we have a decent gradient approximation."
   ]
  },
  {
   "cell_type": "code",
   "execution_count": 20,
   "metadata": {},
   "outputs": [],
   "source": [
    "def taylor_test(m, delta_m=0.1, h_init=1):\n",
    "    print(20*\"=\" + \"TAYLOR TEST\" + 20*\"=\")\n",
    "    if isinstance(m, float):\n",
    "        m = [m, ]\n",
    "    if isinstance(delta_m, float):\n",
    "        delta_m = [delta_m, ]\n",
    "    m = np.array(m)\n",
    "    delta_m = np.array(delta_m)\n",
    "    \n",
    "    # Evaluate the reduced functional and gradient at the specified control value\n",
    "    Jm = reduced_functional(m)\n",
    "    dJm = gradient(m)\n",
    "    \n",
    "    # Check that the Taylor remainders decrease quadratically\n",
    "    remainders = np.zeros(3)\n",
    "    for i in range(3):\n",
    "        h = h_init*pow(0.5, i)\n",
    "        print(\"h = {:.4e}\".format(h))\n",
    "        J_step = reduced_functional(m+h*delta_m)\n",
    "        diff = J_step - Jm\n",
    "        grad_h = h*np.dot(dJm, delta_m)\n",
    "        print(\"Difference = {:.4e}\".format(diff))\n",
    "        print(\"Gradient = {:.4e}\".format(grad_h))\n",
    "        remainders[i] = abs(diff - grad_h)\n",
    "        print(\"Taylor remainder = {:.4e}\".format(remainders[i]))\n",
    "        if i > 0:\n",
    "            ratio = remainders[i-1]/remainders[i]\n",
    "            try:\n",
    "                assert ratio > 3.95\n",
    "            except AssertionError:\n",
    "                msg = \"Taylor remainders do not decrease quadratically (ratio {:.4e})\"\n",
    "                raise ConvergenceError(msg.format(ratio))\n",
    "    print(16*\"=\" + \"TAYLOR TEST PASSED!\" + 16*\"=\")"
   ]
  },
  {
   "cell_type": "code",
   "execution_count": 21,
   "metadata": {},
   "outputs": [
    {
     "name": "stdout",
     "output_type": "stream",
     "text": [
      "====================TAYLOR TEST====================\n",
      "FORWARD SOLVE\n",
      "Current control value = 4.50000000e+00\n",
      "    simulation time  0.0 minutes    wallclock time  0.0 seconds\n",
      "    simulation time  4.0 minutes    wallclock time 19.3 seconds\n",
      "    simulation time  8.0 minutes    wallclock time 18.1 seconds\n",
      "    simulation time 12.0 minutes    wallclock time 19.8 seconds\n",
      "    simulation time 16.0 minutes    wallclock time 19.9 seconds\n",
      "    simulation time 20.0 minutes    wallclock time 20.0 seconds\n",
      "    simulation time 24.0 minutes    wallclock time 19.8 seconds\n",
      "    Quantity of interest = 6.52032091e+13\n",
      "ADJOINT SOLVE FOR GRADIENT CALCULATION\n",
      "    simulation time 24.0 minutes    wallclock time  0.0 seconds\n",
      "    simulation time 20.0 minutes    wallclock time 12.5 seconds\n",
      "    simulation time 16.0 minutes    wallclock time 13.6 seconds\n",
      "    simulation time 12.0 minutes    wallclock time 13.2 seconds\n",
      "    simulation time  8.0 minutes    wallclock time 13.0 seconds\n",
      "    simulation time  4.0 minutes    wallclock time 13.1 seconds\n",
      "    simulation time  0.0 minutes    wallclock time 12.8 seconds\n",
      "Gradient = 6.29371438e+13\n",
      "h = 1.0000e+00\n",
      "FORWARD SOLVE\n",
      "Current control value = 4.60000000e+00\n",
      "    simulation time  0.0 minutes    wallclock time  0.0 seconds\n",
      "    simulation time  4.0 minutes    wallclock time 19.0 seconds\n",
      "    simulation time  8.0 minutes    wallclock time 19.7 seconds\n",
      "    simulation time 12.0 minutes    wallclock time 18.9 seconds\n",
      "    simulation time 16.0 minutes    wallclock time 19.7 seconds\n",
      "    simulation time 20.0 minutes    wallclock time 18.9 seconds\n",
      "    simulation time 24.0 minutes    wallclock time 19.4 seconds\n",
      "    Quantity of interest = 6.51540639e+13\n",
      "Difference = 2.6608e+11\n",
      "Gradient = 6.2937e+12\n",
      "Taylor remainder = 6.0276e+12\n",
      "h = 5.0000e-01\n",
      "FORWARD SOLVE\n",
      "Current control value = 4.55000000e+00\n",
      "    simulation time  0.0 minutes    wallclock time  0.0 seconds\n",
      "    simulation time  4.0 minutes    wallclock time 19.5 seconds\n",
      "    simulation time  8.0 minutes    wallclock time 19.3 seconds\n",
      "    simulation time 12.0 minutes    wallclock time 19.5 seconds\n",
      "    simulation time 16.0 minutes    wallclock time 18.5 seconds\n",
      "    simulation time 20.0 minutes    wallclock time 20.7 seconds\n",
      "    simulation time 24.0 minutes    wallclock time 20.8 seconds\n",
      "    Quantity of interest = 6.51783123e+13\n",
      "Difference = 1.3185e+11\n",
      "Gradient = 3.1469e+12\n",
      "Taylor remainder = 3.0150e+12\n"
     ]
    },
    {
     "ename": "ConvergenceError",
     "evalue": "Taylor remainders do not decrease quadratically (ratio 1.9992e+00)",
     "output_type": "error",
     "traceback": [
      "\u001b[0;31m---------------------------------------------------------------------------\u001b[0m",
      "\u001b[0;31mAssertionError\u001b[0m                            Traceback (most recent call last)",
      "\u001b[0;32m<ipython-input-20-f45227b11e9f>\u001b[0m in \u001b[0;36mtaylor_test\u001b[0;34m(m, delta_m, h_init)\u001b[0m\n\u001b[1;32m     28\u001b[0m             \u001b[0;32mtry\u001b[0m\u001b[0;34m:\u001b[0m\u001b[0;34m\u001b[0m\u001b[0;34m\u001b[0m\u001b[0m\n\u001b[0;32m---> 29\u001b[0;31m                 \u001b[0;32massert\u001b[0m \u001b[0mratio\u001b[0m \u001b[0;34m>\u001b[0m \u001b[0;36m3.95\u001b[0m\u001b[0;34m\u001b[0m\u001b[0;34m\u001b[0m\u001b[0m\n\u001b[0m\u001b[1;32m     30\u001b[0m             \u001b[0;32mexcept\u001b[0m \u001b[0mAssertionError\u001b[0m\u001b[0;34m:\u001b[0m\u001b[0;34m\u001b[0m\u001b[0;34m\u001b[0m\u001b[0m\n",
      "\u001b[0;31mAssertionError\u001b[0m: ",
      "\nDuring handling of the above exception, another exception occurred:\n",
      "\u001b[0;31mConvergenceError\u001b[0m                          Traceback (most recent call last)",
      "\u001b[0;32m<ipython-input-21-468224f7d575>\u001b[0m in \u001b[0;36m<module>\u001b[0;34m\u001b[0m\n\u001b[0;32m----> 1\u001b[0;31m \u001b[0mtaylor_test\u001b[0m\u001b[0;34m(\u001b[0m\u001b[0;36m4.5\u001b[0m\u001b[0;34m)\u001b[0m\u001b[0;34m\u001b[0m\u001b[0;34m\u001b[0m\u001b[0m\n\u001b[0m",
      "\u001b[0;32m<ipython-input-20-f45227b11e9f>\u001b[0m in \u001b[0;36mtaylor_test\u001b[0;34m(m, delta_m, h_init)\u001b[0m\n\u001b[1;32m     30\u001b[0m             \u001b[0;32mexcept\u001b[0m \u001b[0mAssertionError\u001b[0m\u001b[0;34m:\u001b[0m\u001b[0;34m\u001b[0m\u001b[0;34m\u001b[0m\u001b[0m\n\u001b[1;32m     31\u001b[0m                 \u001b[0mmsg\u001b[0m \u001b[0;34m=\u001b[0m \u001b[0;34m\"Taylor remainders do not decrease quadratically (ratio {:.4e})\"\u001b[0m\u001b[0;34m\u001b[0m\u001b[0;34m\u001b[0m\u001b[0m\n\u001b[0;32m---> 32\u001b[0;31m                 \u001b[0;32mraise\u001b[0m \u001b[0mConvergenceError\u001b[0m\u001b[0;34m(\u001b[0m\u001b[0mmsg\u001b[0m\u001b[0;34m.\u001b[0m\u001b[0mformat\u001b[0m\u001b[0;34m(\u001b[0m\u001b[0mratio\u001b[0m\u001b[0;34m)\u001b[0m\u001b[0;34m)\u001b[0m\u001b[0;34m\u001b[0m\u001b[0;34m\u001b[0m\u001b[0m\n\u001b[0m\u001b[1;32m     33\u001b[0m     \u001b[0mprint\u001b[0m\u001b[0;34m(\u001b[0m\u001b[0;36m16\u001b[0m\u001b[0;34m*\u001b[0m\u001b[0;34m\"=\"\u001b[0m \u001b[0;34m+\u001b[0m \u001b[0;34m\"TAYLOR TEST PASSED!\"\u001b[0m \u001b[0;34m+\u001b[0m \u001b[0;36m16\u001b[0m\u001b[0;34m*\u001b[0m\u001b[0;34m\"=\"\u001b[0m\u001b[0;34m)\u001b[0m\u001b[0;34m\u001b[0m\u001b[0;34m\u001b[0m\u001b[0m\n",
      "\u001b[0;31mConvergenceError\u001b[0m: Taylor remainders do not decrease quadratically (ratio 1.9992e+00)"
     ]
    }
   ],
   "source": [
    "taylor_test(4.5)"
   ]
  },
  {
   "cell_type": "markdown",
   "metadata": {},
   "source": [
    "The Taylor test failed again! It seems either something needs fixing or we need more regularisation."
   ]
  },
  {
   "cell_type": "markdown",
   "metadata": {},
   "source": [
    "## Parameter space exploration\n",
    "\n",
    "Since we have a one-dimensional control parameter space, we can easily explore the parameter space to see how it looks."
   ]
  },
  {
   "cell_type": "code",
   "execution_count": 27,
   "metadata": {},
   "outputs": [],
   "source": [
    "sigma.assign(1.0e+10);"
   ]
  },
  {
   "cell_type": "code",
   "execution_count": 28,
   "metadata": {},
   "outputs": [],
   "source": [
    "n = 9\n",
    "control_values = np.linspace(2.0, 10.0, n)\n",
    "# func_values = np.zeros(n)\n",
    "# for i, m in enumerate(control_values):\n",
    "#     func_values[i] = reduced_functional(m, debug=False)\n",
    "#     print(\"{:2d}: control value {:.4e}  functional value {:.4e}\".format(i, m, func_values[i]))\n",
    "    \n",
    "# Here's one I prepared earlier\n",
    "assert sigma.dat.data[0] == 1.0e+10\n",
    "func_values = np.array([6.7522e+13, 6.6670e+13, 6.6147e+13, 6.5954e+13, 6.6090e+13, 6.6556e+13,\n",
    "                        6.7352e+13, 6.8477e+13, 6.9932e+13])"
   ]
  },
  {
   "cell_type": "code",
   "execution_count": 29,
   "metadata": {},
   "outputs": [
    {
     "data": {
      "image/png": "[encoded data removed]",
      "text/plain": [
       "<Figure size 576x576 with 1 Axes>"
      ]
     },
     "metadata": {
      "needs_background": "light"
     },
     "output_type": "display_data"
    }
   ],
   "source": [
    "fig, axes = plt.subplots(figsize=(8, 8))\n",
    "\n",
    "axes.plot(control_values, func_values, '--x')\n",
    "axes.set_xlabel(\"Control values\");\n",
    "axes.set_ylabel(\"Functional values\");"
   ]
  },
  {
   "cell_type": "markdown",
   "metadata": {},
   "source": [
    "This plot will be very useful in interpreting the progress of the minimisation routine."
   ]
  },
  {
   "cell_type": "markdown",
   "metadata": {},
   "source": [
    "## Inversion for a single basis function coefficient"
   ]
  },
  {
   "cell_type": "code",
   "execution_count": 30,
   "metadata": {},
   "outputs": [
    {
     "name": "stdout",
     "output_type": "stream",
     "text": [
      "FORWARD SOLVE\n",
      "ADJOINT SOLVE FOR GRADIENT CALCULATION\n",
      "control 9.00000000e+00  functional 6.84771528e+13  gradient 4.08252912e+11\n",
      "FORWARD SOLVE\n",
      "ADJOINT SOLVE FOR GRADIENT CALCULATION\n",
      "control 7.99000000e+00  functional 6.73422956e+13  gradient 3.62691582e+11\n",
      "LINE SEARCH COMPLETE\n",
      "\n",
      "FORWARD SOLVE\n",
      "ADJOINT SOLVE FOR GRADIENT CALCULATION\n",
      "control 1.66944696e+00  functional 6.78765300e+13  gradient 7.75699903e+10\n",
      "FORWARD SOLVE\n",
      "ADJOINT SOLVE FOR GRADIENT CALCULATION\n",
      "control 6.66473456e+00  functional 6.63632596e+13  gradient 3.02908555e+11\n",
      "LINE SEARCH COMPLETE\n",
      "\n",
      "FORWARD SOLVE\n",
      "ADJOINT SOLVE FOR GRADIENT CALCULATION\n",
      "control 1.35857052e-01  functional 6.99912893e+13  gradient 8.38939934e+09\n",
      "FORWARD SOLVE\n",
      "ADJOINT SOLVE FOR GRADIENT CALCULATION\n",
      "control 6.20038781e+00  functional 6.61571815e+13  gradient 2.81961767e+11\n",
      "FORWARD SOLVE\n",
      "ADJOINT SOLVE FOR GRADIENT CALCULATION\n",
      "control 6.08668860e+00  functional 6.61175534e+13  gradient 2.76832770e+11\n",
      "FORWARD SOLVE\n",
      "ADJOINT SOLVE FOR GRADIENT CALCULATION\n",
      "control 3.11127283e+00  functional 6.65953472e+13  gradient 1.42611085e+11\n",
      "FORWARD SOLVE\n",
      "ADJOINT SOLVE FOR GRADIENT CALCULATION\n",
      "control 5.68625984e+00  functional 6.60119196e+13  gradient 2.58769337e+11\n",
      "LINE SEARCH COMPLETE\n",
      "\n",
      "FORWARD SOLVE\n",
      "ADJOINT SOLVE FOR GRADIENT CALCULATION\n",
      "control 2.94363672e+00  functional 6.67091025e+13  gradient 1.35048982e+11\n",
      "FORWARD SOLVE\n",
      "ADJOINT SOLVE FOR GRADIENT CALCULATION\n",
      "control 5.40864176e+00  functional 6.59697069e+13  gradient 2.46245922e+11\n",
      "FORWARD SOLVE\n",
      "ADJOINT SOLVE FOR GRADIENT CALCULATION\n",
      "control 3.78173843e+00  functional 6.62329886e+13  gradient 1.72855941e+11\n",
      "FORWARD SOLVE\n",
      "ADJOINT SOLVE FOR GRADIENT CALCULATION\n",
      "control 5.21144710e+00  functional 6.59551540e+13  gradient 2.37350426e+11\n",
      "FORWARD SOLVE\n",
      "ADJOINT SOLVE FOR GRADIENT CALCULATION\n",
      "control 4.26783938e+00  functional 6.60629287e+13  gradient 1.94784066e+11\n",
      "FORWARD SOLVE\n",
      "ADJOINT SOLVE FOR GRADIENT CALCULATION\n",
      "control 5.08393878e+00  functional 6.59525675e+13  gradient 2.31598497e+11\n",
      "LINE SEARCH COMPLETE\n",
      "\n",
      "FORWARD SOLVE\n",
      "ADJOINT SOLVE FOR GRADIENT CALCULATION\n",
      "control 4.56627019e+00  functional 6.59971107e+13  gradient 2.08246348e+11\n",
      "FORWARD SOLVE\n",
      "ADJOINT SOLVE FOR GRADIENT CALCULATION\n",
      "control 5.00863558e+00  functional 6.59535570e+13  gradient 2.28201552e+11\n",
      "FORWARD SOLVE\n",
      "ADJOINT SOLVE FOR GRADIENT CALCULATION\n",
      "control 5.06908291e+00  functional 6.59526147e+13  gradient 2.30928345e+11\n",
      "FORWARD SOLVE\n",
      "ADJOINT SOLVE FOR GRADIENT CALCULATION\n",
      "control 5.08085357e+00  functional 6.59525713e+13  gradient 2.31459322e+11\n",
      "FORWARD SOLVE\n",
      "ADJOINT SOLVE FOR GRADIENT CALCULATION\n",
      "control 5.08329137e+00  functional 6.59525680e+13  gradient 2.31569292e+11\n",
      "FORWARD SOLVE\n",
      "ADJOINT SOLVE FOR GRADIENT CALCULATION\n",
      "control 5.08380263e+00  functional 6.59525676e+13  gradient 2.31592355e+11\n",
      "FORWARD SOLVE\n",
      "ADJOINT SOLVE FOR GRADIENT CALCULATION\n",
      "control 5.08391014e+00  functional 6.59525675e+13  gradient 2.31597204e+11\n",
      "FORWARD SOLVE\n",
      "ADJOINT SOLVE FOR GRADIENT CALCULATION\n",
      "control 5.08393276e+00  functional 6.59525675e+13  gradient 2.31598225e+11\n",
      "FORWARD SOLVE\n",
      "ADJOINT SOLVE FOR GRADIENT CALCULATION\n",
      "control 5.08393752e+00  functional 6.59525675e+13  gradient 2.31598439e+11\n",
      "FORWARD SOLVE\n",
      "ADJOINT SOLVE FOR GRADIENT CALCULATION\n",
      "control 5.08393852e+00  functional 6.59525675e+13  gradient 2.31598484e+11\n",
      "FORWARD SOLVE\n",
      "ADJOINT SOLVE FOR GRADIENT CALCULATION\n",
      "control 5.08393873e+00  functional 6.59525675e+13  gradient 2.31598494e+11\n",
      "FORWARD SOLVE\n",
      "ADJOINT SOLVE FOR GRADIENT CALCULATION\n",
      "control 5.08393877e+00  functional 6.59525675e+13  gradient 2.31598496e+11\n",
      "FORWARD SOLVE\n",
      "ADJOINT SOLVE FOR GRADIENT CALCULATION\n",
      "control 5.08393878e+00  functional 6.59525675e+13  gradient 2.31598496e+11\n",
      "FORWARD SOLVE\n",
      "ADJOINT SOLVE FOR GRADIENT CALCULATION\n",
      "control 5.08393878e+00  functional 6.59525675e+13  gradient 2.31598496e+11\n",
      "FORWARD SOLVE\n",
      "ADJOINT SOLVE FOR GRADIENT CALCULATION\n",
      "control 5.08393878e+00  functional 6.59525675e+13  gradient 2.31598497e+11\n",
      "FORWARD SOLVE\n",
      "ADJOINT SOLVE FOR GRADIENT CALCULATION\n",
      "control 5.08393878e+00  functional 6.59525675e+13  gradient 2.31598497e+11\n",
      "FORWARD SOLVE\n",
      "ADJOINT SOLVE FOR GRADIENT CALCULATION\n",
      "control 5.08393878e+00  functional 6.59525675e+13  gradient 2.31598497e+11\n",
      "FORWARD SOLVE\n",
      "ADJOINT SOLVE FOR GRADIENT CALCULATION\n",
      "control 5.08393878e+00  functional 6.59525675e+13  gradient 2.31598497e+11\n",
      "FORWARD SOLVE\n",
      "ADJOINT SOLVE FOR GRADIENT CALCULATION\n",
      "control 5.08393878e+00  functional 6.59525675e+13  gradient 2.31598497e+11\n",
      "FORWARD SOLVE\n",
      "ADJOINT SOLVE FOR GRADIENT CALCULATION\n",
      "control 5.08393878e+00  functional 6.59525675e+13  gradient 2.31598497e+11\n",
      "FORWARD SOLVE\n",
      "ADJOINT SOLVE FOR GRADIENT CALCULATION\n",
      "control 5.08393878e+00  functional 6.59525675e+13  gradient 2.31598497e+11\n",
      "FORWARD SOLVE\n",
      "ADJOINT SOLVE FOR GRADIENT CALCULATION\n",
      "control 5.08393878e+00  functional 6.59525675e+13  gradient 2.31598497e+11\n",
      "FORWARD SOLVE\n",
      "ADJOINT SOLVE FOR GRADIENT CALCULATION\n",
      "control 5.08393878e+00  functional 6.59525675e+13  gradient 2.31598497e+11\n",
      "FORWARD SOLVE\n",
      "ADJOINT SOLVE FOR GRADIENT CALCULATION\n",
      "control 5.08393878e+00  functional 6.59525675e+13  gradient 2.31598497e+11\n",
      "FORWARD SOLVE\n",
      "ADJOINT SOLVE FOR GRADIENT CALCULATION\n",
      "control 5.08393878e+00  functional 6.59525675e+13  gradient 2.31598497e+11\n",
      "FORWARD SOLVE\n",
      "ADJOINT SOLVE FOR GRADIENT CALCULATION\n",
      "control 5.08393878e+00  functional 6.59525675e+13  gradient 2.31598497e+11\n",
      "FORWARD SOLVE\n",
      "ADJOINT SOLVE FOR GRADIENT CALCULATION\n",
      "control 5.08393878e+00  functional 6.59525675e+13  gradient 2.31598497e+11\n",
      "FORWARD SOLVE\n",
      "ADJOINT SOLVE FOR GRADIENT CALCULATION\n",
      "control 5.08393878e+00  functional 6.59525675e+13  gradient 2.31598497e+11\n",
      "FORWARD SOLVE\n",
      "ADJOINT SOLVE FOR GRADIENT CALCULATION\n",
      "control 5.08393878e+00  functional 6.59525675e+13  gradient 2.31598497e+11\n",
      "FORWARD SOLVE\n",
      "ADJOINT SOLVE FOR GRADIENT CALCULATION\n",
      "control 5.08393878e+00  functional 6.59525675e+13  gradient 2.31598497e+11\n",
      "FORWARD SOLVE\n",
      "ADJOINT SOLVE FOR GRADIENT CALCULATION\n",
      "control 5.08393878e+00  functional 6.59525675e+13  gradient 2.31598497e+11\n",
      "FORWARD SOLVE\n",
      "ADJOINT SOLVE FOR GRADIENT CALCULATION\n",
      "control 5.08393878e+00  functional 6.59525675e+13  gradient 2.31598497e+11\n",
      "FORWARD SOLVE\n",
      "ADJOINT SOLVE FOR GRADIENT CALCULATION\n",
      "control 5.08393878e+00  functional 6.59525675e+13  gradient 2.31598497e+11\n",
      "FORWARD SOLVE\n",
      "ADJOINT SOLVE FOR GRADIENT CALCULATION\n",
      "control 5.08393878e+00  functional 6.59525675e+13  gradient 2.31598497e+11\n",
      "FORWARD SOLVE\n",
      "ADJOINT SOLVE FOR GRADIENT CALCULATION\n",
      "control 5.08393878e+00  functional 6.59525675e+13  gradient 2.31598497e+11\n",
      "FORWARD SOLVE\n",
      "ADJOINT SOLVE FOR GRADIENT CALCULATION\n",
      "control 5.08393878e+00  functional 6.59525675e+13  gradient 2.31598497e+11\n",
      "FORWARD SOLVE\n",
      "ADJOINT SOLVE FOR GRADIENT CALCULATION\n",
      "control 5.08393878e+00  functional 6.59525675e+13  gradient 2.31598497e+11\n",
      "FORWARD SOLVE\n",
      "ADJOINT SOLVE FOR GRADIENT CALCULATION\n",
      "control 5.08393878e+00  functional 6.59525675e+13  gradient 2.31598497e+11\n",
      "FORWARD SOLVE\n",
      "ADJOINT SOLVE FOR GRADIENT CALCULATION\n",
      "control 5.08393878e+00  functional 6.59525675e+13  gradient 2.31598497e+11\n",
      "FORWARD SOLVE\n",
      "ADJOINT SOLVE FOR GRADIENT CALCULATION\n",
      "control 5.08393878e+00  functional 6.59525675e+13  gradient 2.31598497e+11\n",
      "FORWARD SOLVE\n",
      "ADJOINT SOLVE FOR GRADIENT CALCULATION\n",
      "control 5.08393878e+00  functional 6.59525675e+13  gradient 2.31598497e+11\n",
      "FORWARD SOLVE\n"
     ]
    },
    {
     "ename": "KeyboardInterrupt",
     "evalue": "",
     "output_type": "error",
     "traceback": [
      "\u001b[0;31m---------------------------------------------------------------------------\u001b[0m",
      "\u001b[0;31mKeyboardInterrupt\u001b[0m                         Traceback (most recent call last)",
      "\u001b[0;32m<ipython-input-30-c2df659452c5>\u001b[0m in \u001b[0;36m<module>\u001b[0;34m\u001b[0m\n\u001b[1;32m     40\u001b[0m }\n\u001b[1;32m     41\u001b[0m \u001b[0;34m\u001b[0m\u001b[0m\n\u001b[0;32m---> 42\u001b[0;31m \u001b[0mm_opt\u001b[0m \u001b[0;34m=\u001b[0m \u001b[0mscipy\u001b[0m\u001b[0;34m.\u001b[0m\u001b[0moptimize\u001b[0m\u001b[0;34m.\u001b[0m\u001b[0mfmin_bfgs\u001b[0m\u001b[0;34m(\u001b[0m\u001b[0mscaled_reduced_functional\u001b[0m\u001b[0;34m,\u001b[0m \u001b[0mm_init\u001b[0m\u001b[0;34m,\u001b[0m \u001b[0mfprime\u001b[0m\u001b[0;34m=\u001b[0m\u001b[0mscaled_gradient\u001b[0m\u001b[0;34m,\u001b[0m \u001b[0;34m**\u001b[0m\u001b[0mopt_parameters\u001b[0m\u001b[0;34m)\u001b[0m\u001b[0;34m\u001b[0m\u001b[0;34m\u001b[0m\u001b[0m\n\u001b[0m\u001b[1;32m     43\u001b[0m \u001b[0mprint\u001b[0m\u001b[0;34m(\u001b[0m\u001b[0;34m\"Optimised control parameter = {:.4e}\"\u001b[0m\u001b[0;34m.\u001b[0m\u001b[0mformat\u001b[0m\u001b[0;34m(\u001b[0m\u001b[0;34m*\u001b[0m\u001b[0mm_opt\u001b[0m\u001b[0;34m)\u001b[0m\u001b[0;34m)\u001b[0m\u001b[0;34m\u001b[0m\u001b[0;34m\u001b[0m\u001b[0m\n",
      "\u001b[0;32m~/software/firedrake-pragmatic/lib/python3.6/site-packages/scipy/optimize/optimize.py\u001b[0m in \u001b[0;36mfmin_bfgs\u001b[0;34m(f, x0, fprime, args, gtol, norm, epsilon, maxiter, full_output, disp, retall, callback)\u001b[0m\n\u001b[1;32m    950\u001b[0m             'return_all': retall}\n\u001b[1;32m    951\u001b[0m \u001b[0;34m\u001b[0m\u001b[0m\n\u001b[0;32m--> 952\u001b[0;31m     \u001b[0mres\u001b[0m \u001b[0;34m=\u001b[0m \u001b[0m_minimize_bfgs\u001b[0m\u001b[0;34m(\u001b[0m\u001b[0mf\u001b[0m\u001b[0;34m,\u001b[0m \u001b[0mx0\u001b[0m\u001b[0;34m,\u001b[0m \u001b[0margs\u001b[0m\u001b[0;34m,\u001b[0m \u001b[0mfprime\u001b[0m\u001b[0;34m,\u001b[0m \u001b[0mcallback\u001b[0m\u001b[0;34m=\u001b[0m\u001b[0mcallback\u001b[0m\u001b[0;34m,\u001b[0m \u001b[0;34m**\u001b[0m\u001b[0mopts\u001b[0m\u001b[0;34m)\u001b[0m\u001b[0;34m\u001b[0m\u001b[0;34m\u001b[0m\u001b[0m\n\u001b[0m\u001b[1;32m    953\u001b[0m \u001b[0;34m\u001b[0m\u001b[0m\n\u001b[1;32m    954\u001b[0m     \u001b[0;32mif\u001b[0m \u001b[0mfull_output\u001b[0m\u001b[0;34m:\u001b[0m\u001b[0;34m\u001b[0m\u001b[0;34m\u001b[0m\u001b[0m\n",
      "\u001b[0;32m~/software/firedrake-pragmatic/lib/python3.6/site-packages/scipy/optimize/optimize.py\u001b[0m in \u001b[0;36m_minimize_bfgs\u001b[0;34m(fun, x0, args, jac, callback, gtol, norm, eps, maxiter, disp, return_all, **unknown_options)\u001b[0m\n\u001b[1;32m   1026\u001b[0m             \u001b[0malpha_k\u001b[0m\u001b[0;34m,\u001b[0m \u001b[0mfc\u001b[0m\u001b[0;34m,\u001b[0m \u001b[0mgc\u001b[0m\u001b[0;34m,\u001b[0m \u001b[0mold_fval\u001b[0m\u001b[0;34m,\u001b[0m \u001b[0mold_old_fval\u001b[0m\u001b[0;34m,\u001b[0m \u001b[0mgfkp1\u001b[0m \u001b[0;34m=\u001b[0m\u001b[0;31m \u001b[0m\u001b[0;31m\\\u001b[0m\u001b[0;34m\u001b[0m\u001b[0;34m\u001b[0m\u001b[0m\n\u001b[1;32m   1027\u001b[0m                      _line_search_wolfe12(f, myfprime, xk, pk, gfk,\n\u001b[0;32m-> 1028\u001b[0;31m                                           old_fval, old_old_fval, amin=1e-100, amax=1e100)\n\u001b[0m\u001b[1;32m   1029\u001b[0m         \u001b[0;32mexcept\u001b[0m \u001b[0m_LineSearchError\u001b[0m\u001b[0;34m:\u001b[0m\u001b[0;34m\u001b[0m\u001b[0;34m\u001b[0m\u001b[0m\n\u001b[1;32m   1030\u001b[0m             \u001b[0;31m# Line search failed to find a better solution.\u001b[0m\u001b[0;34m\u001b[0m\u001b[0;34m\u001b[0m\u001b[0;34m\u001b[0m\u001b[0m\n",
      "\u001b[0;32m~/software/firedrake-pragmatic/lib/python3.6/site-packages/scipy/optimize/optimize.py\u001b[0m in \u001b[0;36m_line_search_wolfe12\u001b[0;34m(f, fprime, xk, pk, gfk, old_fval, old_old_fval, **kwargs)\u001b[0m\n\u001b[1;32m    843\u001b[0m     ret = line_search_wolfe1(f, fprime, xk, pk, gfk,\n\u001b[1;32m    844\u001b[0m                              \u001b[0mold_fval\u001b[0m\u001b[0;34m,\u001b[0m \u001b[0mold_old_fval\u001b[0m\u001b[0;34m,\u001b[0m\u001b[0;34m\u001b[0m\u001b[0;34m\u001b[0m\u001b[0m\n\u001b[0;32m--> 845\u001b[0;31m                              **kwargs)\n\u001b[0m\u001b[1;32m    846\u001b[0m \u001b[0;34m\u001b[0m\u001b[0m\n\u001b[1;32m    847\u001b[0m     \u001b[0;32mif\u001b[0m \u001b[0mret\u001b[0m\u001b[0;34m[\u001b[0m\u001b[0;36m0\u001b[0m\u001b[0;34m]\u001b[0m \u001b[0;32mis\u001b[0m \u001b[0;32mnot\u001b[0m \u001b[0;32mNone\u001b[0m \u001b[0;32mand\u001b[0m \u001b[0mextra_condition\u001b[0m \u001b[0;32mis\u001b[0m \u001b[0;32mnot\u001b[0m \u001b[0;32mNone\u001b[0m\u001b[0;34m:\u001b[0m\u001b[0;34m\u001b[0m\u001b[0;34m\u001b[0m\u001b[0m\n",
      "\u001b[0;32m~/software/firedrake-pragmatic/lib/python3.6/site-packages/scipy/optimize/linesearch.py\u001b[0m in \u001b[0;36mline_search_wolfe1\u001b[0;34m(f, fprime, xk, pk, gfk, old_fval, old_old_fval, args, c1, c2, amax, amin, xtol)\u001b[0m\n\u001b[1;32m     99\u001b[0m     stp, fval, old_fval = scalar_search_wolfe1(\n\u001b[1;32m    100\u001b[0m             \u001b[0mphi\u001b[0m\u001b[0;34m,\u001b[0m \u001b[0mderphi\u001b[0m\u001b[0;34m,\u001b[0m \u001b[0mold_fval\u001b[0m\u001b[0;34m,\u001b[0m \u001b[0mold_old_fval\u001b[0m\u001b[0;34m,\u001b[0m \u001b[0mderphi0\u001b[0m\u001b[0;34m,\u001b[0m\u001b[0;34m\u001b[0m\u001b[0;34m\u001b[0m\u001b[0m\n\u001b[0;32m--> 101\u001b[0;31m             c1=c1, c2=c2, amax=amax, amin=amin, xtol=xtol)\n\u001b[0m\u001b[1;32m    102\u001b[0m \u001b[0;34m\u001b[0m\u001b[0m\n\u001b[1;32m    103\u001b[0m     \u001b[0;32mreturn\u001b[0m \u001b[0mstp\u001b[0m\u001b[0;34m,\u001b[0m \u001b[0mfc\u001b[0m\u001b[0;34m[\u001b[0m\u001b[0;36m0\u001b[0m\u001b[0;34m]\u001b[0m\u001b[0;34m,\u001b[0m \u001b[0mgc\u001b[0m\u001b[0;34m[\u001b[0m\u001b[0;36m0\u001b[0m\u001b[0;34m]\u001b[0m\u001b[0;34m,\u001b[0m \u001b[0mfval\u001b[0m\u001b[0;34m,\u001b[0m \u001b[0mold_fval\u001b[0m\u001b[0;34m,\u001b[0m \u001b[0mgval\u001b[0m\u001b[0;34m[\u001b[0m\u001b[0;36m0\u001b[0m\u001b[0;34m]\u001b[0m\u001b[0;34m\u001b[0m\u001b[0;34m\u001b[0m\u001b[0m\n",
      "\u001b[0;32m~/software/firedrake-pragmatic/lib/python3.6/site-packages/scipy/optimize/linesearch.py\u001b[0m in \u001b[0;36mscalar_search_wolfe1\u001b[0;34m(phi, derphi, phi0, old_phi0, derphi0, c1, c2, amax, amin, xtol)\u001b[0m\n\u001b[1;32m    173\u001b[0m         \u001b[0;32mif\u001b[0m \u001b[0mtask\u001b[0m\u001b[0;34m[\u001b[0m\u001b[0;34m:\u001b[0m\u001b[0;36m2\u001b[0m\u001b[0;34m]\u001b[0m \u001b[0;34m==\u001b[0m \u001b[0;34mb'FG'\u001b[0m\u001b[0;34m:\u001b[0m\u001b[0;34m\u001b[0m\u001b[0;34m\u001b[0m\u001b[0m\n\u001b[1;32m    174\u001b[0m             \u001b[0malpha1\u001b[0m \u001b[0;34m=\u001b[0m \u001b[0mstp\u001b[0m\u001b[0;34m\u001b[0m\u001b[0;34m\u001b[0m\u001b[0m\n\u001b[0;32m--> 175\u001b[0;31m             \u001b[0mphi1\u001b[0m \u001b[0;34m=\u001b[0m \u001b[0mphi\u001b[0m\u001b[0;34m(\u001b[0m\u001b[0mstp\u001b[0m\u001b[0;34m)\u001b[0m\u001b[0;34m\u001b[0m\u001b[0;34m\u001b[0m\u001b[0m\n\u001b[0m\u001b[1;32m    176\u001b[0m             \u001b[0mderphi1\u001b[0m \u001b[0;34m=\u001b[0m \u001b[0mderphi\u001b[0m\u001b[0;34m(\u001b[0m\u001b[0mstp\u001b[0m\u001b[0;34m)\u001b[0m\u001b[0;34m\u001b[0m\u001b[0;34m\u001b[0m\u001b[0m\n\u001b[1;32m    177\u001b[0m         \u001b[0;32melse\u001b[0m\u001b[0;34m:\u001b[0m\u001b[0;34m\u001b[0m\u001b[0;34m\u001b[0m\u001b[0m\n",
      "\u001b[0;32m~/software/firedrake-pragmatic/lib/python3.6/site-packages/scipy/optimize/linesearch.py\u001b[0m in \u001b[0;36mphi\u001b[0;34m(s)\u001b[0m\n\u001b[1;32m     85\u001b[0m     \u001b[0;32mdef\u001b[0m \u001b[0mphi\u001b[0m\u001b[0;34m(\u001b[0m\u001b[0ms\u001b[0m\u001b[0;34m)\u001b[0m\u001b[0;34m:\u001b[0m\u001b[0;34m\u001b[0m\u001b[0;34m\u001b[0m\u001b[0m\n\u001b[1;32m     86\u001b[0m         \u001b[0mfc\u001b[0m\u001b[0;34m[\u001b[0m\u001b[0;36m0\u001b[0m\u001b[0;34m]\u001b[0m \u001b[0;34m+=\u001b[0m \u001b[0;36m1\u001b[0m\u001b[0;34m\u001b[0m\u001b[0;34m\u001b[0m\u001b[0m\n\u001b[0;32m---> 87\u001b[0;31m         \u001b[0;32mreturn\u001b[0m \u001b[0mf\u001b[0m\u001b[0;34m(\u001b[0m\u001b[0mxk\u001b[0m \u001b[0;34m+\u001b[0m \u001b[0ms\u001b[0m\u001b[0;34m*\u001b[0m\u001b[0mpk\u001b[0m\u001b[0;34m,\u001b[0m \u001b[0;34m*\u001b[0m\u001b[0margs\u001b[0m\u001b[0;34m)\u001b[0m\u001b[0;34m\u001b[0m\u001b[0;34m\u001b[0m\u001b[0m\n\u001b[0m\u001b[1;32m     88\u001b[0m \u001b[0;34m\u001b[0m\u001b[0m\n\u001b[1;32m     89\u001b[0m     \u001b[0;32mdef\u001b[0m \u001b[0mderphi\u001b[0m\u001b[0;34m(\u001b[0m\u001b[0ms\u001b[0m\u001b[0;34m)\u001b[0m\u001b[0;34m:\u001b[0m\u001b[0;34m\u001b[0m\u001b[0;34m\u001b[0m\u001b[0m\n",
      "\u001b[0;32m~/software/firedrake-pragmatic/lib/python3.6/site-packages/scipy/optimize/optimize.py\u001b[0m in \u001b[0;36mfunction_wrapper\u001b[0;34m(*wrapper_args)\u001b[0m\n\u001b[1;32m    325\u001b[0m     \u001b[0;32mdef\u001b[0m \u001b[0mfunction_wrapper\u001b[0m\u001b[0;34m(\u001b[0m\u001b[0;34m*\u001b[0m\u001b[0mwrapper_args\u001b[0m\u001b[0;34m)\u001b[0m\u001b[0;34m:\u001b[0m\u001b[0;34m\u001b[0m\u001b[0;34m\u001b[0m\u001b[0m\n\u001b[1;32m    326\u001b[0m         \u001b[0mncalls\u001b[0m\u001b[0;34m[\u001b[0m\u001b[0;36m0\u001b[0m\u001b[0;34m]\u001b[0m \u001b[0;34m+=\u001b[0m \u001b[0;36m1\u001b[0m\u001b[0;34m\u001b[0m\u001b[0;34m\u001b[0m\u001b[0m\n\u001b[0;32m--> 327\u001b[0;31m         \u001b[0;32mreturn\u001b[0m \u001b[0mfunction\u001b[0m\u001b[0;34m(\u001b[0m\u001b[0;34m*\u001b[0m\u001b[0;34m(\u001b[0m\u001b[0mwrapper_args\u001b[0m \u001b[0;34m+\u001b[0m \u001b[0margs\u001b[0m\u001b[0;34m)\u001b[0m\u001b[0;34m)\u001b[0m\u001b[0;34m\u001b[0m\u001b[0;34m\u001b[0m\u001b[0m\n\u001b[0m\u001b[1;32m    328\u001b[0m \u001b[0;34m\u001b[0m\u001b[0m\n\u001b[1;32m    329\u001b[0m     \u001b[0;32mreturn\u001b[0m \u001b[0mncalls\u001b[0m\u001b[0;34m,\u001b[0m \u001b[0mfunction_wrapper\u001b[0m\u001b[0;34m\u001b[0m\u001b[0;34m\u001b[0m\u001b[0m\n",
      "\u001b[0;32m<ipython-input-30-c2df659452c5>\u001b[0m in \u001b[0;36mscaled_reduced_functional\u001b[0;34m(m)\u001b[0m\n\u001b[1;32m      8\u001b[0m \u001b[0;34m\u001b[0m\u001b[0m\n\u001b[1;32m      9\u001b[0m \u001b[0;32mdef\u001b[0m \u001b[0mscaled_reduced_functional\u001b[0m\u001b[0;34m(\u001b[0m\u001b[0mm\u001b[0m\u001b[0;34m)\u001b[0m\u001b[0;34m:\u001b[0m\u001b[0;34m\u001b[0m\u001b[0;34m\u001b[0m\u001b[0m\n\u001b[0;32m---> 10\u001b[0;31m     \u001b[0mJ\u001b[0m \u001b[0;34m=\u001b[0m \u001b[0mscaling\u001b[0m\u001b[0;34m*\u001b[0m\u001b[0mreduced_functional\u001b[0m\u001b[0;34m(\u001b[0m\u001b[0mm\u001b[0m\u001b[0;34m,\u001b[0m \u001b[0mdebug\u001b[0m\u001b[0;34m=\u001b[0m\u001b[0;32mFalse\u001b[0m\u001b[0;34m)\u001b[0m\u001b[0;34m\u001b[0m\u001b[0;34m\u001b[0m\u001b[0m\n\u001b[0m\u001b[1;32m     11\u001b[0m     \u001b[0mcontrol_values_opt\u001b[0m\u001b[0;34m.\u001b[0m\u001b[0mappend\u001b[0m\u001b[0;34m(\u001b[0m\u001b[0mm\u001b[0m\u001b[0;34m[\u001b[0m\u001b[0;36m0\u001b[0m\u001b[0;34m]\u001b[0m\u001b[0;34m)\u001b[0m\u001b[0;34m\u001b[0m\u001b[0;34m\u001b[0m\u001b[0m\n\u001b[1;32m     12\u001b[0m     \u001b[0mfunc_values_opt\u001b[0m\u001b[0;34m.\u001b[0m\u001b[0mappend\u001b[0m\u001b[0;34m(\u001b[0m\u001b[0mJ\u001b[0m\u001b[0;34m)\u001b[0m\u001b[0;34m\u001b[0m\u001b[0;34m\u001b[0m\u001b[0m\n",
      "\u001b[0;32m<ipython-input-15-9af362c6738d>\u001b[0m in \u001b[0;36mreduced_functional\u001b[0;34m(m, debug)\u001b[0m\n\u001b[1;32m      1\u001b[0m \u001b[0;32mdef\u001b[0m \u001b[0mreduced_functional\u001b[0m\u001b[0;34m(\u001b[0m\u001b[0mm\u001b[0m\u001b[0;34m,\u001b[0m \u001b[0mdebug\u001b[0m\u001b[0;34m=\u001b[0m\u001b[0;32mTrue\u001b[0m\u001b[0;34m)\u001b[0m\u001b[0;34m:\u001b[0m\u001b[0;34m\u001b[0m\u001b[0;34m\u001b[0m\u001b[0m\n\u001b[0;32m----> 2\u001b[0;31m     \u001b[0mJ\u001b[0m\u001b[0;34m,\u001b[0m \u001b[0mq\u001b[0m \u001b[0;34m=\u001b[0m \u001b[0msolve_forward\u001b[0m\u001b[0;34m(\u001b[0m\u001b[0mm\u001b[0m\u001b[0;34m,\u001b[0m \u001b[0mdebug\u001b[0m\u001b[0;34m=\u001b[0m\u001b[0mdebug\u001b[0m\u001b[0;34m)\u001b[0m\u001b[0;34m\u001b[0m\u001b[0;34m\u001b[0m\u001b[0m\n\u001b[0m\u001b[1;32m      3\u001b[0m     \u001b[0;32mreturn\u001b[0m \u001b[0mJ\u001b[0m\u001b[0;34m\u001b[0m\u001b[0;34m\u001b[0m\u001b[0m\n",
      "\u001b[0;32m<ipython-input-14-29240846d72f>\u001b[0m in \u001b[0;36msolve_forward\u001b[0;34m(ctrl_dat, gradient, debug)\u001b[0m\n\u001b[1;32m    115\u001b[0m             \u001b[0;31m# Save RHS of adjoint equation\u001b[0m\u001b[0;34m\u001b[0m\u001b[0;34m\u001b[0m\u001b[0;34m\u001b[0m\u001b[0m\n\u001b[1;32m    116\u001b[0m             \u001b[0mdiff_expr\u001b[0m \u001b[0;34m=\u001b[0m \u001b[0mdiff_expr\u001b[0m \u001b[0;34m+\u001b[0m \u001b[0mindicator\u001b[0m\u001b[0;34m*\u001b[0m\u001b[0;34m(\u001b[0m\u001b[0meta\u001b[0m \u001b[0;34m-\u001b[0m \u001b[0meta_obs\u001b[0m\u001b[0;34m)\u001b[0m\u001b[0;34m\u001b[0m\u001b[0;34m\u001b[0m\u001b[0m\n\u001b[0;32m--> 117\u001b[0;31m         \u001b[0mdiffs\u001b[0m\u001b[0;34m[\u001b[0m\u001b[0miteration\u001b[0m\u001b[0;34m]\u001b[0m \u001b[0;34m=\u001b[0m \u001b[0minterpolate\u001b[0m\u001b[0;34m(\u001b[0m\u001b[0mdiff_expr\u001b[0m\u001b[0;34m,\u001b[0m \u001b[0mfs\u001b[0m\u001b[0;34m.\u001b[0m\u001b[0msub\u001b[0m\u001b[0;34m(\u001b[0m\u001b[0;36m1\u001b[0m\u001b[0;34m)\u001b[0m\u001b[0;34m)\u001b[0m  \u001b[0;31m# TODO: Checkpoint to disk\u001b[0m\u001b[0;34m\u001b[0m\u001b[0;34m\u001b[0m\u001b[0m\n\u001b[0m\u001b[1;32m    118\u001b[0m \u001b[0;34m\u001b[0m\u001b[0m\n\u001b[1;32m    119\u001b[0m         \u001b[0;31m# Increment\u001b[0m\u001b[0;34m\u001b[0m\u001b[0;34m\u001b[0m\u001b[0;34m\u001b[0m\u001b[0m\n",
      "\u001b[0;32m~/software/firedrake-pragmatic/src/firedrake/firedrake/interpolation.py\u001b[0m in \u001b[0;36minterpolate\u001b[0;34m(expr, V, subset, access)\u001b[0m\n\u001b[1;32m     34\u001b[0m        \u001b[0mperformance\u001b[0m \u001b[0mby\u001b[0m \u001b[0musing\u001b[0m \u001b[0man\u001b[0m \u001b[0;34m:\u001b[0m\u001b[0;32mclass\u001b[0m\u001b[0;34m:\u001b[0m\u001b[0;31m`\u001b[0m\u001b[0mInterpolator\u001b[0m\u001b[0;31m`\u001b[0m \u001b[0minstead\u001b[0m\u001b[0;34m.\u001b[0m\u001b[0;34m\u001b[0m\u001b[0;34m\u001b[0m\u001b[0m\n\u001b[1;32m     35\u001b[0m     \"\"\"\n\u001b[0;32m---> 36\u001b[0;31m     \u001b[0;32mreturn\u001b[0m \u001b[0mInterpolator\u001b[0m\u001b[0;34m(\u001b[0m\u001b[0mexpr\u001b[0m\u001b[0;34m,\u001b[0m \u001b[0mV\u001b[0m\u001b[0;34m,\u001b[0m \u001b[0msubset\u001b[0m\u001b[0;34m=\u001b[0m\u001b[0msubset\u001b[0m\u001b[0;34m,\u001b[0m \u001b[0maccess\u001b[0m\u001b[0;34m=\u001b[0m\u001b[0maccess\u001b[0m\u001b[0;34m)\u001b[0m\u001b[0;34m.\u001b[0m\u001b[0minterpolate\u001b[0m\u001b[0;34m(\u001b[0m\u001b[0;34m)\u001b[0m\u001b[0;34m\u001b[0m\u001b[0;34m\u001b[0m\u001b[0m\n\u001b[0m\u001b[1;32m     37\u001b[0m \u001b[0;34m\u001b[0m\u001b[0m\n\u001b[1;32m     38\u001b[0m \u001b[0;34m\u001b[0m\u001b[0m\n",
      "\u001b[0;32m~/software/firedrake-pragmatic/src/firedrake/firedrake/interpolation.py\u001b[0m in \u001b[0;36m__init__\u001b[0;34m(self, expr, V, subset, freeze_expr, access)\u001b[0m\n\u001b[1;32m     56\u001b[0m     \"\"\"\n\u001b[1;32m     57\u001b[0m     \u001b[0;32mdef\u001b[0m \u001b[0m__init__\u001b[0m\u001b[0;34m(\u001b[0m\u001b[0mself\u001b[0m\u001b[0;34m,\u001b[0m \u001b[0mexpr\u001b[0m\u001b[0;34m,\u001b[0m \u001b[0mV\u001b[0m\u001b[0;34m,\u001b[0m \u001b[0msubset\u001b[0m\u001b[0;34m=\u001b[0m\u001b[0;32mNone\u001b[0m\u001b[0;34m,\u001b[0m \u001b[0mfreeze_expr\u001b[0m\u001b[0;34m=\u001b[0m\u001b[0;32mFalse\u001b[0m\u001b[0;34m,\u001b[0m \u001b[0maccess\u001b[0m\u001b[0;34m=\u001b[0m\u001b[0mop2\u001b[0m\u001b[0;34m.\u001b[0m\u001b[0mWRITE\u001b[0m\u001b[0;34m)\u001b[0m\u001b[0;34m:\u001b[0m\u001b[0;34m\u001b[0m\u001b[0;34m\u001b[0m\u001b[0m\n\u001b[0;32m---> 58\u001b[0;31m         \u001b[0mself\u001b[0m\u001b[0;34m.\u001b[0m\u001b[0mcallable\u001b[0m\u001b[0;34m,\u001b[0m \u001b[0marguments\u001b[0m \u001b[0;34m=\u001b[0m \u001b[0mmake_interpolator\u001b[0m\u001b[0;34m(\u001b[0m\u001b[0mexpr\u001b[0m\u001b[0;34m,\u001b[0m \u001b[0mV\u001b[0m\u001b[0;34m,\u001b[0m \u001b[0msubset\u001b[0m\u001b[0;34m,\u001b[0m \u001b[0maccess\u001b[0m\u001b[0;34m)\u001b[0m\u001b[0;34m\u001b[0m\u001b[0;34m\u001b[0m\u001b[0m\n\u001b[0m\u001b[1;32m     59\u001b[0m         \u001b[0mself\u001b[0m\u001b[0;34m.\u001b[0m\u001b[0marguments\u001b[0m \u001b[0;34m=\u001b[0m \u001b[0marguments\u001b[0m\u001b[0;34m\u001b[0m\u001b[0;34m\u001b[0m\u001b[0m\n\u001b[1;32m     60\u001b[0m         \u001b[0mself\u001b[0m\u001b[0;34m.\u001b[0m\u001b[0mnargs\u001b[0m \u001b[0;34m=\u001b[0m \u001b[0mlen\u001b[0m\u001b[0;34m(\u001b[0m\u001b[0marguments\u001b[0m\u001b[0;34m)\u001b[0m\u001b[0;34m\u001b[0m\u001b[0;34m\u001b[0m\u001b[0m\n",
      "\u001b[0;32m~/software/firedrake-pragmatic/src/firedrake/firedrake/interpolation.py\u001b[0m in \u001b[0;36mmake_interpolator\u001b[0;34m(expr, V, subset, access)\u001b[0m\n\u001b[1;32m    161\u001b[0m             raise NotImplementedError(\n\u001b[1;32m    162\u001b[0m                 \"UFL expressions for mixed functions are not yet supported.\")\n\u001b[0;32m--> 163\u001b[0;31m         \u001b[0mloops\u001b[0m\u001b[0;34m.\u001b[0m\u001b[0mextend\u001b[0m\u001b[0;34m(\u001b[0m\u001b[0m_interpolator\u001b[0m\u001b[0;34m(\u001b[0m\u001b[0mV\u001b[0m\u001b[0;34m,\u001b[0m \u001b[0mtensor\u001b[0m\u001b[0;34m,\u001b[0m \u001b[0mexpr\u001b[0m\u001b[0;34m,\u001b[0m \u001b[0msubset\u001b[0m\u001b[0;34m,\u001b[0m \u001b[0marguments\u001b[0m\u001b[0;34m,\u001b[0m \u001b[0maccess\u001b[0m\u001b[0;34m)\u001b[0m\u001b[0;34m)\u001b[0m\u001b[0;34m\u001b[0m\u001b[0;34m\u001b[0m\u001b[0m\n\u001b[0m\u001b[1;32m    164\u001b[0m     \u001b[0;32melif\u001b[0m \u001b[0mhasattr\u001b[0m\u001b[0;34m(\u001b[0m\u001b[0mexpr\u001b[0m\u001b[0;34m,\u001b[0m \u001b[0;34m'eval'\u001b[0m\u001b[0;34m)\u001b[0m\u001b[0;34m:\u001b[0m\u001b[0;34m\u001b[0m\u001b[0;34m\u001b[0m\u001b[0m\n\u001b[1;32m    165\u001b[0m         \u001b[0;32mif\u001b[0m \u001b[0mlen\u001b[0m\u001b[0;34m(\u001b[0m\u001b[0mV\u001b[0m\u001b[0;34m)\u001b[0m \u001b[0;34m>\u001b[0m \u001b[0;36m1\u001b[0m\u001b[0;34m:\u001b[0m\u001b[0;34m\u001b[0m\u001b[0;34m\u001b[0m\u001b[0m\n",
      "\u001b[0;32m<decorator-gen-147>\u001b[0m in \u001b[0;36m_interpolator\u001b[0;34m(V, tensor, expr, subset, arguments, access)\u001b[0m\n",
      "\u001b[0;32m~/software/firedrake-pragmatic/src/firedrake/firedrake/utils.py\u001b[0m in \u001b[0;36mwrapper\u001b[0;34m(f, *args, **kwargs)\u001b[0m\n\u001b[1;32m     62\u001b[0m         \u001b[0mopts\u001b[0m\u001b[0;34m[\u001b[0m\u001b[0;34m\"type_check\"\u001b[0m\u001b[0;34m]\u001b[0m \u001b[0;34m=\u001b[0m \u001b[0msafe\u001b[0m\u001b[0;34m\u001b[0m\u001b[0;34m\u001b[0m\u001b[0m\n\u001b[1;32m     63\u001b[0m         \u001b[0;32mtry\u001b[0m\u001b[0;34m:\u001b[0m\u001b[0;34m\u001b[0m\u001b[0;34m\u001b[0m\u001b[0m\n\u001b[0;32m---> 64\u001b[0;31m             \u001b[0;32mreturn\u001b[0m \u001b[0mf\u001b[0m\u001b[0;34m(\u001b[0m\u001b[0;34m*\u001b[0m\u001b[0margs\u001b[0m\u001b[0;34m,\u001b[0m \u001b[0;34m**\u001b[0m\u001b[0mkwargs\u001b[0m\u001b[0;34m)\u001b[0m\u001b[0;34m\u001b[0m\u001b[0;34m\u001b[0m\u001b[0m\n\u001b[0m\u001b[1;32m     65\u001b[0m         \u001b[0;32mfinally\u001b[0m\u001b[0;34m:\u001b[0m\u001b[0;34m\u001b[0m\u001b[0;34m\u001b[0m\u001b[0m\n\u001b[1;32m     66\u001b[0m             \u001b[0mopts\u001b[0m\u001b[0;34m[\u001b[0m\u001b[0;34m\"type_check\"\u001b[0m\u001b[0;34m]\u001b[0m \u001b[0;34m=\u001b[0m \u001b[0mcheck\u001b[0m\u001b[0;34m\u001b[0m\u001b[0;34m\u001b[0m\u001b[0m\n",
      "\u001b[0;32m~/software/firedrake-pragmatic/src/firedrake/firedrake/interpolation.py\u001b[0m in \u001b[0;36m_interpolator\u001b[0;34m(V, tensor, expr, subset, arguments, access)\u001b[0m\n\u001b[1;32m    203\u001b[0m         \u001b[0;32mif\u001b[0m \u001b[0mexpr\u001b[0m\u001b[0;34m.\u001b[0m\u001b[0mufl_domain\u001b[0m\u001b[0;34m(\u001b[0m\u001b[0;34m)\u001b[0m \u001b[0;32mand\u001b[0m \u001b[0mexpr\u001b[0m\u001b[0;34m.\u001b[0m\u001b[0mufl_domain\u001b[0m\u001b[0;34m(\u001b[0m\u001b[0;34m)\u001b[0m \u001b[0;34m!=\u001b[0m \u001b[0mV\u001b[0m\u001b[0;34m.\u001b[0m\u001b[0mmesh\u001b[0m\u001b[0;34m(\u001b[0m\u001b[0;34m)\u001b[0m\u001b[0;34m:\u001b[0m\u001b[0;34m\u001b[0m\u001b[0;34m\u001b[0m\u001b[0m\n\u001b[1;32m    204\u001b[0m             \u001b[0;32mraise\u001b[0m \u001b[0mNotImplementedError\u001b[0m\u001b[0;34m(\u001b[0m\u001b[0;34m\"Interpolation onto another mesh not supported.\"\u001b[0m\u001b[0;34m)\u001b[0m\u001b[0;34m\u001b[0m\u001b[0;34m\u001b[0m\u001b[0m\n\u001b[0;32m--> 205\u001b[0;31m         \u001b[0mast\u001b[0m\u001b[0;34m,\u001b[0m \u001b[0moriented\u001b[0m\u001b[0;34m,\u001b[0m \u001b[0mneeds_cell_sizes\u001b[0m\u001b[0;34m,\u001b[0m \u001b[0mcoefficients\u001b[0m\u001b[0;34m,\u001b[0m \u001b[0m_\u001b[0m \u001b[0;34m=\u001b[0m \u001b[0mcompile_expression_dual_evaluation\u001b[0m\u001b[0;34m(\u001b[0m\u001b[0mexpr\u001b[0m\u001b[0;34m,\u001b[0m \u001b[0mto_element\u001b[0m\u001b[0;34m,\u001b[0m \u001b[0mcoords\u001b[0m\u001b[0;34m,\u001b[0m \u001b[0mcoffee\u001b[0m\u001b[0;34m=\u001b[0m\u001b[0;32mFalse\u001b[0m\u001b[0;34m)\u001b[0m\u001b[0;34m\u001b[0m\u001b[0;34m\u001b[0m\u001b[0m\n\u001b[0m\u001b[1;32m    206\u001b[0m         \u001b[0mkernel\u001b[0m \u001b[0;34m=\u001b[0m \u001b[0mop2\u001b[0m\u001b[0;34m.\u001b[0m\u001b[0mKernel\u001b[0m\u001b[0;34m(\u001b[0m\u001b[0mast\u001b[0m\u001b[0;34m,\u001b[0m \u001b[0mast\u001b[0m\u001b[0;34m.\u001b[0m\u001b[0mname\u001b[0m\u001b[0;34m)\u001b[0m\u001b[0;34m\u001b[0m\u001b[0;34m\u001b[0m\u001b[0m\n\u001b[1;32m    207\u001b[0m     \u001b[0;32melif\u001b[0m \u001b[0mhasattr\u001b[0m\u001b[0;34m(\u001b[0m\u001b[0mexpr\u001b[0m\u001b[0;34m,\u001b[0m \u001b[0;34m\"eval\"\u001b[0m\u001b[0;34m)\u001b[0m\u001b[0;34m:\u001b[0m\u001b[0;34m\u001b[0m\u001b[0;34m\u001b[0m\u001b[0m\n",
      "\u001b[0;32m~/software/firedrake-pragmatic/src/tsfc/tsfc/driver.py\u001b[0m in \u001b[0;36mcompile_expression_dual_evaluation\u001b[0;34m(expression, to_element, coordinates, interface, parameters, coffee)\u001b[0m\n\u001b[1;32m    371\u001b[0m             \u001b[0mconfig\u001b[0m\u001b[0;34m[\u001b[0m\u001b[0;34m\"quadrature_rule\"\u001b[0m\u001b[0;34m]\u001b[0m \u001b[0;34m=\u001b[0m \u001b[0mquad_rule\u001b[0m\u001b[0;34m\u001b[0m\u001b[0;34m\u001b[0m\u001b[0m\n\u001b[1;32m    372\u001b[0m \u001b[0;34m\u001b[0m\u001b[0m\n\u001b[0;32m--> 373\u001b[0;31m         \u001b[0mexpr\u001b[0m\u001b[0;34m,\u001b[0m \u001b[0;34m=\u001b[0m \u001b[0mfem\u001b[0m\u001b[0;34m.\u001b[0m\u001b[0mcompile_ufl\u001b[0m\u001b[0;34m(\u001b[0m\u001b[0mexpression\u001b[0m\u001b[0;34m,\u001b[0m \u001b[0;34m**\u001b[0m\u001b[0mconfig\u001b[0m\u001b[0;34m,\u001b[0m \u001b[0mpoint_sum\u001b[0m\u001b[0;34m=\u001b[0m\u001b[0;32mFalse\u001b[0m\u001b[0;34m)\u001b[0m\u001b[0;34m\u001b[0m\u001b[0;34m\u001b[0m\u001b[0m\n\u001b[0m\u001b[1;32m    374\u001b[0m         \u001b[0mshape_indices\u001b[0m \u001b[0;34m=\u001b[0m \u001b[0mtuple\u001b[0m\u001b[0;34m(\u001b[0m\u001b[0mgem\u001b[0m\u001b[0;34m.\u001b[0m\u001b[0mIndex\u001b[0m\u001b[0;34m(\u001b[0m\u001b[0;34m)\u001b[0m \u001b[0;32mfor\u001b[0m \u001b[0m_\u001b[0m \u001b[0;32min\u001b[0m \u001b[0mexpr\u001b[0m\u001b[0;34m.\u001b[0m\u001b[0mshape\u001b[0m\u001b[0;34m)\u001b[0m\u001b[0;34m\u001b[0m\u001b[0;34m\u001b[0m\u001b[0m\n\u001b[1;32m    375\u001b[0m         \u001b[0mbasis_indices\u001b[0m \u001b[0;34m=\u001b[0m \u001b[0mpoint_set\u001b[0m\u001b[0;34m.\u001b[0m\u001b[0mindices\u001b[0m\u001b[0;34m\u001b[0m\u001b[0;34m\u001b[0m\u001b[0m\n",
      "\u001b[0;32m~/software/firedrake-pragmatic/src/tsfc/tsfc/fem.py\u001b[0m in \u001b[0;36mcompile_ufl\u001b[0;34m(expression, interior_facet, point_sum, **kwargs)\u001b[0m\n\u001b[1;32m    643\u001b[0m \u001b[0;34m\u001b[0m\u001b[0m\n\u001b[1;32m    644\u001b[0m     \u001b[0;31m# Translate UFL to GEM, lowering finite element specific nodes\u001b[0m\u001b[0;34m\u001b[0m\u001b[0;34m\u001b[0m\u001b[0;34m\u001b[0m\u001b[0m\n\u001b[0;32m--> 645\u001b[0;31m     \u001b[0mresult\u001b[0m \u001b[0;34m=\u001b[0m \u001b[0mmap_expr_dags\u001b[0m\u001b[0;34m(\u001b[0m\u001b[0mcontext\u001b[0m\u001b[0;34m.\u001b[0m\u001b[0mtranslator\u001b[0m\u001b[0;34m,\u001b[0m \u001b[0mexpressions\u001b[0m\u001b[0;34m)\u001b[0m\u001b[0;34m\u001b[0m\u001b[0;34m\u001b[0m\u001b[0m\n\u001b[0m\u001b[1;32m    646\u001b[0m     \u001b[0;32mif\u001b[0m \u001b[0mpoint_sum\u001b[0m\u001b[0;34m:\u001b[0m\u001b[0;34m\u001b[0m\u001b[0;34m\u001b[0m\u001b[0m\n\u001b[1;32m    647\u001b[0m         \u001b[0mresult\u001b[0m \u001b[0;34m=\u001b[0m \u001b[0;34m[\u001b[0m\u001b[0mgem\u001b[0m\u001b[0;34m.\u001b[0m\u001b[0mindex_sum\u001b[0m\u001b[0;34m(\u001b[0m\u001b[0mexpr\u001b[0m\u001b[0;34m,\u001b[0m \u001b[0mcontext\u001b[0m\u001b[0;34m.\u001b[0m\u001b[0mpoint_indices\u001b[0m\u001b[0;34m)\u001b[0m \u001b[0;32mfor\u001b[0m \u001b[0mexpr\u001b[0m \u001b[0;32min\u001b[0m \u001b[0mresult\u001b[0m\u001b[0;34m]\u001b[0m\u001b[0;34m\u001b[0m\u001b[0;34m\u001b[0m\u001b[0m\n",
      "\u001b[0;32m~/software/firedrake-pragmatic/src/ufl/ufl/corealg/map_dag.py\u001b[0m in \u001b[0;36mmap_expr_dags\u001b[0;34m(function, expressions, compress)\u001b[0m\n\u001b[1;32m     71\u001b[0m             \u001b[0;31m# Cache miss: Get transformed operands, then apply transformation\u001b[0m\u001b[0;34m\u001b[0m\u001b[0;34m\u001b[0m\u001b[0;34m\u001b[0m\u001b[0m\n\u001b[1;32m     72\u001b[0m             \u001b[0;32mif\u001b[0m \u001b[0mcutoff_types\u001b[0m\u001b[0;34m[\u001b[0m\u001b[0mv\u001b[0m\u001b[0;34m.\u001b[0m\u001b[0m_ufl_typecode_\u001b[0m\u001b[0;34m]\u001b[0m\u001b[0;34m:\u001b[0m\u001b[0;34m\u001b[0m\u001b[0;34m\u001b[0m\u001b[0m\n\u001b[0;32m---> 73\u001b[0;31m                 \u001b[0mr\u001b[0m \u001b[0;34m=\u001b[0m \u001b[0mhandlers\u001b[0m\u001b[0;34m[\u001b[0m\u001b[0mv\u001b[0m\u001b[0;34m.\u001b[0m\u001b[0m_ufl_typecode_\u001b[0m\u001b[0;34m]\u001b[0m\u001b[0;34m(\u001b[0m\u001b[0mv\u001b[0m\u001b[0;34m)\u001b[0m\u001b[0;34m\u001b[0m\u001b[0;34m\u001b[0m\u001b[0m\n\u001b[0m\u001b[1;32m     74\u001b[0m             \u001b[0;32melse\u001b[0m\u001b[0;34m:\u001b[0m\u001b[0;34m\u001b[0m\u001b[0;34m\u001b[0m\u001b[0m\n\u001b[1;32m     75\u001b[0m                 \u001b[0mr\u001b[0m \u001b[0;34m=\u001b[0m \u001b[0mhandlers\u001b[0m\u001b[0;34m[\u001b[0m\u001b[0mv\u001b[0m\u001b[0;34m.\u001b[0m\u001b[0m_ufl_typecode_\u001b[0m\u001b[0;34m]\u001b[0m\u001b[0;34m(\u001b[0m\u001b[0mv\u001b[0m\u001b[0;34m,\u001b[0m \u001b[0;34m*\u001b[0m\u001b[0;34m[\u001b[0m\u001b[0mvcache\u001b[0m\u001b[0;34m[\u001b[0m\u001b[0mu\u001b[0m\u001b[0;34m]\u001b[0m \u001b[0;32mfor\u001b[0m \u001b[0mu\u001b[0m \u001b[0;32min\u001b[0m \u001b[0mv\u001b[0m\u001b[0;34m.\u001b[0m\u001b[0mufl_operands\u001b[0m\u001b[0;34m]\u001b[0m\u001b[0;34m)\u001b[0m\u001b[0;34m\u001b[0m\u001b[0;34m\u001b[0m\u001b[0m\n",
      "\u001b[0;32m~/software/firedrake-pragmatic/src/tsfc/tsfc/ufl_utils.py\u001b[0m in \u001b[0;36m_modified_terminal\u001b[0;34m(self, o)\u001b[0m\n\u001b[1;32m    143\u001b[0m     \u001b[0;32mdef\u001b[0m \u001b[0m_modified_terminal\u001b[0m\u001b[0;34m(\u001b[0m\u001b[0mself\u001b[0m\u001b[0;34m,\u001b[0m \u001b[0mo\u001b[0m\u001b[0;34m)\u001b[0m\u001b[0;34m:\u001b[0m\u001b[0;34m\u001b[0m\u001b[0;34m\u001b[0m\u001b[0m\n\u001b[1;32m    144\u001b[0m         \u001b[0;32massert\u001b[0m \u001b[0mis_modified_terminal\u001b[0m\u001b[0;34m(\u001b[0m\u001b[0mo\u001b[0m\u001b[0;34m)\u001b[0m\u001b[0;34m\u001b[0m\u001b[0;34m\u001b[0m\u001b[0m\n\u001b[0;32m--> 145\u001b[0;31m         \u001b[0;32mreturn\u001b[0m \u001b[0mself\u001b[0m\u001b[0;34m.\u001b[0m\u001b[0mmodified_terminal\u001b[0m\u001b[0;34m(\u001b[0m\u001b[0mo\u001b[0m\u001b[0;34m)\u001b[0m\u001b[0;34m\u001b[0m\u001b[0;34m\u001b[0m\u001b[0m\n\u001b[0m\u001b[1;32m    146\u001b[0m \u001b[0;34m\u001b[0m\u001b[0m\n\u001b[1;32m    147\u001b[0m     \u001b[0;31m# Unlike UFL, we do not regard Indexed as a terminal modifier.\u001b[0m\u001b[0;34m\u001b[0m\u001b[0;34m\u001b[0m\u001b[0;34m\u001b[0m\u001b[0m\n",
      "\u001b[0;32m~/software/firedrake-pragmatic/src/tsfc/tsfc/fem.py\u001b[0m in \u001b[0;36mmodified_terminal\u001b[0;34m(self, o)\u001b[0m\n\u001b[1;32m    301\u001b[0m         :class:`ModifiedTerminalMixin`.\"\"\"\n\u001b[1;32m    302\u001b[0m         \u001b[0mmt\u001b[0m \u001b[0;34m=\u001b[0m \u001b[0manalyse_modified_terminal\u001b[0m\u001b[0;34m(\u001b[0m\u001b[0mo\u001b[0m\u001b[0;34m)\u001b[0m\u001b[0;34m\u001b[0m\u001b[0;34m\u001b[0m\u001b[0m\n\u001b[0;32m--> 303\u001b[0;31m         \u001b[0;32mreturn\u001b[0m \u001b[0mtranslate\u001b[0m\u001b[0;34m(\u001b[0m\u001b[0mmt\u001b[0m\u001b[0;34m.\u001b[0m\u001b[0mterminal\u001b[0m\u001b[0;34m,\u001b[0m \u001b[0mmt\u001b[0m\u001b[0;34m,\u001b[0m \u001b[0mself\u001b[0m\u001b[0;34m.\u001b[0m\u001b[0mcontext\u001b[0m\u001b[0;34m)\u001b[0m\u001b[0;34m\u001b[0m\u001b[0;34m\u001b[0m\u001b[0m\n\u001b[0m\u001b[1;32m    304\u001b[0m \u001b[0;34m\u001b[0m\u001b[0m\n\u001b[1;32m    305\u001b[0m \u001b[0;34m\u001b[0m\u001b[0m\n",
      "\u001b[0;32m/usr/lib/python3.6/functools.py\u001b[0m in \u001b[0;36mwrapper\u001b[0;34m(*args, **kw)\u001b[0m\n\u001b[1;32m    805\u001b[0m                             '1 positional argument')\n\u001b[1;32m    806\u001b[0m \u001b[0;34m\u001b[0m\u001b[0m\n\u001b[0;32m--> 807\u001b[0;31m         \u001b[0;32mreturn\u001b[0m \u001b[0mdispatch\u001b[0m\u001b[0;34m(\u001b[0m\u001b[0margs\u001b[0m\u001b[0;34m[\u001b[0m\u001b[0;36m0\u001b[0m\u001b[0;34m]\u001b[0m\u001b[0;34m.\u001b[0m\u001b[0m__class__\u001b[0m\u001b[0;34m)\u001b[0m\u001b[0;34m(\u001b[0m\u001b[0;34m*\u001b[0m\u001b[0margs\u001b[0m\u001b[0;34m,\u001b[0m \u001b[0;34m**\u001b[0m\u001b[0mkw\u001b[0m\u001b[0;34m)\u001b[0m\u001b[0;34m\u001b[0m\u001b[0;34m\u001b[0m\u001b[0m\n\u001b[0m\u001b[1;32m    808\u001b[0m \u001b[0;34m\u001b[0m\u001b[0m\n\u001b[1;32m    809\u001b[0m     \u001b[0mfuncname\u001b[0m \u001b[0;34m=\u001b[0m \u001b[0mgetattr\u001b[0m\u001b[0;34m(\u001b[0m\u001b[0mfunc\u001b[0m\u001b[0;34m,\u001b[0m \u001b[0;34m'__name__'\u001b[0m\u001b[0;34m,\u001b[0m \u001b[0;34m'singledispatch function'\u001b[0m\u001b[0;34m)\u001b[0m\u001b[0;34m\u001b[0m\u001b[0;34m\u001b[0m\u001b[0m\n",
      "\u001b[0;32m~/software/firedrake-pragmatic/src/tsfc/tsfc/fem.py\u001b[0m in \u001b[0;36mtranslate_coefficient\u001b[0;34m(terminal, mt, ctx)\u001b[0m\n\u001b[1;32m    612\u001b[0m         \u001b[0;32mfor\u001b[0m \u001b[0mvar\u001b[0m\u001b[0;34m,\u001b[0m \u001b[0mexpr\u001b[0m \u001b[0;32min\u001b[0m \u001b[0munconcatenate\u001b[0m\u001b[0;34m(\u001b[0m\u001b[0;34m[\u001b[0m\u001b[0;34m(\u001b[0m\u001b[0mvec_beta\u001b[0m\u001b[0;34m,\u001b[0m \u001b[0mtable_qi\u001b[0m\u001b[0;34m)\u001b[0m\u001b[0;34m]\u001b[0m\u001b[0;34m,\u001b[0m \u001b[0mctx\u001b[0m\u001b[0;34m.\u001b[0m\u001b[0mindex_cache\u001b[0m\u001b[0;34m)\u001b[0m\u001b[0;34m:\u001b[0m\u001b[0;34m\u001b[0m\u001b[0;34m\u001b[0m\u001b[0m\n\u001b[1;32m    613\u001b[0m             \u001b[0mindices\u001b[0m \u001b[0;34m=\u001b[0m \u001b[0mtuple\u001b[0m\u001b[0;34m(\u001b[0m\u001b[0mi\u001b[0m \u001b[0;32mfor\u001b[0m \u001b[0mi\u001b[0m \u001b[0;32min\u001b[0m \u001b[0mvar\u001b[0m\u001b[0;34m.\u001b[0m\u001b[0mindex_ordering\u001b[0m\u001b[0;34m(\u001b[0m\u001b[0;34m)\u001b[0m \u001b[0;32mif\u001b[0m \u001b[0mi\u001b[0m \u001b[0;32mnot\u001b[0m \u001b[0;32min\u001b[0m \u001b[0mctx\u001b[0m\u001b[0;34m.\u001b[0m\u001b[0munsummed_coefficient_indices\u001b[0m\u001b[0;34m)\u001b[0m\u001b[0;34m\u001b[0m\u001b[0;34m\u001b[0m\u001b[0m\n\u001b[0;32m--> 614\u001b[0;31m             \u001b[0mvalue\u001b[0m \u001b[0;34m=\u001b[0m \u001b[0mgem\u001b[0m\u001b[0;34m.\u001b[0m\u001b[0mIndexSum\u001b[0m\u001b[0;34m(\u001b[0m\u001b[0mgem\u001b[0m\u001b[0;34m.\u001b[0m\u001b[0mProduct\u001b[0m\u001b[0;34m(\u001b[0m\u001b[0mexpr\u001b[0m\u001b[0;34m,\u001b[0m \u001b[0mvar\u001b[0m\u001b[0;34m)\u001b[0m\u001b[0;34m,\u001b[0m \u001b[0mindices\u001b[0m\u001b[0;34m)\u001b[0m\u001b[0;34m\u001b[0m\u001b[0;34m\u001b[0m\u001b[0m\n\u001b[0m\u001b[1;32m    615\u001b[0m             \u001b[0msummands\u001b[0m\u001b[0;34m.\u001b[0m\u001b[0mappend\u001b[0m\u001b[0;34m(\u001b[0m\u001b[0mgem\u001b[0m\u001b[0;34m.\u001b[0m\u001b[0moptimise\u001b[0m\u001b[0;34m.\u001b[0m\u001b[0mcontraction\u001b[0m\u001b[0;34m(\u001b[0m\u001b[0mvalue\u001b[0m\u001b[0;34m)\u001b[0m\u001b[0;34m)\u001b[0m\u001b[0;34m\u001b[0m\u001b[0;34m\u001b[0m\u001b[0m\n\u001b[1;32m    616\u001b[0m         \u001b[0moptimised_value\u001b[0m \u001b[0;34m=\u001b[0m \u001b[0mgem\u001b[0m\u001b[0;34m.\u001b[0m\u001b[0moptimise\u001b[0m\u001b[0;34m.\u001b[0m\u001b[0mmake_sum\u001b[0m\u001b[0;34m(\u001b[0m\u001b[0msummands\u001b[0m\u001b[0;34m)\u001b[0m\u001b[0;34m\u001b[0m\u001b[0;34m\u001b[0m\u001b[0m\n",
      "\u001b[0;31mKeyboardInterrupt\u001b[0m: "
     ]
    }
   ],
   "source": [
    "m_init = np.array([9.0, ])  # initial guess\n",
    "\n",
    "control_values_opt = []\n",
    "func_values_opt = []\n",
    "gradient_values_opt = []\n",
    "\n",
    "def reduced_functional_with_write(m):\n",
    "    J = reduced_functional(m, debug=False)\n",
    "    control_values_opt.append(m[0])\n",
    "    func_values_opt.append(J)\n",
    "    return J\n",
    "\n",
    "def gradient_with_write(m):\n",
    "    if diffs[0] is None:\n",
    "        J = scaled_reduced_functional(m)\n",
    "        control_values_opt.append(m[0])\n",
    "        func_values_opt.append(J)\n",
    "    else:\n",
    "        J = func_values_opt[-1]\n",
    "    adj_sol0 = solve_adjoint(debug=False)\n",
    "    basis_functions = get_basis_functions(adj_sol0.function_space())\n",
    "    g = np.array([assemble(inner(adj_sol0, phi)*dx) for phi in basis_functions])\n",
    "    gradient_values_opt.append(g[0])\n",
    "    print(\"control {:.8e}  functional {:.8e}  gradient {:.8e}\".format(m[0], J, g[0]))\n",
    "    return g\n",
    "\n",
    "def opt_cb(m_current):\n",
    "    print(\"LINE SEARCH COMPLETE\\n\")\n",
    "\n",
    "opt_parameters = {\n",
    "    'maxiter': 5,\n",
    "    'disp': True,\n",
    "#     'gtol': 1.0e-02,\n",
    "    'gtol': 1.0,\n",
    "    'callback': opt_cb,\n",
    "    'retall': True,\n",
    "    'fprime': gradient_with_write,\n",
    "}\n",
    "\n",
    "m_opt = scipy.optimize.fmin_bfgs(reduced_functional_with_write, m_init, **opt_parameters)\n",
    "print(\"Optimised control parameter = {:.4e}\".format(*m_opt))"
   ]
  },
  {
   "cell_type": "markdown",
   "metadata": {},
   "source": [
    "Let's view the progress of the optimisation routine superimposed on the sample of the parameter space explored previously."
   ]
  },
  {
   "cell_type": "code",
   "execution_count": 31,
   "metadata": {},
   "outputs": [
    {
     "data": {
      "image/png": "[encoded data removed]",
      "text/plain": [
       "<Figure size 576x576 with 1 Axes>"
      ]
     },
     "metadata": {
      "needs_background": "light"
     },
     "output_type": "display_data"
    }
   ],
   "source": [
    "fig, axes = plt.subplots(figsize=(8, 8))\n",
    "\n",
    "axes.plot(control_values, func_values, '--x')\n",
    "axes.plot(control_values_opt, func_values_opt, 'o', color='r')\n",
    "\n",
    "delta_m = 0.25\n",
    "for m, f, g in zip(control_values_opt, func_values_opt, gradient_values_opt):\n",
    "    x = np.array([m - delta_m, m + delta_m])\n",
    "    axes.plot(x, g*(x-m) + f, '-', color='g')\n",
    "\n",
    "axes.set_xlabel(\"Control values\");\n",
    "axes.set_ylabel(\"Functional values\");"
   ]
  },
  {
   "cell_type": "markdown",
   "metadata": {},
   "source": [
    "Now here is something rather strange: the algorithm appears to converge to the minimiser, but the inconsistent gradient is telling it that it hasn't converged yet!"
   ]
  }
 ],
 "metadata": {
  "kernelspec": {
   "display_name": "Python 3",
   "language": "python",
   "name": "python3"
  },
  "language_info": {
   "codemirror_mode": {
    "name": "ipython",
    "version": 3
   },
   "file_extension": ".py",
   "mimetype": "text/x-python",
   "name": "python",
   "nbconvert_exporter": "python",
   "pygments_lexer": "ipython3",
   "version": "3.6.9"
  }
 },
 "nbformat": 4,
 "nbformat_minor": 4
}
