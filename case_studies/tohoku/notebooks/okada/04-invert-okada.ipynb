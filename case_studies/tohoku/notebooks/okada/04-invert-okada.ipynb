{
 "cells": [
  {
   "cell_type": "code",
   "execution_count": 1,
   "metadata": {},
   "outputs": [],
   "source": [
    "%matplotlib inline"
   ]
  },
  {
   "cell_type": "code",
   "execution_count": 2,
   "metadata": {},
   "outputs": [],
   "source": [
    "import adolc"
   ]
  },
  {
   "cell_type": "code",
   "execution_count": 3,
   "metadata": {},
   "outputs": [],
   "source": [
    "from adapt_utils.case_studies.tohoku.options import TohokuOkadaOptions"
   ]
  },
  {
   "cell_type": "code",
   "execution_count": 4,
   "metadata": {},
   "outputs": [],
   "source": [
    "import matplotlib.pyplot as plt\n",
    "import numpy as np"
   ]
  },
  {
   "cell_type": "markdown",
   "metadata": {},
   "source": [
    "# Inverting the Okada model\n",
    "\n",
    "In this notebook, $\\mathbf m$ contains parameters associated with an Okada function representation on an array of subfaults.\n",
    "That is, the initial surface elevation $\\eta_0$ is given by\n",
    "\n",
    "$$\n",
    "    \\eta_0(\\mathbf x)=\\mathrm{Okada}(\\mathbf m),\n",
    "$$\n",
    "\n",
    "where $\\mathrm{Okada}$ denotes the Okada model."
   ]
  },
  {
   "cell_type": "markdown",
   "metadata": {},
   "source": [
    "We can use `pyadolc` to differentiate through the Okada model, giving\n",
    "\n",
    "$$\n",
    "    \\frac{\\mathrm d\\eta_0}{\\mathrm d\\mathrm m}\\:\\widetilde{\\mathrm m},\n",
    "$$\n",
    "\n",
    "for some choice of control parameters, $\\widetilde{\\mathrm m}$.\n",
    "With an appropriate choice of seed vectors (i.e. a seed matrix), we can obtain the gradient\n",
    "\n",
    "$$\n",
    "    \\frac{\\mathrm d\\eta_0}{\\mathrm d\\mathrm m}.\n",
    "$$\n",
    "\n",
    "(See previous notebook for details.)\n",
    "Henceforth let's drop the subscript zero and instead use $\\eta_{ij}$ to indicate the $(i,j)^{th}$ entry on the Okada grid.\n",
    "\n",
    "Suppose we have a source field $\\eta^\\star$.\n",
    "We would like to establish Okada parameters $\\mathbf m$ so that $\\mathrm{Okada}(\\mathbf m)\\approx\\eta^\\star$.\n",
    "One approach is to solve an optimisation problem of the form\n",
    "\n",
    "$$\n",
    "    \\min J(\\eta;\\mathbf m)\\quad\\text{such that}\\quad\\eta=\\mathrm{Okada}(\\mathbf m),\n",
    "$$\n",
    "\n",
    "where $J$ quantifies how well $\\eta$ matches $\\eta^\\star$ in some sense.\n",
    "We opt for the mean square error as our error measure:\n",
    "\n",
    "$$\n",
    "    J(\\eta;\\mathbf m)=\\frac1{N^2}\\sum_{i=0}^{N-1}\\sum_{j=0}^{N-1}(\\eta_{ij}-\\eta_{ij}^\\star)^2.\n",
    "$$\n",
    "\n",
    "where the Okada grid has dimensions $N\\times N$.\n",
    "\n",
    "There are potentially redundancies in the Okada source model in the sense that very similar fields can be generated using different combinations of the input parameters.\n",
    "If so then there could be uniqueness/local minima issues when applying gradient-based optimisation routines.\n",
    "This notebook explores whether or not we need to worry."
   ]
  },
  {
   "cell_type": "markdown",
   "metadata": {},
   "source": [
    "### Initialisation\n",
    "\n",
    "Set parameters and create a `TohokuOkadaOptions` object to hold them.\n",
    "Apply the Okada model with default input parameters to give the field we want to invert for, stored in memory as `eta`."
   ]
  },
  {
   "cell_type": "code",
   "execution_count": 5,
   "metadata": {},
   "outputs": [],
   "source": [
    "kwargs = {\n",
    "    'okada_grid_resolution': 51,\n",
    "    'debug': False,\n",
    "}\n",
    "plotting_kwargs = {\n",
    "    'cmap': 'coolwarm',\n",
    "    'levels': 50,\n",
    "}\n",
    "nonlinear = False"
   ]
  },
  {
   "cell_type": "code",
   "execution_count": 6,
   "metadata": {},
   "outputs": [],
   "source": [
    "op = TohokuOkadaOptions(**kwargs)\n",
    "op.create_topography()"
   ]
  },
  {
   "cell_type": "code",
   "execution_count": 7,
   "metadata": {},
   "outputs": [],
   "source": [
    "N = op.N\n",
    "X = op.fault.dtopo.X\n",
    "Y = op.fault.dtopo.Y\n",
    "eta = op.fault.dtopo.dZ.copy()"
   ]
  },
  {
   "cell_type": "markdown",
   "metadata": {},
   "source": [
    "### Differentatiate the source model\n",
    "\n",
    "Perturb the control parameters with some Normal random noise so that the source is different from that used to generate the gauge timeseries data.\n",
    "This effectively means 'choose an initial guess'."
   ]
  },
  {
   "cell_type": "code",
   "execution_count": 8,
   "metadata": {},
   "outputs": [],
   "source": [
    "kwargs['control_parameters'] = op.control_parameters\n",
    "for control in op.active_controls:\n",
    "    size = np.shape(op.control_parameters[control])\n",
    "    kwargs['control_parameters'][control] += np.random.normal(loc=0, scale=5, size=size)"
   ]
  },
  {
   "cell_type": "markdown",
   "metadata": {},
   "source": [
    "When setting the free surface initial condition using the Okada model, we tell `pyadolc` to annotate its tape.\n",
    "For this application we need to modify the way that the tape is annotated by default."
   ]
  },
  {
   "cell_type": "code",
   "execution_count": 9,
   "metadata": {},
   "outputs": [],
   "source": [
    "class TohokuOkadaInversionOptions(TohokuOkadaOptions):\n",
    "    \"\"\"\n",
    "    A subclass of :class:`TohokuOkadaOptions` which adds an extra step to the annotation. Namely, the mean\n",
    "    square error between the computed surface and the 'true solution' is computed by looping over the vertices\n",
    "    of the Okada grid.\n",
    "    \"\"\"\n",
    "    \n",
    "    def _create_topography_active(self, tag=0, separate_faults=True):\n",
    "        \n",
    "        # Sanitise kwargs\n",
    "        assert isinstance(tag, int)\n",
    "        assert tag >= 0\n",
    "        for control in self.active_controls:\n",
    "            assert control in self.all_controls\n",
    "        \n",
    "        # Initialise tape\n",
    "        adolc.trace_on(tape_tag)\n",
    "\n",
    "        # Read parameters and mark active variables as independent\n",
    "        msg = \"Subfault {:d}: shear modulus {:4.1e} Pa, seismic moment is {:4.1e}\"\n",
    "        for i, subfault in enumerate(self.subfaults):\n",
    "            for control in self.all_controls:\n",
    "                if control in self.active_controls:\n",
    "                    subfault.__setattr__(control, adolc.adouble(self.control_parameters[control][i]))\n",
    "                    adolc.independent(subfault.__getattribute__(control))\n",
    "                else:\n",
    "                    subfault.__setattr__(control, self.control_parameters[control][i])\n",
    "            self.print_debug(msg.format(i, subfault.mu, subfault.Mo().val))\n",
    "\n",
    "        # Create the topography, thereby calling Okada\n",
    "        self.print_debug(\"SETUP: Creating topography using Okada model...\")\n",
    "        self.fault.create_dtopography(verbose=self.debug, active=True)\n",
    "        self.print_debug(\"SETUP: Done!\")\n",
    "\n",
    "        # Compute quantity of interest\n",
    "        self.J_subfaults = [0.0 for j in range(self.N)]\n",
    "        for j in range(self.N):\n",
    "            for i in range(self.N):\n",
    "                self.J_subfaults[j] += (eta[i, j] - self.fault.dtopo.dZ_a[i, j])**2\n",
    "            self.J_subfaults[j] /= op.N**2\n",
    "\n",
    "        self.J = sum(self.J_subfaults)\n",
    "            \n",
    "        # Mark dependence\n",
    "        if separate_faults:\n",
    "            for j in range(self.N):\n",
    "                adolc.dependent(self.J_subfaults[j])\n",
    "        else:\n",
    "            adolc.dependent(self.J)\n",
    "        adolc.trace_off()"
   ]
  },
  {
   "cell_type": "markdown",
   "metadata": {},
   "source": [
    "Create the topography once in order to annotate the tape"
   ]
  },
  {
   "cell_type": "code",
   "execution_count": 10,
   "metadata": {},
   "outputs": [
    {
     "name": "stdout",
     "output_type": "stream",
     "text": [
      "QoI = 1.4774e-01\n"
     ]
    }
   ],
   "source": [
    "tape_tag = 0\n",
    "op = TohokuOkadaInversionOptions(**kwargs)\n",
    "op.create_topography(annotate=True, tag=tape_tag)\n",
    "op.get_seed_matrices()  # these can be reused over and over\n",
    "print(\"QoI = {:.4e}\".format(op.J.val))"
   ]
  },
  {
   "cell_type": "markdown",
   "metadata": {},
   "source": [
    "Sum over all subfaults to get the total QoI.\n",
    "By unrolling the tape, we can easily express the reduced functional as a function of the active controls."
   ]
  },
  {
   "cell_type": "code",
   "execution_count": 13,
   "metadata": {},
   "outputs": [],
   "source": [
    "def reduced_functional(m):\n",
    "    \"\"\"Apply the Okada model by unrolling the tape and compute the QoI.\"\"\"\n",
    "    return sum(adolc.zos_forward(tape_tag, m, keep=0))"
   ]
  },
  {
   "cell_type": "code",
   "execution_count": 14,
   "metadata": {},
   "outputs": [
    {
     "name": "stdout",
     "output_type": "stream",
     "text": [
      "J = 1.4774e-01\n"
     ]
    }
   ],
   "source": [
    "J = reduced_functional(op.input_vector)\n",
    "assert np.isclose(J, op.J.val)\n",
    "print(\"J = {:.4e}\".format(J))"
   ]
  },
  {
   "cell_type": "markdown",
   "metadata": {},
   "source": [
    "Similarly, we can propagate through the forward mode of AD to get the gradient"
   ]
  },
  {
   "cell_type": "code",
   "execution_count": 18,
   "metadata": {},
   "outputs": [],
   "source": [
    "def gradient(m):\n",
    "    \"\"\"Compute the gradient of the QoI with respect to the input parameters.\"\"\"\n",
    "    J_subfaults, dJdm = adolc.fov_forward(tape_tag, m, op.seed_matrices)\n",
    "    return dJdm"
   ]
  },
  {
   "cell_type": "code",
   "execution_count": 19,
   "metadata": {},
   "outputs": [
    {
     "name": "stdout",
     "output_type": "stream",
     "text": [
      "Gradient has shape  (51, 4)\n"
     ]
    }
   ],
   "source": [
    "g = gradient(op.input_vector)\n",
    "assert g.shape == (op.N, len(op.active_controls))\n",
    "print(\"Gradient has shape \", g.shape)"
   ]
  },
  {
   "cell_type": "code",
   "execution_count": 20,
   "metadata": {},
   "outputs": [],
   "source": [
    "eta_pert = op.fault.dtopo.dZ.copy()"
   ]
  },
  {
   "cell_type": "markdown",
   "metadata": {},
   "source": [
    "Check that the function stored to tape evaluates as it should"
   ]
  },
  {
   "cell_type": "code",
   "execution_count": 21,
   "metadata": {},
   "outputs": [
    {
     "data": {
      "image/png": "[encoded data removed]",
      "text/plain": [
       "<Figure size 648x288 with 4 Axes>"
      ]
     },
     "metadata": {
      "needs_background": "light"
     },
     "output_type": "display_data"
    }
   ],
   "source": [
    "fig, axes = plt.subplots(ncols=2, figsize=(9, 4))\n",
    "eta_pert = op.fault.dtopo.dZ.reshape(N, N)\n",
    "fig.colorbar(axes[0].contourf(X, Y, eta, **plotting_kwargs), ax=axes[0]);\n",
    "axes[0].set_title(\"Original source\");\n",
    "fig.colorbar(axes[1].contourf(X, Y, eta_pert, **plotting_kwargs), ax=axes[1]);\n",
    "axes[1].set_title(\"Perturbed source\");"
   ]
  },
  {
   "cell_type": "markdown",
   "metadata": {},
   "source": [
    "# TODO: inversion"
   ]
  }
 ],
 "metadata": {
  "kernelspec": {
   "display_name": "Python 3",
   "language": "python",
   "name": "python3"
  },
  "language_info": {
   "codemirror_mode": {
    "name": "ipython",
    "version": 3
   },
   "file_extension": ".py",
   "mimetype": "text/x-python",
   "name": "python",
   "nbconvert_exporter": "python",
   "pygments_lexer": "ipython3",
   "version": "3.6.9"
  }
 },
 "nbformat": 4,
 "nbformat_minor": 4
}
