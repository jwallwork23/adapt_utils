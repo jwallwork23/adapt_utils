{
 "cells": [
  {
   "cell_type": "code",
   "execution_count": 1,
   "metadata": {},
   "outputs": [],
   "source": [
    "%matplotlib inline"
   ]
  },
  {
   "cell_type": "code",
   "execution_count": 2,
   "metadata": {},
   "outputs": [],
   "source": [
    "import adolc"
   ]
  },
  {
   "cell_type": "code",
   "execution_count": 3,
   "metadata": {},
   "outputs": [],
   "source": [
    "from adapt_utils.case_studies.tohoku.options import TohokuOkadaOptions\n",
    "from adapt_utils.misc import taylor_test"
   ]
  },
  {
   "cell_type": "code",
   "execution_count": 4,
   "metadata": {},
   "outputs": [],
   "source": [
    "import matplotlib.pyplot as plt\n",
    "import numpy as np\n",
    "import scipy"
   ]
  },
  {
   "cell_type": "markdown",
   "metadata": {},
   "source": [
    "# Inverting the Okada model\n",
    "\n",
    "In this notebook, $\\mathbf m$ contains parameters associated with an Okada function representation on an array of subfaults.\n",
    "That is, the initial surface elevation $\\eta_0$ is given by\n",
    "\n",
    "$$\n",
    "    \\eta_0(\\mathbf x)=\\mathrm{Okada}(\\mathbf m),\n",
    "$$\n",
    "\n",
    "where $\\mathrm{Okada}$ denotes the Okada model."
   ]
  },
  {
   "cell_type": "markdown",
   "metadata": {},
   "source": [
    "We can use `pyadolc` to differentiate through the Okada model, giving\n",
    "\n",
    "$$\n",
    "    \\frac{\\mathrm d\\eta_0}{\\mathrm d\\mathrm m}\\:\\widetilde{\\mathrm m},\n",
    "$$\n",
    "\n",
    "for some choice of control parameters, $\\widetilde{\\mathrm m}$.\n",
    "With an appropriate choice of seed vectors (i.e. a seed matrix), we can obtain the gradient\n",
    "\n",
    "$$\n",
    "    \\frac{\\mathrm d\\eta_0}{\\mathrm d\\mathrm m}.\n",
    "$$\n",
    "\n",
    "(See previous notebook for details.)\n",
    "Henceforth let's drop the subscript zero and instead use $\\eta_{ij}$ to indicate the $(i,j)^{th}$ entry on the Okada grid.\n",
    "\n",
    "Suppose we have a source field $\\eta^\\star$.\n",
    "We would like to establish Okada parameters $\\mathbf m$ so that $\\mathrm{Okada}(\\mathbf m)\\approx\\eta^\\star$.\n",
    "One approach is to solve an optimisation problem of the form\n",
    "\n",
    "$$\n",
    "    \\min J(\\eta;\\mathbf m)\\quad\\text{such that}\\quad\\eta=\\mathrm{Okada}(\\mathbf m),\n",
    "$$\n",
    "\n",
    "where $J$ quantifies how well $\\eta$ matches $\\eta^\\star$ in some sense.\n",
    "We opt for the mean square error as our error measure:\n",
    "\n",
    "$$\n",
    "    J(\\eta;\\mathbf m)=\\frac1{N^2}\\sum_{i=0}^{N-1}\\sum_{j=0}^{N-1}(\\eta_{ij}-\\eta_{ij}^\\star)^2.\n",
    "$$\n",
    "\n",
    "where the Okada grid has dimensions $N\\times N$.\n",
    "\n",
    "There are potentially redundancies in the Okada source model in the sense that very similar fields can be generated using different combinations of the input parameters.\n",
    "If so then there could be uniqueness/local minima issues when applying gradient-based optimisation routines.\n",
    "This notebook explores whether or not we need to worry."
   ]
  },
  {
   "cell_type": "markdown",
   "metadata": {},
   "source": [
    "### Initialisation\n",
    "\n",
    "Set parameters and create a `TohokuOkadaOptions` object to hold them.\n",
    "Apply the Okada model with default input parameters to give the field we want to invert for, stored in memory as `eta`."
   ]
  },
  {
   "cell_type": "code",
   "execution_count": 5,
   "metadata": {},
   "outputs": [],
   "source": [
    "kwargs = {\n",
    "    'okada_grid_resolution': 51,\n",
    "    'debug': False,\n",
    "}\n",
    "plotting_kwargs = {\n",
    "    'cmap': 'coolwarm',\n",
    "    'levels': 50,\n",
    "}\n",
    "nonlinear = False"
   ]
  },
  {
   "cell_type": "code",
   "execution_count": 6,
   "metadata": {},
   "outputs": [],
   "source": [
    "op = TohokuOkadaOptions(**kwargs)\n",
    "op.create_topography()\n",
    "N = op.N\n",
    "X = op.fault.dtopo.X\n",
    "Y = op.fault.dtopo.Y\n",
    "eta = op.fault.dtopo.dZ.copy()\n",
    "m_orig = op.get_input_vector()\n",
    "np.save(\"notebook_4_m_orig\", m_orig)"
   ]
  },
  {
   "cell_type": "markdown",
   "metadata": {},
   "source": [
    "### Differentatiate the source model\n",
    "\n",
    "Perturb the control parameters with some Normal random noise so that the source is different from that used to generate the gauge timeseries data.\n",
    "This effectively means 'choose an initial guess'."
   ]
  },
  {
   "cell_type": "code",
   "execution_count": 7,
   "metadata": {},
   "outputs": [],
   "source": [
    "kwargs['control_parameters'] = op.control_parameters\n",
    "for control in op.active_controls:\n",
    "    size = np.shape(op.control_parameters[control])\n",
    "    kwargs['control_parameters'][control] += np.random.normal(loc=0, scale=10, size=size)"
   ]
  },
  {
   "cell_type": "markdown",
   "metadata": {},
   "source": [
    "When setting the free surface initial condition using the Okada model, we tell `pyadolc` to annotate its tape.\n",
    "For this application we need to modify the way that the tape is annotated by default."
   ]
  },
  {
   "cell_type": "code",
   "execution_count": 8,
   "metadata": {},
   "outputs": [],
   "source": [
    "class TohokuOkadaInversionOptions(TohokuOkadaOptions):\n",
    "    \"\"\"\n",
    "    A subclass of :class:`TohokuOkadaOptions` which adds an extra step to the annotation. Namely, the mean\n",
    "    square error between the computed surface and the 'true solution' is computed by looping over the vertices\n",
    "    of the Okada grid.\n",
    "    \"\"\"\n",
    "    \n",
    "    def _create_topography_active(self, tag=0, separate_faults=False):\n",
    "        \n",
    "        # Sanitise kwargs\n",
    "        assert isinstance(tag, int)\n",
    "        assert tag >= 0\n",
    "        for control in self.active_controls:\n",
    "            assert control in self.all_controls\n",
    "        \n",
    "        # Initialise tape\n",
    "        adolc.trace_on(tape_tag)\n",
    "\n",
    "        # Read parameters and mark active variables as independent\n",
    "        msg = \"Subfault {:d}: shear modulus {:4.1e} Pa, seismic moment is {:4.1e}\"\n",
    "        for i, subfault in enumerate(self.subfaults):\n",
    "            for control in self.all_controls:\n",
    "                if control in self.active_controls:\n",
    "                    subfault.__setattr__(control, adolc.adouble(self.control_parameters[control][i]))\n",
    "                    adolc.independent(subfault.__getattribute__(control))\n",
    "                else:\n",
    "                    subfault.__setattr__(control, self.control_parameters[control][i])\n",
    "            self.print_debug(msg.format(i, subfault.mu, subfault.Mo().val))\n",
    "\n",
    "        # Create the topography, thereby calling Okada\n",
    "        self.print_debug(\"SETUP: Creating topography using Okada model...\")\n",
    "        self.fault.create_dtopography(verbose=self.debug, active=True)\n",
    "        self.print_debug(\"SETUP: Done!\")\n",
    "\n",
    "        # Compute quantity of interest\n",
    "        self.J_subfaults = [0.0 for j in range(self.N)]\n",
    "        for j in range(self.N):\n",
    "            for i in range(self.N):\n",
    "                self.J_subfaults[j] += (eta[i, j] - self.fault.dtopo.dZ_a[i, j])**2\n",
    "            self.J_subfaults[j] /= op.N**2\n",
    "\n",
    "        self.J = sum(self.J_subfaults)\n",
    "            \n",
    "        # Mark dependence\n",
    "        if separate_faults:\n",
    "            for j in range(self.N):\n",
    "                adolc.dependent(self.J_subfaults[j])\n",
    "        else:\n",
    "            adolc.dependent(self.J)\n",
    "        adolc.trace_off()"
   ]
  },
  {
   "cell_type": "markdown",
   "metadata": {},
   "source": [
    "Create the topography once in order to annotate the tape"
   ]
  },
  {
   "cell_type": "code",
   "execution_count": 9,
   "metadata": {},
   "outputs": [
    {
     "name": "stdout",
     "output_type": "stream",
     "text": [
      "QoI = 5.8582e-01\n"
     ]
    }
   ],
   "source": [
    "tape_tag = 0\n",
    "op = TohokuOkadaInversionOptions(**kwargs)\n",
    "op.create_topography(annotate=True, tag=tape_tag)\n",
    "op.get_seed_matrices()  # these can be reused over and over\n",
    "print(\"QoI = {:.4e}\".format(op.J.val))"
   ]
  },
  {
   "cell_type": "markdown",
   "metadata": {},
   "source": [
    "Create some arrays to keep track of the optimisation routine"
   ]
  },
  {
   "cell_type": "code",
   "execution_count": 10,
   "metadata": {},
   "outputs": [],
   "source": [
    "op.J_progress = []\n",
    "op.dJdm_progress = []"
   ]
  },
  {
   "cell_type": "markdown",
   "metadata": {},
   "source": [
    "Sum over all subfaults to get the total QoI.\n",
    "By unrolling the tape, we can easily express the reduced functional as a function of the active controls.\n",
    "Note that we raise a flag which prepares for a subsequent reverse mode propagation."
   ]
  },
  {
   "cell_type": "code",
   "execution_count": 11,
   "metadata": {},
   "outputs": [],
   "source": [
    "def reduced_functional(m):\n",
    "    \"\"\"Apply the Okada model by unrolling the tape and compute the QoI.\"\"\"\n",
    "    J = sum(adolc.zos_forward(tape_tag, m, keep=1))\n",
    "    op.J_progress.append(J)\n",
    "    return J"
   ]
  },
  {
   "cell_type": "code",
   "execution_count": 12,
   "metadata": {},
   "outputs": [],
   "source": [
    "J = reduced_functional(op.input_vector)\n",
    "assert np.isclose(J, op.J.val)"
   ]
  },
  {
   "cell_type": "markdown",
   "metadata": {},
   "source": [
    "The reverse mode of AD computes\n",
    "\n",
    "$$\n",
    "    \\mathbf m_b:=\\frac{\\mathrm dJ}{\\mathrm d\\mathbf m}^T\\:J_b,\n",
    "$$\n",
    "\n",
    "where $J_b$ is a scalar *seed* and $\\mathbf m_b$ is of the same dimension as the control parameter vector.\n",
    "Therefore we can propagate through the reverse mode of AD to get the gradient by choosing a unit seed."
   ]
  },
  {
   "cell_type": "code",
   "execution_count": 13,
   "metadata": {},
   "outputs": [],
   "source": [
    "def gradient(m):\n",
    "    \"\"\"Compute the gradient of the QoI with respect to the input parameters.\"\"\"\n",
    "    dJdm = adolc.fos_reverse(tape_tag, 1.0)\n",
    "    norm = np.linalg.norm(dJdm)\n",
    "    op.dJdm_progress.append(norm)\n",
    "    return dJdm"
   ]
  },
  {
   "cell_type": "code",
   "execution_count": 14,
   "metadata": {},
   "outputs": [
    {
     "name": "stdout",
     "output_type": "stream",
     "text": [
      "J = 5.8582e-01  ||dJdm|| = 1.5562e-02\n"
     ]
    }
   ],
   "source": [
    "g = gradient(op.input_vector)\n",
    "assert len(g) == len(op.input_vector)\n",
    "print(\"J = {:.4e}  ||dJdm|| = {:.4e}\".format(op.J_progress[-1], op.dJdm_progress[-1]))"
   ]
  },
  {
   "cell_type": "code",
   "execution_count": 15,
   "metadata": {},
   "outputs": [],
   "source": [
    "eta_pert = op.fault.dtopo.dZ.copy()"
   ]
  },
  {
   "cell_type": "markdown",
   "metadata": {},
   "source": [
    "Check that the function stored to tape evaluates as it should"
   ]
  },
  {
   "cell_type": "code",
   "execution_count": 16,
   "metadata": {},
   "outputs": [
    {
     "data": {
      "image/png": "[encoded data removed]",
      "text/plain": [
       "<Figure size 648x288 with 4 Axes>"
      ]
     },
     "metadata": {
      "needs_background": "light"
     },
     "output_type": "display_data"
    }
   ],
   "source": [
    "fig, axes = plt.subplots(ncols=2, figsize=(9, 4))\n",
    "eta_pert = op.fault.dtopo.dZ.reshape(N, N)\n",
    "fig.colorbar(axes[0].contourf(X, Y, eta, **plotting_kwargs), ax=axes[0]);\n",
    "axes[0].set_title(\"Original source\");\n",
    "fig.colorbar(axes[1].contourf(X, Y, eta_pert, **plotting_kwargs), ax=axes[1]);\n",
    "axes[1].set_title(\"Perturbed source\");"
   ]
  },
  {
   "cell_type": "markdown",
   "metadata": {},
   "source": [
    "### Taylor test\n",
    "\n",
    "Before attempting gradient-based optimisation, we better check that our gradient function is consistent."
   ]
  },
  {
   "cell_type": "code",
   "execution_count": 17,
   "metadata": {},
   "outputs": [
    {
     "name": "stdout",
     "output_type": "stream",
     "text": [
      "========================TAYLOR TEST========================\n",
      "h = 1.0000e+00\n",
      "Taylor remainder = 8.6057e-03\n",
      "h = 5.0000e-01\n",
      "Taylor remainder = 2.1625e-03\n",
      "h = 2.5000e-01\n",
      "Taylor remainder = 5.4188e-04\n",
      "====================TAYLOR TEST PASSED!====================\n"
     ]
    }
   ],
   "source": [
    "taylor_test(reduced_functional, gradient, op.input_vector, verbose=True)"
   ]
  },
  {
   "cell_type": "markdown",
   "metadata": {},
   "source": [
    "### Inversion\n",
    "\n",
    "Now we are ready to do the gradient-based optimisation.\n",
    "Here we use BFGS and require that the gradient norm is smaller than $10^{-8}$ for convergence."
   ]
  },
  {
   "cell_type": "code",
   "execution_count": 18,
   "metadata": {},
   "outputs": [
    {
     "name": "stdout",
     "output_type": "stream",
     "text": [
      " 100: J = 2.0814e-02  ||dJdm|| = 8.9802e-04\n",
      " 200: J = 3.7157e-03  ||dJdm|| = 3.7106e-04\n",
      " 300: J = 1.3759e-03  ||dJdm|| = 1.9983e-04\n",
      " 400: J = 5.9656e-04  ||dJdm|| = 5.7884e-05\n",
      " 500: J = 2.7309e-04  ||dJdm|| = 4.8027e-05\n",
      " 600: J = 1.7000e-04  ||dJdm|| = 3.7049e-05\n",
      " 700: J = 1.1354e-04  ||dJdm|| = 2.0918e-05\n",
      " 800: J = 8.0667e-05  ||dJdm|| = 1.1556e-05\n",
      " 900: J = 5.7101e-05  ||dJdm|| = 7.8217e-06\n",
      "1000: J = 4.0397e-05  ||dJdm|| = 1.0131e-05\n",
      "1100: J = 3.0475e-05  ||dJdm|| = 8.3822e-06\n",
      "1200: J = 2.4501e-05  ||dJdm|| = 9.0274e-06\n",
      "1300: J = 1.9127e-05  ||dJdm|| = 6.0919e-06\n",
      "1400: J = 1.6678e-05  ||dJdm|| = 4.7030e-06\n",
      "1500: J = 1.4237e-05  ||dJdm|| = 2.5033e-06\n",
      "1600: J = 1.2412e-05  ||dJdm|| = 2.5164e-06\n",
      "1700: J = 1.1041e-05  ||dJdm|| = 2.9393e-06\n",
      "1800: J = 9.6742e-06  ||dJdm|| = 2.9685e-06\n",
      "1900: J = 8.3498e-06  ||dJdm|| = 2.9473e-06\n",
      "2000: J = 7.4208e-06  ||dJdm|| = 1.8642e-06\n",
      "2100: J = 6.4189e-06  ||dJdm|| = 1.9954e-06\n",
      "2200: J = 5.5753e-06  ||dJdm|| = 1.6111e-06\n",
      "2300: J = 4.9093e-06  ||dJdm|| = 1.6768e-06\n",
      "2400: J = 4.1643e-06  ||dJdm|| = 1.4720e-06\n",
      "2500: J = 3.6377e-06  ||dJdm|| = 1.0419e-06\n",
      "2600: J = 3.1008e-06  ||dJdm|| = 1.0839e-06\n",
      "2700: J = 2.7987e-06  ||dJdm|| = 1.0028e-06\n",
      "2800: J = 2.5339e-06  ||dJdm|| = 4.0957e-07\n",
      "2900: J = 2.3064e-06  ||dJdm|| = 7.3884e-07\n",
      "3000: J = 2.1025e-06  ||dJdm|| = 7.4690e-07\n",
      "3100: J = 1.9054e-06  ||dJdm|| = 4.9436e-07\n",
      "3200: J = 1.6820e-06  ||dJdm|| = 7.3209e-07\n",
      "3300: J = 1.4692e-06  ||dJdm|| = 5.0291e-07\n",
      "3400: J = 1.3319e-06  ||dJdm|| = 4.3647e-07\n",
      "3500: J = 1.1775e-06  ||dJdm|| = 3.8843e-07\n",
      "3600: J = 1.0236e-06  ||dJdm|| = 3.7860e-07\n",
      "3700: J = 9.3179e-07  ||dJdm|| = 2.6039e-07\n",
      "3800: J = 8.5198e-07  ||dJdm|| = 2.6110e-07\n",
      "3900: J = 7.7030e-07  ||dJdm|| = 1.9343e-07\n",
      "4000: J = 7.0059e-07  ||dJdm|| = 2.0463e-07\n",
      "4100: J = 6.3984e-07  ||dJdm|| = 2.3225e-07\n",
      "4200: J = 5.8412e-07  ||dJdm|| = 2.1712e-07\n",
      "4300: J = 5.0639e-07  ||dJdm|| = 2.0488e-07\n",
      "4400: J = 4.2146e-07  ||dJdm|| = 1.4591e-07\n",
      "4500: J = 3.6912e-07  ||dJdm|| = 2.0328e-07\n",
      "4600: J = 3.2161e-07  ||dJdm|| = 9.3302e-08\n",
      "4700: J = 2.8308e-07  ||dJdm|| = 1.9770e-07\n",
      "4800: J = 2.5680e-07  ||dJdm|| = 9.9216e-08\n",
      "4900: J = 2.1662e-07  ||dJdm|| = 2.4214e-07\n",
      "Optimization terminated successfully.\n",
      "         Current function value: 0.000000\n",
      "         Iterations: 4944\n",
      "         Function evaluations: 4961\n",
      "         Gradient evaluations: 4961\n"
     ]
    }
   ],
   "source": [
    "# Reset progress arrays\n",
    "op.J_progress = []\n",
    "op.dJdm_progress = []\n",
    "\n",
    "def opt_cb(m):\n",
    "    \"\"\"Print progress after every successful line search\"\"\"\n",
    "    msg = \"{:4d}: J = {:.4e}  ||dJdm|| = {:.4e}\"\n",
    "    counter = len(op.J_progress)\n",
    "    if counter % 100 == 0:\n",
    "        print(msg.format(counter, op.J_progress[-1], op.dJdm_progress[-1]))\n",
    "\n",
    "opt_parameters = {\n",
    "    'maxiter': 40000,\n",
    "    'disp': True,\n",
    "    'gtol': 1.0e-08,\n",
    "    'callback': opt_cb,\n",
    "    'retall': True,\n",
    "    'fprime': gradient,\n",
    "}\n",
    "\n",
    "m_opt, out = scipy.optimize.fmin_bfgs(reduced_functional, op.input_vector, **opt_parameters)"
   ]
  },
  {
   "cell_type": "code",
   "execution_count": 19,
   "metadata": {},
   "outputs": [],
   "source": [
    "np.save(\"notebook_4_m_opt\", m_opt)"
   ]
  },
  {
   "cell_type": "markdown",
   "metadata": {},
   "source": [
    "Let's take a look at the progress of the reduced functional and gradient"
   ]
  },
  {
   "cell_type": "code",
   "execution_count": 20,
   "metadata": {},
   "outputs": [
    {
     "data": {
      "image/png": "[encoded data removed]",
      "text/plain": [
       "<Figure size 1008x432 with 2 Axes>"
      ]
     },
     "metadata": {
      "needs_background": "light"
     },
     "output_type": "display_data"
    }
   ],
   "source": [
    "fig, axes = plt.subplots(ncols=2, figsize=(14, 6))\n",
    "\n",
    "ax = axes[0]\n",
    "ax.semilogy(op.J_progress);\n",
    "ax.set_xlabel(\"Iteration\");\n",
    "ax.set_ylabel(\"Mean square error\");\n",
    "\n",
    "ax = axes[1]\n",
    "ax.semilogy(op.dJdm_progress);\n",
    "ax.set_xlabel(\"Iteration\");\n",
    "ax.set_ylabel(\"Norm of gradient\");"
   ]
  },
  {
   "cell_type": "markdown",
   "metadata": {},
   "source": [
    "Compare the optimised parameters, `m_opt`, against the original ones, `m_orig`."
   ]
  },
  {
   "cell_type": "code",
   "execution_count": 21,
   "metadata": {},
   "outputs": [
    {
     "name": "stdout",
     "output_type": "stream",
     "text": [
      "Mean square error of controls = 6.0931e+01\n"
     ]
    }
   ],
   "source": [
    "diff = m_opt - m_orig\n",
    "print(\"Mean square error of controls = {:.4e}\".format(np.linalg.norm(diff)**2/len(m_opt)))"
   ]
  },
  {
   "cell_type": "code",
   "execution_count": 22,
   "metadata": {},
   "outputs": [
    {
     "name": "stdout",
     "output_type": "stream",
     "text": [
      "  0:   0.0126,   7.6367,  -4.9739,  -4.2888\n",
      "  1:  -0.1743,   2.2919,   2.1858,   0.6055\n",
      "  2:  -0.2301,  11.4393,   4.2869,  -0.0104\n",
      "  3:   1.3245,   5.5175,  -4.8969,  -0.6080\n",
      "  4:   1.8223,  -3.4865,  -1.0391,   1.0566\n",
      "  5:  -3.9923,  -0.1693,   0.7856,  -3.1218\n",
      "  6:   1.6254,   1.8395,  -2.2518,   0.2475\n",
      "  7:  -4.3383,  -7.8634,  -6.0011,  -1.4731\n",
      "  8:  -2.6455,  -1.1383,   0.3599,   0.4592\n",
      "  9:   1.9187,   5.1537,  -0.3385,   1.9691\n",
      " 10:  -1.1220,   3.3815,   7.3718,  -0.4623\n",
      " 11:   0.2401,   3.4030,  -7.5112,  -1.2711\n",
      " 12:  -3.2370,   0.6674,  20.0077,   0.7080\n",
      " 13:  -0.2244,  16.6984,   0.2255,   0.1733\n",
      " 14:   1.6582,   8.3509,  -5.9535,   0.9556\n",
      " 15:  -0.0880,   4.5554,  -9.2823,   1.4461\n",
      " 16:   0.0230,   9.4304, -16.1542, -14.3738\n",
      " 17:  -0.0245, -11.4482,  -9.7629,   5.1262\n",
      " 18:  -0.0095,   7.6645,  -6.0845,  -9.8636\n",
      " 19:   0.0949,  14.1171,   2.6683,  22.5588\n",
      " 20:   0.2807,  -9.6144,  -7.2377,   3.9014\n",
      " 21:   0.2694, -12.7809,  -7.6734,  -0.3115\n",
      " 22:  -3.8137,  -4.7485,   4.9461,   5.4839\n",
      " 23:   0.7038,   5.0964,  -4.3370,   0.9809\n",
      " 24:   5.5852,   4.7816,  10.0773,   0.6465\n",
      " 25:  -3.8471,   5.5615,   0.9069,  -1.0242\n",
      " 26:  16.3166,  -0.8382,  -3.8606,   0.1913\n",
      " 27:  -2.4024,  13.1147,   6.0418,  -4.7438\n",
      " 28:  -0.3139,  -3.9009,  -3.2585,  -0.1543\n",
      " 29: -11.4415,   7.9325,  -5.5365,  -2.2109\n",
      " 30:  19.9658,   6.5071,   3.1755,   5.2516\n",
      " 31:   4.0995,  -6.9202,   8.5254, -14.0754\n",
      " 32:  -2.6554,  -0.7463, -16.1255,   4.5652\n",
      " 33:  -0.7356,   9.2234,   8.3612,   3.8075\n",
      " 34:   0.6991,  -3.9888,   2.8214,  -5.7507\n",
      " 35:  -0.4824,  12.3833,  -2.8018,   5.7050\n",
      " 36:   0.0312,  -1.3539,   6.0050,   7.7695\n",
      " 37:   0.0378,  -0.1872,   3.9817,  -0.9347\n",
      " 38:  -0.0699,   9.1956, -19.8729, -14.6690\n",
      " 39:  -0.3488,  -7.3609,  -8.6416,   4.5401\n",
      " 40:   1.2060,  -0.8343,   1.1023,   1.9238\n",
      " 41:  -4.2684,   3.6868,   1.5194, -12.0358\n",
      " 42:   0.5389,   4.3602,   9.0263,   0.1429\n",
      " 43:  -1.6580, -10.0847,  -4.4320,   2.6727\n",
      " 44:  -0.2506,  -4.3231,  -3.9268,   1.2886\n",
      " 45:   8.6231, -19.6621,  -7.6357,   8.1482\n",
      " 46:  12.9825, -11.8512,   7.3232,  -0.3801\n",
      " 47:   1.9503,  11.0397,  17.5986,  -2.9936\n",
      " 48:  -4.2713,   4.8422,   1.3110,  -6.3552\n",
      " 49:  14.6405, -13.6019,  -8.6179,   6.9953\n",
      " 50:  -1.4541,  -8.8513,   2.6611,   5.6380\n",
      " 51:  -0.8313,  -5.3400,  -0.9987,   3.0347\n",
      " 52:   2.9411,   5.5299,   3.2882,  -7.2483\n",
      " 53:   0.8904,   1.9915,  -3.8739,  -5.7042\n",
      " 54:  -0.2756,  -9.7652,  -4.5516,   6.6233\n",
      " 55:  -0.0214,  12.6283, -19.8370,  13.7080\n",
      " 56:  -0.0748,  17.0891, -10.6329, -23.0490\n",
      " 57:   0.0782,  -1.2815,  14.8005,   3.7974\n",
      " 58:  -0.6628,  -4.6207,   3.7797, -14.0515\n",
      " 59:  -0.1196,  17.5270,  -3.8584,  -1.4484\n",
      " 60:   2.9828,  -6.2702,  -7.2838,  -4.3057\n",
      " 61:   6.3078,  19.0983,  10.2644,  -6.2090\n",
      " 62:  -7.6609,   4.7301, -15.6571,  -2.0968\n",
      " 63:   8.0076,   5.6324,  -7.0992,   0.5734\n",
      " 64:  -7.4153,   0.6644, -10.1418,   8.8507\n",
      " 65:   3.7148, -10.0052,  -6.9628,   0.1250\n",
      " 66: -11.6555,  -3.4105,  -3.3246,   4.2656\n",
      " 67:   3.5314,   4.7040,   3.4730,   5.0921\n",
      " 68:  -1.9272,   5.7294,  -9.7490,   0.3663\n",
      " 69: -14.8218,   8.0328,  -4.1192,   1.4893\n",
      " 70:   1.7109,  11.8967,   8.6444,  21.3757\n",
      " 71:   3.1440, -12.3519,  -1.3597,   7.5298\n",
      " 72:   3.4447,   2.5066,  -6.6238,  -2.1463\n",
      " 73:   0.2974,  -2.2788,   6.3232,  -7.8420\n",
      " 74:  -0.2297,  -5.4465,   1.9892,   4.5890\n",
      " 75:  -0.0679,   3.5343,   1.7927, -10.8536\n",
      " 76:  -0.2754,  -1.6318,   2.1902, -13.3637\n",
      " 77:  -1.3384,   2.2066,  -6.3829,  -4.6149\n",
      " 78:  -1.0440,  -9.0619,   3.8227,  -5.2965\n",
      " 79:   2.6687,  -2.2674, -16.3143,  -3.4481\n",
      " 80:   5.3091,  -5.4177,  -6.1518,   2.3298\n",
      " 81:   0.4992,  -7.4527,  10.1419,   0.4088\n",
      " 82:  -1.8106,  -5.6195,  -4.6637,   0.6247\n",
      " 83:   5.6434, -25.9006, -25.1113,  -4.7413\n",
      " 84:  -3.3635,   8.5585,  -0.9809,  -2.9517\n",
      " 85:   3.7152,  -4.3102, -13.2448,  -5.9848\n",
      " 86:  -9.1557,  -7.6686,  11.6672,   0.1896\n",
      " 87:  -3.1272,  17.8581,  24.5375,  -7.6499\n",
      " 88:   0.4882,  -4.2819, -11.9726, -17.3673\n",
      " 89:   1.2413,   3.4058,  -3.2225,   6.3302\n",
      " 90:   1.1236, -17.6104, -13.8826,  17.1237\n",
      " 91:   1.1866,  -1.7535,  -0.7872,   6.1535\n",
      " 92:  -0.4733,   5.6086,   0.4152,  -5.8839\n",
      " 93:  -0.5895,  -1.9313,  -0.3602,   8.1287\n",
      " 94:   0.0418, -17.2561,   5.7850, -11.1688\n",
      " 95:  -0.5048,  -7.8054,   8.1914,   9.6255\n",
      " 96:  -0.1295, -16.0913,  -7.1447,  -4.0151\n",
      " 97:   0.8883,  -9.2856,   0.1291,  -1.2831\n",
      " 98:   3.4516, -12.8374,  22.7744,   2.5018\n",
      " 99:   3.8444,  -9.9847,   2.3797,  -5.6250\n",
      "100:  -9.6497,   1.0108,   0.3828,  19.6492\n",
      "101:   8.5981,  -4.9428,   4.1198,   5.5551\n",
      "102:   1.6884,   9.5174,   7.6721,   0.4100\n",
      "103:   2.9309,  11.0975,   0.0110,   0.7696\n",
      "104:   3.8631,  -1.7996,   1.9283,  12.2000\n",
      "105:   3.4545,   7.1020,  -5.4277, -13.9359\n",
      "106:  -0.7051, -10.5508, -19.6836,  20.5084\n",
      "107:   4.3637,  -3.3476,   2.5051,   3.6033\n",
      "108:   1.8972,  -2.7596,  19.8569,  -3.9986\n",
      "109:   0.1536,   3.5089,  -8.9264,  -0.9135\n",
      "110:  -0.8750,   3.3473,   8.5425,   7.4981\n",
      "111:  -0.1298,  11.7582,  20.1631,   3.9645\n",
      "112:   0.1367,   6.0574,  -7.4869,  -9.9592\n",
      "113:  -0.1707,  -0.4365,  -0.6619,   7.6692\n",
      "114:  -0.7106, -15.9395,   5.4733, -10.8332\n",
      "115:  -0.2363,   9.6872,   1.2459, -11.5493\n",
      "116:  -0.0830,  -4.2299,  -9.1489,  21.0934\n",
      "117:   4.1729,  26.7890,   9.5373,  16.0127\n",
      "118:  -2.7937,   9.8645, -13.3545,  11.0581\n",
      "119:   1.2470,   0.5291,  -3.6587, -15.6915\n",
      "120:  -0.8373,  27.0733,  -6.5809,   6.3843\n",
      "121:  -4.1030,  -4.6817, -11.2697,   5.1478\n",
      "122:  -2.5801,   0.5930,   5.3027,   7.2877\n",
      "123:  -7.4479, -10.7249,   0.6893,   6.3128\n",
      "124:   2.0937,   7.5695,   1.9776,   0.1253\n",
      "125:   4.3346,  -2.2366,   7.4797,  -4.6024\n",
      "126:  -1.4603,  -9.3634,   5.5879,  -1.2396\n",
      "127:  -1.8532,  -2.3481,  -4.7458, -19.6432\n",
      "128:  -2.1132,   3.1673,   8.8487,   5.1343\n",
      "129:   0.4965,   3.8000, -16.0118,  11.5333\n",
      "130:  -0.2928, -11.3093, -13.2796,  -1.6969\n",
      "131:   1.2851,  -9.4030, -12.1052,  -3.8679\n",
      "132:   0.0384,  -0.8833,  -6.6374,  -4.1147\n",
      "133:   0.8046, -15.4717,   3.3379,  -1.4672\n",
      "134:   4.8563,  -2.2905,  -6.9103,   3.9996\n",
      "135:   2.0544, -11.2244,  -2.5911,   0.6918\n",
      "136:  -0.3771,  -1.5546,  -9.9076, -10.8886\n",
      "137:  -0.9258,  -4.5213,  22.1622,   0.7821\n",
      "138:   0.5131,  -8.3007,  -6.5195,   1.5464\n",
      "139:  -1.3759,   6.5549,   0.3688, -19.3222\n",
      "140:  -1.8082,   9.1336,  -4.7665,  -4.9440\n",
      "141:   3.7841,  -5.3642,  -4.7148,  -3.3630\n",
      "142:  -8.3409,   0.9394,  10.1185,  -9.2244\n",
      "143:   2.0998,   3.6262,   6.9641,  -1.1568\n",
      "144:   5.5657,  -1.1350,   0.3512,  -3.2366\n",
      "145:  -2.6299,   6.4081, -14.4856, -11.2029\n",
      "146:  -1.1103,   2.7436,   3.3077,   6.4312\n",
      "147:   2.1149, -10.0592, -10.3681, -14.1490\n",
      "148:   0.7782, -17.1392,  -1.4093,  -5.4857\n",
      "149:  -0.4614, -11.8374,  -7.8970,   4.4960\n",
      "150:   1.4097,  -1.3351,   0.9930,   3.5399\n",
      "151:   0.3861,  -3.1546,   1.1134,   1.7731\n",
      "152:  -0.5318,   3.0114,  -6.1656,  -4.8322\n",
      "153:  -0.2423,   7.4583,  -1.5808,   8.2743\n",
      "154:  -0.8708,  -0.6571,   5.2263,  -0.0609\n",
      "155:   0.3990,   2.4615,  -7.0490,  -0.3047\n",
      "156:  -0.7009, -10.2310,   7.2323, -10.3179\n",
      "157:  -0.1375,  -1.0373,  -5.4916, -15.7184\n",
      "158:  -0.5546,  10.2859,   0.8976,  15.1749\n",
      "159:   1.9436,  -7.2775,  12.2456,   4.4753\n",
      "160:   5.2383, -17.9638, -12.6283,  -3.8630\n",
      "161:   0.5314,  -9.7202, -20.7116,  -6.9626\n",
      "162:   0.5923, -15.6096, -13.4819,   7.5278\n",
      "163:   4.2801,  -7.7112,  -4.2537,   0.8966\n",
      "164:  -2.1678,   8.6094,  -9.8454,  -0.0662\n",
      "165:  -0.2320,  -6.4847,   1.8835,   1.8221\n",
      "166:   2.9703,   7.2125,   1.1609,  -5.4877\n",
      "167:   0.5383,   8.3491, -17.7351,  11.6738\n",
      "168:   0.0388, -13.0502,   8.0908,   5.2498\n",
      "169:  -0.7869,  -0.9377,  10.8958,  -0.9490\n",
      "170:  -0.5632,   8.4782,   2.5394,  -1.4881\n",
      "171:   0.2503,  -6.2193,   4.5668,  -1.9557\n",
      "172:  -0.3945,   3.9557, -13.3014,  -2.9194\n",
      "173:  -1.0160,  -5.9189,   5.8520,   7.9435\n",
      "174:   0.2849,  -2.7415,  -7.1507,   2.1003\n",
      "175:   0.2021,  11.4536,   5.0140,   3.6008\n",
      "176:   0.2247,   4.0972,  12.0702,  -8.6862\n",
      "177:  -0.0166,  18.6238,  -1.9338,   0.6298\n",
      "178:  -0.7168, -11.7417,  -0.1088,  12.2187\n",
      "179:   1.5831,   2.5675,   2.1737,   9.9227\n",
      "180:  -0.2322, -17.6171, -16.0910,  -0.8489\n",
      "181:   0.3388, -11.3275,   1.3062,  -0.7139\n",
      "182:   0.7503,  27.6900,   8.4491,   5.5259\n",
      "183:  -0.7063,   7.4679, -27.1674,  -7.4035\n",
      "184:   0.4919,  -7.9765,   7.8022,   7.2632\n",
      "185:   0.1893,   2.2614,   0.5900,  -2.1184\n",
      "186:   0.0093,   1.7770,  -5.9546,   5.6999\n",
      "187:   0.0655,   6.0040, -12.2460,  -4.9965\n",
      "188:  -0.5146,  11.1374,  -4.5214,   3.1470\n",
      "189:   0.4814,  -6.0340,  -4.4018,  -1.7998\n"
     ]
    }
   ],
   "source": [
    "diff = diff.reshape(op.nx*op.ny, len(op.active_controls))\n",
    "for j, row in enumerate(diff):\n",
    "    print(\"{:3d}: {:8.4f}, {:8.4f}, {:8.4f}, {:8.4f}\".format(j, *row))"
   ]
  },
  {
   "cell_type": "code",
   "execution_count": 23,
   "metadata": {},
   "outputs": [
    {
     "name": "stdout",
     "output_type": "stream",
     "text": [
      "Maximum pointwise difference: 27.6900 degree difference in rake on subfault 182\n"
     ]
    }
   ],
   "source": [
    "msg = \"Maximum pointwise difference: {:.4f} degree difference in {:s} on subfault {:d}\"\n",
    "loc = np.unravel_index(np.argmax(diff, axis=None), diff.shape)\n",
    "print(msg.format(diff[loc], op.active_controls[loc[1]], loc[0]))"
   ]
  },
  {
   "cell_type": "code",
   "execution_count": 7,
   "metadata": {},
   "outputs": [],
   "source": [
    "m_opt = np.load(\"notebook_4_m_opt.npy\")\n",
    "m_opt = m_opt.reshape(op.nx*op.ny, len(op.active_controls))\n",
    "for i, control in enumerate(op.active_controls):\n",
    "    op.control_parameters[control] = m_opt[:, i]"
   ]
  },
  {
   "cell_type": "code",
   "execution_count": 8,
   "metadata": {},
   "outputs": [],
   "source": [
    "op.create_topography()"
   ]
  },
  {
   "cell_type": "code",
   "execution_count": 9,
   "metadata": {},
   "outputs": [
    {
     "data": {
      "image/png": "[encoded data removed]",
      "text/plain": [
       "<Figure size 1008x288 with 6 Axes>"
      ]
     },
     "metadata": {
      "needs_background": "light"
     },
     "output_type": "display_data"
    }
   ],
   "source": [
    "fig, axes = plt.subplots(ncols=3, figsize=(14, 4))\n",
    "eta_pert = op.fault.dtopo.dZ.reshape(N, N)\n",
    "fig.colorbar(axes[0].contourf(X, Y, eta, **plotting_kwargs), ax=axes[0]);\n",
    "axes[0].set_title(\"Original source\");\n",
    "fig.colorbar(axes[1].contourf(X, Y, eta_pert, **plotting_kwargs), ax=axes[1]);\n",
    "axes[1].set_title(\"Optimised source\");\n",
    "fig.colorbar(axes[2].contourf(X, Y, np.abs(eta - eta_pert), **plotting_kwargs), ax=axes[2]);\n",
    "axes[2].set_title(\"Pointwise error\");"
   ]
  },
  {
   "cell_type": "code",
   "execution_count": null,
   "metadata": {},
   "outputs": [],
   "source": []
  }
 ],
 "metadata": {
  "kernelspec": {
   "display_name": "Python 3",
   "language": "python",
   "name": "python3"
  },
  "language_info": {
   "codemirror_mode": {
    "name": "ipython",
    "version": 3
   },
   "file_extension": ".py",
   "mimetype": "text/x-python",
   "name": "python",
   "nbconvert_exporter": "python",
   "pygments_lexer": "ipython3",
   "version": "3.6.9"
  }
 },
 "nbformat": 4,
 "nbformat_minor": 4
}
