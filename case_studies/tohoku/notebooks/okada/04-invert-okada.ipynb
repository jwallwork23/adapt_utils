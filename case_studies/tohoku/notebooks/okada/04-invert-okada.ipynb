{
 "cells": [
  {
   "cell_type": "code",
   "execution_count": 1,
   "metadata": {},
   "outputs": [],
   "source": [
    "%matplotlib inline"
   ]
  },
  {
   "cell_type": "code",
   "execution_count": 2,
   "metadata": {},
   "outputs": [],
   "source": [
    "import adolc"
   ]
  },
  {
   "cell_type": "code",
   "execution_count": 3,
   "metadata": {},
   "outputs": [],
   "source": [
    "from adapt_utils.case_studies.tohoku.options import TohokuOkadaOptions"
   ]
  },
  {
   "cell_type": "code",
   "execution_count": 4,
   "metadata": {},
   "outputs": [],
   "source": [
    "import matplotlib.pyplot as plt\n",
    "import numpy as np"
   ]
  },
  {
   "cell_type": "markdown",
   "metadata": {},
   "source": [
    "# Inverting the Okada model\n",
    "\n",
    "In this notebook, $\\mathbf m$ contains parameters associated with an Okada function representation on an array of subfaults.\n",
    "That is, the initial surface elevation $\\eta_0$ is given by\n",
    "\n",
    "$$\n",
    "    \\eta_0(\\mathbf x)=\\mathrm{Okada}(\\mathbf m),\n",
    "$$\n",
    "\n",
    "where $\\mathrm{Okada}$ denotes the Okada model."
   ]
  },
  {
   "cell_type": "markdown",
   "metadata": {},
   "source": [
    "We can use `pyadolc` to differentiate through the Okada model, giving\n",
    "\n",
    "$$\n",
    "    \\frac{\\mathrm d\\eta_0}{\\mathrm d\\mathrm m}\\:\\widetilde{\\mathrm m},\n",
    "$$\n",
    "\n",
    "for some choice of control parameters, $\\widetilde{\\mathrm m}$.\n",
    "With an appropriate choice of seed vectors (i.e. a seed matrix), we can obtain the gradient\n",
    "\n",
    "$$\n",
    "    \\frac{\\mathrm d\\eta_0}{\\mathrm d\\mathrm m}.\n",
    "$$\n",
    "\n",
    "(See previous notebook for details.)\n",
    "Henceforth let's drop the subscript zero and instead use $\\eta_{ij}$ to indicate the $(i,j)^{th}$ entry on the Okada grid.\n",
    "\n",
    "Suppose we have a source field $\\eta^\\star$.\n",
    "We would like to establish Okada parameters $\\mathbf m$ so that $\\mathrm{Okada}(\\mathbf m)\\approx\\eta^\\star$.\n",
    "One approach is to solve an optimisation problem of the form\n",
    "\n",
    "$$\n",
    "    \\min J(\\eta;\\mathbf m)\\quad\\text{such that}\\quad\\eta=\\mathrm{Okada}(\\mathbf m),\n",
    "$$\n",
    "\n",
    "where $J$ quantifies how well $\\eta$ matches $\\eta^\\star$ in some sense.\n",
    "We opt for the mean square error as our error measure:\n",
    "\n",
    "$$\n",
    "    J(\\eta;\\mathbf m)=\\frac1{N^2}\\sum_{i=0}^{N-1}\\sum_{j=0}^{N-1}(\\eta_{ij}-\\eta_{ij}^\\star)^2.\n",
    "$$\n",
    "\n",
    "where the Okada grid has dimensions $N\\times N$.\n",
    "\n",
    "There are potentially redundancies in the Okada source model in the sense that very similar fields can be generated using different combinations of the input parameters.\n",
    "If so then there could be uniqueness/local minima issues when applying gradient-based optimisation routines.\n",
    "This notebook explores whether or not we need to worry."
   ]
  },
  {
   "cell_type": "markdown",
   "metadata": {},
   "source": [
    "### Initialisation\n",
    "\n",
    "Set parameters and create a `TohokuOkadaOptions` object to hold them"
   ]
  },
  {
   "cell_type": "code",
   "execution_count": 5,
   "metadata": {},
   "outputs": [],
   "source": [
    "kwargs = {\n",
    "    'level': 0,\n",
    "    'synthetic': True,\n",
    "    'family': 'dg-cg',\n",
    "    'okada_grid_resolution': 51,\n",
    "    'debug': False,\n",
    "}\n",
    "plotting_kwargs = {\n",
    "    'cmap': 'coolwarm',\n",
    "    'levels': 50,\n",
    "}\n",
    "nonlinear = False"
   ]
  },
  {
   "cell_type": "code",
   "execution_count": 6,
   "metadata": {},
   "outputs": [],
   "source": [
    "op = TohokuOkadaOptions(**kwargs)\n",
    "op.create_topography()"
   ]
  },
  {
   "cell_type": "code",
   "execution_count": 7,
   "metadata": {},
   "outputs": [],
   "source": [
    "N = op.N\n",
    "X = op.fault.dtopo.X\n",
    "Y = op.fault.dtopo.Y\n",
    "eta = op.fault.dtopo.dZ.copy()"
   ]
  },
  {
   "cell_type": "markdown",
   "metadata": {},
   "source": [
    "### Differentatiate the source model\n",
    "\n",
    "Perturb the control parameters with some Normal random noise so that the source is different from that used to generate the gauge timeseries data."
   ]
  },
  {
   "cell_type": "code",
   "execution_count": 8,
   "metadata": {},
   "outputs": [],
   "source": [
    "kwargs['control_parameters'] = op.control_parameters\n",
    "mu = 0\n",
    "sigma = 5\n",
    "for control in op.active_controls:\n",
    "    size = np.shape(op.control_parameters[control])\n",
    "    kwargs['control_parameters'][control] += np.random.normal(loc=mu, scale=sigma, size=size)"
   ]
  },
  {
   "cell_type": "markdown",
   "metadata": {},
   "source": [
    "When setting the free surface initial condition using the Okada model, we tell `pyadolc` to annotate its tape."
   ]
  },
  {
   "cell_type": "code",
   "execution_count": 9,
   "metadata": {},
   "outputs": [],
   "source": [
    "tape_tag = 0\n",
    "op = TohokuOkadaOptions(**kwargs)\n",
    "# op.create_topography(annotate=True, tag=tape_tag)"
   ]
  },
  {
   "cell_type": "code",
   "execution_count": 10,
   "metadata": {},
   "outputs": [],
   "source": [
    "# Initialise tape\n",
    "adolc.trace_on(tape_tag)\n",
    "\n",
    "# Read parameters and mark active variables as independent\n",
    "msg = \"Subfault {:d}: shear modulus {:4.1e} Pa, seismic moment is {:4.1e}\"\n",
    "for i, subfault in enumerate(op.subfaults):\n",
    "    for control in op.all_controls:\n",
    "        if control in op.active_controls:\n",
    "            subfault.__setattr__(control, adolc.adouble(op.control_parameters[control][i]))\n",
    "            adolc.independent(subfault.__getattribute__(control))\n",
    "        else:\n",
    "            subfault.__setattr__(control, op.control_parameters[control][i])\n",
    "    op.print_debug(msg.format(i, subfault.mu, subfault.Mo().val))\n",
    "\n",
    "# Create the topography, thereby calling Okada\n",
    "op.print_debug(\"SETUP: Creating topography using Okada model...\")\n",
    "op.fault.create_dtopography(verbose=op.debug, active=True)\n",
    "op.print_debug(\"SETUP: Done!\")\n",
    "\n",
    "# Compute quantity of interest\n",
    "J_subfaults = [0.0 for j in range(op.N)]\n",
    "for j in range(op.N):\n",
    "    for i in range(op.N):\n",
    "        J_subfaults[j] += (eta[i, j] - op.fault.dtopo.dZ_a[i, j])**2\n",
    "    J_subfaults[j] /= op.N**2\n",
    "        \n",
    "# Mark output as dependent\n",
    "adolc.dependent(J_subfaults)\n",
    "adolc.trace_off()"
   ]
  },
  {
   "cell_type": "markdown",
   "metadata": {},
   "source": [
    "Sum over all subfaults to get the total QoI"
   ]
  },
  {
   "cell_type": "code",
   "execution_count": 11,
   "metadata": {},
   "outputs": [
    {
     "name": "stdout",
     "output_type": "stream",
     "text": [
      "QoI = 1.3120e-01\n"
     ]
    }
   ],
   "source": [
    "J = sum(J_sub.val for J_sub in J_subfaults)\n",
    "print(\"QoI = {:.4e}\".format(J))"
   ]
  },
  {
   "cell_type": "code",
   "execution_count": 17,
   "metadata": {},
   "outputs": [
    {
     "name": "stdout",
     "output_type": "stream",
     "text": [
      "(51,)\n",
      "(51, 4)\n",
      "QoI via AD = 1.3120e-01\n"
     ]
    }
   ],
   "source": [
    "op.get_seed_matrices()\n",
    "J, dJdm = adolc.fov_forward(tape_tag, op.input_vector, op.seed_matrices)\n",
    "print(J.shape)\n",
    "print(dJdm.shape)\n",
    "print(\"QoI via AD = {:.4e}\".format(sum(J)))"
   ]
  },
  {
   "cell_type": "code",
   "execution_count": 18,
   "metadata": {},
   "outputs": [],
   "source": [
    "eta_pert = op.fault.dtopo.dZ.copy()"
   ]
  },
  {
   "cell_type": "markdown",
   "metadata": {},
   "source": [
    "Check that the function stored to tape evaluates as it should"
   ]
  },
  {
   "cell_type": "code",
   "execution_count": 19,
   "metadata": {},
   "outputs": [
    {
     "data": {
      "image/png": "[encoded data removed]",
      "text/plain": [
       "<Figure size 648x288 with 4 Axes>"
      ]
     },
     "metadata": {
      "needs_background": "light"
     },
     "output_type": "display_data"
    }
   ],
   "source": [
    "fig, axes = plt.subplots(ncols=2, figsize=(9, 4))\n",
    "eta_pert = op.fault.dtopo.dZ.reshape(N, N)\n",
    "fig.colorbar(axes[0].contourf(X, Y, eta, **plotting_kwargs), ax=axes[0]);\n",
    "axes[0].set_title(\"Original source\");\n",
    "fig.colorbar(axes[1].contourf(X, Y, eta_pert, **plotting_kwargs), ax=axes[1]);\n",
    "axes[1].set_title(\"Perturbed source\");"
   ]
  },
  {
   "cell_type": "markdown",
   "metadata": {},
   "source": [
    "# TODO: inversion"
   ]
  }
 ],
 "metadata": {
  "kernelspec": {
   "display_name": "Python 3",
   "language": "python",
   "name": "python3"
  },
  "language_info": {
   "codemirror_mode": {
    "name": "ipython",
    "version": 3
   },
   "file_extension": ".py",
   "mimetype": "text/x-python",
   "name": "python",
   "nbconvert_exporter": "python",
   "pygments_lexer": "ipython3",
   "version": "3.6.9"
  }
 },
 "nbformat": 4,
 "nbformat_minor": 4
}
