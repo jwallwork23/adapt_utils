{
 "cells": [
  {
   "cell_type": "code",
   "execution_count": 1,
   "metadata": {},
   "outputs": [],
   "source": [
    "%matplotlib inline"
   ]
  },
  {
   "cell_type": "code",
   "execution_count": 2,
   "metadata": {},
   "outputs": [],
   "source": [
    "import adolc"
   ]
  },
  {
   "cell_type": "code",
   "execution_count": 3,
   "metadata": {},
   "outputs": [],
   "source": [
    "from adapt_utils.case_studies.tohoku.options import TohokuOkadaOptions\n",
    "from adapt_utils.misc import taylor_test"
   ]
  },
  {
   "cell_type": "code",
   "execution_count": 4,
   "metadata": {},
   "outputs": [],
   "source": [
    "import matplotlib.pyplot as plt\n",
    "import numpy as np\n",
    "import scipy"
   ]
  },
  {
   "cell_type": "code",
   "execution_count": 5,
   "metadata": {},
   "outputs": [],
   "source": [
    "np.random.seed(0)  # make results reproducible"
   ]
  },
  {
   "cell_type": "markdown",
   "metadata": {},
   "source": [
    "# Inverting the Okada model\n",
    "\n",
    "In this notebook, $\\mathbf m$ contains parameters associated with an Okada function representation on an array of subfaults.\n",
    "That is, the initial surface elevation $\\eta_0$ is given by\n",
    "\n",
    "$$\n",
    "    \\eta_0(\\mathbf x)=\\mathrm{Okada}(\\mathbf m),\n",
    "$$\n",
    "\n",
    "where $\\mathrm{Okada}$ denotes the Okada model."
   ]
  },
  {
   "cell_type": "markdown",
   "metadata": {},
   "source": [
    "We can use `pyadolc` to differentiate through the Okada model, giving\n",
    "\n",
    "$$\n",
    "    \\frac{\\mathrm d\\eta_0}{\\mathrm d\\mathrm m}\\:\\widetilde{\\mathrm m},\n",
    "$$\n",
    "\n",
    "for some choice of control parameters, $\\widetilde{\\mathrm m}$.\n",
    "With an appropriate choice of seed vectors (i.e. a seed matrix), we can obtain the gradient\n",
    "\n",
    "$$\n",
    "    \\frac{\\mathrm d\\eta_0}{\\mathrm d\\mathrm m}.\n",
    "$$\n",
    "\n",
    "(See previous notebook for details.)\n",
    "Henceforth let's drop the subscript zero and instead use $\\eta_{ij}$ to indicate the $(i,j)^{th}$ entry on the Okada grid.\n",
    "\n",
    "Suppose we have a source field $\\eta^\\star$.\n",
    "We would like to establish Okada parameters $\\mathbf m$ so that $\\mathrm{Okada}(\\mathbf m)\\approx\\eta^\\star$.\n",
    "One approach is to solve an optimisation problem of the form\n",
    "\n",
    "$$\n",
    "    \\min J(\\eta;\\mathbf m)\\quad\\text{such that}\\quad\\eta=\\mathrm{Okada}(\\mathbf m),\n",
    "$$\n",
    "\n",
    "where $J$ quantifies how well $\\eta$ matches $\\eta^\\star$ in some sense.\n",
    "We opt for the mean square error as our error measure:\n",
    "\n",
    "$$\n",
    "    J(\\eta;\\mathbf m)=\\frac1{N^2}\\sum_{i=0}^{N-1}\\sum_{j=0}^{N-1}(\\eta_{ij}-\\eta_{ij}^\\star)^2.\n",
    "$$\n",
    "\n",
    "where the Okada grid has dimensions $N\\times N$.\n",
    "\n",
    "There are potentially redundancies in the Okada source model in the sense that very similar fields can be generated using different combinations of the input parameters.\n",
    "If so then there could be uniqueness/local minima issues when applying gradient-based optimisation routines.\n",
    "This notebook explores whether or not we need to worry."
   ]
  },
  {
   "cell_type": "markdown",
   "metadata": {},
   "source": [
    "### Initialisation\n",
    "\n",
    "Set parameters and create a `TohokuOkadaOptions` object to hold them.\n",
    "Apply the Okada model with default input parameters to give the field we want to invert for, stored in memory as `eta`."
   ]
  },
  {
   "cell_type": "code",
   "execution_count": 6,
   "metadata": {},
   "outputs": [],
   "source": [
    "kwargs = {\n",
    "    'okada_grid_resolution': 51,\n",
    "    'debug': False,\n",
    "}\n",
    "plotting_kwargs = {\n",
    "    'cmap': 'coolwarm',\n",
    "    'levels': 50,\n",
    "}\n",
    "fontsize = 18\n",
    "tick_fontsize = 12"
   ]
  },
  {
   "cell_type": "code",
   "execution_count": 7,
   "metadata": {},
   "outputs": [],
   "source": [
    "op = TohokuOkadaOptions(**kwargs)\n",
    "op.create_topography()\n",
    "N = op.N\n",
    "X = op.fault.dtopo.X\n",
    "Y = op.fault.dtopo.Y\n",
    "eta = op.fault.dtopo.dZ.copy()\n",
    "m_orig = op.get_input_vector()\n",
    "np.save(\"notebook_4_m_orig\", m_orig)"
   ]
  },
  {
   "cell_type": "code",
   "execution_count": 8,
   "metadata": {},
   "outputs": [],
   "source": [
    "def vecnorm(x, ord=2):\n",
    "    \"\"\"Consistent with the norm used in `scipy/optimize.py`.\"\"\"\n",
    "    if ord == np.Inf:\n",
    "        return np.amax(np.abs(x))\n",
    "    elif ord == -np.Inf:\n",
    "        return np.amin(np.abs(x))\n",
    "    else:\n",
    "        return np.sum(np.abs(x)**ord, axis=0)**(1.0 / ord)"
   ]
  },
  {
   "cell_type": "markdown",
   "metadata": {},
   "source": [
    "### Differentatiate the source model\n",
    "\n",
    "Perturb the control parameters with some Normal random noise so that the source is different from that used to generate the gauge timeseries data.\n",
    "This effectively means 'choose an initial guess'."
   ]
  },
  {
   "cell_type": "code",
   "execution_count": 9,
   "metadata": {},
   "outputs": [],
   "source": [
    "kwargs['control_parameters'] = op.control_parameters\n",
    "for control in op.active_controls:\n",
    "    size = np.shape(op.control_parameters[control])\n",
    "    kwargs['control_parameters'][control] += np.random.normal(loc=0, scale=10, size=size)"
   ]
  },
  {
   "cell_type": "markdown",
   "metadata": {},
   "source": [
    "When setting the free surface initial condition using the Okada model, we tell `pyadolc` to annotate its tape.\n",
    "For this application we need to modify the way that the tape is annotated by default."
   ]
  },
  {
   "cell_type": "code",
   "execution_count": 10,
   "metadata": {},
   "outputs": [],
   "source": [
    "class TohokuOkadaInversionOptions(TohokuOkadaOptions):\n",
    "    \"\"\"\n",
    "    A subclass of :class:`TohokuOkadaOptions` which adds an extra step to the annotation. Namely, the mean\n",
    "    square error between the computed surface and the 'true solution' is computed by looping over the vertices\n",
    "    of the Okada grid.\n",
    "    \"\"\"\n",
    "    \n",
    "    def _create_topography_active(self, tag=0, separate_faults=False):\n",
    "        \n",
    "        # Sanitise kwargs\n",
    "        assert isinstance(tag, int)\n",
    "        assert tag >= 0\n",
    "        for control in self.active_controls:\n",
    "            assert control in self.all_controls\n",
    "        \n",
    "        # Initialise tape\n",
    "        adolc.trace_on(tape_tag)\n",
    "\n",
    "        # Read parameters and mark active variables as independent\n",
    "        msg = \"Subfault {:d}: shear modulus {:4.1e} Pa, seismic moment is {:4.1e}\"\n",
    "        for i, subfault in enumerate(self.subfaults):\n",
    "            for control in self.all_controls:\n",
    "                if control in self.active_controls:\n",
    "                    subfault.__setattr__(control, adolc.adouble(self.control_parameters[control][i]))\n",
    "                    adolc.independent(subfault.__getattribute__(control))\n",
    "                else:\n",
    "                    subfault.__setattr__(control, self.control_parameters[control][i])\n",
    "            self.print_debug(msg.format(i, subfault.mu, subfault.Mo().val))\n",
    "\n",
    "        # Create the topography, thereby calling Okada\n",
    "        self.print_debug(\"SETUP: Creating topography using Okada model...\")\n",
    "        self.fault.create_dtopography(verbose=self.debug, active=True)\n",
    "        self.print_debug(\"SETUP: Done!\")\n",
    "\n",
    "        # Compute quantity of interest\n",
    "        self.J_subfaults = [0.0 for j in range(self.N)]\n",
    "        for j in range(self.N):\n",
    "            for i in range(self.N):\n",
    "                self.J_subfaults[j] += (eta[i, j] - self.fault.dtopo.dZ_a[i, j])**2\n",
    "            self.J_subfaults[j] /= op.N**2\n",
    "\n",
    "        self.J = sum(self.J_subfaults)\n",
    "            \n",
    "        # Mark dependence\n",
    "        if separate_faults:\n",
    "            for j in range(self.N):\n",
    "                adolc.dependent(self.J_subfaults[j])\n",
    "        else:\n",
    "            adolc.dependent(self.J)\n",
    "        adolc.trace_off()"
   ]
  },
  {
   "cell_type": "markdown",
   "metadata": {},
   "source": [
    "Create the topography once in order to annotate the tape"
   ]
  },
  {
   "cell_type": "code",
   "execution_count": 28,
   "metadata": {},
   "outputs": [
    {
     "name": "stdout",
     "output_type": "stream",
     "text": [
      "QoI = 4.6523e-01\n"
     ]
    }
   ],
   "source": [
    "tape_tag = 0\n",
    "op = TohokuOkadaInversionOptions(**kwargs)\n",
    "op.create_topography(annotate=True, tag=tape_tag)\n",
    "op.get_seed_matrices()  # these can be reused over and over\n",
    "print(\"QoI = {:.4e}\".format(op.J.val))\n",
    "assert np.isclose(op.J.val, 4.6523e-01, rtol=1.0e-04)  # from previous run"
   ]
  },
  {
   "cell_type": "markdown",
   "metadata": {},
   "source": [
    "Create some arrays to keep track of the optimisation routine"
   ]
  },
  {
   "cell_type": "code",
   "execution_count": 16,
   "metadata": {},
   "outputs": [],
   "source": [
    "op.J_progress = []\n",
    "op.dJdm_progress = []"
   ]
  },
  {
   "cell_type": "markdown",
   "metadata": {},
   "source": [
    "Sum over all subfaults to get the total QoI.\n",
    "By unrolling the tape, we can easily express the reduced functional as a function of the active controls.\n",
    "Note that we raise a flag which prepares for a subsequent reverse mode propagation."
   ]
  },
  {
   "cell_type": "code",
   "execution_count": 17,
   "metadata": {},
   "outputs": [],
   "source": [
    "def reduced_functional(m):\n",
    "    \"\"\"Apply the Okada model by unrolling the tape and compute the QoI.\"\"\"\n",
    "    J = sum(adolc.zos_forward(tape_tag, m, keep=1))\n",
    "    op.J_progress.append(J)\n",
    "    return J"
   ]
  },
  {
   "cell_type": "code",
   "execution_count": 18,
   "metadata": {},
   "outputs": [],
   "source": [
    "J = reduced_functional(op.input_vector)\n",
    "assert np.isclose(J, op.J.val)"
   ]
  },
  {
   "cell_type": "markdown",
   "metadata": {},
   "source": [
    "The reverse mode of AD computes\n",
    "\n",
    "$$\n",
    "    \\mathbf m_b:=\\frac{\\mathrm dJ}{\\mathrm d\\mathbf m}^T\\:J_b,\n",
    "$$\n",
    "\n",
    "where $J_b$ is a scalar *seed* and $\\mathbf m_b$ is of the same dimension as the control parameter vector.\n",
    "Therefore we can propagate through the reverse mode of AD to get the gradient by choosing a unit seed."
   ]
  },
  {
   "cell_type": "code",
   "execution_count": 19,
   "metadata": {},
   "outputs": [],
   "source": [
    "def gradient(m):\n",
    "    \"\"\"Compute the gradient of the QoI with respect to the input parameters.\"\"\"\n",
    "    dJdm = adolc.fos_reverse(tape_tag, 1.0)\n",
    "    op.dJdm_progress.append(vecnorm(dJdm, ord=np.Inf))\n",
    "    return dJdm"
   ]
  },
  {
   "cell_type": "code",
   "execution_count": 21,
   "metadata": {},
   "outputs": [
    {
     "name": "stdout",
     "output_type": "stream",
     "text": [
      "J = 4.6523e-01  ||dJdm|| = 5.0260e-03\n"
     ]
    }
   ],
   "source": [
    "g = gradient(op.input_vector)\n",
    "assert len(g) == len(op.input_vector)\n",
    "print(\"J = {:.4e}  ||dJdm|| = {:.4e}\".format(op.J_progress[-1], op.dJdm_progress[-1]))\n",
    "assert np.isclose(op.dJdm_progress[-1], 5.0260e-03, rtol=1.0e-04)  # from previous run"
   ]
  },
  {
   "cell_type": "code",
   "execution_count": 23,
   "metadata": {},
   "outputs": [],
   "source": [
    "eta_pert = op.fault.dtopo.dZ.copy()"
   ]
  },
  {
   "cell_type": "markdown",
   "metadata": {},
   "source": [
    "Check that the function stored to tape evaluates as it should"
   ]
  },
  {
   "cell_type": "code",
   "execution_count": 25,
   "metadata": {},
   "outputs": [
    {
     "data": {
      "image/png": "[encoded data removed]",
      "text/plain": [
       "<Figure size 648x288 with 4 Axes>"
      ]
     },
     "metadata": {
      "needs_background": "light"
     },
     "output_type": "display_data"
    }
   ],
   "source": [
    "eta_pert = op.fault.dtopo.dZ.reshape(N, N)\n",
    "\n",
    "fig, axes = plt.subplots()\n",
    "fig.colorbar(axes.contourf(X, Y, eta, **plotting_kwargs), ax=axes);\n",
    "axes.set_xlabel(\"Longitude [degrees]\", fontsize=fontsize);\n",
    "axes.set_ylabel(\"Latitude [degrees]\", fontsize=fontsize);\n",
    "for tick in axes.xaxis.get_major_ticks():\n",
    "    tick.label.set_fontsize(tick_fontsize);\n",
    "for tick in axes.yaxis.get_major_ticks():\n",
    "    tick.label.set_fontsize(tick_fontsize);\n",
    "plt.tight_layout()\n",
    "plt.savefig(\"plots/notebook_4_original_source.pdf\")\n",
    "plt.close()\n",
    "\n",
    "fig, axes = plt.subplots()\n",
    "cbar = fig.colorbar(axes.contourf(X, Y, eta_pert, **plotting_kwargs), ax=axes);\n",
    "cbar.ax.tick_params(labelsize=tick_fontsize);\n",
    "axes.set_xlabel(\"Longitude [degrees]\", fontsize=fontsize);\n",
    "axes.set_ylabel(\"Latitude [degrees]\", fontsize=fontsize);\n",
    "for tick in axes.xaxis.get_major_ticks():\n",
    "    tick.label.set_fontsize(tick_fontsize);\n",
    "for tick in axes.yaxis.get_major_ticks():\n",
    "    tick.label.set_fontsize(tick_fontsize);\n",
    "plt.tight_layout()\n",
    "plt.savefig(\"plots/notebook_4_perturbed_source.pdf\")\n",
    "plt.close()\n",
    "\n",
    "fig, axes = plt.subplots(ncols=2, figsize=(9, 4))\n",
    "cbar = fig.colorbar(axes[0].contourf(X, Y, eta, **plotting_kwargs), ax=axes[0]);\n",
    "cbar.ax.tick_params(labelsize=tick_fontsize);\n",
    "axes[0].set_title(\"Original source\");\n",
    "axes[0].set_xlabel(\"Longitude [degrees]\");\n",
    "axes[0].set_ylabel(\"Latitude [degrees]\");\n",
    "fig.colorbar(axes[1].contourf(X, Y, eta_pert, **plotting_kwargs), ax=axes[1]);\n",
    "axes[1].set_title(\"Perturbed source\");\n",
    "axes[1].set_xlabel(\"Longitude [degrees]\");\n",
    "axes[1].set_ylabel(\"Latitude [degrees]\");"
   ]
  },
  {
   "cell_type": "markdown",
   "metadata": {},
   "source": [
    "### Taylor test\n",
    "\n",
    "Before attempting gradient-based optimisation, we better check that our gradient function is consistent."
   ]
  },
  {
   "cell_type": "code",
   "execution_count": 26,
   "metadata": {},
   "outputs": [
    {
     "name": "stdout",
     "output_type": "stream",
     "text": [
      "========================TAYLOR TEST========================\n",
      "h = 1.0000e+00\n",
      "Taylor remainder = 4.5043e-03\n",
      "h = 5.0000e-01\n",
      "Taylor remainder = 1.1238e-03\n",
      "h = 2.5000e-01\n",
      "Taylor remainder = 2.8067e-04\n",
      "====================TAYLOR TEST PASSED!====================\n"
     ]
    }
   ],
   "source": [
    "taylor_test(reduced_functional, gradient, op.input_vector, verbose=True)"
   ]
  },
  {
   "cell_type": "markdown",
   "metadata": {},
   "source": [
    "### Inversion\n",
    "\n",
    "Now we are ready to do the gradient-based optimisation.\n",
    "Here we use BFGS and require that the gradient norm is smaller than $10^{-8}$ for convergence."
   ]
  },
  {
   "cell_type": "code",
   "execution_count": 27,
   "metadata": {},
   "outputs": [
    {
     "name": "stdout",
     "output_type": "stream",
     "text": [
      " 100: J = 1.2063e-02  ||dJdm|| = 1.9477e-04\n",
      " 200: J = 2.3576e-03  ||dJdm|| = 1.2086e-04\n",
      " 300: J = 1.0258e-03  ||dJdm|| = 3.0795e-05\n",
      "Optimization terminated successfully.\n",
      "         Current function value: 0.000577\n",
      "         Iterations: 375\n",
      "         Function evaluations: 381\n",
      "         Gradient evaluations: 381\n"
     ]
    }
   ],
   "source": [
    "# Reset progress arrays\n",
    "op.J_progress = []\n",
    "op.dJdm_progress = []\n",
    "\n",
    "def opt_cb(m):\n",
    "    \"\"\"Print progress after every successful line search\"\"\"\n",
    "    msg = \"{:4d}: J = {:.4e}  ||dJdm|| = {:.4e}\"\n",
    "    counter = len(op.J_progress)\n",
    "    if counter % 100 == 0:\n",
    "        print(msg.format(counter, op.J_progress[-1], op.dJdm_progress[-1]))\n",
    "\n",
    "opt_parameters = {\n",
    "    'maxiter': 40000,\n",
    "    'disp': True,\n",
    "    'gtol': 1.0e-08,\n",
    "    'callback': opt_cb,\n",
    "    'retall': True,\n",
    "    'fprime': gradient,\n",
    "}\n",
    "\n",
    "m_opt, out = scipy.optimize.fmin_bfgs(reduced_functional, op.input_vector, **opt_parameters)"
   ]
  },
  {
   "cell_type": "code",
   "execution_count": 28,
   "metadata": {},
   "outputs": [],
   "source": [
    "np.save(\"notebook_4_m_opt\", m_opt)\n",
    "np.save(\"notebook_4_J_progress\", op.J_progress)\n",
    "np.save(\"notebook_4_dJdm_progress\", op.dJdm_progress)"
   ]
  },
  {
   "cell_type": "markdown",
   "metadata": {},
   "source": [
    "Let's take a look at the progress of the reduced functional and gradient"
   ]
  },
  {
   "cell_type": "code",
   "execution_count": 29,
   "metadata": {},
   "outputs": [
    {
     "data": {
      "image/png": "[encoded data removed]",
      "text/plain": [
       "<Figure size 1008x432 with 2 Axes>"
      ]
     },
     "metadata": {
      "needs_background": "light"
     },
     "output_type": "display_data"
    }
   ],
   "source": [
    "op.J_progress = np.load(\"notebook_4_J_progress.npy\")\n",
    "op.dJdm_progress = np.load(\"notebook_4_dJdm_progress.npy\")\n",
    "\n",
    "fig, axes = plt.subplots()\n",
    "axes.semilogy(op.J_progress);\n",
    "axes.set_xlabel(\"Iteration\", fontsize=fontsize);\n",
    "axes.set_ylabel(\"Mean square error\", fontsize=fontsize);\n",
    "for tick in axes.xaxis.get_major_ticks():\n",
    "    tick.label.set_fontsize(tick_fontsize);\n",
    "for tick in axes.yaxis.get_major_ticks():\n",
    "    tick.label.set_fontsize(tick_fontsize);\n",
    "plt.tight_layout()\n",
    "plt.savefig(\"plots/notebook_4_J_progress.pdf\")\n",
    "plt.close()\n",
    "\n",
    "fig, axes = plt.subplots()\n",
    "axes.semilogy(op.dJdm_progress);\n",
    "axes.set_xlabel(\"Iteration\", fontsize=fontsize);\n",
    "axes.set_ylabel(r\"$\\ell_\\infty$-norm of gradient\", fontsize=fontsize);\n",
    "for tick in axes.xaxis.get_major_ticks():\n",
    "    tick.label.set_fontsize(tick_fontsize);\n",
    "for tick in axes.yaxis.get_major_ticks():\n",
    "    tick.label.set_fontsize(tick_fontsize);\n",
    "plt.tight_layout()\n",
    "plt.savefig(\"plots/notebook_4_dJdm_progress.pdf\")\n",
    "plt.close()\n",
    "\n",
    "fig, axes = plt.subplots(ncols=2, figsize=(14, 6))\n",
    "ax = axes[0]\n",
    "ax.semilogy(op.J_progress);\n",
    "ax.set_xlabel(\"Iteration\", fontsize=fontsize);\n",
    "ax.set_ylabel(\"Mean square error\", fontsize=fontsize);\n",
    "for tick in ax.xaxis.get_major_ticks():\n",
    "    tick.label.set_fontsize(tick_fontsize);\n",
    "for tick in ax.yaxis.get_major_ticks():\n",
    "    tick.label.set_fontsize(tick_fontsize);\n",
    "ax = axes[1]\n",
    "ax.semilogy(op.dJdm_progress);\n",
    "ax.set_xlabel(\"Iteration\", fontsize=fontsize);\n",
    "ax.set_ylabel(\"Norm of gradient\", fontsize=fontsize);\n",
    "for tick in ax.xaxis.get_major_ticks():\n",
    "    tick.label.set_fontsize(tick_fontsize);\n",
    "for tick in ax.yaxis.get_major_ticks():\n",
    "    tick.label.set_fontsize(tick_fontsize);"
   ]
  },
  {
   "cell_type": "markdown",
   "metadata": {},
   "source": [
    "Compare the optimised parameters, `m_opt`, against the original ones, `m_orig`."
   ]
  },
  {
   "cell_type": "code",
   "execution_count": null,
   "metadata": {},
   "outputs": [],
   "source": [
    "m_opt = np.load(\"notebook_4_m_opt.npy\")\n",
    "m_orig = np.load(\"notebook_4_m_orig.npy\")\n",
    "diff = m_opt - m_orig\n",
    "print(\"Mean square error of controls = {:.4e}\".format(np.linalg.norm(diff)**2/len(m_opt)))"
   ]
  },
  {
   "cell_type": "code",
   "execution_count": null,
   "metadata": {},
   "outputs": [],
   "source": [
    "plt.hist(diff, bins=21);"
   ]
  },
  {
   "cell_type": "code",
   "execution_count": 31,
   "metadata": {},
   "outputs": [
    {
     "name": "stdout",
     "output_type": "stream",
     "text": [
      "  0:   1.0446, -17.2731, -15.6250,   6.7991\n",
      "  1:  -1.3574,   1.6649,   3.9968, -17.2604\n",
      "  2:   2.1735,   1.8568, -25.3487,   3.1624\n",
      "  3:   3.2914, -10.8072, -10.5949,   2.2805\n",
      "  4:  -0.0626,   2.6632,  -0.0326,  -1.8265\n",
      "  5:  -6.5000,  -1.1057, -13.2539, -11.8260\n",
      "  6:   1.0014,   5.2213,  -8.7384,   3.3834\n",
      "  7:  -3.9625,   4.9785, -10.2365,   0.1573\n",
      "  8:   5.6083,  26.6595,  12.1088,  -0.1608\n",
      "  9:   6.4351,   9.4717,   5.2336,   2.9660\n",
      " 10:   6.9419,  -0.4130,   4.2660,  -2.3168\n",
      " 11:   0.6390,  -2.6737,  -1.0565,   1.0126\n",
      " 12:   4.0296,  12.2743,  -4.0761,  -1.3978\n",
      " 13:   0.5717,   4.8217, -14.4022,  10.1624\n",
      " 14:   1.6833,   5.9225,  -2.4257,  -2.4451\n",
      " 15:   0.1518, -16.1950,  -7.7002,  -3.4617\n",
      " 16:  -0.4804,   0.1411,   7.6177,  -1.7174\n",
      " 17:   0.5960,  -7.4711,  11.5801,   5.9055\n",
      " 18:   0.3649,   2.6784,  14.7807,  -4.1130\n",
      " 19:  -0.4521,  -0.4595,   8.0305, -30.6768\n",
      " 20:  -0.7044,   6.2768,  -6.3652,  -4.4139\n",
      " 21:  -0.9857,   4.2744, -11.9168,  10.3419\n",
      " 22:  -3.0228,   7.9781,   7.0311,   8.5812\n",
      " 23:   0.3662,  -2.5956,   2.3764,   2.3200\n",
      " 24:  21.9432,  -9.1994, -19.1253,  -6.9638\n",
      " 25:  -5.6378,  -4.6369,   3.1563,   7.5479\n",
      " 26:   2.8070,   1.1813,   5.5657,  -1.6431\n",
      " 27:  -4.6857,   2.7837,   2.6142,   0.8281\n",
      " 28:  14.3432,  18.6482,  -0.1852,  -1.3093\n",
      " 29:   4.5418,   2.2098,  -4.1223,  12.2672\n",
      " 30:  -4.9671, -16.4599,  -8.4815,  -1.1829\n",
      " 31:   0.2752,   2.0205,   2.8704,   5.5079\n",
      " 32:  -2.0656,  -5.9372,  -2.2179,  -8.3239\n",
      " 33:   3.0642,   4.2187,  -1.7792,   2.3196\n",
      " 34:   2.8032, -13.3412,  15.4428, -12.1643\n",
      " 35:  -2.7432,   0.0639,   7.5183,  -5.2354\n",
      " 36:   1.0390,   0.8035,   4.3094,  -1.9101\n",
      " 37:  -0.6805,   1.9509,   1.7975, -17.9017\n",
      " 38:   0.5398,  -4.7582,  13.9759,   2.2525\n",
      " 39:   0.4912,  -3.1512,  18.1868,  -1.4624\n",
      " 40:  -4.2192, -14.0060,   9.0459, -13.8621\n",
      " 41:   1.0553,   0.7639,  -1.0312, -11.5433\n",
      " 42:  -7.9871,  -7.0364, -18.7734,   4.6095\n",
      " 43:  14.2497,   2.8056,   4.3883,   9.9701\n",
      " 44:  -7.3206, -10.0065,  -3.5318,   0.9661\n",
      " 45:  -2.0766,   6.7835,   2.6898,   0.0937\n",
      " 46:  -6.5281,  14.9721,   9.2609,   2.0039\n",
      " 47:   0.8400, -22.3408, -25.7771,   5.1469\n",
      " 48:  -7.4497,   1.8475,  -3.8189,   0.4238\n",
      " 49:   0.0532,   8.3566,  -0.7314,   2.1493\n",
      " 50:  -1.6654,  -5.5594,  -5.7432,   2.2654\n",
      " 51:   2.7937,  -6.4877, -11.2505,  -2.4796\n",
      " 52:   5.3440,   0.6533,   6.7114,   1.4915\n",
      " 53:  -0.2413,  -1.7469,   1.5717,  -2.2542\n",
      " 54:   0.5188,  -2.6723, -10.4753,  -4.6310\n",
      " 55:  -0.0192, -16.5703,   2.9572, -12.3111\n",
      " 56:  -0.3244,  11.2335,   8.4939,   1.8031\n",
      " 57:   0.8301,   9.5456,   0.9418,  17.4907\n",
      " 58:  -1.4187,  -8.5339,   8.4892,  -2.0252\n",
      " 59:   3.4733, -11.1817,  -3.1559,  -2.7544\n",
      " 60:   4.5364,   2.3071,   0.0617,  -9.4424\n",
      " 61:  -2.9089,  -5.8516, -12.6316,  -0.6757\n",
      " 62:  -6.6063,   1.2662,   0.7961,   8.7239\n",
      " 63:  -8.5403,  -4.3260,   2.7878,  -6.1245\n",
      " 64:  -3.2640,   7.3289,   8.7700,  -0.4861\n",
      " 65:  -5.0274,   6.4554,  -1.3257,  -1.1618\n",
      " 66:  -5.3875,  -4.0173,   2.1241,   0.9702\n",
      " 67:   2.9228, -16.4709, -10.7822,  -8.3379\n",
      " 68:  -5.7522, -15.6666,  -6.9591,   7.5751\n",
      " 69:   0.2495,   1.8547,   3.6500,  16.1560\n",
      " 70:   4.0279,  -9.6574, -12.5522,   3.2300\n",
      " 71:   1.7246,  -3.7517,   6.6764,  11.4533\n",
      " 72:   0.3326,  -6.1476,   2.6526,   4.4481\n",
      " 73:   0.7172,  -0.7170,   2.9316,  -8.8386\n",
      " 74:  -0.2875, -19.3168,   3.2389, -13.1956\n",
      " 75:   0.1696,   2.3224,  19.6964,  -2.9565\n",
      " 76:  -0.7201,   4.7063,  -4.5377,   8.7451\n",
      " 77:  -0.7386,   0.0754, -21.3975,  -0.9584\n",
      " 78:  -1.1197,  -2.1306,   1.0117,  -4.4853\n",
      " 79:   3.7384,   1.3964,  -1.1211,   9.1683\n",
      " 80:  -1.9285,   0.2150,  -0.9016,   0.9803\n",
      " 81:  -4.3734, -22.8334, -17.1981, -12.6928\n",
      " 82:   8.0836,  12.0731,   3.9983,  -5.0893\n",
      " 83: -12.8457,   4.3892,   1.5553,   9.3290\n",
      " 84:   5.9330,  -8.1143,  -3.1517,   6.8146\n",
      " 85:   5.7690,   6.2012,  14.3998,  -5.9940\n",
      " 86:   3.5205,  -1.0467,  -3.3325,  -7.8857\n",
      " 87:  -3.4971,  -2.9514,  -6.1795, -12.4508\n",
      " 88:  -1.3039, -19.5456, -24.0382, -11.6095\n",
      " 89:   1.4989,  23.5882,  -0.4526, -10.0595\n",
      " 90:  -4.9176,  -1.3729, -19.9229,  -9.7671\n",
      " 91:   0.7880,   9.6683,  -4.7592, -16.8532\n",
      " 92:  -0.3559,  -8.8726,  -1.6820,   3.4133\n",
      " 93:   0.2960,  15.1710,  -6.9985,   3.1532\n",
      " 94:  -1.6843,   2.7327,  17.5230,  -4.5439\n",
      " 95:   2.0867,   6.9087,   9.2704,  -4.8704\n",
      " 96:  -0.7344, -10.0218,  12.8998,   0.1274\n",
      " 97:   2.0538,  12.7005,  -9.9931,   9.5641\n",
      " 98:   1.3594,   7.5657,  10.8599, -23.9898\n",
      " 99:  -4.7159,   9.9771,   7.8590,   1.8634\n",
      "100:  16.0764,   3.4570,  -0.6874,  -1.3777\n",
      "101:   1.6548,  -2.0315,   8.2550, -19.1663\n",
      "102: -16.2031,  23.1438,  -9.1460, -19.3316\n",
      "103:   4.5773, -10.3030,  -4.4304,   4.2696\n",
      "104: -12.3002,  -0.8934,   8.1559,   2.3828\n",
      "105:   6.1352,   3.3916, -17.4114,   8.2099\n",
      "106:   0.0264,   1.8966,  14.1415,  -7.7532\n",
      "107:   3.7695,   4.8266,   5.8295,   9.4006\n",
      "108:   0.2334,  -5.7962,   2.2181,  18.3399\n",
      "109:   8.0100,  -0.5979,   6.2445,   4.5508\n",
      "110:   4.1889, -15.7006,  -7.4368,  -6.1475\n",
      "111:  -0.0417,  16.3509,  -3.4341,  12.7894\n",
      "112:  -2.0819,  -1.3695,  11.1756,   5.0577\n",
      "113:   6.3530,  -5.3477,  11.2114,   8.5722\n",
      "114:  -1.9870,   7.2540,  26.3878,  -6.1411\n",
      "115:   4.3900,  -4.2484,  -3.1320, -25.8928\n",
      "116:  -1.4700, -12.5581,  -6.9863,  23.3102\n",
      "117:  -1.8847, -13.5829,  -5.1021, -15.8936\n",
      "118:   6.0784,   5.9252,  -9.2397,  -0.2115\n",
      "119:  -0.5686,  -2.0849,  -1.5244,  23.2949\n",
      "120:  -0.8291,  -2.8600,   5.1216,   0.9713\n",
      "121:  -6.6972,   9.7501,   0.6223,  10.1417\n",
      "122:   4.6686,  -7.3100,   6.6471,  -5.4719\n",
      "123:   6.7230,  -5.3999,  -4.5013, -17.9046\n",
      "124: -10.6483,  -3.9341,  -3.6576,  -3.8808\n",
      "125:   9.5069,   1.5046,  -6.1946,   4.4554\n",
      "126:  -3.2230,  -0.5898, -16.1547,  -3.1087\n",
      "127:   5.0745,  -5.0407, -12.5794,  -0.2368\n",
      "128:  -5.0247,  -1.2454, -10.9877,   2.5916\n",
      "129:   0.7797,  -0.5747,  12.5453,  12.1749\n",
      "130:  -2.2731,  -7.8154,   9.5034, -15.3073\n",
      "131:   4.8328,  -5.7701,  11.2019, -12.2733\n",
      "132:  -9.1666,   1.6215, -12.0996,  -6.1425\n",
      "133:  10.4905,  -8.2374, -21.1961,   8.9501\n",
      "134:  -3.4571,  -9.5696,  -8.4231,   2.3779\n",
      "135:  -1.1165,  -2.8734,   0.7759,  22.1799\n",
      "136:   3.7469,  -3.4566,   5.5893,   8.6248\n",
      "137:   0.6651,  22.5287,  10.5066,  -0.3914\n",
      "138:   2.3851,  -7.1652,   2.9168,  12.4411\n",
      "139:  -4.3460,   9.9093,  17.0169,   2.2578\n",
      "140:  -6.7588,   6.8252,  -1.6119,  -6.6457\n",
      "141:  11.1791, -10.0250, -10.4188,   3.5051\n",
      "142:   0.8611,   5.6917, -14.2941,  -5.9447\n",
      "143:   2.7016, -10.3809, -10.3925,   1.2249\n",
      "144:   4.5181, -30.3939,   3.9825,  10.7037\n",
      "145:   0.7298,   2.6488,  -5.5581,   0.8290\n",
      "146:  -2.5686, -16.8057,   8.5345,  -9.0059\n",
      "147:   4.4980,   5.7739,  13.6688,   1.6400\n",
      "148:  -0.8133,  -8.8199, -22.0980,   8.0615\n",
      "149:   0.7563,  16.6190,   8.6466,  -6.7448\n",
      "150:  -0.1584,  11.1022, -22.8079,  -5.0302\n",
      "151:   3.6078,  -4.5341,   3.6505,  -7.0879\n",
      "152:  -7.1769,  -7.2869,  12.9353,   2.4491\n",
      "153:  -5.6231, -10.8772,  -0.6723,  -4.0379\n",
      "154:   2.5699,  -3.2812, -13.7373, -15.5325\n",
      "155:  -7.0000,  -2.9624,  -5.7137,  -8.8673\n",
      "156:   5.6694,  -2.9623,  -3.3287, -10.5956\n",
      "157:  -8.3751,   1.3032,  -0.4723,  13.8527\n",
      "158:  -4.2486,   6.9963,  -3.0814,   9.2312\n",
      "159:   0.3989,   0.8610,   1.4731,   3.6339\n",
      "160:  -9.0398,  -9.0706,   3.6779,  -4.0982\n",
      "161:  12.4650, -16.8520,  -9.6127,  -2.4476\n",
      "162:   8.0065,  12.6836,  -1.3578,   2.4989\n",
      "163:  -8.3524,  -7.4598,  15.7458,  -8.0150\n",
      "164:  -2.0044,  -6.5235,  -3.8045,  24.1965\n",
      "165:   7.9579,  -5.7357,  -4.2870, -16.2866\n",
      "166:  -1.4827, -19.1731,  11.3340,   3.6261\n",
      "167:  -6.4085,  -7.0179, -23.2768, -15.5348\n",
      "168:   4.7148,  -3.2386,  10.3161,  -2.5397\n",
      "169:  -0.1981,   6.8386,  -6.9403,  -9.5424\n",
      "170:  -5.1935,   6.8683,   1.7521, -12.1760\n",
      "171:   1.0334,   0.6156,   0.4262, -12.6410\n",
      "172:   2.3418,   8.7162,   8.2416,  14.3220\n",
      "173:   3.7626,   3.1495,  -2.4557,  -1.3302\n",
      "174:  -3.4118,  -0.1628,  -6.7899,  -7.8751\n",
      "175:   5.3882,   3.7674,  10.8596,   5.0242\n",
      "176:  -3.7336,  -1.9683, -23.4704,   1.3954\n",
      "177:   0.9130,  -4.0306,   0.3387,   7.4640\n",
      "178:   3.6749,  -3.8500, -12.3490, -18.7507\n",
      "179:   1.1759, -12.2142,  -6.5386,   5.8143\n",
      "180:   0.7825,   3.4748,  19.4196,   9.5877\n",
      "181:  -7.3231, -10.0170,  -0.4382, -20.5797\n",
      "182:   7.1924,   7.8472,   2.6145,   3.5267\n",
      "183: -10.0864,  -1.3300, -18.7506,  14.3400\n",
      "184:  14.6537,   1.2122,  -8.1085,   7.5385\n",
      "185:  -3.9557,   4.2381,   2.5471,   7.8366\n",
      "186:  -1.9935,   5.6945,   4.1322,   6.5475\n",
      "187:   2.2490, -15.1275,   5.5801,  -6.7730\n",
      "188:  -1.4330,  -2.2422,   0.2397,  -0.1998\n",
      "189:   4.8805,  10.2082,   3.8745, -15.6213\n"
     ]
    }
   ],
   "source": [
    "diff = diff.reshape(op.nx*op.ny, len(op.active_controls))\n",
    "for j, row in enumerate(diff):\n",
    "    print(\"{:3d}: {:8.4f}, {:8.4f}, {:8.4f}, {:8.4f}\".format(j, *row))"
   ]
  },
  {
   "cell_type": "code",
   "execution_count": 32,
   "metadata": {},
   "outputs": [
    {
     "name": "stdout",
     "output_type": "stream",
     "text": [
      "Maximum pointwise difference: 26.6595 degree difference in rake on subfault 8\n"
     ]
    }
   ],
   "source": [
    "msg = \"Maximum pointwise difference: {:.4f} degree difference in {:s} on subfault {:d}\"\n",
    "loc = np.unravel_index(np.argmax(np.abs(diff), axis=None), diff.shape)\n",
    "print(msg.format(diff[loc], op.active_controls[loc[1]], loc[0]))"
   ]
  },
  {
   "cell_type": "code",
   "execution_count": 45,
   "metadata": {},
   "outputs": [],
   "source": [
    "op = TohokuOkadaInversionOptions(**kwargs)\n",
    "m_opt = np.load(\"notebook_4_m_opt.npy\")\n",
    "m_opt = m_opt.reshape(op.nx*op.ny, len(op.active_controls))\n",
    "for i, control in enumerate(op.active_controls):\n",
    "    op.control_parameters[control] = m_opt[:, i]\n",
    "    op.create_topography()"
   ]
  },
  {
   "cell_type": "code",
   "execution_count": 48,
   "metadata": {},
   "outputs": [
    {
     "data": {
      "image/png": "[encoded data removed]",
      "text/plain": [
       "<Figure size 1008x288 with 6 Axes>"
      ]
     },
     "metadata": {
      "needs_background": "light"
     },
     "output_type": "display_data"
    }
   ],
   "source": [
    "eta_opt = op.fault.dtopo.dZ.reshape(N, N)\n",
    "eta_err = np.abs(eta - eta_opt)\n",
    "\n",
    "fig, axes = plt.subplots()\n",
    "cbar = fig.colorbar(axes.contourf(X, Y, eta_opt, **plotting_kwargs), ax=axes);\n",
    "cbar.ax.tick_params(labelsize=tick_fontsize);\n",
    "axes.set_xlabel(\"Longitude [degrees]\", fontsize=fontsize);\n",
    "axes.set_ylabel(\"Latitude [degrees]\", fontsize=fontsize);\n",
    "for tick in axes.xaxis.get_major_ticks():\n",
    "    tick.label.set_fontsize(tick_fontsize);\n",
    "for tick in axes.yaxis.get_major_ticks():\n",
    "    tick.label.set_fontsize(tick_fontsize);\n",
    "plt.tight_layout()\n",
    "plt.savefig(\"plots/notebook_4_optimised_source.pdf\")\n",
    "plt.close()\n",
    "\n",
    "fig, axes = plt.subplots()\n",
    "cbar = fig.colorbar(axes.contourf(X, Y, eta_err, **plotting_kwargs), ax=axes);\n",
    "cbar.ax.tick_params(labelsize=tick_fontsize);\n",
    "axes.set_xlabel(\"Longitude [degrees]\", fontsize=fontsize);\n",
    "axes.set_ylabel(\"Latitude [degrees]\", fontsize=fontsize);\n",
    "for tick in axes.xaxis.get_major_ticks():\n",
    "    tick.label.set_fontsize(tick_fontsize);\n",
    "for tick in axes.yaxis.get_major_ticks():\n",
    "    tick.label.set_fontsize(tick_fontsize);\n",
    "plt.tight_layout()\n",
    "plt.savefig(\"plots/notebook_4_pointwise_error.pdf\")\n",
    "plt.close()\n",
    "\n",
    "fig, axes = plt.subplots(ncols=3, figsize=(14, 4))\n",
    "fig.colorbar(axes[0].contourf(X, Y, eta, **plotting_kwargs), ax=axes[0]);\n",
    "axes[0].set_title(\"Original source\");\n",
    "fig.colorbar(axes[1].contourf(X, Y, eta_opt, **plotting_kwargs), ax=axes[1]);\n",
    "axes[1].set_title(\"Optimised source\");\n",
    "fig.colorbar(axes[2].contourf(X, Y, eta_err, **plotting_kwargs), ax=axes[2]);\n",
    "axes[2].set_title(\"Pointwise error\");"
   ]
  },
  {
   "cell_type": "code",
   "execution_count": null,
   "metadata": {},
   "outputs": [],
   "source": []
  }
 ],
 "metadata": {
  "kernelspec": {
   "display_name": "Python 3",
   "language": "python",
   "name": "python3"
  },
  "language_info": {
   "codemirror_mode": {
    "name": "ipython",
    "version": 3
   },
   "file_extension": ".py",
   "mimetype": "text/x-python",
   "name": "python",
   "nbconvert_exporter": "python",
   "pygments_lexer": "ipython3",
   "version": "3.6.9"
  }
 },
 "nbformat": 4,
 "nbformat_minor": 4
}
