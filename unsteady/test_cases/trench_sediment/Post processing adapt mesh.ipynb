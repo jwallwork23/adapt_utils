{
 "cells": [
  {
   "cell_type": "code",
   "execution_count": 1,
   "metadata": {},
   "outputs": [],
   "source": [
    "import pandas as pd\n",
    "import pylab as plt\n",
    "import numpy as np"
   ]
  },
  {
   "cell_type": "code",
   "execution_count": 2,
   "metadata": {},
   "outputs": [],
   "source": [
    "df_real = pd.read_csv('fixed_output/bed_trench_output_uni_4.csv')\n",
    "data = pd.read_csv('experimental_data.csv', header=None)"
   ]
  },
  {
   "cell_type": "markdown",
   "metadata": {},
   "source": [
    "## 0.1"
   ]
  },
  {
   "cell_type": "code",
   "execution_count": 6,
   "metadata": {},
   "outputs": [
    {
     "name": "stdout",
     "output_type": "stream",
     "text": [
      "[0.004990368711669865, 0.0029340221980049147, 0.001770151495142535, 0.0012404832403302753, 0.0010653776610525228, 0.0010535629008237256, 0.001095990133378814, 0.0012300770581035031, 0.001244165057592144, 0.0012488525579369314, 0.001249611885217258, 0.0012482790538760836, 0.00124744133395652, 0.0012464139728353843, 0.0012454319004371918, 0.0012429656517999983, 0.0012411506152203461, 0.0012397089654738547, 0.0012376058563372647, 0.0012357087437740576, 0.001234725937977409, 0.0012316523259056768]\n",
      "[0.04612937284113604, 0.03388403340255584, 0.026089876108888823, 0.021597863354705243, 0.020064331588653426, 0.019491053518829533, 0.018563276477999803, 0.018185328284881393, 0.01777784683850335, 0.017534907712197113, 0.017390456666180738, 0.017287229097993722, 0.01720002616724477, 0.017137467324707768, 0.01707216705556714, 0.01702739960197267, 0.01696917788765816, 0.01691491215883209, 0.01687367662941174, 0.016830091525075908, 0.016775045513853535, 0.016675792462681825]\n"
     ]
    }
   ],
   "source": [
    "df_test1 = pd.read_csv('adapt_output/bed_trench_output_uni_0.1_2.csv')\n",
    "df_test2 = pd.read_csv('adapt_output/bed_trench_output_uni_0.1_5.csv')\n",
    "df_test3 = pd.read_csv('adapt_output/bed_trench_output_uni_0.1_10.csv')\n",
    "df_test4 = pd.read_csv('adapt_output/bed_trench_output_uni_0.1_15.csv')\n",
    "df_test5 = pd.read_csv('adapt_output/bed_trench_output_uni_0.1_17.csv')\n",
    "df_test6 = pd.read_csv('adapt_output/bed_trench_output_uni_0.1_20.csv')\n",
    "df_test7 = pd.read_csv('adapt_output/bed_trench_output_uni_0.1_30.csv')\n",
    "df_test8 = pd.read_csv('adapt_output/bed_trench_output_uni_0.1_40.csv')\n",
    "df_test9 = pd.read_csv('adapt_output/bed_trench_output_uni_0.1_50.csv')\n",
    "df_test10 = pd.read_csv('adapt_output/bed_trench_output_uni_0.1_60.csv')\n",
    "df_test11 = pd.read_csv('adapt_output/bed_trench_output_uni_0.1_70.csv')\n",
    "df_test12 = pd.read_csv('adapt_output/bed_trench_output_uni_0.1_80.csv')\n",
    "df_test13 = pd.read_csv('adapt_output/bed_trench_output_uni_0.1_90.csv')\n",
    "df_test14 = pd.read_csv('adapt_output/bed_trench_output_uni_0.1_100.csv')\n",
    "df_test15 = pd.read_csv('adapt_output/bed_trench_output_uni_0.1_110.csv')\n",
    "df_test16 = pd.read_csv('adapt_output/bed_trench_output_uni_0.1_120.csv')\n",
    "df_test17 = pd.read_csv('adapt_output/bed_trench_output_uni_0.1_130.csv')\n",
    "df_test18 = pd.read_csv('adapt_output/bed_trench_output_uni_0.1_140.csv')\n",
    "df_test19 = pd.read_csv('adapt_output/bed_trench_output_uni_0.1_150.csv')\n",
    "df_test20 = pd.read_csv('adapt_output/bed_trench_output_uni_0.1_160.csv')\n",
    "df_test21 = pd.read_csv('adapt_output/bed_trench_output_uni_0.1_180.csv')\n",
    "\n",
    "df_fixed = pd.read_csv('fixed_output/bed_trench_output_uni_0.1.csv')\n",
    "\n",
    "alpha_01 = [0, 2, 5, 10, 15, 17, 20, 30, 40, 50, 60, 70, 80, 90, 100, 110, 120, 130, 140, 150, 160, 180]\n",
    "\n",
    "error_list_01 = []\n",
    "error_list_01.append(sum([(df_fixed['bath'][i] - df_real['bath'][i])**2 for i in range(len(df_real))]))\n",
    "error_list_01.append(sum([(df_test1['bath'][i] - df_real['bath'][i])**2 for i in range(len(df_real))]))\n",
    "error_list_01.append(sum([(df_test2['bath'][i] - df_real['bath'][i])**2 for i in range(len(df_real))]))\n",
    "error_list_01.append(sum([(df_test3['bath'][i] - df_real['bath'][i])**2 for i in range(len(df_real))]))\n",
    "error_list_01.append(sum([(df_test4['bath'][i] - df_real['bath'][i])**2 for i in range(len(df_real))]))\n",
    "error_list_01.append(sum([(df_test5['bath'][i] - df_real['bath'][i])**2 for i in range(len(df_real))]))\n",
    "error_list_01.append(sum([(df_test6['bath'][i] - df_real['bath'][i])**2 for i in range(len(df_real))]))\n",
    "error_list_01.append(sum([(df_test7['bath'][i] - df_real['bath'][i])**2 for i in range(len(df_real))]))\n",
    "error_list_01.append(sum([(df_test8['bath'][i] - df_real['bath'][i])**2 for i in range(len(df_real))]))\n",
    "error_list_01.append(sum([(df_test9['bath'][i] - df_real['bath'][i])**2 for i in range(len(df_real))]))\n",
    "error_list_01.append(sum([(df_test10['bath'][i] - df_real['bath'][i])**2 for i in range(len(df_real))]))\n",
    "error_list_01.append(sum([(df_test11['bath'][i] - df_real['bath'][i])**2 for i in range(len(df_real))]))\n",
    "error_list_01.append(sum([(df_test12['bath'][i] - df_real['bath'][i])**2 for i in range(len(df_real))]))\n",
    "error_list_01.append(sum([(df_test13['bath'][i] - df_real['bath'][i])**2 for i in range(len(df_real))]))\n",
    "error_list_01.append(sum([(df_test14['bath'][i] - df_real['bath'][i])**2 for i in range(len(df_real))]))\n",
    "error_list_01.append(sum([(df_test15['bath'][i] - df_real['bath'][i])**2 for i in range(len(df_real))]))\n",
    "error_list_01.append(sum([(df_test16['bath'][i] - df_real['bath'][i])**2 for i in range(len(df_real))]))\n",
    "error_list_01.append(sum([(df_test17['bath'][i] - df_real['bath'][i])**2 for i in range(len(df_real))]))\n",
    "error_list_01.append(sum([(df_test18['bath'][i] - df_real['bath'][i])**2 for i in range(len(df_real))]))\n",
    "error_list_01.append(sum([(df_test19['bath'][i] - df_real['bath'][i])**2 for i in range(len(df_real))]))\n",
    "error_list_01.append(sum([(df_test20['bath'][i] - df_real['bath'][i])**2 for i in range(len(df_real))]))\n",
    "error_list_01.append(sum([(df_test21['bath'][i] - df_real['bath'][i])**2 for i in range(len(df_real))]))\n",
    "\n",
    "print(error_list_01)\n",
    "\n",
    "df_fixedexp = pd.read_csv('fixed_output/bed_trench_output0.1.csv') \n",
    "df_exp1 = pd.read_csv('adapt_output/bed_trench_output_0.1_2.csv')\n",
    "df_exp2 = pd.read_csv('adapt_output/bed_trench_output_0.1_5.csv')\n",
    "df_exp3 = pd.read_csv('adapt_output/bed_trench_output_0.1_10.csv')\n",
    "df_exp4 = pd.read_csv('adapt_output/bed_trench_output_0.1_15.csv')\n",
    "df_exp5 = pd.read_csv('adapt_output/bed_trench_output_0.1_17.csv')\n",
    "df_exp6 = pd.read_csv('adapt_output/bed_trench_output_0.1_20.csv')\n",
    "df_exp7 = pd.read_csv('adapt_output/bed_trench_output_0.1_30.csv')\n",
    "df_exp8 = pd.read_csv('adapt_output/bed_trench_output_0.1_40.csv')\n",
    "df_exp9 = pd.read_csv('adapt_output/bed_trench_output_0.1_50.csv')\n",
    "df_exp10 = pd.read_csv('adapt_output/bed_trench_output_0.1_60.csv')\n",
    "df_exp11 = pd.read_csv('adapt_output/bed_trench_output_0.1_70.csv')\n",
    "df_exp12 = pd.read_csv('adapt_output/bed_trench_output_0.1_80.csv')\n",
    "df_exp13 = pd.read_csv('adapt_output/bed_trench_output_0.1_90.csv')\n",
    "df_exp14 = pd.read_csv('adapt_output/bed_trench_output_0.1_100.csv')\n",
    "df_exp15 = pd.read_csv('adapt_output/bed_trench_output_0.1_110.csv')\n",
    "df_exp16 = pd.read_csv('adapt_output/bed_trench_output_0.1_120.csv')\n",
    "df_exp17 = pd.read_csv('adapt_output/bed_trench_output_0.1_130.csv')\n",
    "df_exp18 = pd.read_csv('adapt_output/bed_trench_output_0.1_140.csv')\n",
    "df_exp19 = pd.read_csv('adapt_output/bed_trench_output_0.1_150.csv')\n",
    "df_exp20 = pd.read_csv('adapt_output/bed_trench_output_0.1_160.csv')\n",
    "df_exp21 = pd.read_csv('adapt_output/bed_trench_output_0.1_180.csv')\n",
    "\n",
    "error_listexp_01 = []\n",
    "error_listexp_01.append(np.sqrt(sum([(df_fixedexp['bath'][i] - data[1].dropna()[i])**2 for i in range(len(df_exp1))])))\n",
    "error_listexp_01.append(np.sqrt(sum([(df_exp1['bath'][i] - data[1].dropna()[i])**2 for i in range(len(df_exp1))])))\n",
    "error_listexp_01.append(np.sqrt(sum([(df_exp2['bath'][i] - data[1].dropna()[i])**2 for i in range(len(df_exp1))])))\n",
    "error_listexp_01.append(np.sqrt(sum([(df_exp3['bath'][i] - data[1].dropna()[i])**2 for i in range(len(df_exp1))])))\n",
    "error_listexp_01.append(np.sqrt(sum([(df_exp4['bath'][i] - data[1].dropna()[i])**2 for i in range(len(df_exp1))])))\n",
    "error_listexp_01.append(np.sqrt(sum([(df_exp5['bath'][i] - data[1].dropna()[i])**2 for i in range(len(df_exp1))])))\n",
    "error_listexp_01.append(np.sqrt(sum([(df_exp6['bath'][i] - data[1].dropna()[i])**2 for i in range(len(df_exp1))])))\n",
    "error_listexp_01.append(np.sqrt(sum([(df_exp7['bath'][i] - data[1].dropna()[i])**2 for i in range(len(df_exp1))])))\n",
    "error_listexp_01.append(np.sqrt(sum([(df_exp8['bath'][i] - data[1].dropna()[i])**2 for i in range(len(df_exp1))])))\n",
    "error_listexp_01.append(np.sqrt(sum([(df_exp9['bath'][i] - data[1].dropna()[i])**2 for i in range(len(df_exp1))])))\n",
    "error_listexp_01.append(np.sqrt(sum([(df_exp10['bath'][i] - data[1].dropna()[i])**2 for i in range(len(df_exp1))])))\n",
    "error_listexp_01.append(np.sqrt(sum([(df_exp11['bath'][i] - data[1].dropna()[i])**2 for i in range(len(df_exp1))])))\n",
    "error_listexp_01.append(np.sqrt(sum([(df_exp12['bath'][i] - data[1].dropna()[i])**2 for i in range(len(df_exp1))])))\n",
    "error_listexp_01.append(np.sqrt(sum([(df_exp13['bath'][i] - data[1].dropna()[i])**2 for i in range(len(df_exp1))])))\n",
    "error_listexp_01.append(np.sqrt(sum([(df_exp14['bath'][i] - data[1].dropna()[i])**2 for i in range(len(df_exp1))])))\n",
    "error_listexp_01.append(np.sqrt(sum([(df_exp15['bath'][i] - data[1].dropna()[i])**2 for i in range(len(df_exp1))])))\n",
    "error_listexp_01.append(np.sqrt(sum([(df_exp16['bath'][i] - data[1].dropna()[i])**2 for i in range(len(df_exp1))])))\n",
    "error_listexp_01.append(np.sqrt(sum([(df_exp17['bath'][i] - data[1].dropna()[i])**2 for i in range(len(df_exp1))])))\n",
    "error_listexp_01.append(np.sqrt(sum([(df_exp18['bath'][i] - data[1].dropna()[i])**2 for i in range(len(df_exp1))])))\n",
    "error_listexp_01.append(np.sqrt(sum([(df_exp19['bath'][i] - data[1].dropna()[i])**2 for i in range(len(df_exp1))])))\n",
    "error_listexp_01.append(np.sqrt(sum([(df_exp20['bath'][i] - data[1].dropna()[i])**2 for i in range(len(df_exp1))])))\n",
    "error_listexp_01.append(np.sqrt(sum([(df_exp21['bath'][i] - data[1].dropna()[i])**2 for i in range(len(df_exp1))])))\n",
    "\n",
    "print(error_listexp_01)"
   ]
  },
  {
   "cell_type": "markdown",
   "metadata": {},
   "source": [
    "## 0.125"
   ]
  },
  {
   "cell_type": "code",
   "execution_count": 16,
   "metadata": {},
   "outputs": [
    {
     "name": "stdout",
     "output_type": "stream",
     "text": [
      "[0.0034172450505107954, 0.0009563102789365835, 0.00047214895719935275, 0.0003176161131569594, 0.0003079592443215134, 0.0003174993542420528, 0.0003343474750302969, 0.0003394668962412842, 0.0003315722183778088, 0.0003369597091221878, 0.00035014496534050966, 0.00036068168750802627]\n",
      "[0.0169736964078725, 0.017536994522330807, 0.018361352528146357, 0.019499957205370413, 0.01855557782854303, 0.01822390295923156, 0.01806316057824973, 0.017741080380367237, 0.017614148291083796, 0.017389960181198472, 0.01739791664188335, 0.017442777581978652]\n"
     ]
    }
   ],
   "source": [
    "df_test1 = pd.read_csv('adapt_output/bed_trench_output_uni_0.125_2.csv')\n",
    "df_test2 = pd.read_csv('adapt_output/bed_trench_output_uni_0.125_5.csv')\n",
    "df_test3 = pd.read_csv('adapt_output/bed_trench_output_uni_0.125_10.csv')\n",
    "df_test4 = pd.read_csv('adapt_output/bed_trench_output_uni_0.125_15.csv')\n",
    "df_test5 = pd.read_csv('adapt_output/bed_trench_output_uni_0.125_17.csv')\n",
    "df_test6 = pd.read_csv('adapt_output/bed_trench_output_uni_0.125_20.csv')\n",
    "df_test7 = pd.read_csv('adapt_output/bed_trench_output_uni_0.125_25.csv')\n",
    "df_test8 = pd.read_csv('adapt_output/bed_trench_output_uni_0.125_30.csv')\n",
    "df_test9 = pd.read_csv('adapt_output/bed_trench_output_uni_0.125_40.csv')\n",
    "df_test10 = pd.read_csv('adapt_output/bed_trench_output_uni_0.125_50.csv')\n",
    "df_test11 = pd.read_csv('adapt_output/bed_trench_output_uni_0.125_60.csv')\n",
    "df_fixed = pd.read_csv('fixed_output/bed_trench_output_uni_0.125.csv')\n",
    "\n",
    "alpha_0125 = [0, 2, 5, 10, 15, 17, 20, 25, 30, 40, 50, 60]\n",
    "\n",
    "error_list_0125 = []\n",
    "error_list_0125.append(sum([(df_fixed['bath'][i] - df_real['bath'][i])**2 for i in range(len(df_real))]))\n",
    "error_list_0125.append(sum([(df_test1['bath'][i] - df_real['bath'][i])**2 for i in range(len(df_real))]))\n",
    "error_list_0125.append(sum([(df_test2['bath'][i] - df_real['bath'][i])**2 for i in range(len(df_real))]))\n",
    "error_list_0125.append(sum([(df_test3['bath'][i] - df_real['bath'][i])**2 for i in range(len(df_real))]))\n",
    "error_list_0125.append(sum([(df_test4['bath'][i] - df_real['bath'][i])**2 for i in range(len(df_real))]))\n",
    "error_list_0125.append(sum([(df_test5['bath'][i] - df_real['bath'][i])**2 for i in range(len(df_real))]))\n",
    "error_list_0125.append(sum([(df_test6['bath'][i] - df_real['bath'][i])**2 for i in range(len(df_real))]))\n",
    "error_list_0125.append(sum([(df_test7['bath'][i] - df_real['bath'][i])**2 for i in range(len(df_real))]))\n",
    "error_list_0125.append(sum([(df_test8['bath'][i] - df_real['bath'][i])**2 for i in range(len(df_real))]))\n",
    "error_list_0125.append(sum([(df_test9['bath'][i] - df_real['bath'][i])**2 for i in range(len(df_real))]))\n",
    "error_list_0125.append(sum([(df_test10['bath'][i] - df_real['bath'][i])**2 for i in range(len(df_real))]))\n",
    "error_list_0125.append(sum([(df_test11['bath'][i] - df_real['bath'][i])**2 for i in range(len(df_real))]))\n",
    "print(error_list_0125)\n",
    "\n",
    "df_fixedexp = pd.read_csv('fixed_output/bed_trench_output0.125.csv')\n",
    "df_exp1 = pd.read_csv('adapt_output/bed_trench_output_0.125_2.csv')\n",
    "df_exp2 = pd.read_csv('adapt_output/bed_trench_output_0.125_5.csv')\n",
    "df_exp3 = pd.read_csv('adapt_output/bed_trench_output_0.125_10.csv')\n",
    "df_exp4 = pd.read_csv('adapt_output/bed_trench_output_0.125_15.csv')\n",
    "df_exp5 = pd.read_csv('adapt_output/bed_trench_output_0.125_17.csv')\n",
    "df_exp6 = pd.read_csv('adapt_output/bed_trench_output_0.125_20.csv')\n",
    "df_exp7 = pd.read_csv('adapt_output/bed_trench_output_0.125_25.csv')\n",
    "df_exp8 = pd.read_csv('adapt_output/bed_trench_output_0.125_30.csv')\n",
    "df_exp9 = pd.read_csv('adapt_output/bed_trench_output_0.125_40.csv')\n",
    "df_exp10 = pd.read_csv('adapt_output/bed_trench_output_0.125_50.csv')\n",
    "df_exp11 = pd.read_csv('adapt_output/bed_trench_output_0.125_60.csv')\n",
    "\n",
    "error_listexp_0125 = []\n",
    "error_listexp_0125.append(np.sqrt(sum([(df_fixedexp['bath'][i] - data[1].dropna()[i])**2 for i in range(len(df_exp1))])))\n",
    "error_listexp_0125.append(np.sqrt(sum([(df_exp1['bath'][i] - data[1].dropna()[i])**2 for i in range(len(df_exp1))])))\n",
    "error_listexp_0125.append(np.sqrt(sum([(df_exp2['bath'][i] - data[1].dropna()[i])**2 for i in range(len(df_exp1))])))\n",
    "error_listexp_0125.append(np.sqrt(sum([(df_exp3['bath'][i] - data[1].dropna()[i])**2 for i in range(len(df_exp1))])))\n",
    "error_listexp_0125.append(np.sqrt(sum([(df_exp4['bath'][i] - data[1].dropna()[i])**2 for i in range(len(df_exp1))])))\n",
    "error_listexp_0125.append(np.sqrt(sum([(df_exp5['bath'][i] - data[1].dropna()[i])**2 for i in range(len(df_exp1))])))\n",
    "error_listexp_0125.append(np.sqrt(sum([(df_exp6['bath'][i] - data[1].dropna()[i])**2 for i in range(len(df_exp1))])))\n",
    "error_listexp_0125.append(np.sqrt(sum([(df_exp7['bath'][i] - data[1].dropna()[i])**2 for i in range(len(df_exp1))])))\n",
    "error_listexp_0125.append(np.sqrt(sum([(df_exp8['bath'][i] - data[1].dropna()[i])**2 for i in range(len(df_exp1))])))\n",
    "error_listexp_0125.append(np.sqrt(sum([(df_exp9['bath'][i] - data[1].dropna()[i])**2 for i in range(len(df_exp1))])))\n",
    "error_listexp_0125.append(np.sqrt(sum([(df_exp10['bath'][i] - data[1].dropna()[i])**2 for i in range(len(df_exp1))])))\n",
    "error_listexp_0125.append(np.sqrt(sum([(df_exp11['bath'][i] - data[1].dropna()[i])**2 for i in range(len(df_exp1))])))\n",
    "\n",
    "print(error_listexp_0125)"
   ]
  },
  {
   "cell_type": "markdown",
   "metadata": {},
   "source": [
    "## 0.2"
   ]
  },
  {
   "cell_type": "code",
   "execution_count": 9,
   "metadata": {},
   "outputs": [
    {
     "name": "stdout",
     "output_type": "stream",
     "text": [
      "[0.001236688970973612, 0.001264495371710211, 0.0010590358160947643, 0.0009410422766385155, 0.0009086857041492865, 0.0008989762954890515, 0.0008855180999164777, 0.0008540887812496611, 0.0008392748066627729, 0.000822356277348152]\n",
      "[0.035964476326084065, 0.03884844045720871, 0.03687619924833769, 0.03522270415061511, 0.03502976590102983, 0.03498287050927954, 0.03482042768715947, 0.03470916770864674, 0.034724698472211574, 0.03447412021707997]\n"
     ]
    }
   ],
   "source": [
    "df_test1 = pd.read_csv('adapt_output/bed_trench_output_uni_0.2_2.csv')\n",
    "df_test2 = pd.read_csv('adapt_output/bed_trench_output_uni_0.2_5.csv')\n",
    "df_test3 = pd.read_csv('adapt_output/bed_trench_output_uni_0.2_10.csv')\n",
    "df_test4 = pd.read_csv('adapt_output/bed_trench_output_uni_0.2_15.csv')\n",
    "df_test5 = pd.read_csv('adapt_output/bed_trench_output_uni_0.2_17.csv')\n",
    "df_test6 = pd.read_csv('adapt_output/bed_trench_output_uni_0.2_20.csv')\n",
    "df_test7 = pd.read_csv('adapt_output/bed_trench_output_uni_0.2_25.csv')\n",
    "df_test8 = pd.read_csv('adapt_output/bed_trench_output_uni_0.2_30.csv')\n",
    "df_test9 = pd.read_csv('adapt_output/bed_trench_output_uni_0.2_35.csv')\n",
    "df_fixed = pd.read_csv('fixed_output/bed_trench_output_uni_0.2.csv')\n",
    "\n",
    "alpha_02 = [0, 2, 5, 10, 15, 17, 20, 25, 30, 35]\n",
    "\n",
    "error_list_02 = []\n",
    "error_list_02.append(sum([(df_fixed['bath'][i] - df_real['bath'][i])**2 for i in range(len(df_real))]))\n",
    "error_list_02.append(sum([(df_test1['bath'][i] - df_real['bath'][i])**2 for i in range(len(df_real))]))\n",
    "error_list_02.append(sum([(df_test2['bath'][i] - df_real['bath'][i])**2 for i in range(len(df_real))]))\n",
    "error_list_02.append(sum([(df_test3['bath'][i] - df_real['bath'][i])**2 for i in range(len(df_real))]))\n",
    "error_list_02.append(sum([(df_test4['bath'][i] - df_real['bath'][i])**2 for i in range(len(df_real))]))\n",
    "error_list_02.append(sum([(df_test5['bath'][i] - df_real['bath'][i])**2 for i in range(len(df_real))]))\n",
    "error_list_02.append(sum([(df_test6['bath'][i] - df_real['bath'][i])**2 for i in range(len(df_real))]))\n",
    "error_list_02.append(sum([(df_test7['bath'][i] - df_real['bath'][i])**2 for i in range(len(df_real))]))\n",
    "error_list_02.append(sum([(df_test8['bath'][i] - df_real['bath'][i])**2 for i in range(len(df_real))]))\n",
    "error_list_02.append(sum([(df_test9['bath'][i] - df_real['bath'][i])**2 for i in range(len(df_real))]))\n",
    "print(error_list_02)\n",
    "\n",
    "df_fixedexp = pd.read_csv('fixed_output/bed_trench_output0.2.csv')\n",
    "df_exp1 = pd.read_csv('adapt_output/bed_trench_output_0.2_2.csv')\n",
    "df_exp2 = pd.read_csv('adapt_output/bed_trench_output_0.2_5.csv')\n",
    "df_exp3 = pd.read_csv('adapt_output/bed_trench_output_0.2_10.csv')\n",
    "df_exp4 = pd.read_csv('adapt_output/bed_trench_output_0.2_15.csv')\n",
    "df_exp5 = pd.read_csv('adapt_output/bed_trench_output_0.2_17.csv')\n",
    "df_exp6 = pd.read_csv('adapt_output/bed_trench_output_0.2_20.csv')\n",
    "df_exp7 = pd.read_csv('adapt_output/bed_trench_output_0.2_25.csv')\n",
    "df_exp8 = pd.read_csv('adapt_output/bed_trench_output_0.2_30.csv')\n",
    "df_exp9 = pd.read_csv('adapt_output/bed_trench_output_0.2_35.csv')\n",
    "\n",
    "\n",
    "error_listexp_02 = []\n",
    "error_listexp_02.append(np.sqrt(sum([(df_fixedexp['bath'][i] - data[1].dropna()[i])**2 for i in range(len(df_exp1))])))\n",
    "error_listexp_02.append(np.sqrt(sum([(df_exp1['bath'][i] - data[1].dropna()[i])**2 for i in range(len(df_exp1))])))\n",
    "error_listexp_02.append(np.sqrt(sum([(df_exp2['bath'][i] - data[1].dropna()[i])**2 for i in range(len(df_exp1))])))\n",
    "error_listexp_02.append(np.sqrt(sum([(df_exp3['bath'][i] - data[1].dropna()[i])**2 for i in range(len(df_exp1))])))\n",
    "error_listexp_02.append(np.sqrt(sum([(df_exp4['bath'][i] - data[1].dropna()[i])**2 for i in range(len(df_exp1))])))\n",
    "error_listexp_02.append(np.sqrt(sum([(df_exp5['bath'][i] - data[1].dropna()[i])**2 for i in range(len(df_exp1))])))\n",
    "error_listexp_02.append(np.sqrt(sum([(df_exp6['bath'][i] - data[1].dropna()[i])**2 for i in range(len(df_exp1))])))\n",
    "error_listexp_02.append(np.sqrt(sum([(df_exp7['bath'][i] - data[1].dropna()[i])**2 for i in range(len(df_exp1))])))\n",
    "error_listexp_02.append(np.sqrt(sum([(df_exp8['bath'][i] - data[1].dropna()[i])**2 for i in range(len(df_exp1))])))\n",
    "error_listexp_02.append(np.sqrt(sum([(df_exp9['bath'][i] - data[1].dropna()[i])**2 for i in range(len(df_exp1))])))\n",
    "\n",
    "print(error_listexp_02)"
   ]
  },
  {
   "cell_type": "markdown",
   "metadata": {},
   "source": [
    "## 0.25"
   ]
  },
  {
   "cell_type": "code",
   "execution_count": 10,
   "metadata": {},
   "outputs": [
    {
     "name": "stdout",
     "output_type": "stream",
     "text": [
      "[6.334851567111726e-05, 4.154963893024029e-05, 3.4219900835196815e-05, 2.85125679237524e-05, 2.5396889278962607e-05, 2.422736550534211e-05, 2.4807142861301332e-05, 2.6698805148564347e-05, 3.4331134465126595e-05, 4.659900971449313e-05, 6.903107161513529e-05, 7.828955941566992e-05, 8.027566644646368e-05, 7.503571729777354e-05, 6.469138708638815e-05, 6.151613669448983e-05, 6.507961658700944e-05, 7.716639287557612e-05]\n",
      "[0.022833724536381283, 0.021794591931654676, 0.022269827496102554, 0.022264359328194976, 0.02236352422601644, 0.022196269189009923, 0.022015868003005114, 0.02194238633901037, 0.021938142063391772, 0.021654075222135114, 0.02135170986837395, 0.02106755108387846, 0.020845667512866966, 0.020897592287629597, 0.02111219808893006, 0.021096172257047643, 0.021003992480342813, 0.020718301085989058]\n"
     ]
    }
   ],
   "source": [
    "df_test1 = pd.read_csv('adapt_output/bed_trench_output_uni_0.25_2.csv')\n",
    "df_test2 = pd.read_csv('adapt_output/bed_trench_output_uni_0.25_3.csv')\n",
    "df_test3 = pd.read_csv('adapt_output/bed_trench_output_uni_0.25_4.csv')\n",
    "df_test4 = pd.read_csv('adapt_output/bed_trench_output_uni_0.25_5.csv')\n",
    "df_test5 = pd.read_csv('adapt_output/bed_trench_output_uni_0.25_6.csv')\n",
    "df_test6 = pd.read_csv('adapt_output/bed_trench_output_uni_0.25_7.csv')\n",
    "df_test7 = pd.read_csv('adapt_output/bed_trench_output_uni_0.25_8.csv')\n",
    "df_test8 = pd.read_csv('adapt_output/bed_trench_output_uni_0.25_10.csv')\n",
    "df_test9 = pd.read_csv('adapt_output/bed_trench_output_uni_0.25_12.csv')\n",
    "df_test10 = pd.read_csv('adapt_output/bed_trench_output_uni_0.25_15.csv')\n",
    "df_test11 = pd.read_csv('adapt_output/bed_trench_output_uni_0.25_17.csv')\n",
    "df_test12 = pd.read_csv('adapt_output/bed_trench_output_uni_0.25_20.csv')\n",
    "df_test13 = pd.read_csv('adapt_output/bed_trench_output_uni_0.25_25.csv')\n",
    "df_test14 = pd.read_csv('adapt_output/bed_trench_output_uni_0.25_30.csv')\n",
    "df_test15 = pd.read_csv('adapt_output/bed_trench_output_uni_0.25_35.csv')\n",
    "df_test16 = pd.read_csv('adapt_output/bed_trench_output_uni_0.25_40.csv')\n",
    "df_test17 = pd.read_csv('adapt_output/bed_trench_output_uni_0.25_50.csv')\n",
    "\n",
    "df_fixed = pd.read_csv('fixed_output/bed_trench_output_uni_0.25.csv')\n",
    "\n",
    "alpha_025 = [0, 2, 3, 4, 5, 6, 7, 8, 10, 12, 15, 17, 20, 25, 30, 35, 40, 50]\n",
    "\n",
    "error_list_025 = []\n",
    "error_list_025.append(sum([(df_fixed['bath'][i] - df_real['bath'][i])**2 for i in range(len(df_real))]))\n",
    "error_list_025.append(sum([(df_test1['bath'][i] - df_real['bath'][i])**2 for i in range(len(df_real))]))\n",
    "error_list_025.append(sum([(df_test2['bath'][i] - df_real['bath'][i])**2 for i in range(len(df_real))]))\n",
    "error_list_025.append(sum([(df_test3['bath'][i] - df_real['bath'][i])**2 for i in range(len(df_real))]))\n",
    "error_list_025.append(sum([(df_test4['bath'][i] - df_real['bath'][i])**2 for i in range(len(df_real))]))\n",
    "error_list_025.append(sum([(df_test5['bath'][i] - df_real['bath'][i])**2 for i in range(len(df_real))]))\n",
    "error_list_025.append(sum([(df_test6['bath'][i] - df_real['bath'][i])**2 for i in range(len(df_real))]))\n",
    "error_list_025.append(sum([(df_test7['bath'][i] - df_real['bath'][i])**2 for i in range(len(df_real))]))\n",
    "error_list_025.append(sum([(df_test8['bath'][i] - df_real['bath'][i])**2 for i in range(len(df_real))]))\n",
    "error_list_025.append(sum([(df_test9['bath'][i] - df_real['bath'][i])**2 for i in range(len(df_real))]))\n",
    "error_list_025.append(sum([(df_test10['bath'][i] - df_real['bath'][i])**2 for i in range(len(df_real))]))\n",
    "error_list_025.append(sum([(df_test11['bath'][i] - df_real['bath'][i])**2 for i in range(len(df_real))]))\n",
    "error_list_025.append(sum([(df_test12['bath'][i] - df_real['bath'][i])**2 for i in range(len(df_real))]))\n",
    "error_list_025.append(sum([(df_test13['bath'][i] - df_real['bath'][i])**2 for i in range(len(df_real))]))\n",
    "error_list_025.append(sum([(df_test14['bath'][i] - df_real['bath'][i])**2 for i in range(len(df_real))]))\n",
    "error_list_025.append(sum([(df_test15['bath'][i] - df_real['bath'][i])**2 for i in range(len(df_real))]))\n",
    "error_list_025.append(sum([(df_test16['bath'][i] - df_real['bath'][i])**2 for i in range(len(df_real))]))\n",
    "error_list_025.append(sum([(df_test17['bath'][i] - df_real['bath'][i])**2 for i in range(len(df_real))]))\n",
    "\n",
    "print(error_list_025)\n",
    "\n",
    "df_exp1 = pd.read_csv('adapt_output/bed_trench_output_0.25_2.csv')\n",
    "df_exp2 = pd.read_csv('adapt_output/bed_trench_output_0.25_3.csv')\n",
    "df_exp3 = pd.read_csv('adapt_output/bed_trench_output_0.25_4.csv')\n",
    "df_exp4 = pd.read_csv('adapt_output/bed_trench_output_0.25_5.csv')\n",
    "df_exp5 = pd.read_csv('adapt_output/bed_trench_output_0.25_6.csv')\n",
    "df_exp6 = pd.read_csv('adapt_output/bed_trench_output_0.25_7.csv')\n",
    "df_exp7 = pd.read_csv('adapt_output/bed_trench_output_0.25_8.csv')\n",
    "df_exp8 = pd.read_csv('adapt_output/bed_trench_output_0.25_10.csv')\n",
    "df_exp9 = pd.read_csv('adapt_output/bed_trench_output_0.25_12.csv')\n",
    "df_exp10 = pd.read_csv('adapt_output/bed_trench_output_0.25_15.csv')\n",
    "df_exp11 = pd.read_csv('adapt_output/bed_trench_output_0.25_17.csv')\n",
    "df_exp12 = pd.read_csv('adapt_output/bed_trench_output_0.25_20.csv')\n",
    "df_exp13 = pd.read_csv('adapt_output/bed_trench_output_0.25_25.csv')\n",
    "df_exp14 = pd.read_csv('adapt_output/bed_trench_output_0.25_30.csv')\n",
    "df_exp15 = pd.read_csv('adapt_output/bed_trench_output_0.25_35.csv')\n",
    "df_exp16 = pd.read_csv('adapt_output/bed_trench_output_0.25_40.csv')\n",
    "df_exp17 = pd.read_csv('adapt_output/bed_trench_output_0.25_50.csv')\n",
    "\n",
    "df_fixedexp = pd.read_csv('fixed_output/bed_trench_output0.25.csv')\n",
    "\n",
    "error_listexp_025 = []\n",
    "error_listexp_025.append(np.sqrt(sum([(df_fixedexp['bath'][i] - data[1].dropna()[i])**2 for i in range(len(df_exp1))])))\n",
    "error_listexp_025.append(np.sqrt(sum([(df_exp1['bath'][i] - data[1].dropna()[i])**2 for i in range(len(df_exp1))])))\n",
    "error_listexp_025.append(np.sqrt(sum([(df_exp2['bath'][i] - data[1].dropna()[i])**2 for i in range(len(df_exp1))])))\n",
    "error_listexp_025.append(np.sqrt(sum([(df_exp3['bath'][i] - data[1].dropna()[i])**2 for i in range(len(df_exp1))])))\n",
    "error_listexp_025.append(np.sqrt(sum([(df_exp4['bath'][i] - data[1].dropna()[i])**2 for i in range(len(df_exp1))])))\n",
    "error_listexp_025.append(np.sqrt(sum([(df_exp5['bath'][i] - data[1].dropna()[i])**2 for i in range(len(df_exp1))])))\n",
    "error_listexp_025.append(np.sqrt(sum([(df_exp6['bath'][i] - data[1].dropna()[i])**2 for i in range(len(df_exp1))])))\n",
    "error_listexp_025.append(np.sqrt(sum([(df_exp7['bath'][i] - data[1].dropna()[i])**2 for i in range(len(df_exp1))])))\n",
    "error_listexp_025.append(np.sqrt(sum([(df_exp8['bath'][i] - data[1].dropna()[i])**2 for i in range(len(df_exp1))])))\n",
    "error_listexp_025.append(np.sqrt(sum([(df_exp9['bath'][i] - data[1].dropna()[i])**2 for i in range(len(df_exp1))])))\n",
    "error_listexp_025.append(np.sqrt(sum([(df_exp10['bath'][i] - data[1].dropna()[i])**2 for i in range(len(df_exp1))])))\n",
    "error_listexp_025.append(np.sqrt(sum([(df_exp11['bath'][i] - data[1].dropna()[i])**2 for i in range(len(df_exp1))])))\n",
    "error_listexp_025.append(np.sqrt(sum([(df_exp12['bath'][i] - data[1].dropna()[i])**2 for i in range(len(df_exp1))])))\n",
    "error_listexp_025.append(np.sqrt(sum([(df_exp13['bath'][i] - data[1].dropna()[i])**2 for i in range(len(df_exp1))])))\n",
    "error_listexp_025.append(np.sqrt(sum([(df_exp14['bath'][i] - data[1].dropna()[i])**2 for i in range(len(df_exp1))])))\n",
    "error_listexp_025.append(np.sqrt(sum([(df_exp15['bath'][i] - data[1].dropna()[i])**2 for i in range(len(df_exp1))])))\n",
    "error_listexp_025.append(np.sqrt(sum([(df_exp16['bath'][i] - data[1].dropna()[i])**2 for i in range(len(df_exp1))])))\n",
    "error_listexp_025.append(np.sqrt(sum([(df_exp17['bath'][i] - data[1].dropna()[i])**2 for i in range(len(df_exp1))])))\n",
    "\n",
    "print(error_listexp_025)"
   ]
  },
  {
   "cell_type": "markdown",
   "metadata": {},
   "source": [
    "## 0.4"
   ]
  },
  {
   "cell_type": "code",
   "execution_count": 11,
   "metadata": {},
   "outputs": [
    {
     "name": "stdout",
     "output_type": "stream",
     "text": [
      "[5.8945973336926525e-06, 2.223049901212596e-06, 2.0506249244672976e-06, 2.1591166999673056e-06, 2.1582557401297723e-06, 2.283272029097226e-06, 2.4137616658836682e-06, 3.3487632288754564e-06, 5.497619318916151e-06, 8.20549546940862e-06, 1.1064889165665151e-05]\n",
      "[0.0238252033191399, 0.023903260199945795, 0.023910795329765484, 0.023807864612715942, 0.023892876336761754, 0.0238306980439675, 0.02383366337592568, 0.023831559450973122, 0.023642019367298792, 0.023337192266442656, 0.023153707493223537]\n"
     ]
    }
   ],
   "source": [
    "df_test1a = pd.read_csv('adapt_output/bed_trench_output_uni_0.4_2.csv')\n",
    "df_test1b = pd.read_csv('adapt_output/bed_trench_output_uni_0.4_3.csv')\n",
    "df_test1c = pd.read_csv('adapt_output/bed_trench_output_uni_0.4_4.csv')\n",
    "df_test3 = pd.read_csv('adapt_output/bed_trench_output_uni_0.4_5.csv')\n",
    "df_test4 = pd.read_csv('adapt_output/bed_trench_output_uni_0.4_6.csv')\n",
    "df_test5 = pd.read_csv('adapt_output/bed_trench_output_uni_0.4_7.csv')\n",
    "df_test6 = pd.read_csv('adapt_output/bed_trench_output_uni_0.4_10.csv')\n",
    "df_test7 = pd.read_csv('adapt_output/bed_trench_output_uni_0.4_15.csv')\n",
    "df_test8 = pd.read_csv('adapt_output/bed_trench_output_uni_0.4_20.csv')\n",
    "df_test9 = pd.read_csv('adapt_output/bed_trench_output_uni_0.4_25.csv')\n",
    "df_fixed = pd.read_csv('fixed_output/bed_trench_output_uni_0.4.csv')\n",
    "\n",
    "alpha_04 = [0, 2, 3, 4, 5, 6, 7, 10, 15, 20, 25]\n",
    "\n",
    "error_list_04 = []\n",
    "error_list_04.append(sum([(df_fixed['bath'][i] - df_real['bath'][i])**2 for i in range(len(df_real))]))\n",
    "error_list_04.append(sum([(df_test1a['bath'][i] - df_real['bath'][i])**2 for i in range(len(df_real))]))\n",
    "error_list_04.append(sum([(df_test1b['bath'][i] - df_real['bath'][i])**2 for i in range(len(df_real))]))\n",
    "error_list_04.append(sum([(df_test1c['bath'][i] - df_real['bath'][i])**2 for i in range(len(df_real))]))\n",
    "error_list_04.append(sum([(df_test3['bath'][i] - df_real['bath'][i])**2 for i in range(len(df_real))]))\n",
    "error_list_04.append(sum([(df_test4['bath'][i] - df_real['bath'][i])**2 for i in range(len(df_real))]))\n",
    "error_list_04.append(sum([(df_test5['bath'][i] - df_real['bath'][i])**2 for i in range(len(df_real))]))\n",
    "error_list_04.append(sum([(df_test6['bath'][i] - df_real['bath'][i])**2 for i in range(len(df_real))]))\n",
    "error_list_04.append(sum([(df_test7['bath'][i] - df_real['bath'][i])**2 for i in range(len(df_real))]))\n",
    "error_list_04.append(sum([(df_test8['bath'][i] - df_real['bath'][i])**2 for i in range(len(df_real))]))\n",
    "error_list_04.append(sum([(df_test9['bath'][i] - df_real['bath'][i])**2 for i in range(len(df_real))]))\n",
    "print(error_list_04)\n",
    "\n",
    "df_exp1a = pd.read_csv('adapt_output/bed_trench_output_0.4_2.csv')\n",
    "df_exp1b = pd.read_csv('adapt_output/bed_trench_output_0.4_3.csv')\n",
    "df_exp1c = pd.read_csv('adapt_output/bed_trench_output_0.4_4.csv')\n",
    "df_exp3 = pd.read_csv('adapt_output/bed_trench_output_0.4_5.csv')\n",
    "df_exp4 = pd.read_csv('adapt_output/bed_trench_output_0.4_6.csv')\n",
    "df_exp5 = pd.read_csv('adapt_output/bed_trench_output_0.4_7.csv')\n",
    "df_exp6 = pd.read_csv('adapt_output/bed_trench_output_0.4_10.csv')\n",
    "df_exp7 = pd.read_csv('adapt_output/bed_trench_output_0.4_15.csv')\n",
    "df_exp8 = pd.read_csv('adapt_output/bed_trench_output_0.4_20.csv')\n",
    "df_exp9 = pd.read_csv('adapt_output/bed_trench_output_0.4_25.csv')\n",
    "df_fixedexp = pd.read_csv('fixed_output/bed_trench_output0.4.csv')\n",
    "\n",
    "error_listexp_04 = []\n",
    "error_listexp_04.append(np.sqrt(sum([(df_fixedexp['bath'][i] - data[1].dropna()[i])**2 for i in range(len(df_exp1a))])))\n",
    "error_listexp_04.append(np.sqrt(sum([(df_exp1a['bath'][i] - data[1].dropna()[i])**2 for i in range(len(df_exp1a))])))\n",
    "error_listexp_04.append(np.sqrt(sum([(df_exp1b['bath'][i] - data[1].dropna()[i])**2 for i in range(len(df_exp1a))])))\n",
    "error_listexp_04.append(np.sqrt(sum([(df_exp1c['bath'][i] - data[1].dropna()[i])**2 for i in range(len(df_exp1a))])))\n",
    "error_listexp_04.append(np.sqrt(sum([(df_exp3['bath'][i] - data[1].dropna()[i])**2 for i in range(len(df_exp1a))])))\n",
    "error_listexp_04.append(np.sqrt(sum([(df_exp4['bath'][i] - data[1].dropna()[i])**2 for i in range(len(df_exp1a))])))\n",
    "error_listexp_04.append(np.sqrt(sum([(df_exp5['bath'][i] - data[1].dropna()[i])**2 for i in range(len(df_exp1a))])))\n",
    "error_listexp_04.append(np.sqrt(sum([(df_exp6['bath'][i] - data[1].dropna()[i])**2 for i in range(len(df_exp1a))])))\n",
    "error_listexp_04.append(np.sqrt(sum([(df_exp7['bath'][i] - data[1].dropna()[i])**2 for i in range(len(df_exp1a))])))\n",
    "error_listexp_04.append(np.sqrt(sum([(df_exp8['bath'][i] - data[1].dropna()[i])**2 for i in range(len(df_exp1a))])))\n",
    "error_listexp_04.append(np.sqrt(sum([(df_exp9['bath'][i] - data[1].dropna()[i])**2 for i in range(len(df_exp1a))])))\n",
    "\n",
    "print(error_listexp_04)"
   ]
  },
  {
   "cell_type": "markdown",
   "metadata": {},
   "source": [
    "## 0.5"
   ]
  },
  {
   "cell_type": "code",
   "execution_count": 12,
   "metadata": {},
   "outputs": [
    {
     "name": "stdout",
     "output_type": "stream",
     "text": [
      "[4.21457323985822e-06, 2.0663698324456648e-06, 1.8739846384167022e-06, 1.7611453021456051e-06, 1.698473662787335e-06, 1.6624644538490017e-06, 1.7240284495028687e-06, 1.696925619027104e-06, 1.7017275080280525e-06, 1.814524508167164e-06, 1.9038772462807077e-06, 1.96177439670738e-06, 2.146348630660421e-06, 2.4088816791068664e-06, 2.9034363721460965e-06, 3.487324066515075e-06, 4.271425277210341e-06, 5.869325691408417e-06]\n",
      "[0.024061283997123914, 0.02402573520054738, 0.02404272978782762, 0.023814084637151046, 0.02411004668191368, 0.023829775852687255, 0.023763581740853208, 0.02389910717331791, 0.023848074074777036, 0.023809403675077355, 0.023864681635586926, 0.023844456267259388, 0.023733918379116575, 0.02376688502588442, 0.023648073080390086, 0.023602407407966965, 0.023546302937249214, 0.023392901984391628]\n"
     ]
    }
   ],
   "source": [
    "df_test1 = pd.read_csv('adapt_output/bed_trench_output_uni_0.5_2.csv')\n",
    "df_test2 = pd.read_csv('adapt_output/bed_trench_output_uni_0.5_3.csv')\n",
    "df_test3 = pd.read_csv('adapt_output/bed_trench_output_uni_0.5_4.csv')\n",
    "df_test4 = pd.read_csv('adapt_output/bed_trench_output_uni_0.5_5.csv')\n",
    "df_test5 = pd.read_csv('adapt_output/bed_trench_output_uni_0.5_6.csv')\n",
    "df_test6 = pd.read_csv('adapt_output/bed_trench_output_uni_0.5_7.csv')\n",
    "df_test7 = pd.read_csv('adapt_output/bed_trench_output_uni_0.5_8.csv')\n",
    "df_test8 = pd.read_csv('adapt_output/bed_trench_output_uni_0.5_10.csv')\n",
    "df_test9 = pd.read_csv('adapt_output/bed_trench_output_uni_0.5_12.csv')\n",
    "df_test10 = pd.read_csv('adapt_output/bed_trench_output_uni_0.5_15.csv')\n",
    "df_test11 = pd.read_csv('adapt_output/bed_trench_output_uni_0.5_17.csv')\n",
    "df_test12 = pd.read_csv('adapt_output/bed_trench_output_uni_0.5_20.csv')\n",
    "df_test13 = pd.read_csv('adapt_output/bed_trench_output_uni_0.5_25.csv')\n",
    "df_test14 = pd.read_csv('adapt_output/bed_trench_output_uni_0.5_30.csv')\n",
    "df_test15 = pd.read_csv('adapt_output/bed_trench_output_uni_0.5_35.csv')\n",
    "df_test16 = pd.read_csv('adapt_output/bed_trench_output_uni_0.5_40.csv')\n",
    "df_test17 = pd.read_csv('adapt_output/bed_trench_output_uni_0.5_50.csv')\n",
    "\n",
    "df_fixed = pd.read_csv('fixed_output/bed_trench_output_uni_0.5.csv')\n",
    "\n",
    "alpha_05 = [0, 2, 3, 4, 5, 6, 7, 8, 10, 12, 15, 17, 20, 25, 30, 35, 40, 50]\n",
    "\n",
    "error_list_05 = []\n",
    "error_list_05.append(sum([(df_fixed['bath'][i] - df_real['bath'][i])**2 for i in range(len(df_real))]))\n",
    "error_list_05.append(sum([(df_test1['bath'][i] - df_real['bath'][i])**2 for i in range(len(df_real))]))\n",
    "error_list_05.append(sum([(df_test2['bath'][i] - df_real['bath'][i])**2 for i in range(len(df_real))]))\n",
    "error_list_05.append(sum([(df_test3['bath'][i] - df_real['bath'][i])**2 for i in range(len(df_real))]))\n",
    "error_list_05.append(sum([(df_test4['bath'][i] - df_real['bath'][i])**2 for i in range(len(df_real))]))\n",
    "error_list_05.append(sum([(df_test5['bath'][i] - df_real['bath'][i])**2 for i in range(len(df_real))]))\n",
    "error_list_05.append(sum([(df_test6['bath'][i] - df_real['bath'][i])**2 for i in range(len(df_real))]))\n",
    "error_list_05.append(sum([(df_test7['bath'][i] - df_real['bath'][i])**2 for i in range(len(df_real))]))\n",
    "error_list_05.append(sum([(df_test8['bath'][i] - df_real['bath'][i])**2 for i in range(len(df_real))]))\n",
    "error_list_05.append(sum([(df_test9['bath'][i] - df_real['bath'][i])**2 for i in range(len(df_real))]))\n",
    "error_list_05.append(sum([(df_test10['bath'][i] - df_real['bath'][i])**2 for i in range(len(df_real))]))\n",
    "error_list_05.append(sum([(df_test11['bath'][i] - df_real['bath'][i])**2 for i in range(len(df_real))]))\n",
    "error_list_05.append(sum([(df_test12['bath'][i] - df_real['bath'][i])**2 for i in range(len(df_real))]))\n",
    "error_list_05.append(sum([(df_test13['bath'][i] - df_real['bath'][i])**2 for i in range(len(df_real))]))\n",
    "error_list_05.append(sum([(df_test14['bath'][i] - df_real['bath'][i])**2 for i in range(len(df_real))]))\n",
    "error_list_05.append(sum([(df_test15['bath'][i] - df_real['bath'][i])**2 for i in range(len(df_real))]))\n",
    "error_list_05.append(sum([(df_test16['bath'][i] - df_real['bath'][i])**2 for i in range(len(df_real))]))\n",
    "error_list_05.append(sum([(df_test17['bath'][i] - df_real['bath'][i])**2 for i in range(len(df_real))]))\n",
    "\n",
    "print(error_list_05)\n",
    "\n",
    "df_exp1 = pd.read_csv('adapt_output/bed_trench_output_0.5_2.csv')\n",
    "df_exp2 = pd.read_csv('adapt_output/bed_trench_output_0.5_3.csv')\n",
    "df_exp3 = pd.read_csv('adapt_output/bed_trench_output_0.5_4.csv')\n",
    "df_exp4 = pd.read_csv('adapt_output/bed_trench_output_0.5_5.csv')\n",
    "df_exp5 = pd.read_csv('adapt_output/bed_trench_output_0.5_6.csv')\n",
    "df_exp6 = pd.read_csv('adapt_output/bed_trench_output_0.5_7.csv')\n",
    "df_exp7 = pd.read_csv('adapt_output/bed_trench_output_0.5_8.csv')\n",
    "df_exp8 = pd.read_csv('adapt_output/bed_trench_output_0.5_10.csv')\n",
    "df_exp9 = pd.read_csv('adapt_output/bed_trench_output_0.5_12.csv')\n",
    "df_exp10 = pd.read_csv('adapt_output/bed_trench_output_0.5_15.csv')\n",
    "df_exp11 = pd.read_csv('adapt_output/bed_trench_output_0.5_17.csv')\n",
    "df_exp12 = pd.read_csv('adapt_output/bed_trench_output_0.5_20.csv')\n",
    "df_exp13 = pd.read_csv('adapt_output/bed_trench_output_0.5_25.csv')\n",
    "df_exp14 = pd.read_csv('adapt_output/bed_trench_output_0.5_30.csv')\n",
    "df_exp15 = pd.read_csv('adapt_output/bed_trench_output_0.5_35.csv')\n",
    "df_exp16 = pd.read_csv('adapt_output/bed_trench_output_0.5_40.csv')\n",
    "df_exp17 = pd.read_csv('adapt_output/bed_trench_output_0.5_50.csv')\n",
    "\n",
    "df_fixedexp = pd.read_csv('fixed_output/bed_trench_output0.5.csv')\n",
    "\n",
    "error_listexp_05 = []\n",
    "error_listexp_05.append(np.sqrt(sum([(df_fixedexp['bath'][i] - data[1].dropna()[i])**2 for i in range(len(df_exp1))])))\n",
    "error_listexp_05.append(np.sqrt(sum([(df_exp1['bath'][i] - data[1].dropna()[i])**2 for i in range(len(df_exp1))])))\n",
    "error_listexp_05.append(np.sqrt(sum([(df_exp2['bath'][i] - data[1].dropna()[i])**2 for i in range(len(df_exp1))])))\n",
    "error_listexp_05.append(np.sqrt(sum([(df_exp3['bath'][i] - data[1].dropna()[i])**2 for i in range(len(df_exp1))])))\n",
    "error_listexp_05.append(np.sqrt(sum([(df_exp4['bath'][i] - data[1].dropna()[i])**2 for i in range(len(df_exp1))])))\n",
    "error_listexp_05.append(np.sqrt(sum([(df_exp5['bath'][i] - data[1].dropna()[i])**2 for i in range(len(df_exp1))])))\n",
    "error_listexp_05.append(np.sqrt(sum([(df_exp6['bath'][i] - data[1].dropna()[i])**2 for i in range(len(df_exp1))])))\n",
    "error_listexp_05.append(np.sqrt(sum([(df_exp7['bath'][i] - data[1].dropna()[i])**2 for i in range(len(df_exp1))])))\n",
    "error_listexp_05.append(np.sqrt(sum([(df_exp8['bath'][i] - data[1].dropna()[i])**2 for i in range(len(df_exp1))])))\n",
    "error_listexp_05.append(np.sqrt(sum([(df_exp9['bath'][i] - data[1].dropna()[i])**2 for i in range(len(df_exp1))])))\n",
    "error_listexp_05.append(np.sqrt(sum([(df_exp10['bath'][i] - data[1].dropna()[i])**2 for i in range(len(df_exp1))])))\n",
    "error_listexp_05.append(np.sqrt(sum([(df_exp11['bath'][i] - data[1].dropna()[i])**2 for i in range(len(df_exp1))])))\n",
    "error_listexp_05.append(np.sqrt(sum([(df_exp12['bath'][i] - data[1].dropna()[i])**2 for i in range(len(df_exp1))])))\n",
    "error_listexp_05.append(np.sqrt(sum([(df_exp13['bath'][i] - data[1].dropna()[i])**2 for i in range(len(df_exp1))])))\n",
    "error_listexp_05.append(np.sqrt(sum([(df_exp14['bath'][i] - data[1].dropna()[i])**2 for i in range(len(df_exp1))])))\n",
    "error_listexp_05.append(np.sqrt(sum([(df_exp15['bath'][i] - data[1].dropna()[i])**2 for i in range(len(df_exp1))])))\n",
    "error_listexp_05.append(np.sqrt(sum([(df_exp16['bath'][i] - data[1].dropna()[i])**2 for i in range(len(df_exp1))])))\n",
    "error_listexp_05.append(np.sqrt(sum([(df_exp17['bath'][i] - data[1].dropna()[i])**2 for i in range(len(df_exp1))])))\n",
    "\n",
    "print(error_listexp_05)"
   ]
  },
  {
   "cell_type": "markdown",
   "metadata": {},
   "source": [
    "## 0.8"
   ]
  },
  {
   "cell_type": "code",
   "execution_count": 21,
   "metadata": {},
   "outputs": [
    {
     "name": "stdout",
     "output_type": "stream",
     "text": [
      "[3.710790997305431e-07, 2.31552893132307e-07, 2.4192277137131847e-07, 2.6143464086781456e-07, 2.5626106340823307e-07, 2.671653855884939e-07, 2.76503817673698e-07, 2.8169786742478605e-07]\n",
      "[0.02429054299109877, 0.02425319116128688, 0.024244203715575265, 0.024278237415596968, 0.02428548984788371, 0.02424390110432947, 0.024261228565063096, 0.024243753942913795]\n"
     ]
    }
   ],
   "source": [
    "df_test1 = pd.read_csv('adapt_output/bed_trench_output_uni_0.8_1.csv')\n",
    "df_test2 = pd.read_csv('adapt_output/bed_trench_output_uni_0.8_2.csv')\n",
    "df_test3 = pd.read_csv('adapt_output/bed_trench_output_uni_0.8_3.csv')\n",
    "df_test4 = pd.read_csv('adapt_output/bed_trench_output_uni_0.8_4.csv')\n",
    "df_test5 = pd.read_csv('adapt_output/bed_trench_output_uni_0.8_5.csv')\n",
    "df_test6 = pd.read_csv('adapt_output/bed_trench_output_uni_0.8_6.csv')\n",
    "df_test7 = pd.read_csv('adapt_output/bed_trench_output_uni_0.8_7.csv')\n",
    "df_fixed = pd.read_csv('fixed_output/bed_trench_output_uni_0.8.csv')\n",
    "\n",
    "alpha_08 = [0, 1, 2, 3, 4, 5, 6, 7]\n",
    "\n",
    "error_list_08 = []\n",
    "error_list_08.append(sum([(df_fixed['bath'][i] - df_real['bath'][i])**2 for i in range(len(df_real))]))\n",
    "error_list_08.append(sum([(df_test1['bath'][i] - df_real['bath'][i])**2 for i in range(len(df_real))]))\n",
    "error_list_08.append(sum([(df_test2['bath'][i] - df_real['bath'][i])**2 for i in range(len(df_real))]))\n",
    "error_list_08.append(sum([(df_test3['bath'][i] - df_real['bath'][i])**2 for i in range(len(df_real))]))\n",
    "error_list_08.append(sum([(df_test4['bath'][i] - df_real['bath'][i])**2 for i in range(len(df_real))]))\n",
    "error_list_08.append(sum([(df_test5['bath'][i] - df_real['bath'][i])**2 for i in range(len(df_real))]))\n",
    "error_list_08.append(sum([(df_test6['bath'][i] - df_real['bath'][i])**2 for i in range(len(df_real))]))\n",
    "error_list_08.append(sum([(df_test7['bath'][i] - df_real['bath'][i])**2 for i in range(len(df_real))]))\n",
    "print(error_list_08)\n",
    "\n",
    "df_exp1 = pd.read_csv('adapt_output/bed_trench_output_0.8_1.csv')\n",
    "df_exp2 = pd.read_csv('adapt_output/bed_trench_output_0.8_2.csv')\n",
    "df_exp3 = pd.read_csv('adapt_output/bed_trench_output_0.8_3.csv')\n",
    "df_exp4 = pd.read_csv('adapt_output/bed_trench_output_0.8_4.csv')\n",
    "df_exp5 = pd.read_csv('adapt_output/bed_trench_output_0.8_5.csv')\n",
    "df_exp6 = pd.read_csv('adapt_output/bed_trench_output_0.8_6.csv')\n",
    "df_exp7 = pd.read_csv('adapt_output/bed_trench_output_0.8_7.csv')\n",
    "df_fixedexp = pd.read_csv('fixed_output/bed_trench_output0.8.csv')\n",
    "\n",
    "error_listexp_08 = []\n",
    "error_listexp_08.append(np.sqrt(sum([(df_fixedexp['bath'][i] - data[1].dropna()[i])**2 for i in range(len(df_exp1))])))\n",
    "error_listexp_08.append(np.sqrt(sum([(df_exp1['bath'][i] - data[1].dropna()[i])**2 for i in range(len(df_exp1))])))\n",
    "error_listexp_08.append(np.sqrt(sum([(df_exp2['bath'][i] - data[1].dropna()[i])**2 for i in range(len(df_exp1))])))\n",
    "error_listexp_08.append(np.sqrt(sum([(df_exp3['bath'][i] - data[1].dropna()[i])**2 for i in range(len(df_exp1))])))\n",
    "error_listexp_08.append(np.sqrt(sum([(df_exp4['bath'][i] - data[1].dropna()[i])**2 for i in range(len(df_exp1))])))\n",
    "error_listexp_08.append(np.sqrt(sum([(df_exp5['bath'][i] - data[1].dropna()[i])**2 for i in range(len(df_exp1))])))\n",
    "error_listexp_08.append(np.sqrt(sum([(df_exp6['bath'][i] - data[1].dropna()[i])**2 for i in range(len(df_exp1))])))\n",
    "error_listexp_08.append(np.sqrt(sum([(df_exp7['bath'][i] - data[1].dropna()[i])**2 for i in range(len(df_exp1))])))\n",
    "\n",
    "print(error_listexp_08)"
   ]
  },
  {
   "cell_type": "markdown",
   "metadata": {},
   "source": [
    "## 1.0"
   ]
  },
  {
   "cell_type": "code",
   "execution_count": 31,
   "metadata": {},
   "outputs": [
    {
     "name": "stdout",
     "output_type": "stream",
     "text": [
      "[1.2977804019351562e-06, 1.0962697175190465e-06, 1.0500095975560078e-06, 1.0087766153132687e-06, 1.0050510452474044e-06, 1.0636301746070196e-06]\n",
      "[0.024640979288356964, 0.024670108572533087, 0.024622400443021903, 0.024640920304511947, 0.02466159760923689, 0.024646713844936614]\n"
     ]
    }
   ],
   "source": [
    "df_test1 = pd.read_csv('adapt_output/bed_trench_output_uni_1_2.csv')\n",
    "df_test2 = pd.read_csv('adapt_output/bed_trench_output_uni_1_4.csv')\n",
    "df_test3 = pd.read_csv('adapt_output/bed_trench_output_uni_1_5.csv')\n",
    "df_test4 = pd.read_csv('adapt_output/bed_trench_output_uni_1_6.csv')\n",
    "df_test5 = pd.read_csv('adapt_output/bed_trench_output_uni_1_7.csv')\n",
    "df_fixed = pd.read_csv('fixed_output/bed_trench_output_uni_1.csv')\n",
    "\n",
    "alpha_1 = [0, 2, 4, 5, 6, 7]\n",
    "\n",
    "error_list_1 = []\n",
    "error_list_1.append(sum([(df_fixed['bath'][i] - df_real['bath'][i])**2 for i in range(len(df_real))]))\n",
    "error_list_1.append(sum([(df_test1['bath'][i] - df_real['bath'][i])**2 for i in range(len(df_real))]))\n",
    "error_list_1.append(sum([(df_test2['bath'][i] - df_real['bath'][i])**2 for i in range(len(df_real))]))\n",
    "error_list_1.append(sum([(df_test3['bath'][i] - df_real['bath'][i])**2 for i in range(len(df_real))]))\n",
    "error_list_1.append(sum([(df_test4['bath'][i] - df_real['bath'][i])**2 for i in range(len(df_real))]))\n",
    "error_list_1.append(sum([(df_test5['bath'][i] - df_real['bath'][i])**2 for i in range(len(df_real))]))\n",
    "print(error_list_1)\n",
    "\n",
    "df_exp1 = pd.read_csv('adapt_output/bed_trench_output_1_2.csv')\n",
    "df_exp2 = pd.read_csv('adapt_output/bed_trench_output_1_4.csv')\n",
    "df_exp3 = pd.read_csv('adapt_output/bed_trench_output_1_5.csv')\n",
    "df_exp4 = pd.read_csv('adapt_output/bed_trench_output_1_6.csv')\n",
    "df_exp5 = pd.read_csv('adapt_output/bed_trench_output_1_7.csv')\n",
    "df_fixedexp = pd.read_csv('fixed_output/bed_trench_output1.csv')\n",
    "\n",
    "error_listexp_1 = []\n",
    "error_listexp_1.append(np.sqrt(sum([(df_fixedexp['bath'][i] - data[1].dropna()[i])**2 for i in range(len(df_exp1))])))\n",
    "error_listexp_1.append(np.sqrt(sum([(df_exp1['bath'][i] - data[1].dropna()[i])**2 for i in range(len(df_exp1))])))\n",
    "error_listexp_1.append(np.sqrt(sum([(df_exp2['bath'][i] - data[1].dropna()[i])**2 for i in range(len(df_exp1))])))\n",
    "error_listexp_1.append(np.sqrt(sum([(df_exp3['bath'][i] - data[1].dropna()[i])**2 for i in range(len(df_exp1))])))\n",
    "error_listexp_1.append(np.sqrt(sum([(df_exp4['bath'][i] - data[1].dropna()[i])**2 for i in range(len(df_exp1))])))\n",
    "error_listexp_1.append(np.sqrt(sum([(df_exp5['bath'][i] - data[1].dropna()[i])**2 for i in range(len(df_exp1))])))\n",
    "\n",
    "print(error_listexp_1)"
   ]
  },
  {
   "cell_type": "code",
   "execution_count": 47,
   "metadata": {},
   "outputs": [
    {
     "data": {
      "image/png": "[encoded data removed]",
      "text/plain": [
       "<Figure size 432x288 with 1 Axes>"
      ]
     },
     "metadata": {
      "needs_background": "light"
     },
     "output_type": "display_data"
    },
    {
     "data": {
      "image/png": "[encoded data removed]",
      "text/plain": [
       "<Figure size 432x288 with 1 Axes>"
      ]
     },
     "metadata": {
      "needs_background": "light"
     },
     "output_type": "display_data"
    }
   ],
   "source": [
    "plt.semilogy(alpha_025, error_list_025, '-o', label = r\"$\\Delta x = 0.8m$\")\n",
    "#plt.semilogy(alpha_02, error_list_02, '-o', label = r\"$\\Delta x = 1m$\")\n",
    "plt.semilogy(alpha_0125, error_list_0125, '-o', label = r\"$\\Delta x = 1.6m$\")\n",
    "plt.semilogy(alpha_01, error_list_01, '-o', label = r\"$\\Delta x = 2m$\")\n",
    "plt.xlim([-1, 60])\n",
    "plt.grid()\n",
    "plt.xlabel(r\"$\\alpha$\")\n",
    "plt.ylabel(\"Pointwise L2 error norm\")\n",
    "plt.legend()\n",
    "plt.show()\n",
    "plt.semilogy(alpha_1, error_list_1, '-o', label = r\"$\\Delta x = 0.2m$\")\n",
    "plt.semilogy(alpha_08, error_list_08, '-o', label = r\"$\\Delta x = 0.25m$\")\n",
    "plt.semilogy(alpha_05, error_list_05, '-o', label = r\"$\\Delta x = 0.4m$\")\n",
    "plt.semilogy(alpha_04, error_list_04, '-o', label = r\"$\\Delta x = 0.5m$\")\n",
    "plt.semilogy(alpha_025, error_list_025, '-o', label = r\"$\\Delta x = 0.8m$\")\n",
    "#plt.plot(alpha_02, error_list_02, '-o', label = r\"$\\Delta x = 1m$\")\n",
    "#plt.semilogy(alpha_0125, error_list_0125, '-o', label = r\"$\\Delta x = 1.6m$\")\n",
    "#plt.semilogy(alpha_01, error_list_01, '-o', label = r\"$\\Delta x = 2m$\")\n",
    "\n",
    "plt.xlabel(r\"$\\alpha$\")\n",
    "plt.ylabel(\"Pointwise L2 error norm\")\n",
    "plt.grid()\n",
    "plt.xlim([-1, 60])\n",
    "plt.legend(loc = 5)\n",
    "plt.show()"
   ]
  },
  {
   "cell_type": "code",
   "execution_count": 41,
   "metadata": {},
   "outputs": [
    {
     "data": {
      "image/png": "[encoded data removed]",
      "text/plain": [
       "<Figure size 432x288 with 1 Axes>"
      ]
     },
     "metadata": {
      "needs_background": "light"
     },
     "output_type": "display_data"
    }
   ],
   "source": [
    "#plt.plot(alpha_02, error_listexp_02, '-o', label = r\"$\\Delta x = 1m$\")\n",
    "#plt.plot(alpha_025, error_listexp_025, '-o', label = r\"$\\Delta x = 0.8m$\")\n",
    "#plt.plot(alpha_0125, error_listexp_0125, '-o', label = r\"$\\Delta x = 1.6m$\")\n",
    "#plt.plot(alpha_01, error_listexp_01, '-o', label = r\"$\\Delta x = 2m$\")\n",
    "#plt.xlim([-1, 60])\n",
    "#plt.xlabel(r\"$\\alpha$\")\n",
    "#plt.ylabel(\"Pointwise L2 error norm\")\n",
    "#plt.legend()\n",
    "#plt.show()\n",
    "plt.plot(alpha_1, error_listexp_1, '-o', label = r\"$\\Delta x = 0.2m$\")\n",
    "plt.plot(alpha_08, error_listexp_08, '-o', label = r\"$\\Delta x = 0.25m$\")\n",
    "plt.plot(alpha_05, error_listexp_05, '-o', label = r\"$\\Delta x = 0.4m$\")\n",
    "plt.plot(alpha_04, error_listexp_04, '-o', label = r\"$\\Delta x = 0.5m$\")\n",
    "plt.plot(alpha_025, error_listexp_025, '-o', label = r\"$\\Delta x = 0.8m$\")\n",
    "plt.plot(alpha_0125, error_listexp_0125, '-o', label = r\"$\\Delta x = 1.6m$\")\n",
    "plt.plot(alpha_01, error_listexp_01, '-o', label = r\"$\\Delta x = 2m$\")\n",
    "plt.xlim([-1, 60])\n",
    "plt.grid()\n",
    "plt.xlabel(r\"$\\alpha$\")\n",
    "plt.ylabel(\"Pointwise L2 error norm\")\n",
    "plt.legend()\n",
    "plt.show()"
   ]
  },
  {
   "cell_type": "code",
   "execution_count": 49,
   "metadata": {},
   "outputs": [
    {
     "name": "stdout",
     "output_type": "stream",
     "text": [
      "[6.706764148746627e-08, 1.2977804019351562e-06, 3.710790997305431e-07, 4.21457323985822e-06, 5.8945973336926525e-06, 6.334851567111726e-05, 0.0034172450505107954, 0.004990368711669865]\n"
     ]
    },
    {
     "data": {
      "image/png": "[encoded data removed]",
      "text/plain": [
       "<Figure size 432x288 with 1 Axes>"
      ]
     },
     "metadata": {
      "needs_background": "light"
     },
     "output_type": "display_data"
    },
    {
     "name": "stdout",
     "output_type": "stream",
     "text": [
      "3.87193575992117\n"
     ]
    },
    {
     "data": {
      "image/png": "[encoded data removed]",
      "text/plain": [
       "<Figure size 432x288 with 1 Axes>"
      ]
     },
     "metadata": {
      "needs_background": "light"
     },
     "output_type": "display_data"
    }
   ],
   "source": [
    "## fixed mesh \n",
    "#!/usr/bin/env python3\n",
    "# -*- coding: utf-8 -*-\n",
    "\"\"\"\n",
    "Created on Sun May  3 17:37:12 2020\n",
    "\n",
    "@author: mc4117\n",
    "\"\"\"\n",
    "\n",
    "import pandas as pd\n",
    "import pylab as plt\n",
    "import numpy as np\n",
    "\n",
    "df_real = pd.read_csv('fixed_output/bed_trench_output_uni_4.csv')\n",
    "df_real1 = pd.read_csv('fixed_output/bed_trench_output_uni_2.0.csv')\n",
    "df_real2 = pd.read_csv('fixed_output/bed_trench_output_uni_1.csv')\n",
    "df_real3 = pd.read_csv('fixed_output/bed_trench_output_uni_0.8.csv')\n",
    "df_real4 = pd.read_csv('fixed_output/bed_trench_output_uni_0.5.csv')\n",
    "df_real5 = pd.read_csv('fixed_output/bed_trench_output_uni_0.4.csv')\n",
    "df_real6 = pd.read_csv('fixed_output/bed_trench_output_uni_0.25.csv')\n",
    "#df_real7 = pd.read_csv('fixed_output/bed_trench_output_uni_0.2.csv')\n",
    "df_real8 = pd.read_csv('fixed_output/bed_trench_output_uni_0.125.csv')\n",
    "df_real9 = pd.read_csv('fixed_output/bed_trench_output_uni_0.1.csv')\n",
    "\n",
    "error_list = []\n",
    "#error_list.append(0.0)\n",
    "error_list.append(sum([(df_real1['bath'][i] - df_real['bath'][i])**2 for i in range(len(df_real))]))\n",
    "error_list.append(sum([(df_real2['bath'][i] - df_real['bath'][i])**2 for i in range(len(df_real))]))\n",
    "error_list.append(sum([(df_real3['bath'][i] - df_real['bath'][i])**2 for i in range(len(df_real))]))\n",
    "error_list.append(sum([(df_real4['bath'][i] - df_real['bath'][i])**2 for i in range(len(df_real))]))\n",
    "error_list.append(sum([(df_real5['bath'][i] - df_real['bath'][i])**2 for i in range(len(df_real))]))\n",
    "error_list.append(sum([(df_real6['bath'][i] - df_real['bath'][i])**2 for i in range(len(df_real))]))\n",
    "#error_list.append(sum([(df_real7['bath'][i] - df_real['bath'][i])**2 for i in range(len(df_real))]))\n",
    "error_list.append(sum([(df_real8['bath'][i] - df_real['bath'][i])**2 for i in range(len(df_real))]))\n",
    "error_list.append(sum([(df_real9['bath'][i] - df_real['bath'][i])**2 for i in range(len(df_real))]))\n",
    "print(error_list)\n",
    "\n",
    "error_list_con = []\n",
    "error_list_con.append(sum([(df_real2['bath'][i] - df_real['bath'][i])**2 for i in range(len(df_real))]))\n",
    "error_list_con.append(sum([(df_real4['bath'][i] - df_real['bath'][i])**2 for i in range(len(df_real))]))\n",
    "error_list_con.append(sum([(df_real6['bath'][i] - df_real['bath'][i])**2 for i in range(len(df_real))]))\n",
    "error_list_con.append(sum([(df_real8['bath'][i] - df_real['bath'][i])**2 for i in range(len(df_real))]))\n",
    "\n",
    "error_list_con2 = []\n",
    "error_list_con2.append(sum([(df_real3['bath'][i] - df_real['bath'][i])**2 for i in range(len(df_real))]))\n",
    "error_list_con2.append(sum([(df_real5['bath'][i] - df_real['bath'][i])**2 for i in range(len(df_real))]))\n",
    "#error_list_con2.append(sum([(df_real7['bath'][i] - df_real['bath'][i])**2 for i in range(len(df_real))]))\n",
    "error_list_con2.append(sum([(df_real9['bath'][i] - df_real['bath'][i])**2 for i in range(len(df_real))]))\n",
    "\n",
    "plt.loglog([0.1, 0.2, 0.25, 0.4, 0.5, 0.8, 1.6, 2], error_list, '-o')\n",
    "plt.loglog([0.2, 0.4, 0.8, 1.6], error_list_con, 'o')\n",
    "plt.loglog([0.25, 0.5, 2], error_list_con2, 'o')\n",
    "plt.ylabel('Error norm (m)')\n",
    "plt.xlabel(r'$\\Delta x$ (m)')\n",
    "plt.show()\n",
    "\n",
    "\n",
    "logx = np.log([0.1, 0.2, 0.25, 0.4, 0.5, 0.8, 1.6, 2])\n",
    "log_error = np.log(error_list)\n",
    "poly = np.polyfit(logx, log_error, 1)\n",
    "print(poly[0])\n",
    "\n",
    "\n",
    "data = pd.read_csv('experimental_data.csv', header=None)\n",
    "df_exp = pd.read_csv('fixed_output/bed_trench_output4.csv')\n",
    "df_exp1 = pd.read_csv('fixed_output/bed_trench_output2.0.csv')\n",
    "df_exp2 = pd.read_csv('fixed_output/bed_trench_output1.csv')\n",
    "df_exp3 = pd.read_csv('fixed_output/bed_trench_output0.8.csv')\n",
    "df_exp4 = pd.read_csv('fixed_output/bed_trench_output0.5.csv')\n",
    "df_exp5 = pd.read_csv('fixed_output/bed_trench_output0.4.csv')\n",
    "df_exp6 = pd.read_csv('fixed_output/bed_trench_output0.25.csv')\n",
    "#df_exp7 = pd.read_csv('fixed_output/bed_trench_output0.2.csv')\n",
    "df_exp8 = pd.read_csv('fixed_output/bed_trench_output0.125.csv')\n",
    "df_exp9 = pd.read_csv('fixed_output/bed_trench_output0.1.csv')\n",
    "\n",
    "error_listexp = []\n",
    "error_listexp.append(np.sqrt(sum([(df_exp['bath'][i] - data[1].dropna()[i])**2 for i in range(len(df_exp))])))\n",
    "error_listexp.append(np.sqrt(sum([(df_exp1['bath'][i] - data[1].dropna()[i])**2 for i in range(len(df_exp))])))\n",
    "error_listexp.append(np.sqrt(sum([(df_exp2['bath'][i] - data[1].dropna()[i])**2 for i in range(len(df_exp))])))\n",
    "error_listexp.append(np.sqrt(sum([(df_exp3['bath'][i] - data[1].dropna()[i])**2 for i in range(len(df_exp))])))\n",
    "error_listexp.append(np.sqrt(sum([(df_exp4['bath'][i] - data[1].dropna()[i])**2 for i in range(len(df_exp))])))\n",
    "error_listexp.append(np.sqrt(sum([(df_exp5['bath'][i] - data[1].dropna()[i])**2 for i in range(len(df_exp))])))\n",
    "error_listexp.append(np.sqrt(sum([(df_exp6['bath'][i] - data[1].dropna()[i])**2 for i in range(len(df_exp))])))\n",
    "#error_listexp.append(np.sqrt(sum([(df_exp7['bath'][i] - data[1].dropna()[i])**2 for i in range(len(df_exp))])))\n",
    "error_listexp.append(np.sqrt(sum([(df_exp8['bath'][i] - data[1].dropna()[i])**2 for i in range(len(df_exp))])))\n",
    "error_listexp.append(np.sqrt(sum([(df_exp9['bath'][i] - data[1].dropna()[i])**2 for i in range(len(df_exp))])))\n",
    "\n",
    "error_listexp_con = []\n",
    "error_listexp_con.append(np.sqrt(sum([(df_exp2['bath'][i] - data[1].dropna()[i])**2 for i in range(len(df_exp))])))\n",
    "error_listexp_con.append(np.sqrt(sum([(df_exp4['bath'][i] - data[1].dropna()[i])**2 for i in range(len(df_exp))])))\n",
    "error_listexp_con.append(np.sqrt(sum([(df_exp6['bath'][i] - data[1].dropna()[i])**2 for i in range(len(df_exp))])))\n",
    "error_listexp_con.append(np.sqrt(sum([(df_exp8['bath'][i] - data[1].dropna()[i])**2 for i in range(len(df_exp))])))\n",
    "\n",
    "error_listexp_con2 = []\n",
    "error_listexp_con2.append(np.sqrt(sum([(df_exp3['bath'][i] - data[1].dropna()[i])**2 for i in range(len(df_exp))])))\n",
    "error_listexp_con2.append(np.sqrt(sum([(df_exp5['bath'][i] - data[1].dropna()[i])**2 for i in range(len(df_exp))])))\n",
    "#error_listexp_con2.append(np.sqrt(sum([(df_exp7['bath'][i] - data[1].dropna()[i])**2 for i in range(len(df_exp))])))\n",
    "error_listexp_con2.append(np.sqrt(sum([(df_exp9['bath'][i] - data[1].dropna()[i])**2 for i in range(len(df_exp))])))\n",
    "\n",
    "\n",
    "plt.loglog([0.05, 0.1, 0.2, 0.25, 0.4, 0.5, 0.8, 1.6, 2], error_listexp, '-o')\n",
    "plt.loglog([0.2, 0.4, 0.8, 1.6], error_listexp_con, 'o')\n",
    "plt.loglog([0.25, 0.5, 2], error_listexp_con2, 'o')\n",
    "plt.ylabel('Error norm (m)')\n",
    "plt.xlabel(r'$\\Delta x$ (m)')\n",
    "plt.show()\n"
   ]
  },
  {
   "cell_type": "code",
   "execution_count": 51,
   "metadata": {},
   "outputs": [
    {
     "data": {
      "text/plain": [
       "Text(0.5,0,'$\\\\Delta x$ (m)')"
      ]
     },
     "execution_count": 51,
     "metadata": {},
     "output_type": "execute_result"
    },
    {
     "data": {
      "image/png": "[encoded data removed]",
      "text/plain": [
       "<Figure size 432x288 with 1 Axes>"
      ]
     },
     "metadata": {
      "needs_background": "light"
     },
     "output_type": "display_data"
    }
   ],
   "source": [
    "plt.plot([0.1, 0.2, 0.25, 0.4, 0.5, 0.8, 1.6, 2], error_list, '-o')\n",
    "plt.plot([0.2, 0.4, 0.8, 1.6], error_list_con, 'o')\n",
    "plt.plot([0.25, 0.5, 2], error_list_con2, 'o')\n",
    "plt.ylabel('Pointwise L2 error norm')\n",
    "plt.xlabel(r'$\\Delta x$ (m)')"
   ]
  },
  {
   "cell_type": "code",
   "execution_count": 52,
   "metadata": {},
   "outputs": [
    {
     "data": {
      "image/png": "[encoded data removed]",
      "text/plain": [
       "<Figure size 432x288 with 1 Axes>"
      ]
     },
     "metadata": {
      "needs_background": "light"
     },
     "output_type": "display_data"
    }
   ],
   "source": [
    "plt.plot([0.05, 0.1, 0.2, 0.25, 0.4, 0.5, 0.8, 1.6, 2], error_listexp, '-o')\n",
    "plt.plot([0.2, 0.4, 0.8, 1.6], error_listexp_con, 'o')\n",
    "plt.plot([0.25, 0.5, 2], error_listexp_con2, 'o')\n",
    "plt.ylabel('Pointwise L2 error norm')\n",
    "plt.xlabel(r'$\\Delta x$ (m)')\n",
    "plt.show()\n"
   ]
  },
  {
   "cell_type": "code",
   "execution_count": null,
   "metadata": {},
   "outputs": [],
   "source": []
  }
 ],
 "metadata": {
  "kernelspec": {
   "display_name": "Python 3",
   "language": "python",
   "name": "python3"
  },
  "language_info": {
   "codemirror_mode": {
    "name": "ipython",
    "version": 3
   },
   "file_extension": ".py",
   "mimetype": "text/x-python",
   "name": "python",
   "nbconvert_exporter": "python",
   "pygments_lexer": "ipython3",
   "version": "3.7.0"
  }
 },
 "nbformat": 4,
 "nbformat_minor": 2
}
